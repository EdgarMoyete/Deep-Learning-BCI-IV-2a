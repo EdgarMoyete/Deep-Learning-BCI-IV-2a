{
 "cells": [
  {
   "cell_type": "code",
   "execution_count": null,
   "metadata": {},
   "outputs": [],
   "source": [
    "#Edgar Moises Hernandez-Gonzalez\n",
    "#11/11/19-13/11/19\n",
    "#Clasificar RAW con LSTM"
   ]
  },
  {
   "cell_type": "code",
   "execution_count": 1,
   "metadata": {},
   "outputs": [],
   "source": [
    "import numpy as np\n",
    "import pandas as pd\n",
    "import matplotlib.pyplot as plt\n",
    "from sklearn.preprocessing import StandardScaler, LabelEncoder\n",
    "from tensorflow.keras.models import Sequential\n",
    "from tensorflow.keras.layers import LSTM, Dense, Dropout\n",
    "from sklearn.metrics import cohen_kappa_score, confusion_matrix, classification_report"
   ]
  },
  {
   "cell_type": "code",
   "execution_count": 2,
   "metadata": {},
   "outputs": [],
   "source": [
    "x_train = pd.read_csv(\"MI-EEG-A01T.csv\", header=None)\n",
    "x_test = pd.read_csv(\"MI-EEG-A01E.csv\", header=None)\n",
    "y_train = pd.read_csv(\"EtiquetasA01T.csv\", header=None)\n",
    "y_test = pd.read_csv(\"EtiquetasA01E.csv\", header=None)"
   ]
  },
  {
   "cell_type": "code",
   "execution_count": 3,
   "metadata": {},
   "outputs": [
    {
     "name": "stdout",
     "output_type": "stream",
     "text": [
      "(288, 22000)\n",
      "(288, 22000)\n",
      "(288, 1)\n",
      "(288, 1)\n"
     ]
    }
   ],
   "source": [
    "print(x_train.shape)\n",
    "print(x_test.shape)\n",
    "print(y_train.shape)\n",
    "print(y_test.shape)"
   ]
  },
  {
   "cell_type": "code",
   "execution_count": 4,
   "metadata": {},
   "outputs": [
    {
     "name": "stdout",
     "output_type": "stream",
     "text": [
      "n_samples_train: 288\n",
      "n_samples_test : 288\n"
     ]
    }
   ],
   "source": [
    "n_samples_train = len(y_train)\n",
    "n_samples_test = len(y_test) #en caso de no tener el y_test se puede utilizar el x_test\n",
    "\n",
    "print(\"n_samples_train:\", n_samples_train)\n",
    "print(\"n_samples_test :\", n_samples_test)"
   ]
  },
  {
   "cell_type": "code",
   "execution_count": 5,
   "metadata": {},
   "outputs": [
    {
     "name": "stdout",
     "output_type": "stream",
     "text": [
      "n_classes: 4\n"
     ]
    }
   ],
   "source": [
    "n_classes = len(np.unique(y_test)) #esto se podria calcular asi n_clases = len(np.unique(y)), la y puede ser train o test\n",
    "\n",
    "print(\"n_classes:\", n_classes)"
   ]
  },
  {
   "cell_type": "code",
   "execution_count": 6,
   "metadata": {},
   "outputs": [],
   "source": [
    "#escalar los datos para que tengan media = 0 y desviacion estandar = 1\n",
    "scaler = StandardScaler().fit(x_train)\n",
    "x_train = scaler.transform(x_train)\n",
    "x_test = scaler.transform(x_test)"
   ]
  },
  {
   "cell_type": "code",
   "execution_count": 7,
   "metadata": {},
   "outputs": [
    {
     "name": "stderr",
     "output_type": "stream",
     "text": [
      "C:\\Users\\EdgarMoises\\Anaconda3\\lib\\site-packages\\sklearn\\preprocessing\\label.py:219: DataConversionWarning: A column-vector y was passed when a 1d array was expected. Please change the shape of y to (n_samples, ), for example using ravel().\n",
      "  y = column_or_1d(y, warn=True)\n",
      "C:\\Users\\EdgarMoises\\Anaconda3\\lib\\site-packages\\sklearn\\preprocessing\\label.py:252: DataConversionWarning: A column-vector y was passed when a 1d array was expected. Please change the shape of y to (n_samples, ), for example using ravel().\n",
      "  y = column_or_1d(y, warn=True)\n"
     ]
    }
   ],
   "source": [
    "#codificar etiquetas con valores de 0 a nClases-1\n",
    "le = LabelEncoder().fit(y_train)\n",
    "y_train = le.transform(y_train)\n",
    "y_test = le.transform(y_test)"
   ]
  },
  {
   "cell_type": "code",
   "execution_count": 8,
   "metadata": {},
   "outputs": [
    {
     "name": "stdout",
     "output_type": "stream",
     "text": [
      "(288, 1000, 22)\n",
      "(288, 1000, 22)\n"
     ]
    }
   ],
   "source": [
    "#convertir de 2D a 3D\n",
    "x_train = x_train.reshape((n_samples_train, 1000, 22))\n",
    "x_test = x_test.reshape((n_samples_test, 1000, 22))\n",
    "\n",
    "print(x_train.shape)\n",
    "print(x_test.shape)"
   ]
  },
  {
   "cell_type": "code",
   "execution_count": 9,
   "metadata": {},
   "outputs": [
    {
     "name": "stdout",
     "output_type": "stream",
     "text": [
      "WARNING:tensorflow:From C:\\Users\\EdgarMoises\\Anaconda3\\lib\\site-packages\\tensorflow\\python\\ops\\resource_variable_ops.py:435: colocate_with (from tensorflow.python.framework.ops) is deprecated and will be removed in a future version.\n",
      "Instructions for updating:\n",
      "Colocations handled automatically by placer.\n",
      "WARNING:tensorflow:From C:\\Users\\EdgarMoises\\Anaconda3\\lib\\site-packages\\tensorflow\\python\\keras\\layers\\core.py:143: calling dropout (from tensorflow.python.ops.nn_ops) with keep_prob is deprecated and will be removed in a future version.\n",
      "Instructions for updating:\n",
      "Please use `rate` instead of `keep_prob`. Rate should be set to `rate = 1 - keep_prob`.\n"
     ]
    }
   ],
   "source": [
    "model = Sequential()\n",
    "model.add(LSTM(64, return_sequences=True, input_shape=(1000,22)))\n",
    "model.add(LSTM(64))\n",
    "model.add(Dropout(0.2))\n",
    "model.add(Dense(n_classes, activation='softmax'))"
   ]
  },
  {
   "cell_type": "code",
   "execution_count": 10,
   "metadata": {},
   "outputs": [
    {
     "name": "stdout",
     "output_type": "stream",
     "text": [
      "_________________________________________________________________\n",
      "Layer (type)                 Output Shape              Param #   \n",
      "=================================================================\n",
      "lstm (LSTM)                  (None, 1000, 64)          22272     \n",
      "_________________________________________________________________\n",
      "lstm_1 (LSTM)                (None, 64)                33024     \n",
      "_________________________________________________________________\n",
      "dropout (Dropout)            (None, 64)                0         \n",
      "_________________________________________________________________\n",
      "dense (Dense)                (None, 4)                 260       \n",
      "=================================================================\n",
      "Total params: 55,556\n",
      "Trainable params: 55,556\n",
      "Non-trainable params: 0\n",
      "_________________________________________________________________\n"
     ]
    }
   ],
   "source": [
    "model.summary()"
   ]
  },
  {
   "cell_type": "code",
   "execution_count": 11,
   "metadata": {},
   "outputs": [],
   "source": [
    "model.compile(optimizer='adam',\n",
    "              loss='sparse_categorical_crossentropy',\n",
    "              metrics=['accuracy'])"
   ]
  },
  {
   "cell_type": "code",
   "execution_count": 12,
   "metadata": {},
   "outputs": [
    {
     "name": "stdout",
     "output_type": "stream",
     "text": [
      "Train on 288 samples, validate on 288 samples\n",
      "Epoch 1/10\n",
      "288/288 [==============================] - 156s 542ms/sample - loss: 1.3926 - acc: 0.2847 - val_loss: 1.3875 - val_acc: 0.2743\n",
      "Epoch 2/10\n",
      "288/288 [==============================] - 163s 566ms/sample - loss: 1.3764 - acc: 0.2951 - val_loss: 1.3920 - val_acc: 0.2639\n",
      "Epoch 3/10\n",
      "288/288 [==============================] - 156s 541ms/sample - loss: 1.3611 - acc: 0.3090 - val_loss: 1.3877 - val_acc: 0.2986\n",
      "Epoch 4/10\n",
      "288/288 [==============================] - 149s 516ms/sample - loss: 1.3322 - acc: 0.3611 - val_loss: 1.3921 - val_acc: 0.2986\n",
      "Epoch 5/10\n",
      "288/288 [==============================] - 153s 530ms/sample - loss: 1.3120 - acc: 0.3924 - val_loss: 1.4026 - val_acc: 0.3021\n",
      "Epoch 6/10\n",
      "288/288 [==============================] - 155s 537ms/sample - loss: 1.3021 - acc: 0.3611 - val_loss: 1.3947 - val_acc: 0.3056\n",
      "Epoch 7/10\n",
      "288/288 [==============================] - 145s 505ms/sample - loss: 1.2572 - acc: 0.4028 - val_loss: 1.4001 - val_acc: 0.3090\n",
      "Epoch 8/10\n",
      "288/288 [==============================] - 147s 512ms/sample - loss: 1.2151 - acc: 0.4375 - val_loss: 1.4215 - val_acc: 0.2986\n",
      "Epoch 9/10\n",
      "288/288 [==============================] - 158s 549ms/sample - loss: 1.1790 - acc: 0.4861 - val_loss: 1.4283 - val_acc: 0.3472\n",
      "Epoch 10/10\n",
      "288/288 [==============================] - 164s 570ms/sample - loss: 1.1296 - acc: 0.4826 - val_loss: 1.4890 - val_acc: 0.3125\n"
     ]
    }
   ],
   "source": [
    "history = model.fit(x_train, y_train, epochs=10, batch_size=18, validation_data=(x_test, y_test)) #cambiar a 20 epocas"
   ]
  },
  {
   "cell_type": "code",
   "execution_count": 13,
   "metadata": {},
   "outputs": [
    {
     "name": "stdout",
     "output_type": "stream",
     "text": [
      "288/288 [==============================] - 29s 101ms/sample - loss: 1.4890 - acc: 0.3125\n",
      "Test loss: 1.4890042543411255\n",
      "Test accuracy: 0.3125\n"
     ]
    }
   ],
   "source": [
    "test_loss, test_acc = model.evaluate(x_test, y_test)\n",
    "print('Test loss:', test_loss)\n",
    "print('Test accuracy:', test_acc)"
   ]
  },
  {
   "cell_type": "code",
   "execution_count": 14,
   "metadata": {},
   "outputs": [
    {
     "data": {
      "image/png": "[encoded data removed]",
      "text/plain": [
       "<Figure size 432x288 with 1 Axes>"
      ]
     },
     "metadata": {
      "needs_background": "light"
     },
     "output_type": "display_data"
    }
   ],
   "source": [
    "plt.plot(history.history['acc'])\n",
    "plt.plot(history.history['val_acc'])\n",
    "plt.grid()\n",
    "plt.xlabel('Epochs')\n",
    "plt.ylabel('Accuracy')\n",
    "plt.legend(['train', 'test'])\n",
    "plt.show()"
   ]
  },
  {
   "cell_type": "code",
   "execution_count": 15,
   "metadata": {},
   "outputs": [
    {
     "data": {
      "image/png": "[encoded data removed]",
      "text/plain": [
       "<Figure size 432x288 with 1 Axes>"
      ]
     },
     "metadata": {
      "needs_background": "light"
     },
     "output_type": "display_data"
    }
   ],
   "source": [
    "plt.plot(history.history['loss'])\n",
    "plt.plot(history.history['val_loss'])\n",
    "plt.grid()\n",
    "plt.xlabel('Epochs')\n",
    "plt.ylabel('Cross-Entropy')\n",
    "plt.legend(['train', 'test'])\n",
    "plt.show()"
   ]
  },
  {
   "cell_type": "code",
   "execution_count": 16,
   "metadata": {},
   "outputs": [],
   "source": [
    "probabilidades = model.predict(x_test)\n",
    "y_pred = np.argmax(probabilidades, 1) #1=fila"
   ]
  },
  {
   "cell_type": "code",
   "execution_count": 17,
   "metadata": {},
   "outputs": [
    {
     "name": "stdout",
     "output_type": "stream",
     "text": [
      "0.08333333333333337\n"
     ]
    }
   ],
   "source": [
    "kappa = cohen_kappa_score(y_test, y_pred)\n",
    "print(kappa)"
   ]
  },
  {
   "cell_type": "code",
   "execution_count": 18,
   "metadata": {},
   "outputs": [
    {
     "name": "stdout",
     "output_type": "stream",
     "text": [
      "[[21 40  6  5]\n",
      " [14 43 10  5]\n",
      " [16 31 10 15]\n",
      " [15 23 18 16]]\n"
     ]
    }
   ],
   "source": [
    "matrizConfusion = confusion_matrix(y_test, y_pred)\n",
    "print(matrizConfusion)"
   ]
  },
  {
   "cell_type": "code",
   "execution_count": 19,
   "metadata": {},
   "outputs": [
    {
     "name": "stdout",
     "output_type": "stream",
     "text": [
      "              precision    recall  f1-score   support\n",
      "\n",
      "           0       0.32      0.29      0.30        72\n",
      "           1       0.31      0.60      0.41        72\n",
      "           2       0.23      0.14      0.17        72\n",
      "           3       0.39      0.22      0.28        72\n",
      "\n",
      "   micro avg       0.31      0.31      0.31       288\n",
      "   macro avg       0.31      0.31      0.29       288\n",
      "weighted avg       0.31      0.31      0.29       288\n",
      "\n"
     ]
    }
   ],
   "source": [
    "reporteClassificacion = classification_report(y_test, y_pred)\n",
    "print(reporteClassificacion)"
   ]
  }
 ],
 "metadata": {
  "kernelspec": {
   "display_name": "Python 3",
   "language": "python",
   "name": "python3"
  },
  "language_info": {
   "codemirror_mode": {
    "name": "ipython",
    "version": 3
   },
   "file_extension": ".py",
   "mimetype": "text/x-python",
   "name": "python",
   "nbconvert_exporter": "python",
   "pygments_lexer": "ipython3",
   "version": "3.7.3"
  }
 },
 "nbformat": 4,
 "nbformat_minor": 2
}

{
 "cells": [
  {
   "cell_type": "markdown",
   "metadata": {},
   "source": [
    "### Edgar Moises Hernandez-Gonzalez\n",
    "#### 15/11/19-19/11/19\n",
    "#### Clasificar RAW con CNN-1D + LSTM"
   ]
  },
  {
   "cell_type": "code",
   "execution_count": 1,
   "metadata": {},
   "outputs": [],
   "source": [
    "import numpy as np\n",
    "import pandas as pd\n",
    "import matplotlib.pyplot as plt\n",
    "from sklearn.preprocessing import StandardScaler, LabelEncoder\n",
    "from tensorflow.keras.models import Sequential\n",
    "from tensorflow.keras.layers import TimeDistributed, Conv1D, MaxPool1D, Flatten, LSTM, Dense, Dropout\n",
    "from sklearn.metrics import cohen_kappa_score, confusion_matrix, classification_report"
   ]
  },
  {
   "cell_type": "code",
   "execution_count": 2,
   "metadata": {},
   "outputs": [],
   "source": [
    "x_train = pd.read_csv(\"MI-EEG-A01T.csv\", header=None)\n",
    "x_test = pd.read_csv(\"MI-EEG-A01E.csv\", header=None)\n",
    "y_train = pd.read_csv(\"EtiquetasA01T.csv\", header=None)\n",
    "y_test = pd.read_csv(\"EtiquetasA01E.csv\", header=None)"
   ]
  },
  {
   "cell_type": "code",
   "execution_count": 3,
   "metadata": {},
   "outputs": [
    {
     "name": "stdout",
     "output_type": "stream",
     "text": [
      "(288, 22000)\n",
      "(288, 22000)\n",
      "(288, 1)\n",
      "(288, 1)\n"
     ]
    }
   ],
   "source": [
    "print(x_train.shape)\n",
    "print(x_test.shape)\n",
    "print(y_train.shape)\n",
    "print(y_test.shape)"
   ]
  },
  {
   "cell_type": "code",
   "execution_count": 4,
   "metadata": {},
   "outputs": [
    {
     "name": "stdout",
     "output_type": "stream",
     "text": [
      "n_samples_train: 288\n",
      "n_samples_test : 288\n"
     ]
    }
   ],
   "source": [
    "n_samples_train = len(y_train)\n",
    "n_samples_test = len(y_test) #en caso de no tener el y_test se puede utilizar el x_test\n",
    "\n",
    "print(\"n_samples_train:\", n_samples_train)\n",
    "print(\"n_samples_test :\", n_samples_test)"
   ]
  },
  {
   "cell_type": "code",
   "execution_count": 5,
   "metadata": {},
   "outputs": [
    {
     "name": "stdout",
     "output_type": "stream",
     "text": [
      "n_classes: 4\n"
     ]
    }
   ],
   "source": [
    "n_classes = len(np.unique(y_test)) #esto se podria calcular asi n_clases = len(np.unique(y)), la y puede ser train o test\n",
    "\n",
    "print(\"n_classes:\", n_classes)"
   ]
  },
  {
   "cell_type": "code",
   "execution_count": 6,
   "metadata": {},
   "outputs": [],
   "source": [
    "#escalar los datos para que tengan media = 0 y desviacion estandar = 1\n",
    "scaler = StandardScaler().fit(x_train)\n",
    "x_train = scaler.transform(x_train)\n",
    "x_test = scaler.transform(x_test)"
   ]
  },
  {
   "cell_type": "code",
   "execution_count": 7,
   "metadata": {},
   "outputs": [
    {
     "name": "stderr",
     "output_type": "stream",
     "text": [
      "C:\\Users\\EdgarMoises\\Anaconda3\\lib\\site-packages\\sklearn\\preprocessing\\label.py:219: DataConversionWarning: A column-vector y was passed when a 1d array was expected. Please change the shape of y to (n_samples, ), for example using ravel().\n",
      "  y = column_or_1d(y, warn=True)\n",
      "C:\\Users\\EdgarMoises\\Anaconda3\\lib\\site-packages\\sklearn\\preprocessing\\label.py:252: DataConversionWarning: A column-vector y was passed when a 1d array was expected. Please change the shape of y to (n_samples, ), for example using ravel().\n",
      "  y = column_or_1d(y, warn=True)\n"
     ]
    }
   ],
   "source": [
    "#codificar etiquetas con valores de 0 a nClases-1\n",
    "le = LabelEncoder().fit(y_train)\n",
    "y_train = le.transform(y_train)\n",
    "y_test = le.transform(y_test)"
   ]
  },
  {
   "cell_type": "code",
   "execution_count": 8,
   "metadata": {},
   "outputs": [
    {
     "name": "stdout",
     "output_type": "stream",
     "text": [
      "(288, 1, 1000, 22)\n",
      "(288, 1, 1000, 22)\n"
     ]
    }
   ],
   "source": [
    "#convertir de 2D a 4D\n",
    "x_train = x_train.reshape((n_samples_train, 1, 1000, 22))\n",
    "x_test = x_test.reshape((n_samples_test, 1, 1000, 22))\n",
    "\n",
    "print(x_train.shape)\n",
    "print(x_test.shape)"
   ]
  },
  {
   "cell_type": "code",
   "execution_count": 68,
   "metadata": {},
   "outputs": [],
   "source": [
    "model = Sequential()\n",
    "model.add(TimeDistributed(Conv1D(8, 11, activation='relu'), input_shape=(None,1000,22)))\n",
    "model.add(TimeDistributed(MaxPool1D(2)))\n",
    "model.add(TimeDistributed(Conv1D(16, 11, activation='relu')))\n",
    "model.add(TimeDistributed(MaxPool1D(2)))\n",
    "model.add(TimeDistributed(Conv1D(16, 11, activation='relu')))\n",
    "model.add(TimeDistributed(MaxPool1D(2)))\n",
    "model.add(TimeDistributed(Flatten()))\n",
    "model.add(LSTM(16))\n",
    "#model.add(Dense(32, activation='relu'))\n",
    "#model.add(Dropout(0.5))\n",
    "model.add(Dense(n_classes, activation='softmax'))"
   ]
  },
  {
   "cell_type": "code",
   "execution_count": 69,
   "metadata": {},
   "outputs": [
    {
     "name": "stdout",
     "output_type": "stream",
     "text": [
      "_________________________________________________________________\n",
      "Layer (type)                 Output Shape              Param #   \n",
      "=================================================================\n",
      "time_distributed_65 (TimeDis (None, None, 986, 8)      2648      \n",
      "_________________________________________________________________\n",
      "time_distributed_66 (TimeDis (None, None, 493, 8)      0         \n",
      "_________________________________________________________________\n",
      "time_distributed_67 (TimeDis (None, None, 479, 16)     1936      \n",
      "_________________________________________________________________\n",
      "time_distributed_68 (TimeDis (None, None, 239, 16)     0         \n",
      "_________________________________________________________________\n",
      "time_distributed_69 (TimeDis (None, None, 225, 16)     3856      \n",
      "_________________________________________________________________\n",
      "time_distributed_70 (TimeDis (None, None, 112, 16)     0         \n",
      "_________________________________________________________________\n",
      "time_distributed_71 (TimeDis (None, None, 1792)        0         \n",
      "_________________________________________________________________\n",
      "lstm_9 (LSTM)                (None, 16)                115776    \n",
      "_________________________________________________________________\n",
      "dense_9 (Dense)              (None, 4)                 68        \n",
      "=================================================================\n",
      "Total params: 124,284\n",
      "Trainable params: 124,284\n",
      "Non-trainable params: 0\n",
      "_________________________________________________________________\n"
     ]
    }
   ],
   "source": [
    "model.summary()"
   ]
  },
  {
   "cell_type": "code",
   "execution_count": 70,
   "metadata": {},
   "outputs": [],
   "source": [
    "model.compile(optimizer='adam',\n",
    "              loss='sparse_categorical_crossentropy',\n",
    "              metrics=['accuracy'])"
   ]
  },
  {
   "cell_type": "code",
   "execution_count": 71,
   "metadata": {},
   "outputs": [
    {
     "name": "stdout",
     "output_type": "stream",
     "text": [
      "Train on 288 samples, validate on 288 samples\n",
      "Epoch 1/20\n",
      "288/288 [==============================] - 2s 6ms/sample - loss: 1.4010 - acc: 0.2292 - val_loss: 1.3928 - val_acc: 0.2500\n",
      "Epoch 2/20\n",
      "288/288 [==============================] - 0s 2ms/sample - loss: 1.3694 - acc: 0.3854 - val_loss: 1.3875 - val_acc: 0.2708\n",
      "Epoch 3/20\n",
      "288/288 [==============================] - 0s 2ms/sample - loss: 1.3349 - acc: 0.3889 - val_loss: 1.3949 - val_acc: 0.3125\n",
      "Epoch 4/20\n",
      "288/288 [==============================] - 0s 2ms/sample - loss: 1.2655 - acc: 0.5278 - val_loss: 1.3925 - val_acc: 0.3056\n",
      "Epoch 5/20\n",
      "288/288 [==============================] - 0s 2ms/sample - loss: 1.1933 - acc: 0.6250 - val_loss: 1.4022 - val_acc: 0.2743\n",
      "Epoch 6/20\n",
      "288/288 [==============================] - 0s 2ms/sample - loss: 1.1167 - acc: 0.7257 - val_loss: 1.3882 - val_acc: 0.3125\n",
      "Epoch 7/20\n",
      "288/288 [==============================] - 0s 2ms/sample - loss: 1.0378 - acc: 0.7743 - val_loss: 1.4164 - val_acc: 0.3090\n",
      "Epoch 8/20\n",
      "288/288 [==============================] - 0s 2ms/sample - loss: 0.9464 - acc: 0.8750 - val_loss: 1.3942 - val_acc: 0.3229\n",
      "Epoch 9/20\n",
      "288/288 [==============================] - 0s 2ms/sample - loss: 0.8785 - acc: 0.9201 - val_loss: 1.4109 - val_acc: 0.3090\n",
      "Epoch 10/20\n",
      "288/288 [==============================] - 0s 2ms/sample - loss: 0.8328 - acc: 0.9583 - val_loss: 1.4138 - val_acc: 0.3194\n",
      "Epoch 11/20\n",
      "288/288 [==============================] - 0s 2ms/sample - loss: 0.7863 - acc: 0.9618 - val_loss: 1.4277 - val_acc: 0.3403\n",
      "Epoch 12/20\n",
      "288/288 [==============================] - 0s 2ms/sample - loss: 0.7457 - acc: 0.9861 - val_loss: 1.4101 - val_acc: 0.3056\n",
      "Epoch 13/20\n",
      "288/288 [==============================] - 0s 2ms/sample - loss: 0.7094 - acc: 0.9826 - val_loss: 1.3973 - val_acc: 0.3194\n",
      "Epoch 14/20\n",
      "288/288 [==============================] - 0s 2ms/sample - loss: 0.6623 - acc: 0.9931 - val_loss: 1.4548 - val_acc: 0.3264\n",
      "Epoch 15/20\n",
      "288/288 [==============================] - 0s 2ms/sample - loss: 0.6204 - acc: 0.9861 - val_loss: 1.4585 - val_acc: 0.3542\n",
      "Epoch 16/20\n",
      "288/288 [==============================] - 1s 2ms/sample - loss: 0.5662 - acc: 0.9896 - val_loss: 1.4082 - val_acc: 0.3299\n",
      "Epoch 17/20\n",
      "288/288 [==============================] - 0s 2ms/sample - loss: 0.5328 - acc: 1.0000 - val_loss: 1.4039 - val_acc: 0.3264\n",
      "Epoch 18/20\n",
      "288/288 [==============================] - 0s 2ms/sample - loss: 0.4849 - acc: 1.0000 - val_loss: 1.4094 - val_acc: 0.3576\n",
      "Epoch 19/20\n",
      "288/288 [==============================] - 0s 2ms/sample - loss: 0.4475 - acc: 1.0000 - val_loss: 1.4061 - val_acc: 0.3611\n",
      "Epoch 20/20\n",
      "288/288 [==============================] - 0s 2ms/sample - loss: 0.4194 - acc: 1.0000 - val_loss: 1.4140 - val_acc: 0.3611\n"
     ]
    }
   ],
   "source": [
    "history = model.fit(x_train, y_train, epochs=20, batch_size=18, validation_data=(x_test, y_test))"
   ]
  },
  {
   "cell_type": "code",
   "execution_count": 57,
   "metadata": {},
   "outputs": [
    {
     "name": "stdout",
     "output_type": "stream",
     "text": [
      "288/288 [==============================] - 0s 701us/sample - loss: 1.6988 - acc: 0.3785\n",
      "Test loss: 1.6987858878241644\n",
      "Test accuracy: 0.3784722\n"
     ]
    }
   ],
   "source": [
    "test_loss, test_acc = model.evaluate(x_test, y_test)\n",
    "print('Test loss:', test_loss)\n",
    "print('Test accuracy:', test_acc)"
   ]
  },
  {
   "cell_type": "code",
   "execution_count": 58,
   "metadata": {},
   "outputs": [
    {
     "data": {
      "image/png": "[encoded data removed]",
      "text/plain": [
       "<Figure size 432x288 with 1 Axes>"
      ]
     },
     "metadata": {
      "needs_background": "light"
     },
     "output_type": "display_data"
    }
   ],
   "source": [
    "plt.plot(history.history['acc'])\n",
    "plt.plot(history.history['val_acc'])\n",
    "plt.grid()\n",
    "plt.xlabel('Epochs')\n",
    "plt.ylabel('Accuracy')\n",
    "plt.legend(['train', 'test'])\n",
    "plt.show()"
   ]
  },
  {
   "cell_type": "code",
   "execution_count": 59,
   "metadata": {},
   "outputs": [
    {
     "data": {
      "image/png": "[encoded data removed]",
      "text/plain": [
       "<Figure size 432x288 with 1 Axes>"
      ]
     },
     "metadata": {
      "needs_background": "light"
     },
     "output_type": "display_data"
    }
   ],
   "source": [
    "plt.plot(history.history['loss'])\n",
    "plt.plot(history.history['val_loss'])\n",
    "plt.grid()\n",
    "plt.xlabel('Epochs')\n",
    "plt.ylabel('Cross-Entropy')\n",
    "plt.legend(['train', 'test'])\n",
    "plt.show()"
   ]
  },
  {
   "cell_type": "code",
   "execution_count": 60,
   "metadata": {},
   "outputs": [],
   "source": [
    "probabilidades = model.predict(x_test)\n",
    "y_pred = np.argmax(probabilidades, 1) #1=fila"
   ]
  },
  {
   "cell_type": "code",
   "execution_count": 61,
   "metadata": {},
   "outputs": [
    {
     "name": "stdout",
     "output_type": "stream",
     "text": [
      "0.17129629629629628\n"
     ]
    }
   ],
   "source": [
    "kappa = cohen_kappa_score(y_test, y_pred)\n",
    "print(kappa)"
   ]
  },
  {
   "cell_type": "code",
   "execution_count": 62,
   "metadata": {},
   "outputs": [
    {
     "name": "stdout",
     "output_type": "stream",
     "text": [
      "[[30 26 11  5]\n",
      " [16 32  8 16]\n",
      " [11 16 23 22]\n",
      " [17 22  9 24]]\n"
     ]
    }
   ],
   "source": [
    "matrizConfusion = confusion_matrix(y_test, y_pred)\n",
    "print(matrizConfusion)"
   ]
  },
  {
   "cell_type": "code",
   "execution_count": 63,
   "metadata": {},
   "outputs": [
    {
     "name": "stdout",
     "output_type": "stream",
     "text": [
      "              precision    recall  f1-score   support\n",
      "\n",
      "           0       0.41      0.42      0.41        72\n",
      "           1       0.33      0.44      0.38        72\n",
      "           2       0.45      0.32      0.37        72\n",
      "           3       0.36      0.33      0.35        72\n",
      "\n",
      "   micro avg       0.38      0.38      0.38       288\n",
      "   macro avg       0.39      0.38      0.38       288\n",
      "weighted avg       0.39      0.38      0.38       288\n",
      "\n"
     ]
    }
   ],
   "source": [
    "reporteClassificacion = classification_report(y_test, y_pred)\n",
    "print(reporteClassificacion)"
   ]
  }
 ],
 "metadata": {
  "kernelspec": {
   "display_name": "Python 3",
   "language": "python",
   "name": "python3"
  },
  "language_info": {
   "codemirror_mode": {
    "name": "ipython",
    "version": 3
   },
   "file_extension": ".py",
   "mimetype": "text/x-python",
   "name": "python",
   "nbconvert_exporter": "python",
   "pygments_lexer": "ipython3",
   "version": "3.7.3"
  }
 },
 "nbformat": 4,
 "nbformat_minor": 2
}

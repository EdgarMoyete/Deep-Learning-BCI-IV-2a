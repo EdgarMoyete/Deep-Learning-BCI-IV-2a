{
 "cells": [
  {
   "cell_type": "code",
   "execution_count": null,
   "metadata": {},
   "outputs": [],
   "source": [
    "#Edgar Moises Hernandez-Gonzalez\n",
    "#15/11/19\n",
    "#Clasificar RAW con CNN-1D + LSTM"
   ]
  },
  {
   "cell_type": "code",
   "execution_count": 1,
   "metadata": {},
   "outputs": [],
   "source": [
    "import numpy as np\n",
    "import pandas as pd\n",
    "import matplotlib.pyplot as plt\n",
    "from sklearn.preprocessing import StandardScaler, LabelEncoder\n",
    "from tensorflow.keras.models import Sequential\n",
    "from tensorflow.keras.layers import TimeDistributed, Conv1D, MaxPool1D, Flatten, LSTM, Dense, Dropout\n",
    "from sklearn.metrics import cohen_kappa_score, confusion_matrix, classification_report"
   ]
  },
  {
   "cell_type": "code",
   "execution_count": 2,
   "metadata": {},
   "outputs": [],
   "source": [
    "x_train = pd.read_csv(\"MI-EEG-A01T.csv\", header=None)\n",
    "x_test = pd.read_csv(\"MI-EEG-A01E.csv\", header=None)\n",
    "y_train = pd.read_csv(\"EtiquetasA01T.csv\", header=None)\n",
    "y_test = pd.read_csv(\"EtiquetasA01E.csv\", header=None)"
   ]
  },
  {
   "cell_type": "code",
   "execution_count": 3,
   "metadata": {},
   "outputs": [
    {
     "name": "stdout",
     "output_type": "stream",
     "text": [
      "(288, 22000)\n",
      "(288, 22000)\n",
      "(288, 1)\n",
      "(288, 1)\n"
     ]
    }
   ],
   "source": [
    "print(x_train.shape)\n",
    "print(x_test.shape)\n",
    "print(y_train.shape)\n",
    "print(y_test.shape)"
   ]
  },
  {
   "cell_type": "code",
   "execution_count": 4,
   "metadata": {},
   "outputs": [
    {
     "name": "stdout",
     "output_type": "stream",
     "text": [
      "n_samples_train: 288\n",
      "n_samples_test : 288\n"
     ]
    }
   ],
   "source": [
    "n_samples_train = len(y_train)\n",
    "n_samples_test = len(y_test) #en caso de no tener el y_test se puede utilizar el x_test\n",
    "\n",
    "print(\"n_samples_train:\", n_samples_train)\n",
    "print(\"n_samples_test :\", n_samples_test)"
   ]
  },
  {
   "cell_type": "code",
   "execution_count": 5,
   "metadata": {},
   "outputs": [
    {
     "name": "stdout",
     "output_type": "stream",
     "text": [
      "n_classes: 4\n"
     ]
    }
   ],
   "source": [
    "n_classes = len(np.unique(y_test)) #esto se podria calcular asi n_clases = len(np.unique(y)), la y puede ser train o test\n",
    "\n",
    "print(\"n_classes:\", n_classes)"
   ]
  },
  {
   "cell_type": "code",
   "execution_count": 6,
   "metadata": {},
   "outputs": [],
   "source": [
    "#escalar los datos para que tengan media = 0 y desviacion estandar = 1\n",
    "scaler = StandardScaler().fit(x_train)\n",
    "x_train = scaler.transform(x_train)\n",
    "x_test = scaler.transform(x_test)"
   ]
  },
  {
   "cell_type": "code",
   "execution_count": 7,
   "metadata": {},
   "outputs": [
    {
     "name": "stderr",
     "output_type": "stream",
     "text": [
      "C:\\Users\\EdgarMoises\\Anaconda3\\lib\\site-packages\\sklearn\\preprocessing\\label.py:219: DataConversionWarning: A column-vector y was passed when a 1d array was expected. Please change the shape of y to (n_samples, ), for example using ravel().\n",
      "  y = column_or_1d(y, warn=True)\n",
      "C:\\Users\\EdgarMoises\\Anaconda3\\lib\\site-packages\\sklearn\\preprocessing\\label.py:252: DataConversionWarning: A column-vector y was passed when a 1d array was expected. Please change the shape of y to (n_samples, ), for example using ravel().\n",
      "  y = column_or_1d(y, warn=True)\n"
     ]
    }
   ],
   "source": [
    "#codificar etiquetas con valores de 0 a nClases-1\n",
    "le = LabelEncoder().fit(y_train)\n",
    "y_train = le.transform(y_train)\n",
    "y_test = le.transform(y_test)"
   ]
  },
  {
   "cell_type": "code",
   "execution_count": 8,
   "metadata": {},
   "outputs": [
    {
     "name": "stdout",
     "output_type": "stream",
     "text": [
      "(288, 1, 1000, 22)\n",
      "(288, 1, 1000, 22)\n"
     ]
    }
   ],
   "source": [
    "#convertir de 2D a 4D\n",
    "x_train = x_train.reshape((n_samples_train, 1, 1000, 22))\n",
    "x_test = x_test.reshape((n_samples_test, 1, 1000, 22))\n",
    "\n",
    "print(x_train.shape)\n",
    "print(x_test.shape)"
   ]
  },
  {
   "cell_type": "code",
   "execution_count": 62,
   "metadata": {},
   "outputs": [],
   "source": [
    "model = Sequential()\n",
    "model.add(TimeDistributed(Conv1D(8, 3, activation='relu'), input_shape=(None,1000,22)))\n",
    "model.add(TimeDistributed(MaxPool1D(2)))\n",
    "model.add(TimeDistributed(Conv1D(16, 3, activation='relu')))\n",
    "model.add(TimeDistributed(MaxPool1D(2)))\n",
    "model.add(TimeDistributed(Flatten()))\n",
    "model.add(LSTM(16))\n",
    "#model.add(Dense(32, activation='relu'))\n",
    "model.add(Dropout(0.2))\n",
    "model.add(Dense(n_classes, activation='softmax'))"
   ]
  },
  {
   "cell_type": "code",
   "execution_count": 63,
   "metadata": {},
   "outputs": [
    {
     "name": "stdout",
     "output_type": "stream",
     "text": [
      "_________________________________________________________________\n",
      "Layer (type)                 Output Shape              Param #   \n",
      "=================================================================\n",
      "time_distributed_48 (TimeDis (None, None, 998, 8)      536       \n",
      "_________________________________________________________________\n",
      "time_distributed_49 (TimeDis (None, None, 499, 8)      0         \n",
      "_________________________________________________________________\n",
      "time_distributed_50 (TimeDis (None, None, 497, 16)     400       \n",
      "_________________________________________________________________\n",
      "time_distributed_51 (TimeDis (None, None, 248, 16)     0         \n",
      "_________________________________________________________________\n",
      "time_distributed_52 (TimeDis (None, None, 3968)        0         \n",
      "_________________________________________________________________\n",
      "lstm_9 (LSTM)                (None, 16)                255040    \n",
      "_________________________________________________________________\n",
      "dropout_18 (Dropout)         (None, 16)                0         \n",
      "_________________________________________________________________\n",
      "dense_17 (Dense)             (None, 4)                 68        \n",
      "=================================================================\n",
      "Total params: 256,044\n",
      "Trainable params: 256,044\n",
      "Non-trainable params: 0\n",
      "_________________________________________________________________\n"
     ]
    }
   ],
   "source": [
    "model.summary()"
   ]
  },
  {
   "cell_type": "code",
   "execution_count": 64,
   "metadata": {},
   "outputs": [],
   "source": [
    "model.compile(optimizer='adam',\n",
    "              loss='sparse_categorical_crossentropy',\n",
    "              metrics=['accuracy'])"
   ]
  },
  {
   "cell_type": "code",
   "execution_count": 65,
   "metadata": {},
   "outputs": [
    {
     "name": "stdout",
     "output_type": "stream",
     "text": [
      "Train on 288 samples, validate on 288 samples\n",
      "Epoch 1/20\n",
      "288/288 [==============================] - 2s 8ms/sample - loss: 1.4218 - acc: 0.2569 - val_loss: 1.3875 - val_acc: 0.2500\n",
      "Epoch 2/20\n",
      "288/288 [==============================] - 1s 2ms/sample - loss: 1.3719 - acc: 0.3160 - val_loss: 1.3876 - val_acc: 0.2674\n",
      "Epoch 3/20\n",
      "288/288 [==============================] - 1s 2ms/sample - loss: 1.3762 - acc: 0.3090 - val_loss: 1.3836 - val_acc: 0.2674\n",
      "Epoch 4/20\n",
      "288/288 [==============================] - 1s 2ms/sample - loss: 1.3582 - acc: 0.3160 - val_loss: 1.3728 - val_acc: 0.2951\n",
      "Epoch 5/20\n",
      "288/288 [==============================] - 1s 2ms/sample - loss: 1.3478 - acc: 0.3438 - val_loss: 1.3774 - val_acc: 0.2917\n",
      "Epoch 6/20\n",
      "288/288 [==============================] - 1s 2ms/sample - loss: 1.3179 - acc: 0.4028 - val_loss: 1.3781 - val_acc: 0.2986\n",
      "Epoch 7/20\n",
      "288/288 [==============================] - 1s 2ms/sample - loss: 1.3113 - acc: 0.4410 - val_loss: 1.3727 - val_acc: 0.2812\n",
      "Epoch 8/20\n",
      "288/288 [==============================] - 1s 3ms/sample - loss: 1.3002 - acc: 0.4861 - val_loss: 1.3718 - val_acc: 0.2778\n",
      "Epoch 9/20\n",
      "288/288 [==============================] - 1s 3ms/sample - loss: 1.2742 - acc: 0.5347 - val_loss: 1.3715 - val_acc: 0.3090\n",
      "Epoch 10/20\n",
      "288/288 [==============================] - 1s 3ms/sample - loss: 1.2789 - acc: 0.5174 - val_loss: 1.3692 - val_acc: 0.2951\n",
      "Epoch 11/20\n",
      "288/288 [==============================] - 1s 3ms/sample - loss: 1.2320 - acc: 0.5903 - val_loss: 1.3681 - val_acc: 0.3125\n",
      "Epoch 12/20\n",
      "288/288 [==============================] - 1s 3ms/sample - loss: 1.2542 - acc: 0.5174 - val_loss: 1.3677 - val_acc: 0.3090\n",
      "Epoch 13/20\n",
      "288/288 [==============================] - 1s 3ms/sample - loss: 1.2220 - acc: 0.5972 - val_loss: 1.3600 - val_acc: 0.3160\n",
      "Epoch 14/20\n",
      "288/288 [==============================] - 1s 3ms/sample - loss: 1.2057 - acc: 0.6354 - val_loss: 1.3622 - val_acc: 0.3125\n",
      "Epoch 15/20\n",
      "288/288 [==============================] - 1s 2ms/sample - loss: 1.2056 - acc: 0.6181 - val_loss: 1.3626 - val_acc: 0.3160\n",
      "Epoch 16/20\n",
      "288/288 [==============================] - 1s 3ms/sample - loss: 1.2008 - acc: 0.6146 - val_loss: 1.3570 - val_acc: 0.3125\n",
      "Epoch 17/20\n",
      "288/288 [==============================] - 1s 3ms/sample - loss: 1.1828 - acc: 0.6562 - val_loss: 1.3574 - val_acc: 0.3021\n",
      "Epoch 18/20\n",
      "288/288 [==============================] - 1s 3ms/sample - loss: 1.1720 - acc: 0.6528 - val_loss: 1.3563 - val_acc: 0.3056\n",
      "Epoch 19/20\n",
      "288/288 [==============================] - 1s 3ms/sample - loss: 1.1591 - acc: 0.7083 - val_loss: 1.3538 - val_acc: 0.3056\n",
      "Epoch 20/20\n",
      "288/288 [==============================] - 1s 3ms/sample - loss: 1.1552 - acc: 0.6562 - val_loss: 1.3539 - val_acc: 0.3333\n"
     ]
    }
   ],
   "source": [
    "history = model.fit(x_train, y_train, epochs=20, batch_size=18, validation_data=(x_test, y_test))"
   ]
  },
  {
   "cell_type": "code",
   "execution_count": 66,
   "metadata": {},
   "outputs": [
    {
     "name": "stdout",
     "output_type": "stream",
     "text": [
      "288/288 [==============================] - 0s 839us/sample - loss: 1.3539 - acc: 0.3333\n",
      "Test loss: 1.3538619147406683\n",
      "Test accuracy: 0.33333334\n"
     ]
    }
   ],
   "source": [
    "test_loss, test_acc = model.evaluate(x_test, y_test)\n",
    "print('Test loss:', test_loss)\n",
    "print('Test accuracy:', test_acc)"
   ]
  },
  {
   "cell_type": "code",
   "execution_count": 67,
   "metadata": {},
   "outputs": [
    {
     "data": {
      "image/png": "[encoded data removed]",
      "text/plain": [
       "<Figure size 432x288 with 1 Axes>"
      ]
     },
     "metadata": {
      "needs_background": "light"
     },
     "output_type": "display_data"
    }
   ],
   "source": [
    "plt.plot(history.history['acc'])\n",
    "plt.plot(history.history['val_acc'])\n",
    "plt.grid()\n",
    "plt.xlabel('Epochs')\n",
    "plt.ylabel('Accuracy')\n",
    "plt.legend(['train', 'test'])\n",
    "plt.show()"
   ]
  },
  {
   "cell_type": "code",
   "execution_count": 68,
   "metadata": {},
   "outputs": [
    {
     "data": {
      "image/png": "[encoded data removed]",
      "text/plain": [
       "<Figure size 432x288 with 1 Axes>"
      ]
     },
     "metadata": {
      "needs_background": "light"
     },
     "output_type": "display_data"
    }
   ],
   "source": [
    "plt.plot(history.history['loss'])\n",
    "plt.plot(history.history['val_loss'])\n",
    "plt.grid()\n",
    "plt.xlabel('Epochs')\n",
    "plt.ylabel('Cross-Entropy')\n",
    "plt.legend(['train', 'test'])\n",
    "plt.show()"
   ]
  },
  {
   "cell_type": "code",
   "execution_count": 69,
   "metadata": {},
   "outputs": [],
   "source": [
    "probabilidades = model.predict(x_test)\n",
    "y_pred = np.argmax(probabilidades, 1) #1=fila"
   ]
  },
  {
   "cell_type": "code",
   "execution_count": 70,
   "metadata": {},
   "outputs": [
    {
     "name": "stdout",
     "output_type": "stream",
     "text": [
      "0.11111111111111116\n"
     ]
    }
   ],
   "source": [
    "kappa = cohen_kappa_score(y_test, y_pred)\n",
    "print(kappa)"
   ]
  },
  {
   "cell_type": "code",
   "execution_count": 71,
   "metadata": {},
   "outputs": [
    {
     "name": "stdout",
     "output_type": "stream",
     "text": [
      "[[31 22 15  4]\n",
      " [20 20 24  8]\n",
      " [16 11 31 14]\n",
      " [11 11 36 14]]\n"
     ]
    }
   ],
   "source": [
    "matrizConfusion = confusion_matrix(y_test, y_pred)\n",
    "print(matrizConfusion)"
   ]
  },
  {
   "cell_type": "code",
   "execution_count": 72,
   "metadata": {},
   "outputs": [
    {
     "name": "stdout",
     "output_type": "stream",
     "text": [
      "              precision    recall  f1-score   support\n",
      "\n",
      "           0       0.40      0.43      0.41        72\n",
      "           1       0.31      0.28      0.29        72\n",
      "           2       0.29      0.43      0.35        72\n",
      "           3       0.35      0.19      0.25        72\n",
      "\n",
      "   micro avg       0.33      0.33      0.33       288\n",
      "   macro avg       0.34      0.33      0.33       288\n",
      "weighted avg       0.34      0.33      0.33       288\n",
      "\n"
     ]
    }
   ],
   "source": [
    "reporteClassificacion = classification_report(y_test, y_pred)\n",
    "print(reporteClassificacion)"
   ]
  }
 ],
 "metadata": {
  "kernelspec": {
   "display_name": "Python 3",
   "language": "python",
   "name": "python3"
  },
  "language_info": {
   "codemirror_mode": {
    "name": "ipython",
    "version": 3
   },
   "file_extension": ".py",
   "mimetype": "text/x-python",
   "name": "python",
   "nbconvert_exporter": "python",
   "pygments_lexer": "ipython3",
   "version": "3.7.3"
  }
 },
 "nbformat": 4,
 "nbformat_minor": 2
}

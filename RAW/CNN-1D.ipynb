{
 "cells": [
  {
   "cell_type": "markdown",
   "metadata": {},
   "source": [
    "### Edgar Moises Hernandez-Gonzalez\n",
    "#### 11/11/19-19/11/19\n",
    "#### Clasificar RAW con CNN-1D"
   ]
  },
  {
   "cell_type": "code",
   "execution_count": 1,
   "metadata": {},
   "outputs": [],
   "source": [
    "import numpy as np\n",
    "import pandas as pd\n",
    "import matplotlib.pyplot as plt\n",
    "from sklearn.preprocessing import StandardScaler, LabelEncoder\n",
    "from tensorflow.keras.models import Sequential\n",
    "from tensorflow.keras.layers import Conv1D, MaxPool1D, Flatten, Dense, Dropout\n",
    "from sklearn.metrics import cohen_kappa_score, confusion_matrix, classification_report"
   ]
  },
  {
   "cell_type": "code",
   "execution_count": 2,
   "metadata": {},
   "outputs": [],
   "source": [
    "x_train = pd.read_csv(\"MI-EEG-A01T.csv\", header=None)\n",
    "x_test = pd.read_csv(\"MI-EEG-A01E.csv\", header=None)\n",
    "y_train = pd.read_csv(\"EtiquetasA01T.csv\", header=None)\n",
    "y_test = pd.read_csv(\"EtiquetasA01E.csv\", header=None)"
   ]
  },
  {
   "cell_type": "code",
   "execution_count": 3,
   "metadata": {},
   "outputs": [
    {
     "name": "stdout",
     "output_type": "stream",
     "text": [
      "(288, 22000)\n",
      "(288, 22000)\n",
      "(288, 1)\n",
      "(288, 1)\n"
     ]
    }
   ],
   "source": [
    "print(x_train.shape)\n",
    "print(x_test.shape)\n",
    "print(y_train.shape)\n",
    "print(y_test.shape)"
   ]
  },
  {
   "cell_type": "code",
   "execution_count": 4,
   "metadata": {},
   "outputs": [
    {
     "name": "stdout",
     "output_type": "stream",
     "text": [
      "n_samples_train: 288\n",
      "n_samples_test : 288\n"
     ]
    }
   ],
   "source": [
    "n_samples_train = len(y_train)\n",
    "n_samples_test = len(y_test) #en caso de no tener el y_test se puede utilizar el x_test\n",
    "\n",
    "print(\"n_samples_train:\", n_samples_train)\n",
    "print(\"n_samples_test :\", n_samples_test)"
   ]
  },
  {
   "cell_type": "code",
   "execution_count": 5,
   "metadata": {},
   "outputs": [
    {
     "name": "stdout",
     "output_type": "stream",
     "text": [
      "n_classes: 4\n"
     ]
    }
   ],
   "source": [
    "n_classes = len(np.unique(y_test)) #esto se podria calcular asi n_clases = len(np.unique(y)), la y puede ser train o test\n",
    "\n",
    "print(\"n_classes:\", n_classes)"
   ]
  },
  {
   "cell_type": "code",
   "execution_count": 6,
   "metadata": {},
   "outputs": [],
   "source": [
    "#escalar los datos para que tengan media = 0 y desviacion estandar = 1\n",
    "scaler = StandardScaler().fit(x_train)\n",
    "x_train = scaler.transform(x_train)\n",
    "x_test = scaler.transform(x_test)"
   ]
  },
  {
   "cell_type": "code",
   "execution_count": 7,
   "metadata": {},
   "outputs": [
    {
     "name": "stderr",
     "output_type": "stream",
     "text": [
      "C:\\Users\\EdgarMoises\\Anaconda3\\lib\\site-packages\\sklearn\\preprocessing\\label.py:219: DataConversionWarning: A column-vector y was passed when a 1d array was expected. Please change the shape of y to (n_samples, ), for example using ravel().\n",
      "  y = column_or_1d(y, warn=True)\n",
      "C:\\Users\\EdgarMoises\\Anaconda3\\lib\\site-packages\\sklearn\\preprocessing\\label.py:252: DataConversionWarning: A column-vector y was passed when a 1d array was expected. Please change the shape of y to (n_samples, ), for example using ravel().\n",
      "  y = column_or_1d(y, warn=True)\n"
     ]
    }
   ],
   "source": [
    "#codificar etiquetas con valores de 0 a nClases-1\n",
    "le = LabelEncoder().fit(y_train)\n",
    "y_train = le.transform(y_train)\n",
    "y_test = le.transform(y_test)"
   ]
  },
  {
   "cell_type": "code",
   "execution_count": 8,
   "metadata": {},
   "outputs": [
    {
     "name": "stdout",
     "output_type": "stream",
     "text": [
      "(288, 1000, 22)\n",
      "(288, 1000, 22)\n"
     ]
    }
   ],
   "source": [
    "#convertir de 2D a 3D\n",
    "x_train = x_train.reshape((n_samples_train, 1000, 22))\n",
    "x_test = x_test.reshape((n_samples_test, 1000, 22))\n",
    "\n",
    "print(x_train.shape)\n",
    "print(x_test.shape)"
   ]
  },
  {
   "cell_type": "code",
   "execution_count": 16,
   "metadata": {},
   "outputs": [],
   "source": [
    "model = Sequential()\n",
    "model.add(Conv1D(16,7, activation='relu', input_shape=(1000,22)))\n",
    "model.add(MaxPool1D(2))\n",
    "model.add(Conv1D(32,7, activation='relu'))\n",
    "model.add(MaxPool1D(2))\n",
    "model.add(Flatten())\n",
    "model.add(Dense(128, activation='relu'))\n",
    "model.add(Dropout(0.5))\n",
    "model.add(Dense(n_classes, activation='softmax'))"
   ]
  },
  {
   "cell_type": "code",
   "execution_count": 17,
   "metadata": {},
   "outputs": [
    {
     "name": "stdout",
     "output_type": "stream",
     "text": [
      "_________________________________________________________________\n",
      "Layer (type)                 Output Shape              Param #   \n",
      "=================================================================\n",
      "conv1d_2 (Conv1D)            (None, 994, 16)           2480      \n",
      "_________________________________________________________________\n",
      "max_pooling1d_2 (MaxPooling1 (None, 497, 16)           0         \n",
      "_________________________________________________________________\n",
      "conv1d_3 (Conv1D)            (None, 491, 32)           3616      \n",
      "_________________________________________________________________\n",
      "max_pooling1d_3 (MaxPooling1 (None, 245, 32)           0         \n",
      "_________________________________________________________________\n",
      "flatten_1 (Flatten)          (None, 7840)              0         \n",
      "_________________________________________________________________\n",
      "dense_2 (Dense)              (None, 128)               1003648   \n",
      "_________________________________________________________________\n",
      "dropout_1 (Dropout)          (None, 128)               0         \n",
      "_________________________________________________________________\n",
      "dense_3 (Dense)              (None, 4)                 516       \n",
      "=================================================================\n",
      "Total params: 1,010,260\n",
      "Trainable params: 1,010,260\n",
      "Non-trainable params: 0\n",
      "_________________________________________________________________\n"
     ]
    }
   ],
   "source": [
    "model.summary()"
   ]
  },
  {
   "cell_type": "code",
   "execution_count": 18,
   "metadata": {},
   "outputs": [],
   "source": [
    "model.compile(optimizer='adam',\n",
    "              loss='sparse_categorical_crossentropy',\n",
    "              metrics=['accuracy'])"
   ]
  },
  {
   "cell_type": "code",
   "execution_count": 19,
   "metadata": {},
   "outputs": [
    {
     "name": "stdout",
     "output_type": "stream",
     "text": [
      "Train on 288 samples, validate on 288 samples\n",
      "Epoch 1/20\n",
      "288/288 [==============================] - 1s 3ms/sample - loss: 5.3332 - acc: 0.2569 - val_loss: 1.7422 - val_acc: 0.2639\n",
      "Epoch 2/20\n",
      "288/288 [==============================] - 0s 2ms/sample - loss: 1.4015 - acc: 0.3924 - val_loss: 1.3858 - val_acc: 0.2674\n",
      "Epoch 3/20\n",
      "288/288 [==============================] - 0s 2ms/sample - loss: 1.3042 - acc: 0.4583 - val_loss: 1.3831 - val_acc: 0.2743\n",
      "Epoch 4/20\n",
      "288/288 [==============================] - 0s 2ms/sample - loss: 1.1383 - acc: 0.5243 - val_loss: 1.3825 - val_acc: 0.2986\n",
      "Epoch 5/20\n",
      "288/288 [==============================] - 0s 2ms/sample - loss: 0.8853 - acc: 0.6806 - val_loss: 1.5215 - val_acc: 0.2812\n",
      "Epoch 6/20\n",
      "288/288 [==============================] - 0s 2ms/sample - loss: 0.5736 - acc: 0.8021 - val_loss: 1.5603 - val_acc: 0.2847\n",
      "Epoch 7/20\n",
      "288/288 [==============================] - 0s 2ms/sample - loss: 0.3673 - acc: 0.9097 - val_loss: 1.5890 - val_acc: 0.3125\n",
      "Epoch 8/20\n",
      "288/288 [==============================] - 0s 2ms/sample - loss: 0.2093 - acc: 0.9479 - val_loss: 1.6637 - val_acc: 0.2743\n",
      "Epoch 9/20\n",
      "288/288 [==============================] - 0s 2ms/sample - loss: 0.1538 - acc: 0.9549 - val_loss: 2.1118 - val_acc: 0.2743\n",
      "Epoch 10/20\n",
      "288/288 [==============================] - 0s 2ms/sample - loss: 0.0994 - acc: 0.9861 - val_loss: 1.8512 - val_acc: 0.3056\n",
      "Epoch 11/20\n",
      "288/288 [==============================] - 0s 2ms/sample - loss: 0.0963 - acc: 0.9792 - val_loss: 1.8762 - val_acc: 0.3472\n",
      "Epoch 12/20\n",
      "288/288 [==============================] - 0s 2ms/sample - loss: 0.0765 - acc: 0.9826 - val_loss: 2.0141 - val_acc: 0.3611\n",
      "Epoch 13/20\n",
      "288/288 [==============================] - 1s 2ms/sample - loss: 0.0476 - acc: 0.9965 - val_loss: 2.1402 - val_acc: 0.3576\n",
      "Epoch 14/20\n",
      "288/288 [==============================] - 0s 2ms/sample - loss: 0.0337 - acc: 0.9965 - val_loss: 2.1797 - val_acc: 0.3507\n",
      "Epoch 15/20\n",
      "288/288 [==============================] - 0s 2ms/sample - loss: 0.0317 - acc: 1.0000 - val_loss: 2.4666 - val_acc: 0.2951\n",
      "Epoch 16/20\n",
      "288/288 [==============================] - 0s 2ms/sample - loss: 0.0296 - acc: 0.9965 - val_loss: 2.2828 - val_acc: 0.3438\n",
      "Epoch 17/20\n",
      "288/288 [==============================] - 0s 2ms/sample - loss: 0.0246 - acc: 0.9931 - val_loss: 2.3400 - val_acc: 0.3125\n",
      "Epoch 18/20\n",
      "288/288 [==============================] - 0s 2ms/sample - loss: 0.0238 - acc: 0.9965 - val_loss: 2.4548 - val_acc: 0.3333\n",
      "Epoch 19/20\n",
      "288/288 [==============================] - 0s 2ms/sample - loss: 0.0202 - acc: 1.0000 - val_loss: 2.3678 - val_acc: 0.3542\n",
      "Epoch 20/20\n",
      "288/288 [==============================] - 0s 2ms/sample - loss: 0.0276 - acc: 0.9931 - val_loss: 2.3019 - val_acc: 0.3333\n"
     ]
    }
   ],
   "source": [
    "history = model.fit(x_train, y_train, epochs=20, batch_size=18, validation_data=(x_test, y_test))"
   ]
  },
  {
   "cell_type": "code",
   "execution_count": 20,
   "metadata": {},
   "outputs": [
    {
     "name": "stdout",
     "output_type": "stream",
     "text": [
      "288/288 [==============================] - 0s 476us/sample - loss: 2.3019 - acc: 0.3333\n",
      "Test loss: 2.3019417391883\n",
      "Test accuracy: 0.33333334\n"
     ]
    }
   ],
   "source": [
    "test_loss, test_acc = model.evaluate(x_test, y_test)\n",
    "print('Test loss:', test_loss)\n",
    "print('Test accuracy:', test_acc)"
   ]
  },
  {
   "cell_type": "code",
   "execution_count": 21,
   "metadata": {},
   "outputs": [
    {
     "data": {
      "image/png": "[encoded data removed]",
      "text/plain": [
       "<Figure size 432x288 with 1 Axes>"
      ]
     },
     "metadata": {
      "needs_background": "light"
     },
     "output_type": "display_data"
    }
   ],
   "source": [
    "plt.plot(history.history['acc'])\n",
    "plt.plot(history.history['val_acc'])\n",
    "plt.grid()\n",
    "plt.xlabel('Epochs')\n",
    "plt.ylabel('Accuracy')\n",
    "plt.legend(['train', 'test'])\n",
    "plt.show()"
   ]
  },
  {
   "cell_type": "code",
   "execution_count": 22,
   "metadata": {},
   "outputs": [
    {
     "data": {
      "image/png": "[encoded data removed]",
      "text/plain": [
       "<Figure size 432x288 with 1 Axes>"
      ]
     },
     "metadata": {
      "needs_background": "light"
     },
     "output_type": "display_data"
    }
   ],
   "source": [
    "plt.plot(history.history['loss'])\n",
    "plt.plot(history.history['val_loss'])\n",
    "plt.grid()\n",
    "plt.xlabel('Epochs')\n",
    "plt.ylabel('Cross-Entropy')\n",
    "plt.legend(['train', 'test'])\n",
    "plt.show()"
   ]
  },
  {
   "cell_type": "code",
   "execution_count": 16,
   "metadata": {},
   "outputs": [],
   "source": [
    "probabilidades = model.predict(x_test)\n",
    "y_pred = np.argmax(probabilidades, 1) #1=fila"
   ]
  },
  {
   "cell_type": "code",
   "execution_count": 17,
   "metadata": {},
   "outputs": [
    {
     "name": "stdout",
     "output_type": "stream",
     "text": [
      "0.13888888888888884\n"
     ]
    }
   ],
   "source": [
    "kappa = cohen_kappa_score(y_test, y_pred)\n",
    "print(kappa)"
   ]
  },
  {
   "cell_type": "code",
   "execution_count": 18,
   "metadata": {},
   "outputs": [
    {
     "name": "stdout",
     "output_type": "stream",
     "text": [
      "[[32 23 12  5]\n",
      " [34 26  6  6]\n",
      " [18 14 18 22]\n",
      " [16 14 16 26]]\n"
     ]
    }
   ],
   "source": [
    "matrizConfusion = confusion_matrix(y_test, y_pred)\n",
    "print(matrizConfusion)"
   ]
  },
  {
   "cell_type": "code",
   "execution_count": 19,
   "metadata": {},
   "outputs": [
    {
     "name": "stdout",
     "output_type": "stream",
     "text": [
      "              precision    recall  f1-score   support\n",
      "\n",
      "           0       0.32      0.44      0.37        72\n",
      "           1       0.34      0.36      0.35        72\n",
      "           2       0.35      0.25      0.29        72\n",
      "           3       0.44      0.36      0.40        72\n",
      "\n",
      "   micro avg       0.35      0.35      0.35       288\n",
      "   macro avg       0.36      0.35      0.35       288\n",
      "weighted avg       0.36      0.35      0.35       288\n",
      "\n"
     ]
    }
   ],
   "source": [
    "reporteClassificacion = classification_report(y_test, y_pred)\n",
    "print(reporteClassificacion)"
   ]
  }
 ],
 "metadata": {
  "kernelspec": {
   "display_name": "Python 3",
   "language": "python",
   "name": "python3"
  },
  "language_info": {
   "codemirror_mode": {
    "name": "ipython",
    "version": 3
   },
   "file_extension": ".py",
   "mimetype": "text/x-python",
   "name": "python",
   "nbconvert_exporter": "python",
   "pygments_lexer": "ipython3",
   "version": "3.7.3"
  }
 },
 "nbformat": 4,
 "nbformat_minor": 2
}

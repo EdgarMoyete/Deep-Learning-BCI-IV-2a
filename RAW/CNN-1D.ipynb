{
 "cells": [
  {
   "cell_type": "code",
   "execution_count": null,
   "metadata": {},
   "outputs": [],
   "source": [
    "#Edgar Moises Hernandez-Gonzalez\n",
    "#11/11/19-13/11/19\n",
    "#Clasificar RAW con CNN-1D"
   ]
  },
  {
   "cell_type": "code",
   "execution_count": 1,
   "metadata": {},
   "outputs": [],
   "source": [
    "import numpy as np\n",
    "import pandas as pd\n",
    "import matplotlib.pyplot as plt\n",
    "from sklearn.preprocessing import StandardScaler, LabelEncoder\n",
    "from tensorflow.keras.models import Sequential\n",
    "from tensorflow.keras.layers import Conv1D, MaxPool1D, Flatten, Dense, Dropout\n",
    "from sklearn.metrics import cohen_kappa_score, confusion_matrix, classification_report"
   ]
  },
  {
   "cell_type": "code",
   "execution_count": 2,
   "metadata": {},
   "outputs": [],
   "source": [
    "x_train = pd.read_csv(\"MI-EEG-A01T.csv\", header=None)\n",
    "x_test = pd.read_csv(\"MI-EEG-A01E.csv\", header=None)\n",
    "y_train = pd.read_csv(\"EtiquetasA01T.csv\", header=None)\n",
    "y_test = pd.read_csv(\"EtiquetasA01E.csv\", header=None)"
   ]
  },
  {
   "cell_type": "code",
   "execution_count": 3,
   "metadata": {},
   "outputs": [
    {
     "name": "stdout",
     "output_type": "stream",
     "text": [
      "(288, 22000)\n",
      "(288, 22000)\n",
      "(288, 1)\n",
      "(288, 1)\n"
     ]
    }
   ],
   "source": [
    "print(x_train.shape)\n",
    "print(x_test.shape)\n",
    "print(y_train.shape)\n",
    "print(y_test.shape)"
   ]
  },
  {
   "cell_type": "code",
   "execution_count": 4,
   "metadata": {},
   "outputs": [
    {
     "name": "stdout",
     "output_type": "stream",
     "text": [
      "n_samples_train: 288\n",
      "n_samples_test : 288\n"
     ]
    }
   ],
   "source": [
    "n_samples_train = len(y_train)\n",
    "n_samples_test = len(y_test) #en caso de no tener el y_test se puede utilizar el x_test\n",
    "\n",
    "print(\"n_samples_train:\", n_samples_train)\n",
    "print(\"n_samples_test :\", n_samples_test)"
   ]
  },
  {
   "cell_type": "code",
   "execution_count": 5,
   "metadata": {},
   "outputs": [
    {
     "name": "stdout",
     "output_type": "stream",
     "text": [
      "n_classes: 4\n"
     ]
    }
   ],
   "source": [
    "n_classes = len(np.unique(y_test)) #esto se podria calcular asi n_clases = len(np.unique(y)), la y puede ser train o test\n",
    "\n",
    "print(\"n_classes:\", n_classes)"
   ]
  },
  {
   "cell_type": "code",
   "execution_count": 6,
   "metadata": {},
   "outputs": [],
   "source": [
    "#escalar los datos para que tengan media = 0 y desviacion estandar = 1\n",
    "scaler = StandardScaler().fit(x_train)\n",
    "x_train = scaler.transform(x_train)\n",
    "x_test = scaler.transform(x_test)"
   ]
  },
  {
   "cell_type": "code",
   "execution_count": 7,
   "metadata": {},
   "outputs": [
    {
     "name": "stderr",
     "output_type": "stream",
     "text": [
      "C:\\Users\\EdgarMoises\\Anaconda3\\lib\\site-packages\\sklearn\\preprocessing\\label.py:219: DataConversionWarning: A column-vector y was passed when a 1d array was expected. Please change the shape of y to (n_samples, ), for example using ravel().\n",
      "  y = column_or_1d(y, warn=True)\n",
      "C:\\Users\\EdgarMoises\\Anaconda3\\lib\\site-packages\\sklearn\\preprocessing\\label.py:252: DataConversionWarning: A column-vector y was passed when a 1d array was expected. Please change the shape of y to (n_samples, ), for example using ravel().\n",
      "  y = column_or_1d(y, warn=True)\n"
     ]
    }
   ],
   "source": [
    "#codificar etiquetas con valores de 0 a nClases-1\n",
    "le = LabelEncoder().fit(y_train)\n",
    "y_train = le.transform(y_train)\n",
    "y_test = le.transform(y_test)"
   ]
  },
  {
   "cell_type": "code",
   "execution_count": 8,
   "metadata": {},
   "outputs": [
    {
     "name": "stdout",
     "output_type": "stream",
     "text": [
      "(288, 1000, 22)\n",
      "(288, 1000, 22)\n"
     ]
    }
   ],
   "source": [
    "#convertir de 2D a 3D\n",
    "x_train = x_train.reshape((n_samples_train, 1000, 22))\n",
    "x_test = x_test.reshape((n_samples_test, 1000, 22))\n",
    "\n",
    "print(x_train.shape)\n",
    "print(x_test.shape)"
   ]
  },
  {
   "cell_type": "code",
   "execution_count": 9,
   "metadata": {},
   "outputs": [
    {
     "name": "stdout",
     "output_type": "stream",
     "text": [
      "WARNING:tensorflow:From C:\\Users\\EdgarMoises\\Anaconda3\\lib\\site-packages\\tensorflow\\python\\ops\\resource_variable_ops.py:435: colocate_with (from tensorflow.python.framework.ops) is deprecated and will be removed in a future version.\n",
      "Instructions for updating:\n",
      "Colocations handled automatically by placer.\n",
      "WARNING:tensorflow:From C:\\Users\\EdgarMoises\\Anaconda3\\lib\\site-packages\\tensorflow\\python\\keras\\layers\\core.py:143: calling dropout (from tensorflow.python.ops.nn_ops) with keep_prob is deprecated and will be removed in a future version.\n",
      "Instructions for updating:\n",
      "Please use `rate` instead of `keep_prob`. Rate should be set to `rate = 1 - keep_prob`.\n"
     ]
    }
   ],
   "source": [
    "model = Sequential()\n",
    "model.add(Conv1D(32,7, activation='relu', input_shape=(1000,22)))\n",
    "model.add(MaxPool1D(2))\n",
    "model.add(Conv1D(64,7, activation='relu'))\n",
    "model.add(MaxPool1D(2))\n",
    "model.add(Flatten())\n",
    "model.add(Dense(128, activation='relu'))\n",
    "model.add(Dropout(0.5))\n",
    "model.add(Dense(n_classes, activation='softmax'))"
   ]
  },
  {
   "cell_type": "code",
   "execution_count": 10,
   "metadata": {},
   "outputs": [
    {
     "name": "stdout",
     "output_type": "stream",
     "text": [
      "_________________________________________________________________\n",
      "Layer (type)                 Output Shape              Param #   \n",
      "=================================================================\n",
      "conv1d (Conv1D)              (None, 994, 32)           4960      \n",
      "_________________________________________________________________\n",
      "max_pooling1d (MaxPooling1D) (None, 497, 32)           0         \n",
      "_________________________________________________________________\n",
      "conv1d_1 (Conv1D)            (None, 491, 64)           14400     \n",
      "_________________________________________________________________\n",
      "max_pooling1d_1 (MaxPooling1 (None, 245, 64)           0         \n",
      "_________________________________________________________________\n",
      "flatten (Flatten)            (None, 15680)             0         \n",
      "_________________________________________________________________\n",
      "dense (Dense)                (None, 128)               2007168   \n",
      "_________________________________________________________________\n",
      "dropout (Dropout)            (None, 128)               0         \n",
      "_________________________________________________________________\n",
      "dense_1 (Dense)              (None, 4)                 516       \n",
      "=================================================================\n",
      "Total params: 2,027,044\n",
      "Trainable params: 2,027,044\n",
      "Non-trainable params: 0\n",
      "_________________________________________________________________\n"
     ]
    }
   ],
   "source": [
    "model.summary()"
   ]
  },
  {
   "cell_type": "code",
   "execution_count": 11,
   "metadata": {},
   "outputs": [],
   "source": [
    "model.compile(optimizer='adam',\n",
    "              loss='sparse_categorical_crossentropy',\n",
    "              metrics=['accuracy'])"
   ]
  },
  {
   "cell_type": "code",
   "execution_count": 12,
   "metadata": {},
   "outputs": [
    {
     "name": "stdout",
     "output_type": "stream",
     "text": [
      "Train on 288 samples, validate on 288 samples\n",
      "Epoch 1/20\n",
      "288/288 [==============================] - 2s 8ms/sample - loss: 3.9194 - acc: 0.2326 - val_loss: 1.3844 - val_acc: 0.2604\n",
      "Epoch 2/20\n",
      "288/288 [==============================] - 1s 2ms/sample - loss: 1.3771 - acc: 0.2500 - val_loss: 1.3889 - val_acc: 0.2604\n",
      "Epoch 3/20\n",
      "288/288 [==============================] - 1s 2ms/sample - loss: 1.3123 - acc: 0.4653 - val_loss: 1.3712 - val_acc: 0.2847\n",
      "Epoch 4/20\n",
      "288/288 [==============================] - 1s 2ms/sample - loss: 1.1116 - acc: 0.5278 - val_loss: 1.3444 - val_acc: 0.3403\n",
      "Epoch 5/20\n",
      "288/288 [==============================] - 1s 2ms/sample - loss: 0.8303 - acc: 0.7188 - val_loss: 1.6202 - val_acc: 0.2882\n",
      "Epoch 6/20\n",
      "288/288 [==============================] - 1s 2ms/sample - loss: 0.6479 - acc: 0.7604 - val_loss: 1.4598 - val_acc: 0.3333\n",
      "Epoch 7/20\n",
      "288/288 [==============================] - 1s 2ms/sample - loss: 0.3421 - acc: 0.9271 - val_loss: 1.6047 - val_acc: 0.3715\n",
      "Epoch 8/20\n",
      "288/288 [==============================] - 1s 2ms/sample - loss: 0.1745 - acc: 0.9583 - val_loss: 1.6983 - val_acc: 0.3819\n",
      "Epoch 9/20\n",
      "288/288 [==============================] - 1s 2ms/sample - loss: 0.1299 - acc: 0.9792 - val_loss: 1.8665 - val_acc: 0.3785\n",
      "Epoch 10/20\n",
      "288/288 [==============================] - 1s 2ms/sample - loss: 0.0825 - acc: 0.9826 - val_loss: 2.0060 - val_acc: 0.3472\n",
      "Epoch 11/20\n",
      "288/288 [==============================] - 1s 2ms/sample - loss: 0.0484 - acc: 0.9931 - val_loss: 2.0760 - val_acc: 0.3785\n",
      "Epoch 12/20\n",
      "288/288 [==============================] - 1s 2ms/sample - loss: 0.0307 - acc: 0.9896 - val_loss: 2.1166 - val_acc: 0.3715\n",
      "Epoch 13/20\n",
      "288/288 [==============================] - 1s 2ms/sample - loss: 0.0320 - acc: 0.9931 - val_loss: 2.0855 - val_acc: 0.3819\n",
      "Epoch 14/20\n",
      "288/288 [==============================] - 1s 2ms/sample - loss: 0.0225 - acc: 0.9931 - val_loss: 2.2897 - val_acc: 0.3507\n",
      "Epoch 15/20\n",
      "288/288 [==============================] - 1s 2ms/sample - loss: 0.0232 - acc: 1.0000 - val_loss: 2.1721 - val_acc: 0.3681\n",
      "Epoch 16/20\n",
      "288/288 [==============================] - 1s 2ms/sample - loss: 0.0093 - acc: 1.0000 - val_loss: 2.2641 - val_acc: 0.3889\n",
      "Epoch 17/20\n",
      "288/288 [==============================] - 1s 2ms/sample - loss: 0.0105 - acc: 1.0000 - val_loss: 2.4295 - val_acc: 0.3785\n",
      "Epoch 18/20\n",
      "288/288 [==============================] - 1s 2ms/sample - loss: 0.0089 - acc: 0.9965 - val_loss: 2.3496 - val_acc: 0.3819\n",
      "Epoch 19/20\n",
      "288/288 [==============================] - 1s 2ms/sample - loss: 0.0058 - acc: 1.0000 - val_loss: 2.3656 - val_acc: 0.3681\n",
      "Epoch 20/20\n",
      "288/288 [==============================] - 1s 2ms/sample - loss: 0.0058 - acc: 1.0000 - val_loss: 2.4922 - val_acc: 0.3542\n"
     ]
    }
   ],
   "source": [
    "history = model.fit(x_train, y_train, epochs=20, batch_size=18, validation_data=(x_test, y_test))"
   ]
  },
  {
   "cell_type": "code",
   "execution_count": 13,
   "metadata": {},
   "outputs": [
    {
     "name": "stdout",
     "output_type": "stream",
     "text": [
      "288/288 [==============================] - 0s 598us/sample - loss: 2.4922 - acc: 0.3542\n",
      "Test loss: 2.4921898444493613\n",
      "Test accuracy: 0.35416666\n"
     ]
    }
   ],
   "source": [
    "test_loss, test_acc = model.evaluate(x_test, y_test)\n",
    "print('Test loss:', test_loss)\n",
    "print('Test accuracy:', test_acc)"
   ]
  },
  {
   "cell_type": "code",
   "execution_count": 14,
   "metadata": {},
   "outputs": [
    {
     "data": {
      "image/png": "[encoded data removed]",
      "text/plain": [
       "<Figure size 432x288 with 1 Axes>"
      ]
     },
     "metadata": {
      "needs_background": "light"
     },
     "output_type": "display_data"
    }
   ],
   "source": [
    "plt.plot(history.history['acc'])\n",
    "plt.plot(history.history['val_acc'])\n",
    "plt.grid()\n",
    "plt.xlabel('Epochs')\n",
    "plt.ylabel('Accuracy')\n",
    "plt.legend(['train', 'test'])\n",
    "plt.show()"
   ]
  },
  {
   "cell_type": "code",
   "execution_count": 15,
   "metadata": {},
   "outputs": [
    {
     "data": {
      "image/png": "[encoded data removed]",
      "text/plain": [
       "<Figure size 432x288 with 1 Axes>"
      ]
     },
     "metadata": {
      "needs_background": "light"
     },
     "output_type": "display_data"
    }
   ],
   "source": [
    "plt.plot(history.history['loss'])\n",
    "plt.plot(history.history['val_loss'])\n",
    "plt.grid()\n",
    "plt.xlabel('Epochs')\n",
    "plt.ylabel('Cross-Entropy')\n",
    "plt.legend(['train', 'test'])\n",
    "plt.show()"
   ]
  },
  {
   "cell_type": "code",
   "execution_count": 16,
   "metadata": {},
   "outputs": [],
   "source": [
    "probabilidades = model.predict(x_test)\n",
    "y_pred = np.argmax(probabilidades, 1) #1=fila"
   ]
  },
  {
   "cell_type": "code",
   "execution_count": 17,
   "metadata": {},
   "outputs": [
    {
     "name": "stdout",
     "output_type": "stream",
     "text": [
      "0.13888888888888884\n"
     ]
    }
   ],
   "source": [
    "kappa = cohen_kappa_score(y_test, y_pred)\n",
    "print(kappa)"
   ]
  },
  {
   "cell_type": "code",
   "execution_count": 18,
   "metadata": {},
   "outputs": [
    {
     "name": "stdout",
     "output_type": "stream",
     "text": [
      "[[32 23 12  5]\n",
      " [34 26  6  6]\n",
      " [18 14 18 22]\n",
      " [16 14 16 26]]\n"
     ]
    }
   ],
   "source": [
    "matrizConfusion = confusion_matrix(y_test, y_pred)\n",
    "print(matrizConfusion)"
   ]
  },
  {
   "cell_type": "code",
   "execution_count": 19,
   "metadata": {},
   "outputs": [
    {
     "name": "stdout",
     "output_type": "stream",
     "text": [
      "              precision    recall  f1-score   support\n",
      "\n",
      "           0       0.32      0.44      0.37        72\n",
      "           1       0.34      0.36      0.35        72\n",
      "           2       0.35      0.25      0.29        72\n",
      "           3       0.44      0.36      0.40        72\n",
      "\n",
      "   micro avg       0.35      0.35      0.35       288\n",
      "   macro avg       0.36      0.35      0.35       288\n",
      "weighted avg       0.36      0.35      0.35       288\n",
      "\n"
     ]
    }
   ],
   "source": [
    "reporteClassificacion = classification_report(y_test, y_pred)\n",
    "print(reporteClassificacion)"
   ]
  }
 ],
 "metadata": {
  "kernelspec": {
   "display_name": "Python 3",
   "language": "python",
   "name": "python3"
  },
  "language_info": {
   "codemirror_mode": {
    "name": "ipython",
    "version": 3
   },
   "file_extension": ".py",
   "mimetype": "text/x-python",
   "name": "python",
   "nbconvert_exporter": "python",
   "pygments_lexer": "ipython3",
   "version": "3.7.3"
  }
 },
 "nbformat": 4,
 "nbformat_minor": 2
}

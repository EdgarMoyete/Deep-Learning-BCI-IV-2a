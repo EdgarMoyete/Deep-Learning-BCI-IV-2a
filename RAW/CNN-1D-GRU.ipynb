{
 "cells": [
  {
   "cell_type": "markdown",
   "metadata": {},
   "source": [
    "### Edgar Moises Hernandez-Gonzalez\n",
    "#### 16/11/19-19/11/19\n",
    "#### Clasificar RAW con CNN-1D + GRU"
   ]
  },
  {
   "cell_type": "code",
   "execution_count": 1,
   "metadata": {},
   "outputs": [],
   "source": [
    "import numpy as np\n",
    "import pandas as pd\n",
    "import matplotlib.pyplot as plt\n",
    "from sklearn.preprocessing import StandardScaler, LabelEncoder\n",
    "from tensorflow.keras.models import Sequential\n",
    "from tensorflow.keras.layers import TimeDistributed, Conv1D, MaxPool1D, Flatten, GRU, Dense, Dropout\n",
    "from sklearn.metrics import cohen_kappa_score, confusion_matrix, classification_report"
   ]
  },
  {
   "cell_type": "code",
   "execution_count": 2,
   "metadata": {},
   "outputs": [],
   "source": [
    "x_train = pd.read_csv(\"MI-EEG-A01T.csv\", header=None)\n",
    "x_test = pd.read_csv(\"MI-EEG-A01E.csv\", header=None)\n",
    "y_train = pd.read_csv(\"EtiquetasA01T.csv\", header=None)\n",
    "y_test = pd.read_csv(\"EtiquetasA01E.csv\", header=None)"
   ]
  },
  {
   "cell_type": "code",
   "execution_count": 3,
   "metadata": {},
   "outputs": [
    {
     "name": "stdout",
     "output_type": "stream",
     "text": [
      "(288, 22000)\n",
      "(288, 22000)\n",
      "(288, 1)\n",
      "(288, 1)\n"
     ]
    }
   ],
   "source": [
    "print(x_train.shape)\n",
    "print(x_test.shape)\n",
    "print(y_train.shape)\n",
    "print(y_test.shape)"
   ]
  },
  {
   "cell_type": "code",
   "execution_count": 4,
   "metadata": {},
   "outputs": [
    {
     "name": "stdout",
     "output_type": "stream",
     "text": [
      "n_samples_train: 288\n",
      "n_samples_test : 288\n"
     ]
    }
   ],
   "source": [
    "n_samples_train = len(y_train)\n",
    "n_samples_test = len(y_test) #en caso de no tener el y_test se puede utilizar el x_test\n",
    "\n",
    "print(\"n_samples_train:\", n_samples_train)\n",
    "print(\"n_samples_test :\", n_samples_test)"
   ]
  },
  {
   "cell_type": "code",
   "execution_count": 5,
   "metadata": {},
   "outputs": [
    {
     "name": "stdout",
     "output_type": "stream",
     "text": [
      "n_classes: 4\n"
     ]
    }
   ],
   "source": [
    "n_classes = len(np.unique(y_test)) #esto se podria calcular asi n_clases = len(np.unique(y)), la y puede ser train o test\n",
    "\n",
    "print(\"n_classes:\", n_classes)"
   ]
  },
  {
   "cell_type": "code",
   "execution_count": 6,
   "metadata": {},
   "outputs": [],
   "source": [
    "#escalar los datos para que tengan media = 0 y desviacion estandar = 1\n",
    "scaler = StandardScaler().fit(x_train)\n",
    "x_train = scaler.transform(x_train)\n",
    "x_test = scaler.transform(x_test)"
   ]
  },
  {
   "cell_type": "code",
   "execution_count": 7,
   "metadata": {},
   "outputs": [
    {
     "name": "stderr",
     "output_type": "stream",
     "text": [
      "C:\\Users\\EdgarMoises\\Anaconda3\\lib\\site-packages\\sklearn\\preprocessing\\label.py:219: DataConversionWarning: A column-vector y was passed when a 1d array was expected. Please change the shape of y to (n_samples, ), for example using ravel().\n",
      "  y = column_or_1d(y, warn=True)\n",
      "C:\\Users\\EdgarMoises\\Anaconda3\\lib\\site-packages\\sklearn\\preprocessing\\label.py:252: DataConversionWarning: A column-vector y was passed when a 1d array was expected. Please change the shape of y to (n_samples, ), for example using ravel().\n",
      "  y = column_or_1d(y, warn=True)\n"
     ]
    }
   ],
   "source": [
    "#codificar etiquetas con valores de 0 a nClases-1\n",
    "le = LabelEncoder().fit(y_train)\n",
    "y_train = le.transform(y_train)\n",
    "y_test = le.transform(y_test)"
   ]
  },
  {
   "cell_type": "code",
   "execution_count": 8,
   "metadata": {},
   "outputs": [
    {
     "name": "stdout",
     "output_type": "stream",
     "text": [
      "(288, 1, 1000, 22)\n",
      "(288, 1, 1000, 22)\n"
     ]
    }
   ],
   "source": [
    "#convertir de 2D a 4D\n",
    "x_train = x_train.reshape((n_samples_train, 1, 1000, 22))\n",
    "x_test = x_test.reshape((n_samples_test, 1, 1000, 22))\n",
    "\n",
    "print(x_train.shape)\n",
    "print(x_test.shape)"
   ]
  },
  {
   "cell_type": "code",
   "execution_count": 9,
   "metadata": {},
   "outputs": [
    {
     "name": "stdout",
     "output_type": "stream",
     "text": [
      "WARNING:tensorflow:From C:\\Users\\EdgarMoises\\Anaconda3\\lib\\site-packages\\tensorflow\\python\\ops\\resource_variable_ops.py:435: colocate_with (from tensorflow.python.framework.ops) is deprecated and will be removed in a future version.\n",
      "Instructions for updating:\n",
      "Colocations handled automatically by placer.\n"
     ]
    }
   ],
   "source": [
    "model = Sequential()\n",
    "model.add(TimeDistributed(Conv1D(8, 11, activation='relu'), input_shape=(None,1000,22)))\n",
    "model.add(TimeDistributed(MaxPool1D(2)))\n",
    "model.add(TimeDistributed(Conv1D(16, 11, activation='relu')))\n",
    "model.add(TimeDistributed(MaxPool1D(2)))\n",
    "model.add(TimeDistributed(Conv1D(16, 11, activation='relu')))\n",
    "model.add(TimeDistributed(MaxPool1D(2)))\n",
    "model.add(TimeDistributed(Flatten()))\n",
    "model.add(GRU(16))\n",
    "#model.add(Dense(32, activation='relu'))\n",
    "#model.add(Dropout(0.5))\n",
    "model.add(Dense(n_classes, activation='softmax'))"
   ]
  },
  {
   "cell_type": "code",
   "execution_count": 10,
   "metadata": {},
   "outputs": [
    {
     "name": "stdout",
     "output_type": "stream",
     "text": [
      "_________________________________________________________________\n",
      "Layer (type)                 Output Shape              Param #   \n",
      "=================================================================\n",
      "time_distributed (TimeDistri (None, None, 990, 8)      1944      \n",
      "_________________________________________________________________\n",
      "time_distributed_1 (TimeDist (None, None, 495, 8)      0         \n",
      "_________________________________________________________________\n",
      "time_distributed_2 (TimeDist (None, None, 485, 16)     1424      \n",
      "_________________________________________________________________\n",
      "time_distributed_3 (TimeDist (None, None, 242, 16)     0         \n",
      "_________________________________________________________________\n",
      "time_distributed_4 (TimeDist (None, None, 232, 16)     2832      \n",
      "_________________________________________________________________\n",
      "time_distributed_5 (TimeDist (None, None, 116, 16)     0         \n",
      "_________________________________________________________________\n",
      "time_distributed_6 (TimeDist (None, None, 1856)        0         \n",
      "_________________________________________________________________\n",
      "gru (GRU)                    (None, 16)                89904     \n",
      "_________________________________________________________________\n",
      "dense (Dense)                (None, 4)                 68        \n",
      "=================================================================\n",
      "Total params: 96,172\n",
      "Trainable params: 96,172\n",
      "Non-trainable params: 0\n",
      "_________________________________________________________________\n"
     ]
    }
   ],
   "source": [
    "model.summary()"
   ]
  },
  {
   "cell_type": "code",
   "execution_count": 11,
   "metadata": {},
   "outputs": [],
   "source": [
    "model.compile(optimizer='adam',\n",
    "              loss='sparse_categorical_crossentropy',\n",
    "              metrics=['accuracy'])"
   ]
  },
  {
   "cell_type": "code",
   "execution_count": 12,
   "metadata": {},
   "outputs": [
    {
     "name": "stdout",
     "output_type": "stream",
     "text": [
      "Train on 288 samples, validate on 288 samples\n",
      "Epoch 1/20\n",
      "288/288 [==============================] - 3s 9ms/sample - loss: 1.4132 - acc: 0.2743 - val_loss: 1.3798 - val_acc: 0.2917\n",
      "Epoch 2/20\n",
      "288/288 [==============================] - 0s 2ms/sample - loss: 1.3626 - acc: 0.3785 - val_loss: 1.3783 - val_acc: 0.2847\n",
      "Epoch 3/20\n",
      "288/288 [==============================] - 1s 2ms/sample - loss: 1.2658 - acc: 0.4444 - val_loss: 1.4056 - val_acc: 0.2604\n",
      "Epoch 4/20\n",
      "288/288 [==============================] - 0s 1ms/sample - loss: 1.1556 - acc: 0.5729 - val_loss: 1.4060 - val_acc: 0.2812\n",
      "Epoch 5/20\n",
      "288/288 [==============================] - ETA: 0s - loss: 0.9958 - acc: 0.729 - 0s 2ms/sample - loss: 0.9933 - acc: 0.7257 - val_loss: 1.5515 - val_acc: 0.2778\n",
      "Epoch 6/20\n",
      "288/288 [==============================] - 0s 2ms/sample - loss: 0.8467 - acc: 0.8229 - val_loss: 1.4886 - val_acc: 0.2778\n",
      "Epoch 7/20\n",
      "288/288 [==============================] - 0s 2ms/sample - loss: 0.6613 - acc: 0.8924 - val_loss: 1.5872 - val_acc: 0.3194\n",
      "Epoch 8/20\n",
      "288/288 [==============================] - 0s 2ms/sample - loss: 0.4928 - acc: 0.9479 - val_loss: 1.5797 - val_acc: 0.3333\n",
      "Epoch 9/20\n",
      "288/288 [==============================] - 0s 2ms/sample - loss: 0.3758 - acc: 0.9931 - val_loss: 1.6643 - val_acc: 0.3160\n",
      "Epoch 10/20\n",
      "288/288 [==============================] - 0s 2ms/sample - loss: 0.2856 - acc: 0.9965 - val_loss: 1.7246 - val_acc: 0.3194\n",
      "Epoch 11/20\n",
      "288/288 [==============================] - 0s 1ms/sample - loss: 0.2221 - acc: 0.9965 - val_loss: 1.7583 - val_acc: 0.3125\n",
      "Epoch 12/20\n",
      "288/288 [==============================] - 0s 2ms/sample - loss: 0.1594 - acc: 0.9965 - val_loss: 1.8133 - val_acc: 0.3194\n",
      "Epoch 13/20\n",
      "288/288 [==============================] - 0s 2ms/sample - loss: 0.1257 - acc: 1.0000 - val_loss: 1.8912 - val_acc: 0.3160\n",
      "Epoch 14/20\n",
      "288/288 [==============================] - 0s 2ms/sample - loss: 0.1046 - acc: 1.0000 - val_loss: 1.9897 - val_acc: 0.2917\n",
      "Epoch 15/20\n",
      "288/288 [==============================] - 0s 2ms/sample - loss: 0.0901 - acc: 1.0000 - val_loss: 1.9732 - val_acc: 0.3229\n",
      "Epoch 16/20\n",
      "288/288 [==============================] - 0s 2ms/sample - loss: 0.0782 - acc: 1.0000 - val_loss: 1.9591 - val_acc: 0.3160\n",
      "Epoch 17/20\n",
      "288/288 [==============================] - 0s 2ms/sample - loss: 0.0704 - acc: 1.0000 - val_loss: 1.9512 - val_acc: 0.3125\n",
      "Epoch 18/20\n",
      "288/288 [==============================] - 0s 2ms/sample - loss: 0.0636 - acc: 1.0000 - val_loss: 1.9899 - val_acc: 0.3264\n",
      "Epoch 19/20\n",
      "288/288 [==============================] - 1s 2ms/sample - loss: 0.0563 - acc: 1.0000 - val_loss: 2.0443 - val_acc: 0.3160\n",
      "Epoch 20/20\n",
      "288/288 [==============================] - 0s 2ms/sample - loss: 0.0517 - acc: 1.0000 - val_loss: 2.0779 - val_acc: 0.3090\n"
     ]
    }
   ],
   "source": [
    "history = model.fit(x_train, y_train, epochs=20, batch_size=18, validation_data=(x_test, y_test))"
   ]
  },
  {
   "cell_type": "code",
   "execution_count": 13,
   "metadata": {},
   "outputs": [
    {
     "name": "stdout",
     "output_type": "stream",
     "text": [
      "288/288 [==============================] - 0s 693us/sample - loss: 2.0779 - acc: 0.3090\n",
      "Test loss: 2.077934424082438\n",
      "Test accuracy: 0.3090278\n"
     ]
    }
   ],
   "source": [
    "test_loss, test_acc = model.evaluate(x_test, y_test)\n",
    "print('Test loss:', test_loss)\n",
    "print('Test accuracy:', test_acc)"
   ]
  },
  {
   "cell_type": "code",
   "execution_count": 14,
   "metadata": {},
   "outputs": [
    {
     "data": {
      "image/png": "[encoded data removed]",
      "text/plain": [
       "<Figure size 432x288 with 1 Axes>"
      ]
     },
     "metadata": {
      "needs_background": "light"
     },
     "output_type": "display_data"
    }
   ],
   "source": [
    "plt.plot(history.history['acc'])\n",
    "plt.plot(history.history['val_acc'])\n",
    "plt.grid()\n",
    "plt.xlabel('Epochs')\n",
    "plt.ylabel('Accuracy')\n",
    "plt.legend(['train', 'test'])\n",
    "plt.show()"
   ]
  },
  {
   "cell_type": "code",
   "execution_count": 15,
   "metadata": {},
   "outputs": [
    {
     "data": {
      "image/png": "[encoded data removed]",
      "text/plain": [
       "<Figure size 432x288 with 1 Axes>"
      ]
     },
     "metadata": {
      "needs_background": "light"
     },
     "output_type": "display_data"
    }
   ],
   "source": [
    "plt.plot(history.history['loss'])\n",
    "plt.plot(history.history['val_loss'])\n",
    "plt.grid()\n",
    "plt.xlabel('Epochs')\n",
    "plt.ylabel('Cross-Entropy')\n",
    "plt.legend(['train', 'test'])\n",
    "plt.show()"
   ]
  },
  {
   "cell_type": "code",
   "execution_count": 16,
   "metadata": {},
   "outputs": [],
   "source": [
    "probabilidades = model.predict(x_test)\n",
    "y_pred = np.argmax(probabilidades, 1) #1=fila"
   ]
  },
  {
   "cell_type": "code",
   "execution_count": 17,
   "metadata": {},
   "outputs": [
    {
     "name": "stdout",
     "output_type": "stream",
     "text": [
      "0.07870370370370372\n"
     ]
    }
   ],
   "source": [
    "kappa = cohen_kappa_score(y_test, y_pred)\n",
    "print(kappa)"
   ]
  },
  {
   "cell_type": "code",
   "execution_count": 18,
   "metadata": {},
   "outputs": [
    {
     "name": "stdout",
     "output_type": "stream",
     "text": [
      "[[33 26  8  5]\n",
      " [31 24  9  8]\n",
      " [22 25 12 13]\n",
      " [22 18 12 20]]\n"
     ]
    }
   ],
   "source": [
    "matrizConfusion = confusion_matrix(y_test, y_pred)\n",
    "print(matrizConfusion)"
   ]
  },
  {
   "cell_type": "code",
   "execution_count": 19,
   "metadata": {},
   "outputs": [
    {
     "name": "stdout",
     "output_type": "stream",
     "text": [
      "              precision    recall  f1-score   support\n",
      "\n",
      "           0       0.31      0.46      0.37        72\n",
      "           1       0.26      0.33      0.29        72\n",
      "           2       0.29      0.17      0.21        72\n",
      "           3       0.43      0.28      0.34        72\n",
      "\n",
      "   micro avg       0.31      0.31      0.31       288\n",
      "   macro avg       0.32      0.31      0.30       288\n",
      "weighted avg       0.32      0.31      0.30       288\n",
      "\n"
     ]
    }
   ],
   "source": [
    "reporteClassificacion = classification_report(y_test, y_pred)\n",
    "print(reporteClassificacion)"
   ]
  }
 ],
 "metadata": {
  "kernelspec": {
   "display_name": "Python 3",
   "language": "python",
   "name": "python3"
  },
  "language_info": {
   "codemirror_mode": {
    "name": "ipython",
    "version": 3
   },
   "file_extension": ".py",
   "mimetype": "text/x-python",
   "name": "python",
   "nbconvert_exporter": "python",
   "pygments_lexer": "ipython3",
   "version": "3.7.3"
  }
 },
 "nbformat": 4,
 "nbformat_minor": 2
}

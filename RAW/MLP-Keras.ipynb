{
 "cells": [
  {
   "cell_type": "code",
   "execution_count": null,
   "metadata": {},
   "outputs": [],
   "source": [
    "#Edgar Moises Hernandez-Gonzalez\n",
    "#06/11/19-11/11/19\n",
    "#Clasificar RAW con MLP"
   ]
  },
  {
   "cell_type": "code",
   "execution_count": 1,
   "metadata": {},
   "outputs": [],
   "source": [
    "import numpy as np #se utiliza para calcular el numero de clases\n",
    "import pandas as pd\n",
    "import matplotlib.pyplot as plt\n",
    "from sklearn.preprocessing import StandardScaler, LabelEncoder\n",
    "from tensorflow.keras.models import Sequential\n",
    "from tensorflow.keras.layers import Dense, Dropout\n",
    "from sklearn.metrics import cohen_kappa_score, confusion_matrix, classification_report"
   ]
  },
  {
   "cell_type": "code",
   "execution_count": 2,
   "metadata": {},
   "outputs": [],
   "source": [
    "x_train = pd.read_csv(\"MI-EEG-A01T.csv\", header=None)\n",
    "x_test = pd.read_csv(\"MI-EEG-A01E.csv\", header=None)\n",
    "y_train = pd.read_csv(\"EtiquetasA01T.csv\", header=None)\n",
    "y_test = pd.read_csv(\"EtiquetasA01E.csv\", header=None)"
   ]
  },
  {
   "cell_type": "code",
   "execution_count": 3,
   "metadata": {},
   "outputs": [
    {
     "name": "stdout",
     "output_type": "stream",
     "text": [
      "(288, 22000)\n",
      "(288, 22000)\n",
      "(288, 1)\n",
      "(288, 1)\n"
     ]
    }
   ],
   "source": [
    "print(x_train.shape)\n",
    "print(x_test.shape)\n",
    "print(y_train.shape)\n",
    "print(y_test.shape)"
   ]
  },
  {
   "cell_type": "code",
   "execution_count": 4,
   "metadata": {},
   "outputs": [
    {
     "name": "stdout",
     "output_type": "stream",
     "text": [
      "n_samples_train: 288\n",
      "n_samples_test : 288\n"
     ]
    }
   ],
   "source": [
    "n_samples_train = len(y_train)\n",
    "n_samples_test = len(y_test) #en caso de no tener el y_test se puede utilizar el x_test\n",
    "\n",
    "print(\"n_samples_train:\", n_samples_train)\n",
    "print(\"n_samples_test :\", n_samples_test)"
   ]
  },
  {
   "cell_type": "code",
   "execution_count": 5,
   "metadata": {},
   "outputs": [
    {
     "name": "stdout",
     "output_type": "stream",
     "text": [
      "n_classes: 4\n"
     ]
    }
   ],
   "source": [
    "n_classes = len(np.unique(y_test)) #esto se podria calcular asi n_clases = len(np.unique(y)), la y puede ser train o test\n",
    "\n",
    "print(\"n_classes:\", n_classes)"
   ]
  },
  {
   "cell_type": "code",
   "execution_count": 6,
   "metadata": {},
   "outputs": [],
   "source": [
    "#escalar los datos para que tengan media = 0 y desviacion estandar = 1\n",
    "scaler = StandardScaler().fit(x_train)\n",
    "x_train = scaler.transform(x_train)\n",
    "x_test = scaler.transform(x_test)"
   ]
  },
  {
   "cell_type": "code",
   "execution_count": 7,
   "metadata": {},
   "outputs": [
    {
     "name": "stderr",
     "output_type": "stream",
     "text": [
      "C:\\Users\\EdgarMoises\\Anaconda3\\lib\\site-packages\\sklearn\\preprocessing\\label.py:219: DataConversionWarning: A column-vector y was passed when a 1d array was expected. Please change the shape of y to (n_samples, ), for example using ravel().\n",
      "  y = column_or_1d(y, warn=True)\n",
      "C:\\Users\\EdgarMoises\\Anaconda3\\lib\\site-packages\\sklearn\\preprocessing\\label.py:252: DataConversionWarning: A column-vector y was passed when a 1d array was expected. Please change the shape of y to (n_samples, ), for example using ravel().\n",
      "  y = column_or_1d(y, warn=True)\n"
     ]
    }
   ],
   "source": [
    "#codificar etiquetas con valores de 0 a nClases-1\n",
    "le = LabelEncoder().fit(y_train)\n",
    "y_train = le.transform(y_train)\n",
    "y_test = le.transform(y_test)"
   ]
  },
  {
   "cell_type": "code",
   "execution_count": 8,
   "metadata": {},
   "outputs": [
    {
     "name": "stdout",
     "output_type": "stream",
     "text": [
      "WARNING:tensorflow:From C:\\Users\\EdgarMoises\\Anaconda3\\lib\\site-packages\\tensorflow\\python\\ops\\resource_variable_ops.py:435: colocate_with (from tensorflow.python.framework.ops) is deprecated and will be removed in a future version.\n",
      "Instructions for updating:\n",
      "Colocations handled automatically by placer.\n",
      "WARNING:tensorflow:From C:\\Users\\EdgarMoises\\Anaconda3\\lib\\site-packages\\tensorflow\\python\\keras\\layers\\core.py:143: calling dropout (from tensorflow.python.ops.nn_ops) with keep_prob is deprecated and will be removed in a future version.\n",
      "Instructions for updating:\n",
      "Please use `rate` instead of `keep_prob`. Rate should be set to `rate = 1 - keep_prob`.\n"
     ]
    }
   ],
   "source": [
    "#modelo\n",
    "model = Sequential()\n",
    "model.add(Dense(64, input_shape=(22000,), activation='relu')) #neuronas ocultas, variables entrada\n",
    "model.add(Dropout(0.2))\n",
    "model.add(Dense(n_classes, activation='softmax'))"
   ]
  },
  {
   "cell_type": "code",
   "execution_count": 9,
   "metadata": {},
   "outputs": [
    {
     "name": "stdout",
     "output_type": "stream",
     "text": [
      "_________________________________________________________________\n",
      "Layer (type)                 Output Shape              Param #   \n",
      "=================================================================\n",
      "dense (Dense)                (None, 64)                1408064   \n",
      "_________________________________________________________________\n",
      "dropout (Dropout)            (None, 64)                0         \n",
      "_________________________________________________________________\n",
      "dense_1 (Dense)              (None, 4)                 260       \n",
      "=================================================================\n",
      "Total params: 1,408,324\n",
      "Trainable params: 1,408,324\n",
      "Non-trainable params: 0\n",
      "_________________________________________________________________\n"
     ]
    }
   ],
   "source": [
    "model.summary()"
   ]
  },
  {
   "cell_type": "code",
   "execution_count": 10,
   "metadata": {},
   "outputs": [],
   "source": [
    "model.compile(optimizer='adam',\n",
    "              loss='sparse_categorical_crossentropy',\n",
    "              metrics=['accuracy'])"
   ]
  },
  {
   "cell_type": "code",
   "execution_count": 11,
   "metadata": {},
   "outputs": [
    {
     "name": "stdout",
     "output_type": "stream",
     "text": [
      "Train on 288 samples, validate on 288 samples\n",
      "Epoch 1/100\n",
      "288/288 [==============================] - 1s 3ms/sample - loss: 6.3804 - acc: 0.2743 - val_loss: 7.3023 - val_acc: 0.3056\n",
      "Epoch 2/100\n",
      "288/288 [==============================] - 0s 2ms/sample - loss: 3.9588 - acc: 0.6736 - val_loss: 7.9732 - val_acc: 0.2951\n",
      "Epoch 3/100\n",
      "288/288 [==============================] - 0s 1ms/sample - loss: 3.2171 - acc: 0.7188 - val_loss: 8.6412 - val_acc: 0.3125\n",
      "Epoch 4/100\n",
      "288/288 [==============================] - 0s 1ms/sample - loss: 2.6295 - acc: 0.7882 - val_loss: 9.1981 - val_acc: 0.2500\n",
      "Epoch 5/100\n",
      "288/288 [==============================] - 0s 2ms/sample - loss: 2.4484 - acc: 0.7917 - val_loss: 9.3762 - val_acc: 0.2535\n",
      "Epoch 6/100\n",
      "288/288 [==============================] - 0s 2ms/sample - loss: 2.1065 - acc: 0.8299 - val_loss: 9.6351 - val_acc: 0.2674\n",
      "Epoch 7/100\n",
      "288/288 [==============================] - 0s 1ms/sample - loss: 1.9229 - acc: 0.8403 - val_loss: 9.3424 - val_acc: 0.2951\n",
      "Epoch 8/100\n",
      "288/288 [==============================] - 0s 2ms/sample - loss: 1.5482 - acc: 0.8542 - val_loss: 9.1889 - val_acc: 0.2882\n",
      "Epoch 9/100\n",
      "288/288 [==============================] - 0s 1ms/sample - loss: 1.5075 - acc: 0.8750 - val_loss: 9.3825 - val_acc: 0.2986\n",
      "Epoch 10/100\n",
      "288/288 [==============================] - 0s 1ms/sample - loss: 1.4741 - acc: 0.8924 - val_loss: 9.5447 - val_acc: 0.2917\n",
      "Epoch 11/100\n",
      "288/288 [==============================] - 0s 2ms/sample - loss: 1.4764 - acc: 0.8854 - val_loss: 9.6180 - val_acc: 0.2882\n",
      "Epoch 12/100\n",
      "288/288 [==============================] - 0s 1ms/sample - loss: 1.3339 - acc: 0.8993 - val_loss: 9.5776 - val_acc: 0.2812\n",
      "Epoch 13/100\n",
      "288/288 [==============================] - 0s 2ms/sample - loss: 1.4831 - acc: 0.8819 - val_loss: 9.5243 - val_acc: 0.2847\n",
      "Epoch 14/100\n",
      "288/288 [==============================] - 0s 2ms/sample - loss: 1.2522 - acc: 0.8993 - val_loss: 9.4709 - val_acc: 0.3056\n",
      "Epoch 15/100\n",
      "288/288 [==============================] - 0s 1ms/sample - loss: 1.1853 - acc: 0.9167 - val_loss: 9.6341 - val_acc: 0.3090\n",
      "Epoch 16/100\n",
      "288/288 [==============================] - 0s 2ms/sample - loss: 1.1698 - acc: 0.9062 - val_loss: 9.4783 - val_acc: 0.3160\n",
      "Epoch 17/100\n",
      "288/288 [==============================] - 0s 2ms/sample - loss: 0.9256 - acc: 0.9097 - val_loss: 9.4381 - val_acc: 0.2917\n",
      "Epoch 18/100\n",
      "288/288 [==============================] - 0s 2ms/sample - loss: 0.8128 - acc: 0.9132 - val_loss: 9.6514 - val_acc: 0.2986\n",
      "Epoch 19/100\n",
      "288/288 [==============================] - 0s 2ms/sample - loss: 0.7890 - acc: 0.9340 - val_loss: 9.5418 - val_acc: 0.2951\n",
      "Epoch 20/100\n",
      "288/288 [==============================] - 0s 2ms/sample - loss: 0.8151 - acc: 0.9375 - val_loss: 9.5227 - val_acc: 0.3125\n",
      "Epoch 21/100\n",
      "288/288 [==============================] - 0s 1ms/sample - loss: 0.8067 - acc: 0.9306 - val_loss: 9.6457 - val_acc: 0.2882\n",
      "Epoch 22/100\n",
      "288/288 [==============================] - 0s 2ms/sample - loss: 0.8340 - acc: 0.9306 - val_loss: 9.9109 - val_acc: 0.2986\n",
      "Epoch 23/100\n",
      "288/288 [==============================] - 0s 2ms/sample - loss: 0.7274 - acc: 0.9306 - val_loss: 9.8615 - val_acc: 0.2778\n",
      "Epoch 24/100\n",
      "288/288 [==============================] - 0s 2ms/sample - loss: 0.7228 - acc: 0.9444 - val_loss: 9.6879 - val_acc: 0.3056\n",
      "Epoch 25/100\n",
      "288/288 [==============================] - 0s 2ms/sample - loss: 0.6605 - acc: 0.9410 - val_loss: 9.6067 - val_acc: 0.2986\n",
      "Epoch 26/100\n",
      "288/288 [==============================] - 0s 2ms/sample - loss: 0.7750 - acc: 0.9340 - val_loss: 9.6492 - val_acc: 0.3021\n",
      "Epoch 27/100\n",
      "288/288 [==============================] - 0s 2ms/sample - loss: 0.7283 - acc: 0.9410 - val_loss: 10.1696 - val_acc: 0.2917\n",
      "Epoch 28/100\n",
      "288/288 [==============================] - 0s 2ms/sample - loss: 0.5712 - acc: 0.9549 - val_loss: 10.2117 - val_acc: 0.2847\n",
      "Epoch 29/100\n",
      "288/288 [==============================] - 0s 2ms/sample - loss: 0.7409 - acc: 0.9375 - val_loss: 10.3752 - val_acc: 0.2743\n",
      "Epoch 30/100\n",
      "288/288 [==============================] - 0s 2ms/sample - loss: 0.6076 - acc: 0.9583 - val_loss: 10.3156 - val_acc: 0.2812\n",
      "Epoch 31/100\n",
      "288/288 [==============================] - 0s 2ms/sample - loss: 0.7393 - acc: 0.9444 - val_loss: 10.0590 - val_acc: 0.2986\n",
      "Epoch 32/100\n",
      "288/288 [==============================] - 0s 2ms/sample - loss: 0.6275 - acc: 0.9549 - val_loss: 9.8549 - val_acc: 0.3125\n",
      "Epoch 33/100\n",
      "288/288 [==============================] - 0s 1ms/sample - loss: 0.6383 - acc: 0.9514 - val_loss: 9.8473 - val_acc: 0.3090\n",
      "Epoch 34/100\n",
      "288/288 [==============================] - 0s 1ms/sample - loss: 0.5768 - acc: 0.9583 - val_loss: 9.9388 - val_acc: 0.2986\n",
      "Epoch 35/100\n",
      "288/288 [==============================] - 0s 2ms/sample - loss: 0.5720 - acc: 0.9549 - val_loss: 10.0659 - val_acc: 0.2951\n",
      "Epoch 36/100\n",
      "288/288 [==============================] - 0s 2ms/sample - loss: 0.5375 - acc: 0.9479 - val_loss: 9.9934 - val_acc: 0.2917\n",
      "Epoch 37/100\n",
      "288/288 [==============================] - 0s 1ms/sample - loss: 0.6732 - acc: 0.9514 - val_loss: 10.1316 - val_acc: 0.3229\n",
      "Epoch 38/100\n",
      "288/288 [==============================] - 0s 2ms/sample - loss: 0.7918 - acc: 0.9306 - val_loss: 10.3339 - val_acc: 0.3021\n",
      "Epoch 39/100\n",
      "288/288 [==============================] - 0s 2ms/sample - loss: 0.9341 - acc: 0.9236 - val_loss: 10.4595 - val_acc: 0.2812\n",
      "Epoch 40/100\n",
      "288/288 [==============================] - 0s 1ms/sample - loss: 0.6329 - acc: 0.9479 - val_loss: 10.4890 - val_acc: 0.2743\n",
      "Epoch 41/100\n",
      "288/288 [==============================] - 0s 2ms/sample - loss: 0.7834 - acc: 0.9375 - val_loss: 10.3798 - val_acc: 0.2604\n",
      "Epoch 42/100\n",
      "288/288 [==============================] - 0s 2ms/sample - loss: 0.5372 - acc: 0.9583 - val_loss: 10.4112 - val_acc: 0.2639\n",
      "Epoch 43/100\n",
      "288/288 [==============================] - 0s 2ms/sample - loss: 0.5292 - acc: 0.9618 - val_loss: 10.3308 - val_acc: 0.2708\n",
      "Epoch 44/100\n",
      "288/288 [==============================] - 0s 1ms/sample - loss: 0.6106 - acc: 0.9479 - val_loss: 10.2821 - val_acc: 0.2639\n",
      "Epoch 45/100\n",
      "288/288 [==============================] - 0s 2ms/sample - loss: 0.5858 - acc: 0.9618 - val_loss: 10.4360 - val_acc: 0.2708\n",
      "Epoch 46/100\n",
      "288/288 [==============================] - 0s 2ms/sample - loss: 0.5921 - acc: 0.9549 - val_loss: 10.2600 - val_acc: 0.2743\n",
      "Epoch 47/100\n",
      "288/288 [==============================] - 0s 2ms/sample - loss: 0.5407 - acc: 0.9583 - val_loss: 10.4377 - val_acc: 0.2743\n",
      "Epoch 48/100\n",
      "288/288 [==============================] - 0s 2ms/sample - loss: 0.8011 - acc: 0.9375 - val_loss: 10.3742 - val_acc: 0.2708\n",
      "Epoch 49/100\n",
      "288/288 [==============================] - 0s 2ms/sample - loss: 0.7182 - acc: 0.9444 - val_loss: 10.2230 - val_acc: 0.3021\n",
      "Epoch 50/100\n",
      "288/288 [==============================] - 0s 2ms/sample - loss: 0.7178 - acc: 0.9375 - val_loss: 10.2327 - val_acc: 0.2847\n",
      "Epoch 51/100\n",
      "288/288 [==============================] - 0s 2ms/sample - loss: 0.5119 - acc: 0.9653 - val_loss: 10.1461 - val_acc: 0.2951\n",
      "Epoch 52/100\n",
      "288/288 [==============================] - 0s 2ms/sample - loss: 0.5637 - acc: 0.9514 - val_loss: 9.9786 - val_acc: 0.3056\n",
      "Epoch 53/100\n",
      "288/288 [==============================] - 0s 2ms/sample - loss: 0.5945 - acc: 0.9583 - val_loss: 10.0519 - val_acc: 0.3021\n",
      "Epoch 54/100\n",
      "288/288 [==============================] - 0s 2ms/sample - loss: 0.5417 - acc: 0.9549 - val_loss: 10.2625 - val_acc: 0.3021\n",
      "Epoch 55/100\n",
      "288/288 [==============================] - 0s 2ms/sample - loss: 0.5094 - acc: 0.9618 - val_loss: 10.3209 - val_acc: 0.3194\n",
      "Epoch 56/100\n",
      "288/288 [==============================] - 0s 2ms/sample - loss: 0.5789 - acc: 0.9583 - val_loss: 10.2346 - val_acc: 0.3160\n",
      "Epoch 57/100\n",
      "288/288 [==============================] - 0s 2ms/sample - loss: 0.5230 - acc: 0.9618 - val_loss: 10.1783 - val_acc: 0.3056\n",
      "Epoch 58/100\n",
      "288/288 [==============================] - 1s 2ms/sample - loss: 0.4512 - acc: 0.9688 - val_loss: 10.1968 - val_acc: 0.2986\n",
      "Epoch 59/100\n",
      "288/288 [==============================] - 1s 2ms/sample - loss: 0.6307 - acc: 0.9514 - val_loss: 10.5185 - val_acc: 0.2882\n",
      "Epoch 60/100\n",
      "288/288 [==============================] - 0s 2ms/sample - loss: 0.4946 - acc: 0.9618 - val_loss: 10.6726 - val_acc: 0.2882\n"
     ]
    },
    {
     "name": "stdout",
     "output_type": "stream",
     "text": [
      "Epoch 61/100\n",
      "288/288 [==============================] - 1s 2ms/sample - loss: 0.5934 - acc: 0.9549 - val_loss: 10.7970 - val_acc: 0.2778\n",
      "Epoch 62/100\n",
      "288/288 [==============================] - 0s 2ms/sample - loss: 0.4675 - acc: 0.9618 - val_loss: 10.6436 - val_acc: 0.2778\n",
      "Epoch 63/100\n",
      "288/288 [==============================] - 1s 2ms/sample - loss: 0.4750 - acc: 0.9688 - val_loss: 10.4722 - val_acc: 0.2847\n",
      "Epoch 64/100\n",
      "288/288 [==============================] - 1s 2ms/sample - loss: 0.6529 - acc: 0.9444 - val_loss: 10.4727 - val_acc: 0.2951\n",
      "Epoch 65/100\n",
      "288/288 [==============================] - 1s 2ms/sample - loss: 0.5205 - acc: 0.9583 - val_loss: 10.3008 - val_acc: 0.2986\n",
      "Epoch 66/100\n",
      "288/288 [==============================] - 1s 2ms/sample - loss: 0.5008 - acc: 0.9618 - val_loss: 10.2552 - val_acc: 0.3056\n",
      "Epoch 67/100\n",
      "288/288 [==============================] - 1s 2ms/sample - loss: 0.6083 - acc: 0.9514 - val_loss: 10.4266 - val_acc: 0.3056\n",
      "Epoch 68/100\n",
      "288/288 [==============================] - 1s 2ms/sample - loss: 0.6137 - acc: 0.9549 - val_loss: 10.3122 - val_acc: 0.2951\n",
      "Epoch 69/100\n",
      "288/288 [==============================] - 1s 2ms/sample - loss: 0.5597 - acc: 0.9549 - val_loss: 10.4647 - val_acc: 0.2812\n",
      "Epoch 70/100\n",
      "288/288 [==============================] - 1s 2ms/sample - loss: 0.5524 - acc: 0.9549 - val_loss: 10.4159 - val_acc: 0.2674\n",
      "Epoch 71/100\n",
      "288/288 [==============================] - 1s 2ms/sample - loss: 0.5854 - acc: 0.9549 - val_loss: 10.4635 - val_acc: 0.2986\n",
      "Epoch 72/100\n",
      "288/288 [==============================] - 1s 2ms/sample - loss: 0.5141 - acc: 0.9583 - val_loss: 10.4488 - val_acc: 0.3056\n",
      "Epoch 73/100\n",
      "288/288 [==============================] - 1s 2ms/sample - loss: 0.4684 - acc: 0.9618 - val_loss: 10.6126 - val_acc: 0.2986\n",
      "Epoch 74/100\n",
      "288/288 [==============================] - 1s 2ms/sample - loss: 0.4119 - acc: 0.9688 - val_loss: 10.7172 - val_acc: 0.2986\n",
      "Epoch 75/100\n",
      "288/288 [==============================] - 1s 2ms/sample - loss: 0.4755 - acc: 0.9583 - val_loss: 10.6160 - val_acc: 0.2847\n",
      "Epoch 76/100\n",
      "288/288 [==============================] - 1s 2ms/sample - loss: 0.5084 - acc: 0.9653 - val_loss: 10.7027 - val_acc: 0.2847\n",
      "Epoch 77/100\n",
      "288/288 [==============================] - 1s 2ms/sample - loss: 0.5814 - acc: 0.9618 - val_loss: 10.8252 - val_acc: 0.2812\n",
      "Epoch 78/100\n",
      "288/288 [==============================] - 1s 2ms/sample - loss: 0.5692 - acc: 0.9514 - val_loss: 10.8627 - val_acc: 0.2639\n",
      "Epoch 79/100\n",
      "288/288 [==============================] - 1s 2ms/sample - loss: 0.5281 - acc: 0.9653 - val_loss: 10.9725 - val_acc: 0.2535\n",
      "Epoch 80/100\n",
      "288/288 [==============================] - 1s 2ms/sample - loss: 0.7431 - acc: 0.9444 - val_loss: 11.0338 - val_acc: 0.2465\n",
      "Epoch 81/100\n",
      "288/288 [==============================] - 1s 2ms/sample - loss: 0.6960 - acc: 0.9514 - val_loss: 10.8837 - val_acc: 0.2639\n",
      "Epoch 82/100\n",
      "288/288 [==============================] - 1s 2ms/sample - loss: 0.6121 - acc: 0.9549 - val_loss: 10.9386 - val_acc: 0.2674\n",
      "Epoch 83/100\n",
      "288/288 [==============================] - 1s 2ms/sample - loss: 0.4182 - acc: 0.9722 - val_loss: 10.9340 - val_acc: 0.2743\n",
      "Epoch 84/100\n",
      "288/288 [==============================] - 1s 2ms/sample - loss: 0.3963 - acc: 0.9688 - val_loss: 10.7598 - val_acc: 0.2778\n",
      "Epoch 85/100\n",
      "288/288 [==============================] - 1s 2ms/sample - loss: 0.4011 - acc: 0.9722 - val_loss: 10.7784 - val_acc: 0.2847\n",
      "Epoch 86/100\n",
      "288/288 [==============================] - 1s 2ms/sample - loss: 0.5057 - acc: 0.9583 - val_loss: 10.7888 - val_acc: 0.2812\n",
      "Epoch 87/100\n",
      "288/288 [==============================] - 1s 2ms/sample - loss: 0.4872 - acc: 0.9618 - val_loss: 10.8733 - val_acc: 0.2569\n",
      "Epoch 88/100\n",
      "288/288 [==============================] - 1s 2ms/sample - loss: 0.6337 - acc: 0.9514 - val_loss: 10.8196 - val_acc: 0.2569\n",
      "Epoch 89/100\n",
      "288/288 [==============================] - 0s 1ms/sample - loss: 0.3766 - acc: 0.9688 - val_loss: 10.8598 - val_acc: 0.2639\n",
      "Epoch 90/100\n",
      "288/288 [==============================] - 0s 2ms/sample - loss: 0.4404 - acc: 0.9653 - val_loss: 10.9224 - val_acc: 0.2639\n",
      "Epoch 91/100\n",
      "288/288 [==============================] - 1s 2ms/sample - loss: 0.4468 - acc: 0.9688 - val_loss: 11.0098 - val_acc: 0.2674\n",
      "Epoch 92/100\n",
      "288/288 [==============================] - 1s 2ms/sample - loss: 0.3747 - acc: 0.9688 - val_loss: 10.9488 - val_acc: 0.2812\n",
      "Epoch 93/100\n",
      "288/288 [==============================] - 0s 2ms/sample - loss: 0.3919 - acc: 0.9757 - val_loss: 10.8958 - val_acc: 0.2778\n",
      "Epoch 94/100\n",
      "288/288 [==============================] - 0s 1ms/sample - loss: 0.3585 - acc: 0.9722 - val_loss: 10.7944 - val_acc: 0.2847\n",
      "Epoch 95/100\n",
      "288/288 [==============================] - 0s 2ms/sample - loss: 0.3420 - acc: 0.9757 - val_loss: 10.7937 - val_acc: 0.2743\n",
      "Epoch 96/100\n",
      "288/288 [==============================] - 1s 2ms/sample - loss: 0.3359 - acc: 0.9792 - val_loss: 10.6720 - val_acc: 0.2812\n",
      "Epoch 97/100\n",
      "288/288 [==============================] - 1s 2ms/sample - loss: 0.4241 - acc: 0.9688 - val_loss: 10.8106 - val_acc: 0.2639\n",
      "Epoch 98/100\n",
      "288/288 [==============================] - 1s 2ms/sample - loss: 0.3359 - acc: 0.9792 - val_loss: 10.8930 - val_acc: 0.2604\n",
      "Epoch 99/100\n",
      "288/288 [==============================] - 0s 1ms/sample - loss: 0.4229 - acc: 0.9688 - val_loss: 10.9123 - val_acc: 0.2604\n",
      "Epoch 100/100\n",
      "288/288 [==============================] - 0s 2ms/sample - loss: 0.3358 - acc: 0.9792 - val_loss: 10.9187 - val_acc: 0.2639\n"
     ]
    }
   ],
   "source": [
    "history = model.fit(x_train, y_train, epochs=100, batch_size=18, validation_data=(x_test, y_test))"
   ]
  },
  {
   "cell_type": "code",
   "execution_count": 12,
   "metadata": {},
   "outputs": [
    {
     "name": "stdout",
     "output_type": "stream",
     "text": [
      "288/288 [==============================] - 0s 511us/sample - loss: 10.9187 - acc: 0.2639\n",
      "Test loss: 10.918713251749674\n",
      "Test accuracy: 0.2638889\n"
     ]
    }
   ],
   "source": [
    "test_loss, test_acc = model.evaluate(x_test, y_test)\n",
    "print('Test loss:', test_loss)\n",
    "print('Test accuracy:', test_acc)"
   ]
  },
  {
   "cell_type": "code",
   "execution_count": 13,
   "metadata": {},
   "outputs": [
    {
     "data": {
      "image/png": "[encoded data removed]",
      "text/plain": [
       "<Figure size 432x288 with 1 Axes>"
      ]
     },
     "metadata": {
      "needs_background": "light"
     },
     "output_type": "display_data"
    }
   ],
   "source": [
    "plt.plot(history.history['acc'])\n",
    "plt.plot(history.history['val_acc'])\n",
    "plt.grid()\n",
    "plt.xlabel('Epochs')\n",
    "plt.ylabel('Accuracy')\n",
    "plt.legend(['train', 'test'])\n",
    "plt.show()"
   ]
  },
  {
   "cell_type": "code",
   "execution_count": 14,
   "metadata": {},
   "outputs": [
    {
     "data": {
      "image/png": "[encoded data removed]",
      "text/plain": [
       "<Figure size 432x288 with 1 Axes>"
      ]
     },
     "metadata": {
      "needs_background": "light"
     },
     "output_type": "display_data"
    }
   ],
   "source": [
    "plt.plot(history.history['loss'])\n",
    "plt.plot(history.history['val_loss'])\n",
    "plt.grid()\n",
    "plt.xlabel('Epochs')\n",
    "plt.ylabel('Cross-Entropy')\n",
    "plt.legend(['train', 'test'])\n",
    "plt.show()"
   ]
  },
  {
   "cell_type": "code",
   "execution_count": 15,
   "metadata": {},
   "outputs": [],
   "source": [
    "probabilidades = model.predict(x_test)\n",
    "y_pred = np.argmax(probabilidades, 1) #1=fila"
   ]
  },
  {
   "cell_type": "code",
   "execution_count": 16,
   "metadata": {},
   "outputs": [
    {
     "name": "stdout",
     "output_type": "stream",
     "text": [
      "0.01851851851851849\n"
     ]
    }
   ],
   "source": [
    "kappa = cohen_kappa_score(y_test, y_pred)\n",
    "print(kappa)"
   ]
  },
  {
   "cell_type": "code",
   "execution_count": 17,
   "metadata": {},
   "outputs": [
    {
     "name": "stdout",
     "output_type": "stream",
     "text": [
      "[[16 19 21 16]\n",
      " [23 14 12 23]\n",
      " [22  8 26 16]\n",
      " [23 14 15 20]]\n"
     ]
    }
   ],
   "source": [
    "matrizConfusion = confusion_matrix(y_test, y_pred)\n",
    "print(matrizConfusion)"
   ]
  },
  {
   "cell_type": "code",
   "execution_count": 18,
   "metadata": {},
   "outputs": [
    {
     "name": "stdout",
     "output_type": "stream",
     "text": [
      "              precision    recall  f1-score   support\n",
      "\n",
      "           0       0.19      0.22      0.21        72\n",
      "           1       0.25      0.19      0.22        72\n",
      "           2       0.35      0.36      0.36        72\n",
      "           3       0.27      0.28      0.27        72\n",
      "\n",
      "   micro avg       0.26      0.26      0.26       288\n",
      "   macro avg       0.27      0.26      0.26       288\n",
      "weighted avg       0.27      0.26      0.26       288\n",
      "\n"
     ]
    }
   ],
   "source": [
    "reporteClassificacion = classification_report(y_test, y_pred)\n",
    "print(reporteClassificacion)"
   ]
  }
 ],
 "metadata": {
  "kernelspec": {
   "display_name": "Python 3",
   "language": "python",
   "name": "python3"
  },
  "language_info": {
   "codemirror_mode": {
    "name": "ipython",
    "version": 3
   },
   "file_extension": ".py",
   "mimetype": "text/x-python",
   "name": "python",
   "nbconvert_exporter": "python",
   "pygments_lexer": "ipython3",
   "version": "3.7.3"
  }
 },
 "nbformat": 4,
 "nbformat_minor": 2
}

{
 "cells": [
  {
   "cell_type": "markdown",
   "metadata": {},
   "source": [
    "### Edgar Moises Hernandez-Gonzalez\n",
    "#### 16/11/19-19/11/19\n",
    "#### Clasificar RAW con Conv-LSTM-2D"
   ]
  },
  {
   "cell_type": "code",
   "execution_count": 1,
   "metadata": {},
   "outputs": [],
   "source": [
    "import numpy as np\n",
    "import pandas as pd\n",
    "import matplotlib.pyplot as plt\n",
    "from sklearn.preprocessing import StandardScaler, LabelEncoder\n",
    "from tensorflow.keras.models import Sequential\n",
    "from tensorflow.keras.layers import ConvLSTM2D, Dropout, Flatten, Dense\n",
    "from sklearn.metrics import cohen_kappa_score, confusion_matrix, classification_report"
   ]
  },
  {
   "cell_type": "code",
   "execution_count": 2,
   "metadata": {},
   "outputs": [],
   "source": [
    "x_train = pd.read_csv(\"MI-EEG-A01T.csv\", header=None)\n",
    "x_test = pd.read_csv(\"MI-EEG-A01E.csv\", header=None)\n",
    "y_train = pd.read_csv(\"EtiquetasA01T.csv\", header=None)\n",
    "y_test = pd.read_csv(\"EtiquetasA01E.csv\", header=None)"
   ]
  },
  {
   "cell_type": "code",
   "execution_count": 3,
   "metadata": {},
   "outputs": [
    {
     "name": "stdout",
     "output_type": "stream",
     "text": [
      "(288, 22000)\n",
      "(288, 22000)\n",
      "(288, 1)\n",
      "(288, 1)\n"
     ]
    }
   ],
   "source": [
    "print(x_train.shape)\n",
    "print(x_test.shape)\n",
    "print(y_train.shape)\n",
    "print(y_test.shape)"
   ]
  },
  {
   "cell_type": "code",
   "execution_count": 4,
   "metadata": {},
   "outputs": [
    {
     "name": "stdout",
     "output_type": "stream",
     "text": [
      "n_samples_train: 288\n",
      "n_samples_test : 288\n"
     ]
    }
   ],
   "source": [
    "n_samples_train = len(y_train)\n",
    "n_samples_test = len(y_test) #en caso de no tener el y_test se puede utilizar el x_test\n",
    "\n",
    "print(\"n_samples_train:\", n_samples_train)\n",
    "print(\"n_samples_test :\", n_samples_test)"
   ]
  },
  {
   "cell_type": "code",
   "execution_count": 5,
   "metadata": {},
   "outputs": [
    {
     "name": "stdout",
     "output_type": "stream",
     "text": [
      "n_classes: 4\n"
     ]
    }
   ],
   "source": [
    "n_classes = len(np.unique(y_test)) #esto se podria calcular asi n_clases = len(np.unique(y)), la y puede ser train o test\n",
    "\n",
    "print(\"n_classes:\", n_classes)"
   ]
  },
  {
   "cell_type": "code",
   "execution_count": 6,
   "metadata": {},
   "outputs": [],
   "source": [
    "#escalar los datos para que tengan media = 0 y desviacion estandar = 1\n",
    "scaler = StandardScaler().fit(x_train)\n",
    "x_train = scaler.transform(x_train)\n",
    "x_test = scaler.transform(x_test)"
   ]
  },
  {
   "cell_type": "code",
   "execution_count": 7,
   "metadata": {},
   "outputs": [
    {
     "name": "stderr",
     "output_type": "stream",
     "text": [
      "C:\\Users\\EdgarMoises\\Anaconda3\\lib\\site-packages\\sklearn\\preprocessing\\label.py:219: DataConversionWarning: A column-vector y was passed when a 1d array was expected. Please change the shape of y to (n_samples, ), for example using ravel().\n",
      "  y = column_or_1d(y, warn=True)\n",
      "C:\\Users\\EdgarMoises\\Anaconda3\\lib\\site-packages\\sklearn\\preprocessing\\label.py:252: DataConversionWarning: A column-vector y was passed when a 1d array was expected. Please change the shape of y to (n_samples, ), for example using ravel().\n",
      "  y = column_or_1d(y, warn=True)\n"
     ]
    }
   ],
   "source": [
    "#codificar etiquetas con valores de 0 a nClases-1\n",
    "le = LabelEncoder().fit(y_train)\n",
    "y_train = le.transform(y_train)\n",
    "y_test = le.transform(y_test)"
   ]
  },
  {
   "cell_type": "code",
   "execution_count": 8,
   "metadata": {},
   "outputs": [
    {
     "name": "stdout",
     "output_type": "stream",
     "text": [
      "(288, 1, 1, 1000, 22)\n",
      "(288, 1, 1, 1000, 22)\n"
     ]
    }
   ],
   "source": [
    "#convertir de 2D a 5D\n",
    "x_train = x_train.reshape((n_samples_train, 1, 1, 1000, 22))\n",
    "x_test = x_test.reshape((n_samples_test, 1, 1, 1000, 22))\n",
    "\n",
    "print(x_train.shape)\n",
    "print(x_test.shape)"
   ]
  },
  {
   "cell_type": "code",
   "execution_count": 9,
   "metadata": {},
   "outputs": [
    {
     "name": "stdout",
     "output_type": "stream",
     "text": [
      "WARNING:tensorflow:From C:\\Users\\EdgarMoises\\Anaconda3\\lib\\site-packages\\tensorflow\\python\\ops\\resource_variable_ops.py:435: colocate_with (from tensorflow.python.framework.ops) is deprecated and will be removed in a future version.\n",
      "Instructions for updating:\n",
      "Colocations handled automatically by placer.\n",
      "WARNING:tensorflow:From C:\\Users\\EdgarMoises\\Anaconda3\\lib\\site-packages\\tensorflow\\python\\keras\\layers\\core.py:143: calling dropout (from tensorflow.python.ops.nn_ops) with keep_prob is deprecated and will be removed in a future version.\n",
      "Instructions for updating:\n",
      "Please use `rate` instead of `keep_prob`. Rate should be set to `rate = 1 - keep_prob`.\n"
     ]
    }
   ],
   "source": [
    "model = Sequential()\n",
    "model.add(ConvLSTM2D(128, (1,7), activation='relu', input_shape=(1,1,1000,22)))\n",
    "model.add(Dropout(0.5))\n",
    "model.add(Flatten())\n",
    "model.add(Dense(64, activation='relu'))\n",
    "model.add(Dropout(0.2))\n",
    "model.add(Dense(n_classes, activation='softmax'))"
   ]
  },
  {
   "cell_type": "code",
   "execution_count": 10,
   "metadata": {},
   "outputs": [
    {
     "name": "stdout",
     "output_type": "stream",
     "text": [
      "_________________________________________________________________\n",
      "Layer (type)                 Output Shape              Param #   \n",
      "=================================================================\n",
      "conv_lst_m2d (ConvLSTM2D)    (None, 1, 994, 128)       538112    \n",
      "_________________________________________________________________\n",
      "dropout (Dropout)            (None, 1, 994, 128)       0         \n",
      "_________________________________________________________________\n",
      "flatten (Flatten)            (None, 127232)            0         \n",
      "_________________________________________________________________\n",
      "dense (Dense)                (None, 64)                8142912   \n",
      "_________________________________________________________________\n",
      "dropout_1 (Dropout)          (None, 64)                0         \n",
      "_________________________________________________________________\n",
      "dense_1 (Dense)              (None, 4)                 260       \n",
      "=================================================================\n",
      "Total params: 8,681,284\n",
      "Trainable params: 8,681,284\n",
      "Non-trainable params: 0\n",
      "_________________________________________________________________\n"
     ]
    }
   ],
   "source": [
    "model.summary()"
   ]
  },
  {
   "cell_type": "code",
   "execution_count": 11,
   "metadata": {},
   "outputs": [],
   "source": [
    "model.compile(optimizer='adam',\n",
    "              loss='sparse_categorical_crossentropy',\n",
    "              metrics=['accuracy'])"
   ]
  },
  {
   "cell_type": "code",
   "execution_count": 12,
   "metadata": {},
   "outputs": [
    {
     "name": "stdout",
     "output_type": "stream",
     "text": [
      "Train on 288 samples, validate on 288 samples\n",
      "Epoch 1/20\n",
      "288/288 [==============================] - 9s 32ms/sample - loss: 1.7790 - acc: 0.2812 - val_loss: 1.4132 - val_acc: 0.2431\n",
      "Epoch 2/20\n",
      "288/288 [==============================] - 14s 47ms/sample - loss: 1.2797 - acc: 0.4653 - val_loss: 1.3857 - val_acc: 0.3125\n",
      "Epoch 3/20\n",
      "288/288 [==============================] - 16s 56ms/sample - loss: 1.1016 - acc: 0.6424 - val_loss: 1.4469 - val_acc: 0.2743\n",
      "Epoch 4/20\n",
      "288/288 [==============================] - 18s 63ms/sample - loss: 0.8024 - acc: 0.7361 - val_loss: 1.6200 - val_acc: 0.2951\n",
      "Epoch 5/20\n",
      "288/288 [==============================] - 18s 63ms/sample - loss: 0.5683 - acc: 0.7917 - val_loss: 1.7476 - val_acc: 0.3507\n",
      "Epoch 6/20\n",
      "288/288 [==============================] - 18s 63ms/sample - loss: 0.3191 - acc: 0.8854 - val_loss: 2.2071 - val_acc: 0.3090\n",
      "Epoch 7/20\n",
      "288/288 [==============================] - 18s 63ms/sample - loss: 0.2898 - acc: 0.8958 - val_loss: 2.2714 - val_acc: 0.3542\n",
      "Epoch 8/20\n",
      "288/288 [==============================] - 18s 63ms/sample - loss: 0.2764 - acc: 0.8681 - val_loss: 2.8151 - val_acc: 0.3368\n",
      "Epoch 9/20\n",
      "288/288 [==============================] - 18s 63ms/sample - loss: 0.1867 - acc: 0.9236 - val_loss: 2.8246 - val_acc: 0.3194\n",
      "Epoch 10/20\n",
      "288/288 [==============================] - 18s 63ms/sample - loss: 0.2332 - acc: 0.8924 - val_loss: 2.7135 - val_acc: 0.3160\n",
      "Epoch 11/20\n",
      "288/288 [==============================] - 18s 63ms/sample - loss: 0.2807 - acc: 0.8819 - val_loss: 2.7166 - val_acc: 0.3021\n",
      "Epoch 12/20\n",
      "288/288 [==============================] - 18s 63ms/sample - loss: 0.2599 - acc: 0.8785 - val_loss: 2.2546 - val_acc: 0.3056\n",
      "Epoch 13/20\n",
      "288/288 [==============================] - 18s 63ms/sample - loss: 0.2214 - acc: 0.9097 - val_loss: 3.2613 - val_acc: 0.3194\n",
      "Epoch 14/20\n",
      "288/288 [==============================] - 18s 63ms/sample - loss: 0.2220 - acc: 0.9167 - val_loss: 2.7120 - val_acc: 0.2674\n",
      "Epoch 15/20\n",
      "288/288 [==============================] - 18s 63ms/sample - loss: 0.1938 - acc: 0.8924 - val_loss: 3.0902 - val_acc: 0.3194\n",
      "Epoch 16/20\n",
      "288/288 [==============================] - 18s 63ms/sample - loss: 0.1735 - acc: 0.9201 - val_loss: 3.3623 - val_acc: 0.3125\n",
      "Epoch 17/20\n",
      "288/288 [==============================] - 18s 63ms/sample - loss: 0.2243 - acc: 0.8958 - val_loss: 2.7502 - val_acc: 0.2708\n",
      "Epoch 18/20\n",
      "288/288 [==============================] - 18s 63ms/sample - loss: 0.1573 - acc: 0.9306 - val_loss: 3.2042 - val_acc: 0.3299\n",
      "Epoch 19/20\n",
      "288/288 [==============================] - 18s 63ms/sample - loss: 0.2326 - acc: 0.8819 - val_loss: 3.9533 - val_acc: 0.2917\n",
      "Epoch 20/20\n",
      "288/288 [==============================] - 18s 63ms/sample - loss: 0.2200 - acc: 0.8958 - val_loss: 3.1649 - val_acc: 0.3438\n"
     ]
    }
   ],
   "source": [
    "history = model.fit(x_train, y_train, epochs=20, batch_size=18, validation_data=(x_test, y_test))"
   ]
  },
  {
   "cell_type": "code",
   "execution_count": 13,
   "metadata": {},
   "outputs": [
    {
     "name": "stdout",
     "output_type": "stream",
     "text": [
      "288/288 [==============================] - 3s 12ms/sample - loss: 3.1649 - acc: 0.3438\n",
      "Test loss: 3.164940701590644\n",
      "Test accuracy: 0.34375\n"
     ]
    }
   ],
   "source": [
    "test_loss, test_acc = model.evaluate(x_test, y_test)\n",
    "print('Test loss:', test_loss)\n",
    "print('Test accuracy:', test_acc)"
   ]
  },
  {
   "cell_type": "code",
   "execution_count": 14,
   "metadata": {},
   "outputs": [
    {
     "data": {
      "image/png": "[encoded data removed]",
      "text/plain": [
       "<Figure size 432x288 with 1 Axes>"
      ]
     },
     "metadata": {
      "needs_background": "light"
     },
     "output_type": "display_data"
    }
   ],
   "source": [
    "plt.plot(history.history['acc'])\n",
    "plt.plot(history.history['val_acc'])\n",
    "plt.grid()\n",
    "plt.xlabel('Epochs')\n",
    "plt.ylabel('Accuracy')\n",
    "plt.legend(['train', 'test'])\n",
    "plt.show()"
   ]
  },
  {
   "cell_type": "code",
   "execution_count": 15,
   "metadata": {},
   "outputs": [
    {
     "data": {
      "image/png": "[encoded data removed]",
      "text/plain": [
       "<Figure size 432x288 with 1 Axes>"
      ]
     },
     "metadata": {
      "needs_background": "light"
     },
     "output_type": "display_data"
    }
   ],
   "source": [
    "plt.plot(history.history['loss'])\n",
    "plt.plot(history.history['val_loss'])\n",
    "plt.grid()\n",
    "plt.xlabel('Epochs')\n",
    "plt.ylabel('Cross-Entropy')\n",
    "plt.legend(['train', 'test'])\n",
    "plt.show()"
   ]
  },
  {
   "cell_type": "code",
   "execution_count": 16,
   "metadata": {},
   "outputs": [],
   "source": [
    "probabilidades = model.predict(x_test)\n",
    "y_pred = np.argmax(probabilidades, 1) #1=fila"
   ]
  },
  {
   "cell_type": "code",
   "execution_count": 17,
   "metadata": {},
   "outputs": [
    {
     "name": "stdout",
     "output_type": "stream",
     "text": [
      "0.125\n"
     ]
    }
   ],
   "source": [
    "kappa = cohen_kappa_score(y_test, y_pred)\n",
    "print(kappa)"
   ]
  },
  {
   "cell_type": "code",
   "execution_count": 18,
   "metadata": {},
   "outputs": [
    {
     "name": "stdout",
     "output_type": "stream",
     "text": [
      "[[11 41  7 13]\n",
      " [11 41  4 16]\n",
      " [ 6 28 17 21]\n",
      " [ 7 22 13 30]]\n"
     ]
    }
   ],
   "source": [
    "matrizConfusion = confusion_matrix(y_test, y_pred)\n",
    "print(matrizConfusion)"
   ]
  },
  {
   "cell_type": "code",
   "execution_count": 19,
   "metadata": {},
   "outputs": [
    {
     "name": "stdout",
     "output_type": "stream",
     "text": [
      "              precision    recall  f1-score   support\n",
      "\n",
      "           0       0.31      0.15      0.21        72\n",
      "           1       0.31      0.57      0.40        72\n",
      "           2       0.41      0.24      0.30        72\n",
      "           3       0.38      0.42      0.39        72\n",
      "\n",
      "   micro avg       0.34      0.34      0.34       288\n",
      "   macro avg       0.35      0.34      0.33       288\n",
      "weighted avg       0.35      0.34      0.33       288\n",
      "\n"
     ]
    }
   ],
   "source": [
    "reporteClassificacion = classification_report(y_test, y_pred)\n",
    "print(reporteClassificacion)"
   ]
  }
 ],
 "metadata": {
  "kernelspec": {
   "display_name": "Python 3",
   "language": "python",
   "name": "python3"
  },
  "language_info": {
   "codemirror_mode": {
    "name": "ipython",
    "version": 3
   },
   "file_extension": ".py",
   "mimetype": "text/x-python",
   "name": "python",
   "nbconvert_exporter": "python",
   "pygments_lexer": "ipython3",
   "version": "3.7.3"
  }
 },
 "nbformat": 4,
 "nbformat_minor": 2
}

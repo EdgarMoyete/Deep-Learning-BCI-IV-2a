{
 "cells": [
  {
   "cell_type": "code",
   "execution_count": null,
   "metadata": {},
   "outputs": [],
   "source": [
    "#Edgar Moises Hernandez-Gonzalez\n",
    "#06/11/19\n",
    "#Clasificar RAW con CNN"
   ]
  },
  {
   "cell_type": "code",
   "execution_count": 1,
   "metadata": {},
   "outputs": [],
   "source": [
    "import numpy as np #se utiliza para calcular el numero de clases\n",
    "import pandas as pd\n",
    "import matplotlib.pyplot as plt\n",
    "from sklearn.preprocessing import StandardScaler, LabelEncoder\n",
    "from tensorflow.keras.models import Sequential\n",
    "from tensorflow.keras.layers import Conv2D, MaxPool2D, Flatten, Dense, Dropout\n",
    "from sklearn.metrics import cohen_kappa_score, confusion_matrix, classification_report"
   ]
  },
  {
   "cell_type": "code",
   "execution_count": 2,
   "metadata": {},
   "outputs": [],
   "source": [
    "x_train = pd.read_csv(\"MI-EEG-A01T.csv\", header=None)\n",
    "x_test = pd.read_csv(\"MI-EEG-A01E.csv\", header=None)\n",
    "y_train = pd.read_csv(\"EtiquetasA01T.csv\", header=None)\n",
    "y_test = pd.read_csv(\"EtiquetasA01E.csv\", header=None)"
   ]
  },
  {
   "cell_type": "code",
   "execution_count": 3,
   "metadata": {},
   "outputs": [
    {
     "name": "stdout",
     "output_type": "stream",
     "text": [
      "(288, 22000)\n",
      "(288, 22000)\n",
      "(288, 1)\n",
      "(288, 1)\n"
     ]
    }
   ],
   "source": [
    "print(x_train.shape)\n",
    "print(x_test.shape)\n",
    "print(y_train.shape)\n",
    "print(y_test.shape)"
   ]
  },
  {
   "cell_type": "code",
   "execution_count": 4,
   "metadata": {},
   "outputs": [
    {
     "name": "stdout",
     "output_type": "stream",
     "text": [
      "n_samples_train: 288\n",
      "n_samples_test : 288\n"
     ]
    }
   ],
   "source": [
    "n_samples_train = len(y_train)\n",
    "n_samples_test = len(y_test) #en caso de no tener el y_test se puede utilizar el x_test\n",
    "\n",
    "print(\"n_samples_train:\", n_samples_train)\n",
    "print(\"n_samples_test :\", n_samples_test)"
   ]
  },
  {
   "cell_type": "code",
   "execution_count": 5,
   "metadata": {},
   "outputs": [
    {
     "name": "stdout",
     "output_type": "stream",
     "text": [
      "n_classes: 4\n"
     ]
    }
   ],
   "source": [
    "n_classes = len(np.unique(y_test)) #esto se podria calcular asi n_clases = len(np.unique(y)), la y puede ser train o test\n",
    "\n",
    "print(\"n_classes:\", n_classes)"
   ]
  },
  {
   "cell_type": "code",
   "execution_count": 6,
   "metadata": {},
   "outputs": [],
   "source": [
    "#escalar los datos para que tengan media = 0 y desviacion estandar = 1\n",
    "scaler = StandardScaler().fit(x_train)\n",
    "x_train = scaler.transform(x_train)\n",
    "x_test = scaler.transform(x_test)"
   ]
  },
  {
   "cell_type": "code",
   "execution_count": 7,
   "metadata": {},
   "outputs": [
    {
     "name": "stderr",
     "output_type": "stream",
     "text": [
      "C:\\Users\\EdgarMoises\\Anaconda3\\lib\\site-packages\\sklearn\\preprocessing\\label.py:219: DataConversionWarning: A column-vector y was passed when a 1d array was expected. Please change the shape of y to (n_samples, ), for example using ravel().\n",
      "  y = column_or_1d(y, warn=True)\n",
      "C:\\Users\\EdgarMoises\\Anaconda3\\lib\\site-packages\\sklearn\\preprocessing\\label.py:252: DataConversionWarning: A column-vector y was passed when a 1d array was expected. Please change the shape of y to (n_samples, ), for example using ravel().\n",
      "  y = column_or_1d(y, warn=True)\n"
     ]
    }
   ],
   "source": [
    "#codificar etiquetas con valores de 0 a nClases-1\n",
    "le = LabelEncoder().fit(y_train)\n",
    "y_train = le.transform(y_train)\n",
    "y_test = le.transform(y_test)"
   ]
  },
  {
   "cell_type": "code",
   "execution_count": 8,
   "metadata": {},
   "outputs": [
    {
     "name": "stdout",
     "output_type": "stream",
     "text": [
      "(288, 22, 1000, 1)\n",
      "(288, 22, 1000, 1)\n"
     ]
    }
   ],
   "source": [
    "#convertir de 2D a 4D\n",
    "x_train = x_train.reshape((n_samples_train, 22, 1000, 1))\n",
    "x_test = x_test.reshape((n_samples_test, 22, 1000, 1))\n",
    "\n",
    "print(x_train.shape)\n",
    "print(x_test.shape)"
   ]
  },
  {
   "cell_type": "code",
   "execution_count": 9,
   "metadata": {},
   "outputs": [
    {
     "name": "stdout",
     "output_type": "stream",
     "text": [
      "WARNING:tensorflow:From C:\\Users\\EdgarMoises\\Anaconda3\\lib\\site-packages\\tensorflow\\python\\ops\\resource_variable_ops.py:435: colocate_with (from tensorflow.python.framework.ops) is deprecated and will be removed in a future version.\n",
      "Instructions for updating:\n",
      "Colocations handled automatically by placer.\n",
      "WARNING:tensorflow:From C:\\Users\\EdgarMoises\\Anaconda3\\lib\\site-packages\\tensorflow\\python\\keras\\layers\\core.py:143: calling dropout (from tensorflow.python.ops.nn_ops) with keep_prob is deprecated and will be removed in a future version.\n",
      "Instructions for updating:\n",
      "Please use `rate` instead of `keep_prob`. Rate should be set to `rate = 1 - keep_prob`.\n"
     ]
    }
   ],
   "source": [
    "model = Sequential()\n",
    "model.add(Conv2D(32, (3,3), activation='relu', input_shape=(22,1000,1)))\n",
    "model.add(MaxPool2D((2,2)))\n",
    "model.add(Conv2D(64, (3,3), activation='relu'))\n",
    "model.add(MaxPool2D((2,2)))\n",
    "model.add(Flatten())\n",
    "model.add(Dense(128, activation='relu'))\n",
    "model.add(Dropout(0.5))\n",
    "model.add(Dense(n_classes, activation='softmax'))"
   ]
  },
  {
   "cell_type": "code",
   "execution_count": 10,
   "metadata": {},
   "outputs": [
    {
     "name": "stdout",
     "output_type": "stream",
     "text": [
      "_________________________________________________________________\n",
      "Layer (type)                 Output Shape              Param #   \n",
      "=================================================================\n",
      "conv2d (Conv2D)              (None, 20, 998, 32)       320       \n",
      "_________________________________________________________________\n",
      "max_pooling2d (MaxPooling2D) (None, 10, 499, 32)       0         \n",
      "_________________________________________________________________\n",
      "conv2d_1 (Conv2D)            (None, 8, 497, 64)        18496     \n",
      "_________________________________________________________________\n",
      "max_pooling2d_1 (MaxPooling2 (None, 4, 248, 64)        0         \n",
      "_________________________________________________________________\n",
      "flatten (Flatten)            (None, 63488)             0         \n",
      "_________________________________________________________________\n",
      "dense (Dense)                (None, 128)               8126592   \n",
      "_________________________________________________________________\n",
      "dropout (Dropout)            (None, 128)               0         \n",
      "_________________________________________________________________\n",
      "dense_1 (Dense)              (None, 4)                 516       \n",
      "=================================================================\n",
      "Total params: 8,145,924\n",
      "Trainable params: 8,145,924\n",
      "Non-trainable params: 0\n",
      "_________________________________________________________________\n"
     ]
    }
   ],
   "source": [
    "model.summary()"
   ]
  },
  {
   "cell_type": "code",
   "execution_count": 11,
   "metadata": {},
   "outputs": [],
   "source": [
    "model.compile(optimizer='adam',\n",
    "              loss='sparse_categorical_crossentropy',\n",
    "              metrics=['accuracy'])"
   ]
  },
  {
   "cell_type": "code",
   "execution_count": 12,
   "metadata": {},
   "outputs": [
    {
     "name": "stdout",
     "output_type": "stream",
     "text": [
      "Train on 288 samples, validate on 288 samples\n",
      "Epoch 1/20\n",
      "288/288 [==============================] - 3s 12ms/sample - loss: 2.4340 - acc: 0.2326 - val_loss: 1.3858 - val_acc: 0.2882\n",
      "Epoch 2/20\n",
      "288/288 [==============================] - 2s 6ms/sample - loss: 1.3793 - acc: 0.3333 - val_loss: 1.3755 - val_acc: 0.2465\n",
      "Epoch 3/20\n",
      "288/288 [==============================] - 2s 6ms/sample - loss: 1.3114 - acc: 0.4201 - val_loss: 1.3664 - val_acc: 0.2986\n",
      "Epoch 4/20\n",
      "288/288 [==============================] - 2s 7ms/sample - loss: 1.1230 - acc: 0.5729 - val_loss: 1.2958 - val_acc: 0.3715\n",
      "Epoch 5/20\n",
      "288/288 [==============================] - 2s 8ms/sample - loss: 0.8291 - acc: 0.6736 - val_loss: 1.3762 - val_acc: 0.3264\n",
      "Epoch 6/20\n",
      "288/288 [==============================] - 2s 7ms/sample - loss: 0.6200 - acc: 0.7743 - val_loss: 1.4901 - val_acc: 0.3125\n",
      "Epoch 7/20\n",
      "288/288 [==============================] - 2s 8ms/sample - loss: 0.4717 - acc: 0.8264 - val_loss: 1.4153 - val_acc: 0.3715\n",
      "Epoch 8/20\n",
      "288/288 [==============================] - 3s 9ms/sample - loss: 0.2505 - acc: 0.9340 - val_loss: 1.4696 - val_acc: 0.4201\n",
      "Epoch 9/20\n",
      "288/288 [==============================] - 3s 9ms/sample - loss: 0.1741 - acc: 0.9479 - val_loss: 1.6203 - val_acc: 0.4028\n",
      "Epoch 10/20\n",
      "288/288 [==============================] - 3s 11ms/sample - loss: 0.1560 - acc: 0.9688 - val_loss: 1.6537 - val_acc: 0.4410\n",
      "Epoch 11/20\n",
      "288/288 [==============================] - 5s 18ms/sample - loss: 0.0858 - acc: 0.9826 - val_loss: 1.7750 - val_acc: 0.3958\n",
      "Epoch 12/20\n",
      "288/288 [==============================] - 5s 16ms/sample - loss: 0.0537 - acc: 0.9931 - val_loss: 2.0114 - val_acc: 0.4375\n",
      "Epoch 13/20\n",
      "288/288 [==============================] - 6s 20ms/sample - loss: 0.0297 - acc: 1.0000 - val_loss: 2.0527 - val_acc: 0.4167\n",
      "Epoch 14/20\n",
      "288/288 [==============================] - 6s 20ms/sample - loss: 0.0509 - acc: 0.9896 - val_loss: 2.1585 - val_acc: 0.4236\n",
      "Epoch 15/20\n",
      "288/288 [==============================] - 6s 20ms/sample - loss: 0.0479 - acc: 0.9792 - val_loss: 1.9686 - val_acc: 0.4201\n",
      "Epoch 16/20\n",
      "288/288 [==============================] - 6s 20ms/sample - loss: 0.0322 - acc: 0.9896 - val_loss: 2.0151 - val_acc: 0.4236\n",
      "Epoch 17/20\n",
      "288/288 [==============================] - 6s 20ms/sample - loss: 0.0267 - acc: 0.9965 - val_loss: 2.2441 - val_acc: 0.4271\n",
      "Epoch 18/20\n",
      "288/288 [==============================] - 6s 20ms/sample - loss: 0.0134 - acc: 1.0000 - val_loss: 2.3929 - val_acc: 0.4340\n",
      "Epoch 19/20\n",
      "288/288 [==============================] - 6s 20ms/sample - loss: 0.0172 - acc: 0.9931 - val_loss: 2.2376 - val_acc: 0.4444\n",
      "Epoch 20/20\n",
      "288/288 [==============================] - 6s 20ms/sample - loss: 0.0132 - acc: 1.0000 - val_loss: 2.3579 - val_acc: 0.4549\n"
     ]
    }
   ],
   "source": [
    "history = model.fit(x_train, y_train, epochs=20, batch_size=18, validation_data=(x_test, y_test))"
   ]
  },
  {
   "cell_type": "code",
   "execution_count": 13,
   "metadata": {},
   "outputs": [
    {
     "name": "stdout",
     "output_type": "stream",
     "text": [
      "288/288 [==============================] - 0s 2ms/sample - loss: 2.3579 - acc: 0.4549\n",
      "Test loss: 2.357861624823676\n",
      "Test accuracy: 0.4548611\n"
     ]
    }
   ],
   "source": [
    "test_loss, test_acc = model.evaluate(x_test, y_test)\n",
    "print('Test loss:', test_loss)\n",
    "print('Test accuracy:', test_acc)"
   ]
  },
  {
   "cell_type": "code",
   "execution_count": 14,
   "metadata": {},
   "outputs": [
    {
     "data": {
      "image/png": "[encoded data removed]",
      "text/plain": [
       "<Figure size 432x288 with 1 Axes>"
      ]
     },
     "metadata": {
      "needs_background": "light"
     },
     "output_type": "display_data"
    }
   ],
   "source": [
    "plt.plot(history.history['acc'])\n",
    "plt.plot(history.history['val_acc'])\n",
    "plt.grid()\n",
    "plt.xlabel('Epocas')\n",
    "plt.ylabel('Accuracy')\n",
    "plt.legend(['train', 'test'])\n",
    "plt.show()"
   ]
  },
  {
   "cell_type": "code",
   "execution_count": 15,
   "metadata": {},
   "outputs": [
    {
     "data": {
      "image/png": "[encoded data removed]",
      "text/plain": [
       "<Figure size 432x288 with 1 Axes>"
      ]
     },
     "metadata": {
      "needs_background": "light"
     },
     "output_type": "display_data"
    }
   ],
   "source": [
    "plt.plot(history.history['loss'])\n",
    "plt.plot(history.history['val_loss'])\n",
    "plt.grid()\n",
    "plt.xlabel('Epocas')\n",
    "plt.ylabel('Entropia Cruzada')\n",
    "plt.legend(['train', 'test'])\n",
    "plt.show()"
   ]
  },
  {
   "cell_type": "code",
   "execution_count": 16,
   "metadata": {},
   "outputs": [],
   "source": [
    "probabilidades = model.predict(x_test)\n",
    "y_pred = np.argmax(probabilidades, 1) #1=fila"
   ]
  },
  {
   "cell_type": "code",
   "execution_count": 17,
   "metadata": {},
   "outputs": [
    {
     "name": "stdout",
     "output_type": "stream",
     "text": [
      "0.27314814814814814\n"
     ]
    }
   ],
   "source": [
    "kappa = cohen_kappa_score(y_test, y_pred)\n",
    "print(kappa)"
   ]
  },
  {
   "cell_type": "code",
   "execution_count": 18,
   "metadata": {},
   "outputs": [
    {
     "name": "stdout",
     "output_type": "stream",
     "text": [
      "[[29 28  6  9]\n",
      " [26 37  3  6]\n",
      " [16  7 24 25]\n",
      " [10  5 16 41]]\n"
     ]
    }
   ],
   "source": [
    "matrizConfusion = confusion_matrix(y_test, y_pred)\n",
    "print(matrizConfusion)"
   ]
  },
  {
   "cell_type": "code",
   "execution_count": 19,
   "metadata": {},
   "outputs": [
    {
     "name": "stdout",
     "output_type": "stream",
     "text": [
      "              precision    recall  f1-score   support\n",
      "\n",
      "           0       0.36      0.40      0.38        72\n",
      "           1       0.48      0.51      0.50        72\n",
      "           2       0.49      0.33      0.40        72\n",
      "           3       0.51      0.57      0.54        72\n",
      "\n",
      "   micro avg       0.45      0.45      0.45       288\n",
      "   macro avg       0.46      0.45      0.45       288\n",
      "weighted avg       0.46      0.45      0.45       288\n",
      "\n"
     ]
    }
   ],
   "source": [
    "reporteClassificacion = classification_report(y_test, y_pred)\n",
    "print(reporteClassificacion)"
   ]
  }
 ],
 "metadata": {
  "kernelspec": {
   "display_name": "Python 3",
   "language": "python",
   "name": "python3"
  },
  "language_info": {
   "codemirror_mode": {
    "name": "ipython",
    "version": 3
   },
   "file_extension": ".py",
   "mimetype": "text/x-python",
   "name": "python",
   "nbconvert_exporter": "python",
   "pygments_lexer": "ipython3",
   "version": "3.7.3"
  }
 },
 "nbformat": 4,
 "nbformat_minor": 2
}

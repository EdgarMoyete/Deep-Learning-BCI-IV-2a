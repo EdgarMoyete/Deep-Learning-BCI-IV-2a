{
 "cells": [
  {
   "cell_type": "markdown",
   "metadata": {},
   "source": [
    "### Edgar Moises Hernandez-Gonzalez\n",
    "#### 19/11/19\n",
    "#### Clasificacion de RWE-DWT de MI-EEG con GRU"
   ]
  },
  {
   "cell_type": "code",
   "execution_count": 1,
   "metadata": {},
   "outputs": [],
   "source": [
    "import numpy as np\n",
    "import pandas as pd\n",
    "import matplotlib.pyplot as plt\n",
    "from sklearn.preprocessing import StandardScaler, LabelEncoder\n",
    "from tensorflow.keras.models import Sequential\n",
    "from tensorflow.keras.layers import GRU, Dense, Dropout\n",
    "from sklearn.metrics import cohen_kappa_score, confusion_matrix, classification_report"
   ]
  },
  {
   "cell_type": "code",
   "execution_count": 2,
   "metadata": {},
   "outputs": [],
   "source": [
    "x_train = pd.read_csv(\"MI-EEG-RWE-A01T.csv\", header=None)\n",
    "x_test = pd.read_csv(\"MI-EEG-RWE-A01E.csv\", header=None)\n",
    "y_train = pd.read_csv(\"EtiquetasA01T.csv\", header=None)\n",
    "y_test = pd.read_csv(\"EtiquetasA01E.csv\", header=None)"
   ]
  },
  {
   "cell_type": "code",
   "execution_count": 3,
   "metadata": {},
   "outputs": [
    {
     "name": "stdout",
     "output_type": "stream",
     "text": [
      "(288, 66)\n",
      "(288, 66)\n",
      "(288, 1)\n",
      "(288, 1)\n"
     ]
    }
   ],
   "source": [
    "print(x_train.shape)\n",
    "print(x_test.shape)\n",
    "print(y_train.shape)\n",
    "print(y_test.shape)"
   ]
  },
  {
   "cell_type": "code",
   "execution_count": 4,
   "metadata": {},
   "outputs": [
    {
     "name": "stdout",
     "output_type": "stream",
     "text": [
      "n_samples_train: 288\n",
      "n_samples_test : 288\n"
     ]
    }
   ],
   "source": [
    "n_samples_train = len(y_train)\n",
    "n_samples_test = len(y_test) #en caso de no tener el y_test se puede utilizar el x_test\n",
    "\n",
    "print(\"n_samples_train:\", n_samples_train)\n",
    "print(\"n_samples_test :\", n_samples_test)"
   ]
  },
  {
   "cell_type": "code",
   "execution_count": 5,
   "metadata": {},
   "outputs": [
    {
     "name": "stdout",
     "output_type": "stream",
     "text": [
      "n_classes: 4\n"
     ]
    }
   ],
   "source": [
    "n_classes = len(np.unique(y_test)) #esto se podria calcular asi n_clases = len(np.unique(y)), la y puede ser train o test\n",
    "\n",
    "print(\"n_classes:\", n_classes)"
   ]
  },
  {
   "cell_type": "code",
   "execution_count": 6,
   "metadata": {},
   "outputs": [],
   "source": [
    "#escalar los datos para que tengan media = 0 y desviacion estandar = 1\n",
    "scaler = StandardScaler().fit(x_train)\n",
    "x_train = scaler.transform(x_train)\n",
    "x_test = scaler.transform(x_test)"
   ]
  },
  {
   "cell_type": "code",
   "execution_count": 7,
   "metadata": {},
   "outputs": [
    {
     "name": "stderr",
     "output_type": "stream",
     "text": [
      "C:\\Users\\EdgarMoises\\Anaconda3\\lib\\site-packages\\sklearn\\preprocessing\\label.py:219: DataConversionWarning: A column-vector y was passed when a 1d array was expected. Please change the shape of y to (n_samples, ), for example using ravel().\n",
      "  y = column_or_1d(y, warn=True)\n",
      "C:\\Users\\EdgarMoises\\Anaconda3\\lib\\site-packages\\sklearn\\preprocessing\\label.py:252: DataConversionWarning: A column-vector y was passed when a 1d array was expected. Please change the shape of y to (n_samples, ), for example using ravel().\n",
      "  y = column_or_1d(y, warn=True)\n"
     ]
    }
   ],
   "source": [
    "#codificar etiquetas con valores de 0 a nClases-1\n",
    "le = LabelEncoder().fit(y_train)\n",
    "y_train = le.transform(y_train)\n",
    "y_test = le.transform(y_test)"
   ]
  },
  {
   "cell_type": "code",
   "execution_count": 8,
   "metadata": {},
   "outputs": [
    {
     "name": "stdout",
     "output_type": "stream",
     "text": [
      "(288, 3, 22)\n",
      "(288, 3, 22)\n"
     ]
    }
   ],
   "source": [
    "#convertir de 2D a 3D\n",
    "x_train = x_train.reshape((n_samples_train, 3, 22))\n",
    "x_test = x_test.reshape((n_samples_test, 3, 22))\n",
    "\n",
    "print(x_train.shape)\n",
    "print(x_test.shape)"
   ]
  },
  {
   "cell_type": "code",
   "execution_count": 9,
   "metadata": {},
   "outputs": [
    {
     "name": "stdout",
     "output_type": "stream",
     "text": [
      "WARNING:tensorflow:From C:\\Users\\EdgarMoises\\Anaconda3\\lib\\site-packages\\tensorflow\\python\\ops\\resource_variable_ops.py:435: colocate_with (from tensorflow.python.framework.ops) is deprecated and will be removed in a future version.\n",
      "Instructions for updating:\n",
      "Colocations handled automatically by placer.\n",
      "WARNING:tensorflow:From C:\\Users\\EdgarMoises\\Anaconda3\\lib\\site-packages\\tensorflow\\python\\keras\\layers\\core.py:143: calling dropout (from tensorflow.python.ops.nn_ops) with keep_prob is deprecated and will be removed in a future version.\n",
      "Instructions for updating:\n",
      "Please use `rate` instead of `keep_prob`. Rate should be set to `rate = 1 - keep_prob`.\n"
     ]
    }
   ],
   "source": [
    "model = Sequential()\n",
    "model.add(GRU(64, input_shape=(3,22)))\n",
    "model.add(Dropout(0.2))\n",
    "model.add(Dense(n_classes, activation='softmax'))"
   ]
  },
  {
   "cell_type": "code",
   "execution_count": 10,
   "metadata": {},
   "outputs": [
    {
     "name": "stdout",
     "output_type": "stream",
     "text": [
      "_________________________________________________________________\n",
      "Layer (type)                 Output Shape              Param #   \n",
      "=================================================================\n",
      "gru (GRU)                    (None, 64)                16704     \n",
      "_________________________________________________________________\n",
      "dropout (Dropout)            (None, 64)                0         \n",
      "_________________________________________________________________\n",
      "dense (Dense)                (None, 4)                 260       \n",
      "=================================================================\n",
      "Total params: 16,964\n",
      "Trainable params: 16,964\n",
      "Non-trainable params: 0\n",
      "_________________________________________________________________\n"
     ]
    }
   ],
   "source": [
    "model.summary()"
   ]
  },
  {
   "cell_type": "code",
   "execution_count": 11,
   "metadata": {},
   "outputs": [],
   "source": [
    "model.compile(optimizer='adam',\n",
    "              loss='sparse_categorical_crossentropy',\n",
    "              metrics=['accuracy'])"
   ]
  },
  {
   "cell_type": "code",
   "execution_count": 12,
   "metadata": {},
   "outputs": [
    {
     "name": "stdout",
     "output_type": "stream",
     "text": [
      "Train on 288 samples, validate on 288 samples\n",
      "Epoch 1/20\n",
      "288/288 [==============================] - 1s 4ms/sample - loss: 1.4178 - acc: 0.2535 - val_loss: 1.3539 - val_acc: 0.2986\n",
      "Epoch 2/20\n",
      "288/288 [==============================] - 0s 786us/sample - loss: 1.3146 - acc: 0.3438 - val_loss: 1.3154 - val_acc: 0.3472\n",
      "Epoch 3/20\n",
      "288/288 [==============================] - 0s 717us/sample - loss: 1.2697 - acc: 0.4271 - val_loss: 1.2808 - val_acc: 0.3993\n",
      "Epoch 4/20\n",
      "288/288 [==============================] - 0s 800us/sample - loss: 1.2349 - acc: 0.4201 - val_loss: 1.2487 - val_acc: 0.4271\n",
      "Epoch 5/20\n",
      "288/288 [==============================] - 0s 808us/sample - loss: 1.1962 - acc: 0.4722 - val_loss: 1.2129 - val_acc: 0.4340\n",
      "Epoch 6/20\n",
      "288/288 [==============================] - 0s 859us/sample - loss: 1.1669 - acc: 0.4653 - val_loss: 1.2049 - val_acc: 0.3993\n",
      "Epoch 7/20\n",
      "288/288 [==============================] - 0s 824us/sample - loss: 1.1315 - acc: 0.5104 - val_loss: 1.1564 - val_acc: 0.4722\n",
      "Epoch 8/20\n",
      "288/288 [==============================] - 0s 786us/sample - loss: 1.0987 - acc: 0.5139 - val_loss: 1.1537 - val_acc: 0.4688\n",
      "Epoch 9/20\n",
      "288/288 [==============================] - 0s 820us/sample - loss: 1.0831 - acc: 0.5035 - val_loss: 1.1270 - val_acc: 0.4549\n",
      "Epoch 10/20\n",
      "288/288 [==============================] - 0s 802us/sample - loss: 1.0550 - acc: 0.5208 - val_loss: 1.1267 - val_acc: 0.4653\n",
      "Epoch 11/20\n",
      "288/288 [==============================] - 0s 857us/sample - loss: 1.0305 - acc: 0.5451 - val_loss: 1.1128 - val_acc: 0.4583\n",
      "Epoch 12/20\n",
      "288/288 [==============================] - 0s 803us/sample - loss: 1.0082 - acc: 0.5694 - val_loss: 1.0943 - val_acc: 0.4792\n",
      "Epoch 13/20\n",
      "288/288 [==============================] - 0s 799us/sample - loss: 1.0012 - acc: 0.5660 - val_loss: 1.1014 - val_acc: 0.4896\n",
      "Epoch 14/20\n",
      "288/288 [==============================] - 0s 1ms/sample - loss: 0.9748 - acc: 0.5972 - val_loss: 1.0774 - val_acc: 0.4861\n",
      "Epoch 15/20\n",
      "288/288 [==============================] - 0s 954us/sample - loss: 0.9506 - acc: 0.5868 - val_loss: 1.0843 - val_acc: 0.5243\n",
      "Epoch 16/20\n",
      "288/288 [==============================] - 0s 1ms/sample - loss: 0.9410 - acc: 0.5903 - val_loss: 1.0355 - val_acc: 0.5347\n",
      "Epoch 17/20\n",
      "288/288 [==============================] - 0s 843us/sample - loss: 0.9172 - acc: 0.6007 - val_loss: 1.0722 - val_acc: 0.4896\n",
      "Epoch 18/20\n",
      "288/288 [==============================] - 0s 812us/sample - loss: 0.9074 - acc: 0.6076 - val_loss: 1.1048 - val_acc: 0.5139\n",
      "Epoch 19/20\n",
      "288/288 [==============================] - 0s 839us/sample - loss: 0.8800 - acc: 0.6250 - val_loss: 1.0419 - val_acc: 0.5486\n",
      "Epoch 20/20\n",
      "288/288 [==============================] - 0s 823us/sample - loss: 0.8671 - acc: 0.6285 - val_loss: 1.0827 - val_acc: 0.5243\n"
     ]
    }
   ],
   "source": [
    "history = model.fit(x_train, y_train, epochs=20, batch_size=18, validation_data=(x_test, y_test))"
   ]
  },
  {
   "cell_type": "code",
   "execution_count": 13,
   "metadata": {},
   "outputs": [
    {
     "name": "stdout",
     "output_type": "stream",
     "text": [
      "288/288 [==============================] - 0s 178us/sample - loss: 1.0827 - acc: 0.5243\n",
      "Test loss: 1.0826783511373732\n",
      "Test accuracy: 0.5243056\n"
     ]
    }
   ],
   "source": [
    "test_loss, test_acc = model.evaluate(x_test, y_test)\n",
    "print('Test loss:', test_loss)\n",
    "print('Test accuracy:', test_acc)"
   ]
  },
  {
   "cell_type": "code",
   "execution_count": 14,
   "metadata": {},
   "outputs": [
    {
     "data": {
      "image/png": "[encoded data removed]",
      "text/plain": [
       "<Figure size 432x288 with 1 Axes>"
      ]
     },
     "metadata": {
      "needs_background": "light"
     },
     "output_type": "display_data"
    }
   ],
   "source": [
    "plt.plot(history.history['acc'])\n",
    "plt.plot(history.history['val_acc'])\n",
    "plt.grid()\n",
    "plt.xlabel('Epochs')\n",
    "plt.ylabel('Accuracy')\n",
    "plt.legend(['train', 'test'])\n",
    "plt.show()"
   ]
  },
  {
   "cell_type": "code",
   "execution_count": 15,
   "metadata": {},
   "outputs": [
    {
     "data": {
      "image/png": "[encoded data removed]",
      "text/plain": [
       "<Figure size 432x288 with 1 Axes>"
      ]
     },
     "metadata": {
      "needs_background": "light"
     },
     "output_type": "display_data"
    }
   ],
   "source": [
    "plt.plot(history.history['loss'])\n",
    "plt.plot(history.history['val_loss'])\n",
    "plt.grid()\n",
    "plt.xlabel('Epochs')\n",
    "plt.ylabel('Cross-Entropy')\n",
    "plt.legend(['train', 'test'])\n",
    "plt.show()"
   ]
  },
  {
   "cell_type": "code",
   "execution_count": 16,
   "metadata": {},
   "outputs": [],
   "source": [
    "probabilidades = model.predict(x_test)\n",
    "y_pred = np.argmax(probabilidades, 1) #1=fila"
   ]
  },
  {
   "cell_type": "code",
   "execution_count": 17,
   "metadata": {},
   "outputs": [
    {
     "name": "stdout",
     "output_type": "stream",
     "text": [
      "0.3657407407407407\n"
     ]
    }
   ],
   "source": [
    "kappa = cohen_kappa_score(y_test, y_pred)\n",
    "print(kappa)"
   ]
  },
  {
   "cell_type": "code",
   "execution_count": 18,
   "metadata": {},
   "outputs": [
    {
     "name": "stdout",
     "output_type": "stream",
     "text": [
      "[[28 31  5  8]\n",
      " [10 53  6  3]\n",
      " [15  3 33 21]\n",
      " [13  5 17 37]]\n"
     ]
    }
   ],
   "source": [
    "matrizConfusion = confusion_matrix(y_test, y_pred)\n",
    "print(matrizConfusion)"
   ]
  },
  {
   "cell_type": "code",
   "execution_count": 19,
   "metadata": {},
   "outputs": [
    {
     "name": "stdout",
     "output_type": "stream",
     "text": [
      "              precision    recall  f1-score   support\n",
      "\n",
      "           0       0.42      0.39      0.41        72\n",
      "           1       0.58      0.74      0.65        72\n",
      "           2       0.54      0.46      0.50        72\n",
      "           3       0.54      0.51      0.52        72\n",
      "\n",
      "   micro avg       0.52      0.52      0.52       288\n",
      "   macro avg       0.52      0.52      0.52       288\n",
      "weighted avg       0.52      0.52      0.52       288\n",
      "\n"
     ]
    }
   ],
   "source": [
    "reporteClassificacion = classification_report(y_test, y_pred)\n",
    "print(reporteClassificacion)"
   ]
  }
 ],
 "metadata": {
  "kernelspec": {
   "display_name": "Python 3",
   "language": "python",
   "name": "python3"
  },
  "language_info": {
   "codemirror_mode": {
    "name": "ipython",
    "version": 3
   },
   "file_extension": ".py",
   "mimetype": "text/x-python",
   "name": "python",
   "nbconvert_exporter": "python",
   "pygments_lexer": "ipython3",
   "version": "3.7.3"
  }
 },
 "nbformat": 4,
 "nbformat_minor": 2
}

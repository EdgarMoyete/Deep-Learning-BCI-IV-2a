{
 "cells": [
  {
   "cell_type": "markdown",
   "metadata": {},
   "source": [
    "### Edgar Moises Hernandez-Gonzalez\n",
    "#### 19/11/19\n",
    "#### Clasificar RAW con Conv-LSTM-2D"
   ]
  },
  {
   "cell_type": "code",
   "execution_count": 11,
   "metadata": {},
   "outputs": [],
   "source": [
    "import numpy as np\n",
    "import pandas as pd\n",
    "import matplotlib.pyplot as plt\n",
    "from sklearn.preprocessing import StandardScaler, LabelEncoder\n",
    "from tensorflow.keras.models import Sequential\n",
    "from tensorflow.keras.layers import ConvLSTM2D, Dropout, Flatten, Dense\n",
    "from sklearn.metrics import cohen_kappa_score, confusion_matrix, classification_report"
   ]
  },
  {
   "cell_type": "code",
   "execution_count": 2,
   "metadata": {},
   "outputs": [],
   "source": [
    "x_train = pd.read_csv(\"MI-EEG-RWE-A01T.csv\", header=None)\n",
    "x_test = pd.read_csv(\"MI-EEG-RWE-A01E.csv\", header=None)\n",
    "y_train = pd.read_csv(\"EtiquetasA01T.csv\", header=None)\n",
    "y_test = pd.read_csv(\"EtiquetasA01E.csv\", header=None)"
   ]
  },
  {
   "cell_type": "code",
   "execution_count": 3,
   "metadata": {},
   "outputs": [
    {
     "name": "stdout",
     "output_type": "stream",
     "text": [
      "(288, 66)\n",
      "(288, 66)\n",
      "(288, 1)\n",
      "(288, 1)\n"
     ]
    }
   ],
   "source": [
    "print(x_train.shape)\n",
    "print(x_test.shape)\n",
    "print(y_train.shape)\n",
    "print(y_test.shape)"
   ]
  },
  {
   "cell_type": "code",
   "execution_count": 4,
   "metadata": {},
   "outputs": [
    {
     "name": "stdout",
     "output_type": "stream",
     "text": [
      "n_samples_train: 288\n",
      "n_samples_test : 288\n"
     ]
    }
   ],
   "source": [
    "n_samples_train = len(y_train)\n",
    "n_samples_test = len(y_test) #en caso de no tener el y_test se puede utilizar el x_test\n",
    "\n",
    "print(\"n_samples_train:\", n_samples_train)\n",
    "print(\"n_samples_test :\", n_samples_test)"
   ]
  },
  {
   "cell_type": "code",
   "execution_count": 5,
   "metadata": {},
   "outputs": [
    {
     "name": "stdout",
     "output_type": "stream",
     "text": [
      "n_classes: 4\n"
     ]
    }
   ],
   "source": [
    "n_classes = len(np.unique(y_test)) #esto se podria calcular asi n_clases = len(np.unique(y)), la y puede ser train o test\n",
    "\n",
    "print(\"n_classes:\", n_classes)"
   ]
  },
  {
   "cell_type": "code",
   "execution_count": 6,
   "metadata": {},
   "outputs": [],
   "source": [
    "#escalar los datos para que tengan media = 0 y desviacion estandar = 1\n",
    "scaler = StandardScaler().fit(x_train)\n",
    "x_train = scaler.transform(x_train)\n",
    "x_test = scaler.transform(x_test)"
   ]
  },
  {
   "cell_type": "code",
   "execution_count": 7,
   "metadata": {},
   "outputs": [
    {
     "name": "stderr",
     "output_type": "stream",
     "text": [
      "C:\\Users\\EdgarMoises\\Anaconda3\\lib\\site-packages\\sklearn\\preprocessing\\label.py:219: DataConversionWarning: A column-vector y was passed when a 1d array was expected. Please change the shape of y to (n_samples, ), for example using ravel().\n",
      "  y = column_or_1d(y, warn=True)\n",
      "C:\\Users\\EdgarMoises\\Anaconda3\\lib\\site-packages\\sklearn\\preprocessing\\label.py:252: DataConversionWarning: A column-vector y was passed when a 1d array was expected. Please change the shape of y to (n_samples, ), for example using ravel().\n",
      "  y = column_or_1d(y, warn=True)\n"
     ]
    }
   ],
   "source": [
    "#codificar etiquetas con valores de 0 a nClases-1\n",
    "le = LabelEncoder().fit(y_train)\n",
    "y_train = le.transform(y_train)\n",
    "y_test = le.transform(y_test)"
   ]
  },
  {
   "cell_type": "code",
   "execution_count": 9,
   "metadata": {},
   "outputs": [
    {
     "name": "stdout",
     "output_type": "stream",
     "text": [
      "(288, 1, 1, 3, 22)\n",
      "(288, 1, 1, 3, 22)\n"
     ]
    }
   ],
   "source": [
    "#convertir de 2D a 5D\n",
    "x_train = x_train.reshape((n_samples_train, 1, 1, 3, 22))\n",
    "x_test = x_test.reshape((n_samples_test, 1, 1, 3, 22))\n",
    "\n",
    "print(x_train.shape)\n",
    "print(x_test.shape)"
   ]
  },
  {
   "cell_type": "code",
   "execution_count": 16,
   "metadata": {},
   "outputs": [],
   "source": [
    "model = Sequential()\n",
    "model.add(ConvLSTM2D(128, (1,3), activation='relu', input_shape=(1,1,3,22)))\n",
    "model.add(Dropout(0.5))\n",
    "model.add(Flatten())\n",
    "model.add(Dense(64, activation='relu'))\n",
    "model.add(Dropout(0.2))\n",
    "model.add(Dense(n_classes, activation='softmax'))"
   ]
  },
  {
   "cell_type": "code",
   "execution_count": 17,
   "metadata": {},
   "outputs": [
    {
     "name": "stdout",
     "output_type": "stream",
     "text": [
      "_________________________________________________________________\n",
      "Layer (type)                 Output Shape              Param #   \n",
      "=================================================================\n",
      "conv_lst_m2d_1 (ConvLSTM2D)  (None, 1, 1, 128)         230912    \n",
      "_________________________________________________________________\n",
      "dropout_2 (Dropout)          (None, 1, 1, 128)         0         \n",
      "_________________________________________________________________\n",
      "flatten_1 (Flatten)          (None, 128)               0         \n",
      "_________________________________________________________________\n",
      "dense_2 (Dense)              (None, 64)                8256      \n",
      "_________________________________________________________________\n",
      "dropout_3 (Dropout)          (None, 64)                0         \n",
      "_________________________________________________________________\n",
      "dense_3 (Dense)              (None, 4)                 260       \n",
      "=================================================================\n",
      "Total params: 239,428\n",
      "Trainable params: 239,428\n",
      "Non-trainable params: 0\n",
      "_________________________________________________________________\n"
     ]
    }
   ],
   "source": [
    "model.summary()"
   ]
  },
  {
   "cell_type": "code",
   "execution_count": 18,
   "metadata": {},
   "outputs": [],
   "source": [
    "model.compile(optimizer='adam',\n",
    "              loss='sparse_categorical_crossentropy',\n",
    "              metrics=['accuracy'])"
   ]
  },
  {
   "cell_type": "code",
   "execution_count": 19,
   "metadata": {},
   "outputs": [
    {
     "name": "stdout",
     "output_type": "stream",
     "text": [
      "Train on 288 samples, validate on 288 samples\n",
      "Epoch 1/20\n",
      "288/288 [==============================] - 2s 8ms/sample - loss: 1.3814 - acc: 0.2708 - val_loss: 1.4030 - val_acc: 0.2917\n",
      "Epoch 2/20\n",
      "288/288 [==============================] - 0s 737us/sample - loss: 1.3491 - acc: 0.3507 - val_loss: 1.4070 - val_acc: 0.3090\n",
      "Epoch 3/20\n",
      "288/288 [==============================] - 0s 701us/sample - loss: 1.3312 - acc: 0.3160 - val_loss: 1.3898 - val_acc: 0.3542\n",
      "Epoch 4/20\n",
      "288/288 [==============================] - 0s 805us/sample - loss: 1.3387 - acc: 0.3611 - val_loss: 1.4471 - val_acc: 0.3403\n",
      "Epoch 5/20\n",
      "288/288 [==============================] - 0s 742us/sample - loss: 1.2928 - acc: 0.4132 - val_loss: 1.3857 - val_acc: 0.3472\n",
      "Epoch 6/20\n",
      "288/288 [==============================] - 0s 779us/sample - loss: 1.2974 - acc: 0.4028 - val_loss: 1.2943 - val_acc: 0.3889\n",
      "Epoch 7/20\n",
      "288/288 [==============================] - 0s 790us/sample - loss: 1.2511 - acc: 0.4306 - val_loss: 1.3724 - val_acc: 0.3889\n",
      "Epoch 8/20\n",
      "288/288 [==============================] - 0s 728us/sample - loss: 1.2130 - acc: 0.4375 - val_loss: 1.1827 - val_acc: 0.3993\n",
      "Epoch 9/20\n",
      "288/288 [==============================] - 0s 805us/sample - loss: 1.1806 - acc: 0.4618 - val_loss: 1.2400 - val_acc: 0.4306\n",
      "Epoch 10/20\n",
      "288/288 [==============================] - 0s 765us/sample - loss: 1.1736 - acc: 0.5000 - val_loss: 1.1811 - val_acc: 0.4444\n",
      "Epoch 11/20\n",
      "288/288 [==============================] - 0s 783us/sample - loss: 1.1374 - acc: 0.4688 - val_loss: 1.3577 - val_acc: 0.4062\n",
      "Epoch 12/20\n",
      "288/288 [==============================] - 0s 924us/sample - loss: 1.0919 - acc: 0.5174 - val_loss: 1.0369 - val_acc: 0.4826\n",
      "Epoch 13/20\n",
      "288/288 [==============================] - 0s 906us/sample - loss: 1.1246 - acc: 0.4653 - val_loss: 1.2432 - val_acc: 0.4444\n",
      "Epoch 14/20\n",
      "288/288 [==============================] - 0s 797us/sample - loss: 1.0451 - acc: 0.5382 - val_loss: 1.0720 - val_acc: 0.4653\n",
      "Epoch 15/20\n",
      "288/288 [==============================] - 0s 836us/sample - loss: 1.0286 - acc: 0.5764 - val_loss: 1.2899 - val_acc: 0.4618\n",
      "Epoch 16/20\n",
      "288/288 [==============================] - 0s 941us/sample - loss: 1.0054 - acc: 0.5208 - val_loss: 1.2826 - val_acc: 0.4375\n",
      "Epoch 17/20\n",
      "288/288 [==============================] - 0s 849us/sample - loss: 0.9895 - acc: 0.5451 - val_loss: 1.1070 - val_acc: 0.4618\n",
      "Epoch 18/20\n",
      "288/288 [==============================] - 0s 765us/sample - loss: 1.0358 - acc: 0.5104 - val_loss: 1.1376 - val_acc: 0.4826\n",
      "Epoch 19/20\n",
      "288/288 [==============================] - 0s 839us/sample - loss: 0.9726 - acc: 0.5521 - val_loss: 1.1142 - val_acc: 0.4549\n",
      "Epoch 20/20\n",
      "288/288 [==============================] - 0s 828us/sample - loss: 0.9350 - acc: 0.5764 - val_loss: 1.2537 - val_acc: 0.4549\n"
     ]
    }
   ],
   "source": [
    "history = model.fit(x_train, y_train, epochs=20, batch_size=18, validation_data=(x_test, y_test))"
   ]
  },
  {
   "cell_type": "code",
   "execution_count": 20,
   "metadata": {},
   "outputs": [
    {
     "name": "stdout",
     "output_type": "stream",
     "text": [
      "288/288 [==============================] - 0s 177us/sample - loss: 1.2537 - acc: 0.4549\n",
      "Test loss: 1.2537273632155523\n",
      "Test accuracy: 0.4548611\n"
     ]
    }
   ],
   "source": [
    "test_loss, test_acc = model.evaluate(x_test, y_test)\n",
    "print('Test loss:', test_loss)\n",
    "print('Test accuracy:', test_acc)"
   ]
  },
  {
   "cell_type": "code",
   "execution_count": 21,
   "metadata": {},
   "outputs": [
    {
     "data": {
      "image/png": "[encoded data removed]",
      "text/plain": [
       "<Figure size 432x288 with 1 Axes>"
      ]
     },
     "metadata": {
      "needs_background": "light"
     },
     "output_type": "display_data"
    }
   ],
   "source": [
    "plt.plot(history.history['acc'])\n",
    "plt.plot(history.history['val_acc'])\n",
    "plt.grid()\n",
    "plt.xlabel('Epochs')\n",
    "plt.ylabel('Accuracy')\n",
    "plt.legend(['train', 'test'])\n",
    "plt.show()"
   ]
  },
  {
   "cell_type": "code",
   "execution_count": 22,
   "metadata": {},
   "outputs": [
    {
     "data": {
      "image/png": "[encoded data removed]",
      "text/plain": [
       "<Figure size 432x288 with 1 Axes>"
      ]
     },
     "metadata": {
      "needs_background": "light"
     },
     "output_type": "display_data"
    }
   ],
   "source": [
    "plt.plot(history.history['loss'])\n",
    "plt.plot(history.history['val_loss'])\n",
    "plt.grid()\n",
    "plt.xlabel('Epochs')\n",
    "plt.ylabel('Cross-Entropy')\n",
    "plt.legend(['train', 'test'])\n",
    "plt.show()"
   ]
  },
  {
   "cell_type": "code",
   "execution_count": 23,
   "metadata": {},
   "outputs": [],
   "source": [
    "probabilidades = model.predict(x_test)\n",
    "y_pred = np.argmax(probabilidades, 1) #1=fila"
   ]
  },
  {
   "cell_type": "code",
   "execution_count": 24,
   "metadata": {},
   "outputs": [
    {
     "name": "stdout",
     "output_type": "stream",
     "text": [
      "0.27314814814814814\n"
     ]
    }
   ],
   "source": [
    "kappa = cohen_kappa_score(y_test, y_pred)\n",
    "print(kappa)"
   ]
  },
  {
   "cell_type": "code",
   "execution_count": 25,
   "metadata": {},
   "outputs": [
    {
     "name": "stdout",
     "output_type": "stream",
     "text": [
      "[[33 28  3  8]\n",
      " [20 44  6  2]\n",
      " [25  1 22 24]\n",
      " [25  1 14 32]]\n"
     ]
    }
   ],
   "source": [
    "matrizConfusion = confusion_matrix(y_test, y_pred)\n",
    "print(matrizConfusion)"
   ]
  },
  {
   "cell_type": "code",
   "execution_count": 26,
   "metadata": {},
   "outputs": [
    {
     "name": "stdout",
     "output_type": "stream",
     "text": [
      "              precision    recall  f1-score   support\n",
      "\n",
      "           0       0.32      0.46      0.38        72\n",
      "           1       0.59      0.61      0.60        72\n",
      "           2       0.49      0.31      0.38        72\n",
      "           3       0.48      0.44      0.46        72\n",
      "\n",
      "   micro avg       0.45      0.45      0.45       288\n",
      "   macro avg       0.47      0.45      0.45       288\n",
      "weighted avg       0.47      0.45      0.45       288\n",
      "\n"
     ]
    }
   ],
   "source": [
    "reporteClassificacion = classification_report(y_test, y_pred)\n",
    "print(reporteClassificacion)"
   ]
  }
 ],
 "metadata": {
  "kernelspec": {
   "display_name": "Python 3",
   "language": "python",
   "name": "python3"
  },
  "language_info": {
   "codemirror_mode": {
    "name": "ipython",
    "version": 3
   },
   "file_extension": ".py",
   "mimetype": "text/x-python",
   "name": "python",
   "nbconvert_exporter": "python",
   "pygments_lexer": "ipython3",
   "version": "3.7.3"
  }
 },
 "nbformat": 4,
 "nbformat_minor": 2
}

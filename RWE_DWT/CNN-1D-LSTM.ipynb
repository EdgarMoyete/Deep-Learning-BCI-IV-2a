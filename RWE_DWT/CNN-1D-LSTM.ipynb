{
 "cells": [
  {
   "cell_type": "markdown",
   "metadata": {},
   "source": [
    "### Edgar Moises Hernandez-Gonzalez\n",
    "#### 19/11/19\n",
    "#### Clasificar RAW con CNN-1D + LSTM"
   ]
  },
  {
   "cell_type": "code",
   "execution_count": 1,
   "metadata": {},
   "outputs": [],
   "source": [
    "import numpy as np\n",
    "import pandas as pd\n",
    "import matplotlib.pyplot as plt\n",
    "from sklearn.preprocessing import StandardScaler, LabelEncoder\n",
    "from tensorflow.keras.models import Sequential\n",
    "from tensorflow.keras.layers import TimeDistributed, Conv1D, MaxPool1D, Flatten, LSTM, Dense, Dropout\n",
    "from sklearn.metrics import cohen_kappa_score, confusion_matrix, classification_report"
   ]
  },
  {
   "cell_type": "code",
   "execution_count": 2,
   "metadata": {},
   "outputs": [],
   "source": [
    "x_train = pd.read_csv(\"MI-EEG-RWE-A01T.csv\", header=None)\n",
    "x_test = pd.read_csv(\"MI-EEG-RWE-A01E.csv\", header=None)\n",
    "y_train = pd.read_csv(\"EtiquetasA01T.csv\", header=None)\n",
    "y_test = pd.read_csv(\"EtiquetasA01E.csv\", header=None)"
   ]
  },
  {
   "cell_type": "code",
   "execution_count": 3,
   "metadata": {},
   "outputs": [
    {
     "name": "stdout",
     "output_type": "stream",
     "text": [
      "(288, 66)\n",
      "(288, 66)\n",
      "(288, 1)\n",
      "(288, 1)\n"
     ]
    }
   ],
   "source": [
    "print(x_train.shape)\n",
    "print(x_test.shape)\n",
    "print(y_train.shape)\n",
    "print(y_test.shape)"
   ]
  },
  {
   "cell_type": "code",
   "execution_count": 4,
   "metadata": {},
   "outputs": [
    {
     "name": "stdout",
     "output_type": "stream",
     "text": [
      "n_samples_train: 288\n",
      "n_samples_test : 288\n"
     ]
    }
   ],
   "source": [
    "n_samples_train = len(y_train)\n",
    "n_samples_test = len(y_test) #en caso de no tener el y_test se puede utilizar el x_test\n",
    "\n",
    "print(\"n_samples_train:\", n_samples_train)\n",
    "print(\"n_samples_test :\", n_samples_test)"
   ]
  },
  {
   "cell_type": "code",
   "execution_count": 5,
   "metadata": {},
   "outputs": [
    {
     "name": "stdout",
     "output_type": "stream",
     "text": [
      "n_classes: 4\n"
     ]
    }
   ],
   "source": [
    "n_classes = len(np.unique(y_test)) #esto se podria calcular asi n_clases = len(np.unique(y)), la y puede ser train o test\n",
    "\n",
    "print(\"n_classes:\", n_classes)"
   ]
  },
  {
   "cell_type": "code",
   "execution_count": 6,
   "metadata": {},
   "outputs": [],
   "source": [
    "#escalar los datos para que tengan media = 0 y desviacion estandar = 1\n",
    "scaler = StandardScaler().fit(x_train)\n",
    "x_train = scaler.transform(x_train)\n",
    "x_test = scaler.transform(x_test)"
   ]
  },
  {
   "cell_type": "code",
   "execution_count": 7,
   "metadata": {},
   "outputs": [
    {
     "name": "stderr",
     "output_type": "stream",
     "text": [
      "C:\\Users\\EdgarMoises\\Anaconda3\\lib\\site-packages\\sklearn\\preprocessing\\label.py:219: DataConversionWarning: A column-vector y was passed when a 1d array was expected. Please change the shape of y to (n_samples, ), for example using ravel().\n",
      "  y = column_or_1d(y, warn=True)\n",
      "C:\\Users\\EdgarMoises\\Anaconda3\\lib\\site-packages\\sklearn\\preprocessing\\label.py:252: DataConversionWarning: A column-vector y was passed when a 1d array was expected. Please change the shape of y to (n_samples, ), for example using ravel().\n",
      "  y = column_or_1d(y, warn=True)\n"
     ]
    }
   ],
   "source": [
    "#codificar etiquetas con valores de 0 a nClases-1\n",
    "le = LabelEncoder().fit(y_train)\n",
    "y_train = le.transform(y_train)\n",
    "y_test = le.transform(y_test)"
   ]
  },
  {
   "cell_type": "code",
   "execution_count": 8,
   "metadata": {},
   "outputs": [
    {
     "name": "stdout",
     "output_type": "stream",
     "text": [
      "(288, 1, 3, 22)\n",
      "(288, 1, 3, 22)\n"
     ]
    }
   ],
   "source": [
    "#convertir de 2D a 4D\n",
    "x_train = x_train.reshape((n_samples_train, 1, 66, 1))\n",
    "x_test = x_test.reshape((n_samples_test, 1, 66, 1))\n",
    "\n",
    "print(x_train.shape)\n",
    "print(x_test.shape)"
   ]
  },
  {
   "cell_type": "code",
   "execution_count": 9,
   "metadata": {},
   "outputs": [
    {
     "name": "stdout",
     "output_type": "stream",
     "text": [
      "WARNING:tensorflow:From C:\\Users\\EdgarMoises\\Anaconda3\\lib\\site-packages\\tensorflow\\python\\ops\\resource_variable_ops.py:435: colocate_with (from tensorflow.python.framework.ops) is deprecated and will be removed in a future version.\n",
      "Instructions for updating:\n",
      "Colocations handled automatically by placer.\n"
     ]
    }
   ],
   "source": [
    "model = Sequential()\n",
    "model.add(TimeDistributed(Conv1D(8, 3, activation='relu'), input_shape=(None,66,1)))\n",
    "#model.add(TimeDistributed(MaxPool1D(2)))\n",
    "#model.add(TimeDistributed(Conv1D(16, 11, activation='relu')))\n",
    "#model.add(TimeDistributed(MaxPool1D(2)))\n",
    "#model.add(TimeDistributed(Conv1D(16, 11, activation='relu')))\n",
    "#model.add(TimeDistributed(MaxPool1D(2)))\n",
    "model.add(TimeDistributed(Flatten()))\n",
    "model.add(LSTM(16))\n",
    "#model.add(Dense(32, activation='relu'))\n",
    "#model.add(Dropout(0.5))\n",
    "model.add(Dense(n_classes, activation='softmax'))"
   ]
  },
  {
   "cell_type": "code",
   "execution_count": 10,
   "metadata": {},
   "outputs": [
    {
     "name": "stdout",
     "output_type": "stream",
     "text": [
      "_________________________________________________________________\n",
      "Layer (type)                 Output Shape              Param #   \n",
      "=================================================================\n",
      "time_distributed (TimeDistri (None, None, 1, 8)        536       \n",
      "_________________________________________________________________\n",
      "time_distributed_1 (TimeDist (None, None, 8)           0         \n",
      "_________________________________________________________________\n",
      "lstm (LSTM)                  (None, 16)                1600      \n",
      "_________________________________________________________________\n",
      "dense (Dense)                (None, 4)                 68        \n",
      "=================================================================\n",
      "Total params: 2,204\n",
      "Trainable params: 2,204\n",
      "Non-trainable params: 0\n",
      "_________________________________________________________________\n"
     ]
    }
   ],
   "source": [
    "model.summary()"
   ]
  },
  {
   "cell_type": "code",
   "execution_count": 11,
   "metadata": {},
   "outputs": [],
   "source": [
    "model.compile(optimizer='adam',\n",
    "              loss='sparse_categorical_crossentropy',\n",
    "              metrics=['accuracy'])"
   ]
  },
  {
   "cell_type": "code",
   "execution_count": 12,
   "metadata": {},
   "outputs": [
    {
     "name": "stdout",
     "output_type": "stream",
     "text": [
      "Train on 288 samples, validate on 288 samples\n",
      "Epoch 1/20\n",
      "288/288 [==============================] - 2s 8ms/sample - loss: 1.3990 - acc: 0.2396 - val_loss: 1.3963 - val_acc: 0.2118\n",
      "Epoch 2/20\n",
      "288/288 [==============================] - 0s 429us/sample - loss: 1.3848 - acc: 0.2882 - val_loss: 1.3841 - val_acc: 0.2292\n",
      "Epoch 3/20\n",
      "288/288 [==============================] - 0s 404us/sample - loss: 1.3723 - acc: 0.3333 - val_loss: 1.3746 - val_acc: 0.3229\n",
      "Epoch 4/20\n",
      "288/288 [==============================] - 0s 464us/sample - loss: 1.3626 - acc: 0.3611 - val_loss: 1.3662 - val_acc: 0.3403\n",
      "Epoch 5/20\n",
      "288/288 [==============================] - 0s 429us/sample - loss: 1.3525 - acc: 0.3750 - val_loss: 1.3600 - val_acc: 0.3542\n",
      "Epoch 6/20\n",
      "288/288 [==============================] - 0s 411us/sample - loss: 1.3440 - acc: 0.3924 - val_loss: 1.3545 - val_acc: 0.3472\n",
      "Epoch 7/20\n",
      "288/288 [==============================] - 0s 458us/sample - loss: 1.3334 - acc: 0.4062 - val_loss: 1.3424 - val_acc: 0.3403\n",
      "Epoch 8/20\n",
      "288/288 [==============================] - 0s 411us/sample - loss: 1.3221 - acc: 0.4167 - val_loss: 1.3373 - val_acc: 0.3368\n",
      "Epoch 9/20\n",
      "288/288 [==============================] - 0s 447us/sample - loss: 1.3107 - acc: 0.4132 - val_loss: 1.3260 - val_acc: 0.3472\n",
      "Epoch 10/20\n",
      "288/288 [==============================] - 0s 499us/sample - loss: 1.2980 - acc: 0.4236 - val_loss: 1.3123 - val_acc: 0.4132\n",
      "Epoch 11/20\n",
      "288/288 [==============================] - 0s 426us/sample - loss: 1.2844 - acc: 0.4306 - val_loss: 1.3003 - val_acc: 0.4167\n",
      "Epoch 12/20\n",
      "288/288 [==============================] - 0s 459us/sample - loss: 1.2701 - acc: 0.4444 - val_loss: 1.2889 - val_acc: 0.4306\n",
      "Epoch 13/20\n",
      "288/288 [==============================] - 0s 452us/sample - loss: 1.2544 - acc: 0.4549 - val_loss: 1.2831 - val_acc: 0.4340\n",
      "Epoch 14/20\n",
      "288/288 [==============================] - 0s 509us/sample - loss: 1.2368 - acc: 0.4549 - val_loss: 1.2831 - val_acc: 0.4306\n",
      "Epoch 15/20\n",
      "288/288 [==============================] - 0s 384us/sample - loss: 1.2207 - acc: 0.4618 - val_loss: 1.2403 - val_acc: 0.4410\n",
      "Epoch 16/20\n",
      "288/288 [==============================] - 0s 410us/sample - loss: 1.2014 - acc: 0.4757 - val_loss: 1.2469 - val_acc: 0.4132\n",
      "Epoch 17/20\n",
      "288/288 [==============================] - 0s 518us/sample - loss: 1.1828 - acc: 0.4757 - val_loss: 1.2005 - val_acc: 0.4479\n",
      "Epoch 18/20\n",
      "288/288 [==============================] - 0s 443us/sample - loss: 1.1628 - acc: 0.5000 - val_loss: 1.2011 - val_acc: 0.4583\n",
      "Epoch 19/20\n",
      "288/288 [==============================] - 0s 486us/sample - loss: 1.1446 - acc: 0.5139 - val_loss: 1.1801 - val_acc: 0.4236\n",
      "Epoch 20/20\n",
      "288/288 [==============================] - 0s 540us/sample - loss: 1.1245 - acc: 0.5139 - val_loss: 1.1690 - val_acc: 0.4306\n"
     ]
    }
   ],
   "source": [
    "history = model.fit(x_train, y_train, epochs=20, batch_size=18, validation_data=(x_test, y_test))"
   ]
  },
  {
   "cell_type": "code",
   "execution_count": 32,
   "metadata": {},
   "outputs": [
    {
     "name": "stdout",
     "output_type": "stream",
     "text": [
      "288/288 [==============================] - 0s 114us/sample - loss: 1.0343 - acc: 0.5243\n",
      "Test loss: 1.0343421366479661\n",
      "Test accuracy: 0.5243056\n"
     ]
    }
   ],
   "source": [
    "test_loss, test_acc = model.evaluate(x_test, y_test)\n",
    "print('Test loss:', test_loss)\n",
    "print('Test accuracy:', test_acc)"
   ]
  },
  {
   "cell_type": "code",
   "execution_count": 17,
   "metadata": {},
   "outputs": [
    {
     "data": {
      "image/png": "[encoded data removed]",
      "text/plain": [
       "<Figure size 432x288 with 1 Axes>"
      ]
     },
     "metadata": {
      "needs_background": "light"
     },
     "output_type": "display_data"
    }
   ],
   "source": [
    "plt.plot(history.history['acc'])\n",
    "plt.plot(history.history['val_acc'])\n",
    "plt.grid()\n",
    "plt.xlabel('Epochs')\n",
    "plt.ylabel('Accuracy')\n",
    "plt.legend(['train', 'test'])\n",
    "plt.show()"
   ]
  },
  {
   "cell_type": "code",
   "execution_count": 18,
   "metadata": {},
   "outputs": [
    {
     "data": {
      "image/png": "[encoded data removed]",
      "text/plain": [
       "<Figure size 432x288 with 1 Axes>"
      ]
     },
     "metadata": {
      "needs_background": "light"
     },
     "output_type": "display_data"
    }
   ],
   "source": [
    "plt.plot(history.history['loss'])\n",
    "plt.plot(history.history['val_loss'])\n",
    "plt.grid()\n",
    "plt.xlabel('Epochs')\n",
    "plt.ylabel('Cross-Entropy')\n",
    "plt.legend(['train', 'test'])\n",
    "plt.show()"
   ]
  },
  {
   "cell_type": "code",
   "execution_count": 19,
   "metadata": {},
   "outputs": [],
   "source": [
    "probabilidades = model.predict(x_test)\n",
    "y_pred = np.argmax(probabilidades, 1) #1=fila"
   ]
  },
  {
   "cell_type": "code",
   "execution_count": 20,
   "metadata": {},
   "outputs": [
    {
     "name": "stdout",
     "output_type": "stream",
     "text": [
      "0.4120370370370371\n"
     ]
    }
   ],
   "source": [
    "kappa = cohen_kappa_score(y_test, y_pred)\n",
    "print(kappa)"
   ]
  },
  {
   "cell_type": "code",
   "execution_count": 21,
   "metadata": {},
   "outputs": [
    {
     "name": "stdout",
     "output_type": "stream",
     "text": [
      "[[43 17  8  4]\n",
      " [26 41  4  1]\n",
      " [ 8  2 38 24]\n",
      " [10  3 20 39]]\n"
     ]
    }
   ],
   "source": [
    "matrizConfusion = confusion_matrix(y_test, y_pred)\n",
    "print(matrizConfusion)"
   ]
  },
  {
   "cell_type": "code",
   "execution_count": 22,
   "metadata": {},
   "outputs": [
    {
     "name": "stdout",
     "output_type": "stream",
     "text": [
      "              precision    recall  f1-score   support\n",
      "\n",
      "           0       0.49      0.60      0.54        72\n",
      "           1       0.65      0.57      0.61        72\n",
      "           2       0.54      0.53      0.54        72\n",
      "           3       0.57      0.54      0.56        72\n",
      "\n",
      "   micro avg       0.56      0.56      0.56       288\n",
      "   macro avg       0.57      0.56      0.56       288\n",
      "weighted avg       0.57      0.56      0.56       288\n",
      "\n"
     ]
    }
   ],
   "source": [
    "reporteClassificacion = classification_report(y_test, y_pred)\n",
    "print(reporteClassificacion)"
   ]
  }
 ],
 "metadata": {
  "kernelspec": {
   "display_name": "Python 3",
   "language": "python",
   "name": "python3"
  },
  "language_info": {
   "codemirror_mode": {
    "name": "ipython",
    "version": 3
   },
   "file_extension": ".py",
   "mimetype": "text/x-python",
   "name": "python",
   "nbconvert_exporter": "python",
   "pygments_lexer": "ipython3",
   "version": "3.7.3"
  }
 },
 "nbformat": 4,
 "nbformat_minor": 2
}

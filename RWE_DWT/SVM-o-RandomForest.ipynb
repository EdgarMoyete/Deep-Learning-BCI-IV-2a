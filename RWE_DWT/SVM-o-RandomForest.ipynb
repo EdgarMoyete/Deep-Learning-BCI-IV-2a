{
 "cells": [
  {
   "cell_type": "markdown",
   "metadata": {},
   "source": [
    "### Edgar Moises Hernandez-Gonzalez\n",
    "#### 19/11/19-25/11/19\n",
    "#### Clasificacion de RWE-DWT de MI-EEG con SVM o Random Forest\n",
    "##### 10 ejecuciones independientes para obtener la media y desviacion estandar"
   ]
  },
  {
   "cell_type": "code",
   "execution_count": 1,
   "metadata": {},
   "outputs": [],
   "source": [
    "import numpy as np\n",
    "import pandas as pd\n",
    "from sklearn.svm import SVC, LinearSVC\n",
    "#from sklearn.ensemble import RandomForestClassifier\n",
    "from sklearn.preprocessing import StandardScaler\n",
    "from sklearn.metrics import cohen_kappa_score, confusion_matrix, precision_recall_fscore_support"
   ]
  },
  {
   "cell_type": "code",
   "execution_count": 2,
   "metadata": {},
   "outputs": [],
   "source": [
    "x_train = pd.read_csv(\"MI-EEG-RWE-A01T.csv\", header=None)\n",
    "x_test = pd.read_csv(\"MI-EEG-RWE-A01E.csv\", header=None)\n",
    "y_train = pd.read_csv(\"EtiquetasA01T.csv\", header=None)\n",
    "y_test = pd.read_csv(\"EtiquetasA01E.csv\", header=None)"
   ]
  },
  {
   "cell_type": "code",
   "execution_count": 3,
   "metadata": {},
   "outputs": [
    {
     "name": "stdout",
     "output_type": "stream",
     "text": [
      "(288, 66)\n",
      "(288, 66)\n",
      "(288, 1)\n",
      "(288, 1)\n"
     ]
    }
   ],
   "source": [
    "print(x_train.shape)\n",
    "print(x_test.shape)\n",
    "print(y_train.shape)\n",
    "print(y_test.shape)"
   ]
  },
  {
   "cell_type": "code",
   "execution_count": 4,
   "metadata": {},
   "outputs": [],
   "source": [
    "#escalar los datos para que tengan media = 0 y desviacion estandar = 1\n",
    "scaler = StandardScaler().fit(x_train)\n",
    "x_train = scaler.transform(x_train)\n",
    "x_test = scaler.transform(x_test)"
   ]
  },
  {
   "cell_type": "code",
   "execution_count": 5,
   "metadata": {},
   "outputs": [
    {
     "name": "stdout",
     "output_type": "stream",
     "text": [
      "Iteration: 1\n"
     ]
    },
    {
     "name": "stderr",
     "output_type": "stream",
     "text": [
      "C:\\Users\\EdgarMoises\\Anaconda3\\lib\\site-packages\\sklearn\\utils\\validation.py:761: DataConversionWarning: A column-vector y was passed when a 1d array was expected. Please change the shape of y to (n_samples, ), for example using ravel().\n",
      "  y = column_or_1d(y, warn=True)\n",
      "C:\\Users\\EdgarMoises\\Anaconda3\\lib\\site-packages\\sklearn\\svm\\base.py:922: ConvergenceWarning: Liblinear failed to converge, increase the number of iterations.\n",
      "  \"the number of iterations.\", ConvergenceWarning)\n",
      "C:\\Users\\EdgarMoises\\Anaconda3\\lib\\site-packages\\sklearn\\utils\\validation.py:761: DataConversionWarning: A column-vector y was passed when a 1d array was expected. Please change the shape of y to (n_samples, ), for example using ravel().\n",
      "  y = column_or_1d(y, warn=True)\n"
     ]
    },
    {
     "name": "stdout",
     "output_type": "stream",
     "text": [
      "Accuracy: 0.5659722222222222\n",
      "kappa:  0.4212962962962963\n",
      "confusion matrix:\n",
      " [[45 17  4  6]\n",
      " [12 51  6  3]\n",
      " [ 8  1 29 34]\n",
      " [ 6  3 25 38]]\n",
      "(0.5660992381759694, 0.5659722222222222, 0.5652266442707619, None)\n",
      "Iteration: 2\n"
     ]
    },
    {
     "name": "stderr",
     "output_type": "stream",
     "text": [
      "C:\\Users\\EdgarMoises\\Anaconda3\\lib\\site-packages\\sklearn\\svm\\base.py:922: ConvergenceWarning: Liblinear failed to converge, increase the number of iterations.\n",
      "  \"the number of iterations.\", ConvergenceWarning)\n",
      "C:\\Users\\EdgarMoises\\Anaconda3\\lib\\site-packages\\sklearn\\utils\\validation.py:761: DataConversionWarning: A column-vector y was passed when a 1d array was expected. Please change the shape of y to (n_samples, ), for example using ravel().\n",
      "  y = column_or_1d(y, warn=True)\n"
     ]
    },
    {
     "name": "stdout",
     "output_type": "stream",
     "text": [
      "Accuracy: 0.5694444444444444\n",
      "kappa:  0.42592592592592593\n",
      "confusion matrix:\n",
      " [[45 18  3  6]\n",
      " [11 52  6  3]\n",
      " [ 8  1 29 34]\n",
      " [ 6  3 25 38]]\n",
      "(0.5687532770866104, 0.5694444444444444, 0.5681233099495291, None)\n",
      "Iteration: 3\n"
     ]
    },
    {
     "name": "stderr",
     "output_type": "stream",
     "text": [
      "C:\\Users\\EdgarMoises\\Anaconda3\\lib\\site-packages\\sklearn\\svm\\base.py:922: ConvergenceWarning: Liblinear failed to converge, increase the number of iterations.\n",
      "  \"the number of iterations.\", ConvergenceWarning)\n",
      "C:\\Users\\EdgarMoises\\Anaconda3\\lib\\site-packages\\sklearn\\utils\\validation.py:761: DataConversionWarning: A column-vector y was passed when a 1d array was expected. Please change the shape of y to (n_samples, ), for example using ravel().\n",
      "  y = column_or_1d(y, warn=True)\n"
     ]
    },
    {
     "name": "stdout",
     "output_type": "stream",
     "text": [
      "Accuracy: 0.5694444444444444\n",
      "kappa:  0.42592592592592593\n",
      "confusion matrix:\n",
      " [[45 17  4  6]\n",
      " [12 51  6  3]\n",
      " [ 8  1 29 34]\n",
      " [ 6  3 24 39]]\n",
      "(0.5695158416624408, 0.5694444444444444, 0.5684567747067747, None)\n",
      "Iteration: 4\n"
     ]
    },
    {
     "name": "stderr",
     "output_type": "stream",
     "text": [
      "C:\\Users\\EdgarMoises\\Anaconda3\\lib\\site-packages\\sklearn\\svm\\base.py:922: ConvergenceWarning: Liblinear failed to converge, increase the number of iterations.\n",
      "  \"the number of iterations.\", ConvergenceWarning)\n",
      "C:\\Users\\EdgarMoises\\Anaconda3\\lib\\site-packages\\sklearn\\utils\\validation.py:761: DataConversionWarning: A column-vector y was passed when a 1d array was expected. Please change the shape of y to (n_samples, ), for example using ravel().\n",
      "  y = column_or_1d(y, warn=True)\n"
     ]
    },
    {
     "name": "stdout",
     "output_type": "stream",
     "text": [
      "Accuracy: 0.5555555555555556\n",
      "kappa:  0.40740740740740744\n",
      "confusion matrix:\n",
      " [[39 25  2  6]\n",
      " [10 53  6  3]\n",
      " [ 8  1 29 34]\n",
      " [ 5  5 23 39]]\n",
      "(0.5547319321119478, 0.5555555555555555, 0.5518660444033578, None)\n",
      "Iteration: 5\n"
     ]
    },
    {
     "name": "stderr",
     "output_type": "stream",
     "text": [
      "C:\\Users\\EdgarMoises\\Anaconda3\\lib\\site-packages\\sklearn\\svm\\base.py:922: ConvergenceWarning: Liblinear failed to converge, increase the number of iterations.\n",
      "  \"the number of iterations.\", ConvergenceWarning)\n",
      "C:\\Users\\EdgarMoises\\Anaconda3\\lib\\site-packages\\sklearn\\utils\\validation.py:761: DataConversionWarning: A column-vector y was passed when a 1d array was expected. Please change the shape of y to (n_samples, ), for example using ravel().\n",
      "  y = column_or_1d(y, warn=True)\n"
     ]
    },
    {
     "name": "stdout",
     "output_type": "stream",
     "text": [
      "Accuracy: 0.5659722222222222\n",
      "kappa:  0.4212962962962963\n",
      "confusion matrix:\n",
      " [[45 16  4  7]\n",
      " [13 50  6  3]\n",
      " [ 9  1 29 33]\n",
      " [ 6  3 24 39]]\n",
      "(0.5666628217162797, 0.5659722222222222, 0.5652595358520565, None)\n",
      "Iteration: 6\n"
     ]
    },
    {
     "name": "stderr",
     "output_type": "stream",
     "text": [
      "C:\\Users\\EdgarMoises\\Anaconda3\\lib\\site-packages\\sklearn\\svm\\base.py:922: ConvergenceWarning: Liblinear failed to converge, increase the number of iterations.\n",
      "  \"the number of iterations.\", ConvergenceWarning)\n",
      "C:\\Users\\EdgarMoises\\Anaconda3\\lib\\site-packages\\sklearn\\utils\\validation.py:761: DataConversionWarning: A column-vector y was passed when a 1d array was expected. Please change the shape of y to (n_samples, ), for example using ravel().\n",
      "  y = column_or_1d(y, warn=True)\n"
     ]
    },
    {
     "name": "stdout",
     "output_type": "stream",
     "text": [
      "Accuracy: 0.5694444444444444\n",
      "kappa:  0.42592592592592593\n",
      "confusion matrix:\n",
      " [[44 18  4  6]\n",
      " [10 53  6  3]\n",
      " [ 8  1 30 33]\n",
      " [ 6  3 26 37]]\n",
      "(0.56915634378032, 0.5694444444444444, 0.5686271744516983, None)\n",
      "Iteration: 7\n"
     ]
    },
    {
     "name": "stderr",
     "output_type": "stream",
     "text": [
      "C:\\Users\\EdgarMoises\\Anaconda3\\lib\\site-packages\\sklearn\\svm\\base.py:922: ConvergenceWarning: Liblinear failed to converge, increase the number of iterations.\n",
      "  \"the number of iterations.\", ConvergenceWarning)\n",
      "C:\\Users\\EdgarMoises\\Anaconda3\\lib\\site-packages\\sklearn\\utils\\validation.py:761: DataConversionWarning: A column-vector y was passed when a 1d array was expected. Please change the shape of y to (n_samples, ), for example using ravel().\n",
      "  y = column_or_1d(y, warn=True)\n"
     ]
    },
    {
     "name": "stdout",
     "output_type": "stream",
     "text": [
      "Accuracy: 0.5590277777777778\n",
      "kappa:  0.4120370370370371\n",
      "confusion matrix:\n",
      " [[44 18  4  6]\n",
      " [14 49  6  3]\n",
      " [ 9  1 29 33]\n",
      " [ 6  3 24 39]]\n",
      "(0.5586698782241903, 0.5590277777777778, 0.5579111970592701, None)\n",
      "Iteration: 8\n"
     ]
    },
    {
     "name": "stderr",
     "output_type": "stream",
     "text": [
      "C:\\Users\\EdgarMoises\\Anaconda3\\lib\\site-packages\\sklearn\\svm\\base.py:922: ConvergenceWarning: Liblinear failed to converge, increase the number of iterations.\n",
      "  \"the number of iterations.\", ConvergenceWarning)\n",
      "C:\\Users\\EdgarMoises\\Anaconda3\\lib\\site-packages\\sklearn\\utils\\validation.py:761: DataConversionWarning: A column-vector y was passed when a 1d array was expected. Please change the shape of y to (n_samples, ), for example using ravel().\n",
      "  y = column_or_1d(y, warn=True)\n"
     ]
    },
    {
     "name": "stdout",
     "output_type": "stream",
     "text": [
      "Accuracy: 0.5590277777777778\n",
      "kappa:  0.4120370370370371\n",
      "confusion matrix:\n",
      " [[45 17  3  7]\n",
      " [15 48  6  3]\n",
      " [ 8  1 29 34]\n",
      " [ 6  4 23 39]]\n",
      "(0.5597779369900642, 0.5590277777777777, 0.5579526815520188, None)\n",
      "Iteration: 9\n"
     ]
    },
    {
     "name": "stderr",
     "output_type": "stream",
     "text": [
      "C:\\Users\\EdgarMoises\\Anaconda3\\lib\\site-packages\\sklearn\\svm\\base.py:922: ConvergenceWarning: Liblinear failed to converge, increase the number of iterations.\n",
      "  \"the number of iterations.\", ConvergenceWarning)\n",
      "C:\\Users\\EdgarMoises\\Anaconda3\\lib\\site-packages\\sklearn\\utils\\validation.py:761: DataConversionWarning: A column-vector y was passed when a 1d array was expected. Please change the shape of y to (n_samples, ), for example using ravel().\n",
      "  y = column_or_1d(y, warn=True)\n"
     ]
    },
    {
     "name": "stdout",
     "output_type": "stream",
     "text": [
      "Accuracy: 0.5798611111111112\n",
      "kappa:  0.43981481481481477\n",
      "confusion matrix:\n",
      " [[46 14  5  7]\n",
      " [11 52  6  3]\n",
      " [ 8  1 29 34]\n",
      " [ 5  4 23 40]]\n",
      "(0.5815112899619942, 0.5798611111111112, 0.5794025484166329, None)\n",
      "Iteration: 10\n",
      "Accuracy: 0.5625\n",
      "kappa:  0.41666666666666663\n",
      "confusion matrix:\n",
      " [[43 17  6  6]\n",
      " [12 51  6  3]\n",
      " [ 8  1 29 34]\n",
      " [ 6  3 24 39]]\n",
      "(0.5633213353454605, 0.5625, 0.5620283955186502, None)\n",
      "\n",
      "Resultados:\n",
      "accuracy: [0.5659722222222222, 0.5694444444444444, 0.5694444444444444, 0.5555555555555556, 0.5659722222222222, 0.5694444444444444, 0.5590277777777778, 0.5590277777777778, 0.5798611111111112, 0.5625]\n",
      "kappa: [0.4212962962962963, 0.42592592592592593, 0.42592592592592593, 0.40740740740740744, 0.4212962962962963, 0.42592592592592593, 0.4120370370370371, 0.4120370370370371, 0.43981481481481477, 0.41666666666666663]\n",
      "precision: [0.5660992381759694, 0.5687532770866104, 0.5695158416624408, 0.5547319321119478, 0.5666628217162797, 0.56915634378032, 0.5586698782241903, 0.5597779369900642, 0.5815112899619942, 0.5633213353454605]\n",
      "recall: [0.5659722222222222, 0.5694444444444444, 0.5694444444444444, 0.5555555555555555, 0.5659722222222222, 0.5694444444444444, 0.5590277777777778, 0.5590277777777777, 0.5798611111111112, 0.5625]\n",
      "f1: [0.5652266442707619, 0.5681233099495291, 0.5684567747067747, 0.5518660444033578, 0.5652595358520565, 0.5686271744516983, 0.5579111970592701, 0.5579526815520188, 0.5794025484166329, 0.5620283955186502]\n"
     ]
    },
    {
     "name": "stderr",
     "output_type": "stream",
     "text": [
      "C:\\Users\\EdgarMoises\\Anaconda3\\lib\\site-packages\\sklearn\\svm\\base.py:922: ConvergenceWarning: Liblinear failed to converge, increase the number of iterations.\n",
      "  \"the number of iterations.\", ConvergenceWarning)\n"
     ]
    }
   ],
   "source": [
    "array_test_acc = []\n",
    "array_kappa = []\n",
    "array_precision = []\n",
    "array_recall = []\n",
    "array_f1 = []\n",
    "for i in range(10):\n",
    "    print(\"Iteration:\", i+1);\n",
    "    \n",
    "    clf = LinearSVC().fit(x_train, y_train)\n",
    "    #clf = RandomForestClassifier().fit(x_train, y_train)\n",
    "    test_acc = clf.score(x_test, y_test)\n",
    "    print('Accuracy:', test_acc)\n",
    "    array_test_acc.append(test_acc)\n",
    "    y_pred = clf.predict(x_test)\n",
    "    kappa = cohen_kappa_score(y_test, y_pred)\n",
    "    print(\"kappa: \", kappa)\n",
    "    array_kappa.append(kappa)\n",
    "    matriz_confusion = confusion_matrix(y_test, y_pred)\n",
    "    print(\"confusion matrix:\\n\", matriz_confusion)\n",
    "    metricas = precision_recall_fscore_support(y_test, y_pred, average='macro')\n",
    "    print(metricas)\n",
    "    array_precision.append(metricas[0])\n",
    "    array_recall.append(metricas[1])\n",
    "    array_f1.append(metricas[2])\n",
    "    \n",
    "print()    \n",
    "print(\"Resultados:\")\n",
    "print(\"accuracy:\", array_test_acc)\n",
    "print(\"kappa:\", array_kappa)\n",
    "print(\"precision:\", array_precision)\n",
    "print(\"recall:\", array_recall)\n",
    "print(\"f1:\", array_f1)"
   ]
  },
  {
   "cell_type": "code",
   "execution_count": 6,
   "metadata": {},
   "outputs": [
    {
     "name": "stdout",
     "output_type": "stream",
     "text": [
      "Mean: 0.5656\n",
      "std: (+/- 0.0067)\n",
      "kappa: 0.4208\n",
      "precision: 0.5658\n",
      "recall: 0.5656\n",
      "f1: 0.5645\n"
     ]
    }
   ],
   "source": [
    "print(\"Mean: %.4f\" % np.mean(array_test_acc))\n",
    "print(\"std: (+/- %.4f)\" % np.std(array_test_acc))\n",
    "print(\"kappa: %.4f\" % np.mean(array_kappa))\n",
    "print(\"precision: %.4f\" % np.mean(array_precision))\n",
    "print(\"recall: %.4f\" % np.mean(array_recall))\n",
    "print(\"f1: %.4f\" % np.mean(array_f1))"
   ]
  }
 ],
 "metadata": {
  "kernelspec": {
   "display_name": "Python 3",
   "language": "python",
   "name": "python3"
  },
  "language_info": {
   "codemirror_mode": {
    "name": "ipython",
    "version": 3
   },
   "file_extension": ".py",
   "mimetype": "text/x-python",
   "name": "python",
   "nbconvert_exporter": "python",
   "pygments_lexer": "ipython3",
   "version": "3.7.3"
  }
 },
 "nbformat": 4,
 "nbformat_minor": 2
}

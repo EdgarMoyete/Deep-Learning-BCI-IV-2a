{
 "cells": [
  {
   "cell_type": "code",
   "execution_count": null,
   "metadata": {},
   "outputs": [],
   "source": [
    "#Edgar Moises Hernandez-Gonzalez\n",
    "#16/11/19\n",
    "#Clasificar RAW con CNN-1D + GRU"
   ]
  },
  {
   "cell_type": "code",
   "execution_count": 1,
   "metadata": {},
   "outputs": [],
   "source": [
    "import numpy as np\n",
    "import pandas as pd\n",
    "import matplotlib.pyplot as plt\n",
    "from sklearn.preprocessing import StandardScaler, LabelEncoder\n",
    "from tensorflow.keras.models import Sequential\n",
    "from tensorflow.keras.layers import TimeDistributed, Conv1D, MaxPool1D, Flatten, GRU, Dense, Dropout\n",
    "from sklearn.metrics import cohen_kappa_score, confusion_matrix, classification_report"
   ]
  },
  {
   "cell_type": "code",
   "execution_count": 2,
   "metadata": {},
   "outputs": [],
   "source": [
    "x_train = pd.read_csv(\"MI-EEG-RWE-A01T.csv\", header=None)\n",
    "x_test = pd.read_csv(\"MI-EEG-RWE-A01E.csv\", header=None)\n",
    "y_train = pd.read_csv(\"EtiquetasA01T.csv\", header=None)\n",
    "y_test = pd.read_csv(\"EtiquetasA01E.csv\", header=None)"
   ]
  },
  {
   "cell_type": "code",
   "execution_count": 3,
   "metadata": {},
   "outputs": [
    {
     "name": "stdout",
     "output_type": "stream",
     "text": [
      "(288, 66)\n",
      "(288, 66)\n",
      "(288, 1)\n",
      "(288, 1)\n"
     ]
    }
   ],
   "source": [
    "print(x_train.shape)\n",
    "print(x_test.shape)\n",
    "print(y_train.shape)\n",
    "print(y_test.shape)"
   ]
  },
  {
   "cell_type": "code",
   "execution_count": 4,
   "metadata": {},
   "outputs": [
    {
     "name": "stdout",
     "output_type": "stream",
     "text": [
      "n_samples_train: 288\n",
      "n_samples_test : 288\n"
     ]
    }
   ],
   "source": [
    "n_samples_train = len(y_train)\n",
    "n_samples_test = len(y_test) #en caso de no tener el y_test se puede utilizar el x_test\n",
    "\n",
    "print(\"n_samples_train:\", n_samples_train)\n",
    "print(\"n_samples_test :\", n_samples_test)"
   ]
  },
  {
   "cell_type": "code",
   "execution_count": 5,
   "metadata": {},
   "outputs": [
    {
     "name": "stdout",
     "output_type": "stream",
     "text": [
      "n_classes: 4\n"
     ]
    }
   ],
   "source": [
    "n_classes = len(np.unique(y_test)) #esto se podria calcular asi n_clases = len(np.unique(y)), la y puede ser train o test\n",
    "\n",
    "print(\"n_classes:\", n_classes)"
   ]
  },
  {
   "cell_type": "code",
   "execution_count": 6,
   "metadata": {},
   "outputs": [],
   "source": [
    "#escalar los datos para que tengan media = 0 y desviacion estandar = 1\n",
    "scaler = StandardScaler().fit(x_train)\n",
    "x_train = scaler.transform(x_train)\n",
    "x_test = scaler.transform(x_test)"
   ]
  },
  {
   "cell_type": "code",
   "execution_count": 7,
   "metadata": {},
   "outputs": [
    {
     "name": "stderr",
     "output_type": "stream",
     "text": [
      "C:\\Users\\EdgarMoises\\Anaconda3\\lib\\site-packages\\sklearn\\preprocessing\\label.py:219: DataConversionWarning: A column-vector y was passed when a 1d array was expected. Please change the shape of y to (n_samples, ), for example using ravel().\n",
      "  y = column_or_1d(y, warn=True)\n",
      "C:\\Users\\EdgarMoises\\Anaconda3\\lib\\site-packages\\sklearn\\preprocessing\\label.py:252: DataConversionWarning: A column-vector y was passed when a 1d array was expected. Please change the shape of y to (n_samples, ), for example using ravel().\n",
      "  y = column_or_1d(y, warn=True)\n"
     ]
    }
   ],
   "source": [
    "#codificar etiquetas con valores de 0 a nClases-1\n",
    "le = LabelEncoder().fit(y_train)\n",
    "y_train = le.transform(y_train)\n",
    "y_test = le.transform(y_test)"
   ]
  },
  {
   "cell_type": "code",
   "execution_count": 30,
   "metadata": {},
   "outputs": [
    {
     "name": "stdout",
     "output_type": "stream",
     "text": [
      "(288, 1, 3, 22)\n",
      "(288, 1, 3, 22)\n"
     ]
    }
   ],
   "source": [
    "#convertir de 2D a 4D\n",
    "x_train = x_train.reshape((n_samples_train, 1, 66, 1))\n",
    "x_test = x_test.reshape((n_samples_test, 1, 66, 1))\n",
    "\n",
    "print(x_train.shape)\n",
    "print(x_test.shape)"
   ]
  },
  {
   "cell_type": "code",
   "execution_count": 35,
   "metadata": {},
   "outputs": [],
   "source": [
    "model = Sequential()\n",
    "model.add(TimeDistributed(Conv1D(8, 11, activation='relu'), input_shape=(None,66,1)))\n",
    "#model.add(TimeDistributed(MaxPool1D(2)))\n",
    "#model.add(TimeDistributed(Conv1D(16, 11, activation='relu')))\n",
    "#model.add(TimeDistributed(MaxPool1D(2)))\n",
    "#model.add(TimeDistributed(Conv1D(16, 11, activation='relu')))\n",
    "#model.add(TimeDistributed(MaxPool1D(2)))\n",
    "model.add(TimeDistributed(Flatten()))\n",
    "model.add(GRU(16))\n",
    "#model.add(Dense(32, activation='relu'))\n",
    "#model.add(Dropout(0.5))\n",
    "model.add(Dense(n_classes, activation='softmax'))"
   ]
  },
  {
   "cell_type": "code",
   "execution_count": 36,
   "metadata": {},
   "outputs": [
    {
     "name": "stdout",
     "output_type": "stream",
     "text": [
      "_________________________________________________________________\n",
      "Layer (type)                 Output Shape              Param #   \n",
      "=================================================================\n",
      "time_distributed_16 (TimeDis (None, None, 1, 8)        536       \n",
      "_________________________________________________________________\n",
      "time_distributed_17 (TimeDis (None, None, 8)           0         \n",
      "_________________________________________________________________\n",
      "gru_4 (GRU)                  (None, 16)                1200      \n",
      "_________________________________________________________________\n",
      "dense_4 (Dense)              (None, 4)                 68        \n",
      "=================================================================\n",
      "Total params: 1,804\n",
      "Trainable params: 1,804\n",
      "Non-trainable params: 0\n",
      "_________________________________________________________________\n"
     ]
    }
   ],
   "source": [
    "model.summary()"
   ]
  },
  {
   "cell_type": "code",
   "execution_count": 37,
   "metadata": {},
   "outputs": [],
   "source": [
    "model.compile(optimizer='adam',\n",
    "              loss='sparse_categorical_crossentropy',\n",
    "              metrics=['accuracy'])"
   ]
  },
  {
   "cell_type": "code",
   "execution_count": 38,
   "metadata": {},
   "outputs": [
    {
     "name": "stdout",
     "output_type": "stream",
     "text": [
      "Train on 288 samples, validate on 288 samples\n",
      "Epoch 1/20\n",
      "288/288 [==============================] - 1s 3ms/sample - loss: 1.3901 - acc: 0.2812 - val_loss: 1.3671 - val_acc: 0.2986\n",
      "Epoch 2/20\n",
      "288/288 [==============================] - 0s 437us/sample - loss: 1.3687 - acc: 0.2986 - val_loss: 1.3589 - val_acc: 0.3056\n",
      "Epoch 3/20\n",
      "288/288 [==============================] - 0s 408us/sample - loss: 1.3574 - acc: 0.3194 - val_loss: 1.3517 - val_acc: 0.3125\n",
      "Epoch 4/20\n",
      "288/288 [==============================] - 0s 464us/sample - loss: 1.3482 - acc: 0.3264 - val_loss: 1.3481 - val_acc: 0.3264\n",
      "Epoch 5/20\n",
      "288/288 [==============================] - 0s 465us/sample - loss: 1.3376 - acc: 0.3472 - val_loss: 1.3414 - val_acc: 0.3194\n",
      "Epoch 6/20\n",
      "288/288 [==============================] - 0s 459us/sample - loss: 1.3281 - acc: 0.3576 - val_loss: 1.3386 - val_acc: 0.3160\n",
      "Epoch 7/20\n",
      "288/288 [==============================] - 0s 542us/sample - loss: 1.3175 - acc: 0.3646 - val_loss: 1.3336 - val_acc: 0.3125\n",
      "Epoch 8/20\n",
      "288/288 [==============================] - 0s 544us/sample - loss: 1.3066 - acc: 0.3785 - val_loss: 1.3279 - val_acc: 0.3160\n",
      "Epoch 9/20\n",
      "288/288 [==============================] - 0s 402us/sample - loss: 1.2943 - acc: 0.4132 - val_loss: 1.3300 - val_acc: 0.3333\n",
      "Epoch 10/20\n",
      "288/288 [==============================] - 0s 460us/sample - loss: 1.2797 - acc: 0.4201 - val_loss: 1.3296 - val_acc: 0.3368\n",
      "Epoch 11/20\n",
      "288/288 [==============================] - 0s 526us/sample - loss: 1.2618 - acc: 0.4514 - val_loss: 1.3210 - val_acc: 0.3472\n",
      "Epoch 12/20\n",
      "288/288 [==============================] - 0s 599us/sample - loss: 1.2439 - acc: 0.4757 - val_loss: 1.3025 - val_acc: 0.3646\n",
      "Epoch 13/20\n",
      "288/288 [==============================] - 0s 578us/sample - loss: 1.2224 - acc: 0.4514 - val_loss: 1.3136 - val_acc: 0.3507\n",
      "Epoch 14/20\n",
      "288/288 [==============================] - 0s 449us/sample - loss: 1.1982 - acc: 0.4653 - val_loss: 1.2914 - val_acc: 0.3611\n",
      "Epoch 15/20\n",
      "288/288 [==============================] - 0s 463us/sample - loss: 1.1758 - acc: 0.4653 - val_loss: 1.2736 - val_acc: 0.3542\n",
      "Epoch 16/20\n",
      "288/288 [==============================] - 0s 462us/sample - loss: 1.1508 - acc: 0.5000 - val_loss: 1.2393 - val_acc: 0.3750\n",
      "Epoch 17/20\n",
      "288/288 [==============================] - 0s 468us/sample - loss: 1.1261 - acc: 0.5000 - val_loss: 1.2378 - val_acc: 0.3819\n",
      "Epoch 18/20\n",
      "288/288 [==============================] - 0s 645us/sample - loss: 1.1031 - acc: 0.5069 - val_loss: 1.1742 - val_acc: 0.4028\n",
      "Epoch 19/20\n",
      "288/288 [==============================] - 0s 491us/sample - loss: 1.0823 - acc: 0.5278 - val_loss: 1.1957 - val_acc: 0.4132\n",
      "Epoch 20/20\n",
      "288/288 [==============================] - 0s 426us/sample - loss: 1.0630 - acc: 0.5417 - val_loss: 1.1726 - val_acc: 0.3889\n"
     ]
    }
   ],
   "source": [
    "history = model.fit(x_train, y_train, epochs=20, batch_size=18, validation_data=(x_test, y_test))"
   ]
  },
  {
   "cell_type": "code",
   "execution_count": 23,
   "metadata": {},
   "outputs": [
    {
     "name": "stdout",
     "output_type": "stream",
     "text": [
      "288/288 [==============================] - 0s 90us/sample - loss: 1.0161 - acc: 0.5417\n",
      "Test loss: 1.016074001789093\n",
      "Test accuracy: 0.5416667\n"
     ]
    }
   ],
   "source": [
    "test_loss, test_acc = model.evaluate(x_test, y_test)\n",
    "print('Test loss:', test_loss)\n",
    "print('Test accuracy:', test_acc)"
   ]
  },
  {
   "cell_type": "code",
   "execution_count": 24,
   "metadata": {},
   "outputs": [
    {
     "data": {
      "image/png": "[encoded data removed]",
      "text/plain": [
       "<Figure size 432x288 with 1 Axes>"
      ]
     },
     "metadata": {
      "needs_background": "light"
     },
     "output_type": "display_data"
    }
   ],
   "source": [
    "plt.plot(history.history['acc'])\n",
    "plt.plot(history.history['val_acc'])\n",
    "plt.grid()\n",
    "plt.xlabel('Epochs')\n",
    "plt.ylabel('Accuracy')\n",
    "plt.legend(['train', 'test'])\n",
    "plt.show()"
   ]
  },
  {
   "cell_type": "code",
   "execution_count": 25,
   "metadata": {},
   "outputs": [
    {
     "data": {
      "image/png": "[encoded data removed]",
      "text/plain": [
       "<Figure size 432x288 with 1 Axes>"
      ]
     },
     "metadata": {
      "needs_background": "light"
     },
     "output_type": "display_data"
    }
   ],
   "source": [
    "plt.plot(history.history['loss'])\n",
    "plt.plot(history.history['val_loss'])\n",
    "plt.grid()\n",
    "plt.xlabel('Epochs')\n",
    "plt.ylabel('Cross-Entropy')\n",
    "plt.legend(['train', 'test'])\n",
    "plt.show()"
   ]
  },
  {
   "cell_type": "code",
   "execution_count": 26,
   "metadata": {},
   "outputs": [],
   "source": [
    "probabilidades = model.predict(x_test)\n",
    "y_pred = np.argmax(probabilidades, 1) #1=fila"
   ]
  },
  {
   "cell_type": "code",
   "execution_count": 27,
   "metadata": {},
   "outputs": [
    {
     "name": "stdout",
     "output_type": "stream",
     "text": [
      "0.38888888888888884\n"
     ]
    }
   ],
   "source": [
    "kappa = cohen_kappa_score(y_test, y_pred)\n",
    "print(kappa)"
   ]
  },
  {
   "cell_type": "code",
   "execution_count": 28,
   "metadata": {},
   "outputs": [
    {
     "name": "stdout",
     "output_type": "stream",
     "text": [
      "[[47 16  2  7]\n",
      " [34 34  3  1]\n",
      " [11  0 26 35]\n",
      " [ 7  2 14 49]]\n"
     ]
    }
   ],
   "source": [
    "matrizConfusion = confusion_matrix(y_test, y_pred)\n",
    "print(matrizConfusion)"
   ]
  },
  {
   "cell_type": "code",
   "execution_count": 29,
   "metadata": {},
   "outputs": [
    {
     "name": "stdout",
     "output_type": "stream",
     "text": [
      "              precision    recall  f1-score   support\n",
      "\n",
      "           0       0.47      0.65      0.55        72\n",
      "           1       0.65      0.47      0.55        72\n",
      "           2       0.58      0.36      0.44        72\n",
      "           3       0.53      0.68      0.60        72\n",
      "\n",
      "   micro avg       0.54      0.54      0.54       288\n",
      "   macro avg       0.56      0.54      0.54       288\n",
      "weighted avg       0.56      0.54      0.54       288\n",
      "\n"
     ]
    }
   ],
   "source": [
    "reporteClassificacion = classification_report(y_test, y_pred)\n",
    "print(reporteClassificacion)"
   ]
  }
 ],
 "metadata": {
  "kernelspec": {
   "display_name": "Python 3",
   "language": "python",
   "name": "python3"
  },
  "language_info": {
   "codemirror_mode": {
    "name": "ipython",
    "version": 3
   },
   "file_extension": ".py",
   "mimetype": "text/x-python",
   "name": "python",
   "nbconvert_exporter": "python",
   "pygments_lexer": "ipython3",
   "version": "3.7.3"
  }
 },
 "nbformat": 4,
 "nbformat_minor": 2
}

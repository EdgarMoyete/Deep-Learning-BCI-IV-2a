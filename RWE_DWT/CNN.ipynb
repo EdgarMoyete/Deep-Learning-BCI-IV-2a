{
 "cells": [
  {
   "cell_type": "markdown",
   "metadata": {},
   "source": [
    "### Edgar Moises Hernandez-Gonzalez\n",
    "#### 19/11/19\n",
    "#### Clasificacion de RWE-DWT de MI-EEG con CNN"
   ]
  },
  {
   "cell_type": "code",
   "execution_count": 1,
   "metadata": {},
   "outputs": [],
   "source": [
    "import numpy as np\n",
    "import pandas as pd\n",
    "import matplotlib.pyplot as plt\n",
    "from sklearn.preprocessing import StandardScaler, LabelEncoder\n",
    "from tensorflow.keras.models import Sequential\n",
    "from tensorflow.keras.layers import Conv2D, MaxPool2D, Flatten, Dense, Dropout\n",
    "from sklearn.metrics import cohen_kappa_score, confusion_matrix, classification_report"
   ]
  },
  {
   "cell_type": "code",
   "execution_count": 3,
   "metadata": {},
   "outputs": [],
   "source": [
    "x_train = pd.read_csv(\"MI-EEG-RWE-A01T.csv\", header=None)\n",
    "x_test = pd.read_csv(\"MI-EEG-RWE-A01E.csv\", header=None)\n",
    "y_train = pd.read_csv(\"EtiquetasA01T.csv\", header=None)\n",
    "y_test = pd.read_csv(\"EtiquetasA01E.csv\", header=None)"
   ]
  },
  {
   "cell_type": "code",
   "execution_count": 4,
   "metadata": {},
   "outputs": [
    {
     "name": "stdout",
     "output_type": "stream",
     "text": [
      "(288, 66)\n",
      "(288, 66)\n",
      "(288, 1)\n",
      "(288, 1)\n"
     ]
    }
   ],
   "source": [
    "print(x_train.shape)\n",
    "print(x_test.shape)\n",
    "print(y_train.shape)\n",
    "print(y_test.shape)"
   ]
  },
  {
   "cell_type": "code",
   "execution_count": 5,
   "metadata": {},
   "outputs": [
    {
     "name": "stdout",
     "output_type": "stream",
     "text": [
      "n_samples_train: 288\n",
      "n_samples_test : 288\n"
     ]
    }
   ],
   "source": [
    "n_samples_train = len(y_train)\n",
    "n_samples_test = len(y_test) #en caso de no tener el y_test se puede utilizar el x_test\n",
    "\n",
    "print(\"n_samples_train:\", n_samples_train)\n",
    "print(\"n_samples_test :\", n_samples_test)"
   ]
  },
  {
   "cell_type": "code",
   "execution_count": 6,
   "metadata": {},
   "outputs": [
    {
     "name": "stdout",
     "output_type": "stream",
     "text": [
      "n_classes: 4\n"
     ]
    }
   ],
   "source": [
    "n_classes = len(np.unique(y_test)) #esto se podria calcular asi n_clases = len(np.unique(y)), la y puede ser train o test\n",
    "\n",
    "print(\"n_classes:\", n_classes)"
   ]
  },
  {
   "cell_type": "code",
   "execution_count": 7,
   "metadata": {},
   "outputs": [],
   "source": [
    "#escalar los datos para que tengan media = 0 y desviacion estandar = 1\n",
    "scaler = StandardScaler().fit(x_train)\n",
    "x_train = scaler.transform(x_train)\n",
    "x_test = scaler.transform(x_test)"
   ]
  },
  {
   "cell_type": "code",
   "execution_count": 8,
   "metadata": {},
   "outputs": [
    {
     "name": "stderr",
     "output_type": "stream",
     "text": [
      "C:\\Users\\EdgarMoises\\Anaconda3\\lib\\site-packages\\sklearn\\preprocessing\\label.py:219: DataConversionWarning: A column-vector y was passed when a 1d array was expected. Please change the shape of y to (n_samples, ), for example using ravel().\n",
      "  y = column_or_1d(y, warn=True)\n",
      "C:\\Users\\EdgarMoises\\Anaconda3\\lib\\site-packages\\sklearn\\preprocessing\\label.py:252: DataConversionWarning: A column-vector y was passed when a 1d array was expected. Please change the shape of y to (n_samples, ), for example using ravel().\n",
      "  y = column_or_1d(y, warn=True)\n"
     ]
    }
   ],
   "source": [
    "#codificar etiquetas con valores de 0 a nClases-1\n",
    "le = LabelEncoder().fit(y_train)\n",
    "y_train = le.transform(y_train)\n",
    "y_test = le.transform(y_test)"
   ]
  },
  {
   "cell_type": "code",
   "execution_count": 9,
   "metadata": {},
   "outputs": [
    {
     "name": "stdout",
     "output_type": "stream",
     "text": [
      "(288, 22, 3, 1)\n",
      "(288, 22, 3, 1)\n"
     ]
    }
   ],
   "source": [
    "#convertir de 2D a 4D\n",
    "x_train = x_train.reshape((n_samples_train, 22, 3, 1))\n",
    "x_test = x_test.reshape((n_samples_test, 22, 3, 1))\n",
    "\n",
    "print(x_train.shape)\n",
    "print(x_test.shape)"
   ]
  },
  {
   "cell_type": "code",
   "execution_count": 35,
   "metadata": {},
   "outputs": [],
   "source": [
    "model = Sequential()\n",
    "model.add(Conv2D(16, (3,3), activation='relu', input_shape=(22,3,1)))\n",
    "model.add(Flatten())\n",
    "model.add(Dense(128, activation='relu'))\n",
    "model.add(Dropout(0.5))\n",
    "model.add(Dense(n_classes, activation='softmax'))"
   ]
  },
  {
   "cell_type": "code",
   "execution_count": 36,
   "metadata": {},
   "outputs": [
    {
     "name": "stdout",
     "output_type": "stream",
     "text": [
      "_________________________________________________________________\n",
      "Layer (type)                 Output Shape              Param #   \n",
      "=================================================================\n",
      "conv2d_3 (Conv2D)            (None, 20, 1, 16)         160       \n",
      "_________________________________________________________________\n",
      "flatten_2 (Flatten)          (None, 320)               0         \n",
      "_________________________________________________________________\n",
      "dense_4 (Dense)              (None, 128)               41088     \n",
      "_________________________________________________________________\n",
      "dropout_2 (Dropout)          (None, 128)               0         \n",
      "_________________________________________________________________\n",
      "dense_5 (Dense)              (None, 4)                 516       \n",
      "=================================================================\n",
      "Total params: 41,764\n",
      "Trainable params: 41,764\n",
      "Non-trainable params: 0\n",
      "_________________________________________________________________\n"
     ]
    }
   ],
   "source": [
    "model.summary()"
   ]
  },
  {
   "cell_type": "code",
   "execution_count": 37,
   "metadata": {},
   "outputs": [],
   "source": [
    "model.compile(optimizer='adam',\n",
    "              loss='sparse_categorical_crossentropy',\n",
    "              metrics=['accuracy'])"
   ]
  },
  {
   "cell_type": "code",
   "execution_count": 38,
   "metadata": {},
   "outputs": [
    {
     "name": "stdout",
     "output_type": "stream",
     "text": [
      "Train on 288 samples, validate on 288 samples\n",
      "Epoch 1/20\n",
      "288/288 [==============================] - 0s 1ms/sample - loss: 1.3755 - acc: 0.3229 - val_loss: 1.3226 - val_acc: 0.3646\n",
      "Epoch 2/20\n",
      "288/288 [==============================] - 0s 363us/sample - loss: 1.2784 - acc: 0.4062 - val_loss: 1.2900 - val_acc: 0.3507\n",
      "Epoch 3/20\n",
      "288/288 [==============================] - 0s 319us/sample - loss: 1.2123 - acc: 0.4792 - val_loss: 1.2189 - val_acc: 0.4549\n",
      "Epoch 4/20\n",
      "288/288 [==============================] - 0s 308us/sample - loss: 1.1213 - acc: 0.5382 - val_loss: 1.1532 - val_acc: 0.4444\n",
      "Epoch 5/20\n",
      "288/288 [==============================] - 0s 329us/sample - loss: 1.0547 - acc: 0.5382 - val_loss: 1.0984 - val_acc: 0.4931\n",
      "Epoch 6/20\n",
      "288/288 [==============================] - ETA: 0s - loss: 0.9844 - acc: 0.563 - 0s 310us/sample - loss: 0.9970 - acc: 0.5521 - val_loss: 1.1062 - val_acc: 0.4479\n",
      "Epoch 7/20\n",
      "288/288 [==============================] - 0s 323us/sample - loss: 0.9576 - acc: 0.6111 - val_loss: 1.0266 - val_acc: 0.5312\n",
      "Epoch 8/20\n",
      "288/288 [==============================] - 0s 305us/sample - loss: 0.8814 - acc: 0.6250 - val_loss: 1.0628 - val_acc: 0.4931\n",
      "Epoch 9/20\n",
      "288/288 [==============================] - 0s 322us/sample - loss: 0.8643 - acc: 0.6285 - val_loss: 1.0525 - val_acc: 0.4965\n",
      "Epoch 10/20\n",
      "288/288 [==============================] - 0s 332us/sample - loss: 0.8331 - acc: 0.6597 - val_loss: 1.0405 - val_acc: 0.5139\n",
      "Epoch 11/20\n",
      "288/288 [==============================] - 0s 329us/sample - loss: 0.8146 - acc: 0.6458 - val_loss: 1.0052 - val_acc: 0.5139\n",
      "Epoch 12/20\n",
      "288/288 [==============================] - 0s 315us/sample - loss: 0.7717 - acc: 0.6910 - val_loss: 1.0146 - val_acc: 0.5382\n",
      "Epoch 13/20\n",
      "288/288 [==============================] - 0s 319us/sample - loss: 0.7409 - acc: 0.6771 - val_loss: 1.0195 - val_acc: 0.5312\n",
      "Epoch 14/20\n",
      "288/288 [==============================] - 0s 326us/sample - loss: 0.7073 - acc: 0.7257 - val_loss: 1.1600 - val_acc: 0.5174\n",
      "Epoch 15/20\n",
      "288/288 [==============================] - 0s 357us/sample - loss: 0.7461 - acc: 0.7014 - val_loss: 0.9842 - val_acc: 0.5625\n",
      "Epoch 16/20\n",
      "288/288 [==============================] - 0s 371us/sample - loss: 0.6602 - acc: 0.7326 - val_loss: 1.0458 - val_acc: 0.5347\n",
      "Epoch 17/20\n",
      "288/288 [==============================] - 0s 436us/sample - loss: 0.6793 - acc: 0.7153 - val_loss: 1.0779 - val_acc: 0.5139\n",
      "Epoch 18/20\n",
      "288/288 [==============================] - 0s 354us/sample - loss: 0.6588 - acc: 0.7153 - val_loss: 1.0172 - val_acc: 0.5451\n",
      "Epoch 19/20\n",
      "288/288 [==============================] - 0s 326us/sample - loss: 0.6354 - acc: 0.7535 - val_loss: 1.0553 - val_acc: 0.5278\n",
      "Epoch 20/20\n",
      "288/288 [==============================] - ETA: 0s - loss: 0.6114 - acc: 0.737 - 0s 308us/sample - loss: 0.6033 - acc: 0.7396 - val_loss: 1.1319 - val_acc: 0.5417\n"
     ]
    }
   ],
   "source": [
    "history = model.fit(x_train, y_train, epochs=20, batch_size=18, validation_data=(x_test, y_test))"
   ]
  },
  {
   "cell_type": "code",
   "execution_count": 39,
   "metadata": {},
   "outputs": [
    {
     "name": "stdout",
     "output_type": "stream",
     "text": [
      "288/288 [==============================] - 0s 66us/sample - loss: 1.1319 - acc: 0.5417\n",
      "Test loss: 1.1318661371866863\n",
      "Test accuracy: 0.5416667\n"
     ]
    }
   ],
   "source": [
    "test_loss, test_acc = model.evaluate(x_test, y_test)\n",
    "print('Test loss:', test_loss)\n",
    "print('Test accuracy:', test_acc)"
   ]
  },
  {
   "cell_type": "code",
   "execution_count": 40,
   "metadata": {},
   "outputs": [
    {
     "data": {
      "image/png": "[encoded data removed]",
      "text/plain": [
       "<Figure size 432x288 with 1 Axes>"
      ]
     },
     "metadata": {
      "needs_background": "light"
     },
     "output_type": "display_data"
    }
   ],
   "source": [
    "plt.plot(history.history['acc'])\n",
    "plt.plot(history.history['val_acc'])\n",
    "plt.grid()\n",
    "plt.xlabel('Epochs')\n",
    "plt.ylabel('Accuracy')\n",
    "plt.legend(['train', 'test'])\n",
    "plt.show()"
   ]
  },
  {
   "cell_type": "code",
   "execution_count": 41,
   "metadata": {},
   "outputs": [
    {
     "data": {
      "image/png": "[encoded data removed]",
      "text/plain": [
       "<Figure size 432x288 with 1 Axes>"
      ]
     },
     "metadata": {
      "needs_background": "light"
     },
     "output_type": "display_data"
    }
   ],
   "source": [
    "plt.plot(history.history['loss'])\n",
    "plt.plot(history.history['val_loss'])\n",
    "plt.grid()\n",
    "plt.xlabel('Epochs')\n",
    "plt.ylabel('Cross-Entropy')\n",
    "plt.legend(['train', 'test'])\n",
    "plt.show()"
   ]
  },
  {
   "cell_type": "code",
   "execution_count": 31,
   "metadata": {},
   "outputs": [],
   "source": [
    "probabilidades = model.predict(x_test)\n",
    "y_pred = np.argmax(probabilidades, 1) #1=fila"
   ]
  },
  {
   "cell_type": "code",
   "execution_count": 32,
   "metadata": {},
   "outputs": [
    {
     "name": "stdout",
     "output_type": "stream",
     "text": [
      "0.4027777777777778\n"
     ]
    }
   ],
   "source": [
    "kappa = cohen_kappa_score(y_test, y_pred)\n",
    "print(kappa)"
   ]
  },
  {
   "cell_type": "code",
   "execution_count": 33,
   "metadata": {},
   "outputs": [
    {
     "name": "stdout",
     "output_type": "stream",
     "text": [
      "[[41 22  3  6]\n",
      " [24 43  4  1]\n",
      " [11  2 31 28]\n",
      " [ 8  3 17 44]]\n"
     ]
    }
   ],
   "source": [
    "matrizConfusion = confusion_matrix(y_test, y_pred)\n",
    "print(matrizConfusion)"
   ]
  },
  {
   "cell_type": "code",
   "execution_count": 34,
   "metadata": {},
   "outputs": [
    {
     "name": "stdout",
     "output_type": "stream",
     "text": [
      "              precision    recall  f1-score   support\n",
      "\n",
      "           0       0.49      0.57      0.53        72\n",
      "           1       0.61      0.60      0.61        72\n",
      "           2       0.56      0.43      0.49        72\n",
      "           3       0.56      0.61      0.58        72\n",
      "\n",
      "   micro avg       0.55      0.55      0.55       288\n",
      "   macro avg       0.56      0.55      0.55       288\n",
      "weighted avg       0.56      0.55      0.55       288\n",
      "\n"
     ]
    }
   ],
   "source": [
    "reporteClassificacion = classification_report(y_test, y_pred)\n",
    "print(reporteClassificacion)"
   ]
  }
 ],
 "metadata": {
  "kernelspec": {
   "display_name": "Python 3",
   "language": "python",
   "name": "python3"
  },
  "language_info": {
   "codemirror_mode": {
    "name": "ipython",
    "version": 3
   },
   "file_extension": ".py",
   "mimetype": "text/x-python",
   "name": "python",
   "nbconvert_exporter": "python",
   "pygments_lexer": "ipython3",
   "version": "3.7.3"
  }
 },
 "nbformat": 4,
 "nbformat_minor": 2
}

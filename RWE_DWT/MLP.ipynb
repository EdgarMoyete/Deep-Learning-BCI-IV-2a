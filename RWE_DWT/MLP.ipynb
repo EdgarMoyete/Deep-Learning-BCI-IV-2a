{
 "cells": [
  {
   "cell_type": "markdown",
   "metadata": {},
   "source": [
    "### Edgar Moises Hernandez-Gonzalez\n",
    "#### 19/11/19-25/11/19\n",
    "#### Clasificacion de RWE-DWT de MI-EEG con MLP\n",
    "##### 10 ejecuciones independientes para obtener la media y desviacion estandar"
   ]
  },
  {
   "cell_type": "code",
   "execution_count": 1,
   "metadata": {},
   "outputs": [],
   "source": [
    "import numpy as np\n",
    "import pandas as pd\n",
    "from sklearn.preprocessing import StandardScaler\n",
    "from sklearn.neural_network import MLPClassifier\n",
    "from sklearn.metrics import cohen_kappa_score, confusion_matrix, precision_recall_fscore_support"
   ]
  },
  {
   "cell_type": "code",
   "execution_count": 2,
   "metadata": {},
   "outputs": [],
   "source": [
    "x_train = pd.read_csv(\"MI-EEG-RWE-A01T.csv\", header=None)\n",
    "x_test = pd.read_csv(\"MI-EEG-RWE-A01E.csv\", header=None)\n",
    "y_train = pd.read_csv(\"EtiquetasA01T.csv\", header=None)\n",
    "y_test = pd.read_csv(\"EtiquetasA01E.csv\", header=None)"
   ]
  },
  {
   "cell_type": "code",
   "execution_count": 3,
   "metadata": {},
   "outputs": [
    {
     "name": "stdout",
     "output_type": "stream",
     "text": [
      "(288, 66)\n",
      "(288, 66)\n",
      "(288, 1)\n",
      "(288, 1)\n"
     ]
    }
   ],
   "source": [
    "print(x_train.shape)\n",
    "print(x_test.shape)\n",
    "print(y_train.shape)\n",
    "print(y_test.shape)"
   ]
  },
  {
   "cell_type": "code",
   "execution_count": 4,
   "metadata": {},
   "outputs": [],
   "source": [
    "#escalar los datos para que tengan media = 0 y desviacion estandar = 1\n",
    "scaler = StandardScaler().fit(x_train)\n",
    "x_train = scaler.transform(x_train)\n",
    "x_test = scaler.transform(x_test)"
   ]
  },
  {
   "cell_type": "code",
   "execution_count": 5,
   "metadata": {},
   "outputs": [
    {
     "name": "stdout",
     "output_type": "stream",
     "text": [
      "Iteration: 1\n"
     ]
    },
    {
     "name": "stderr",
     "output_type": "stream",
     "text": [
      "C:\\Users\\EdgarMoises\\Anaconda3\\lib\\site-packages\\sklearn\\neural_network\\multilayer_perceptron.py:916: DataConversionWarning: A column-vector y was passed when a 1d array was expected. Please change the shape of y to (n_samples, ), for example using ravel().\n",
      "  y = column_or_1d(y, warn=True)\n",
      "C:\\Users\\EdgarMoises\\Anaconda3\\lib\\site-packages\\sklearn\\neural_network\\multilayer_perceptron.py:562: ConvergenceWarning: Stochastic Optimizer: Maximum iterations (200) reached and the optimization hasn't converged yet.\n",
      "  % self.max_iter, ConvergenceWarning)\n",
      "C:\\Users\\EdgarMoises\\Anaconda3\\lib\\site-packages\\sklearn\\neural_network\\multilayer_perceptron.py:916: DataConversionWarning: A column-vector y was passed when a 1d array was expected. Please change the shape of y to (n_samples, ), for example using ravel().\n",
      "  y = column_or_1d(y, warn=True)\n"
     ]
    },
    {
     "name": "stdout",
     "output_type": "stream",
     "text": [
      "Accuracy: 0.5173611111111112\n",
      "kappa:  0.3564814814814815\n",
      "confusion matrix:\n",
      " [[51 11  5  5]\n",
      " [36 29  6  1]\n",
      " [18  1 32 21]\n",
      " [13  2 20 37]]\n",
      "(0.5481708756045448, 0.5173611111111112, 0.514845413120753, None)\n",
      "Iteration: 2\n"
     ]
    },
    {
     "name": "stderr",
     "output_type": "stream",
     "text": [
      "C:\\Users\\EdgarMoises\\Anaconda3\\lib\\site-packages\\sklearn\\neural_network\\multilayer_perceptron.py:562: ConvergenceWarning: Stochastic Optimizer: Maximum iterations (200) reached and the optimization hasn't converged yet.\n",
      "  % self.max_iter, ConvergenceWarning)\n",
      "C:\\Users\\EdgarMoises\\Anaconda3\\lib\\site-packages\\sklearn\\neural_network\\multilayer_perceptron.py:916: DataConversionWarning: A column-vector y was passed when a 1d array was expected. Please change the shape of y to (n_samples, ), for example using ravel().\n",
      "  y = column_or_1d(y, warn=True)\n"
     ]
    },
    {
     "name": "stdout",
     "output_type": "stream",
     "text": [
      "Accuracy: 0.5520833333333334\n",
      "kappa:  0.4027777777777778\n",
      "confusion matrix:\n",
      " [[45 16  4  7]\n",
      " [19 46  6  1]\n",
      " [15  1 39 17]\n",
      " [17  2 24 29]]\n",
      "(0.5619314800179527, 0.5520833333333333, 0.5513739068074582, None)\n",
      "Iteration: 3\n"
     ]
    },
    {
     "name": "stderr",
     "output_type": "stream",
     "text": [
      "C:\\Users\\EdgarMoises\\Anaconda3\\lib\\site-packages\\sklearn\\neural_network\\multilayer_perceptron.py:562: ConvergenceWarning: Stochastic Optimizer: Maximum iterations (200) reached and the optimization hasn't converged yet.\n",
      "  % self.max_iter, ConvergenceWarning)\n",
      "C:\\Users\\EdgarMoises\\Anaconda3\\lib\\site-packages\\sklearn\\neural_network\\multilayer_perceptron.py:916: DataConversionWarning: A column-vector y was passed when a 1d array was expected. Please change the shape of y to (n_samples, ), for example using ravel().\n",
      "  y = column_or_1d(y, warn=True)\n"
     ]
    },
    {
     "name": "stdout",
     "output_type": "stream",
     "text": [
      "Accuracy: 0.5625\n",
      "kappa:  0.41666666666666663\n",
      "confusion matrix:\n",
      " [[42 19  4  7]\n",
      " [16 48  7  1]\n",
      " [12  2 36 22]\n",
      " [11  2 23 36]]\n",
      "(0.5635787790717368, 0.5625, 0.5622824157819295, None)\n",
      "Iteration: 4\n"
     ]
    },
    {
     "name": "stderr",
     "output_type": "stream",
     "text": [
      "C:\\Users\\EdgarMoises\\Anaconda3\\lib\\site-packages\\sklearn\\neural_network\\multilayer_perceptron.py:562: ConvergenceWarning: Stochastic Optimizer: Maximum iterations (200) reached and the optimization hasn't converged yet.\n",
      "  % self.max_iter, ConvergenceWarning)\n",
      "C:\\Users\\EdgarMoises\\Anaconda3\\lib\\site-packages\\sklearn\\neural_network\\multilayer_perceptron.py:916: DataConversionWarning: A column-vector y was passed when a 1d array was expected. Please change the shape of y to (n_samples, ), for example using ravel().\n",
      "  y = column_or_1d(y, warn=True)\n"
     ]
    },
    {
     "name": "stdout",
     "output_type": "stream",
     "text": [
      "Accuracy: 0.5486111111111112\n",
      "kappa:  0.39814814814814814\n",
      "confusion matrix:\n",
      " [[47 13  6  6]\n",
      " [27 37  7  1]\n",
      " [ 7  1 44 20]\n",
      " [14  3 25 30]]\n",
      "(0.5607057956544478, 0.548611111111111, 0.546680172324233, None)\n",
      "Iteration: 5\n"
     ]
    },
    {
     "name": "stderr",
     "output_type": "stream",
     "text": [
      "C:\\Users\\EdgarMoises\\Anaconda3\\lib\\site-packages\\sklearn\\neural_network\\multilayer_perceptron.py:562: ConvergenceWarning: Stochastic Optimizer: Maximum iterations (200) reached and the optimization hasn't converged yet.\n",
      "  % self.max_iter, ConvergenceWarning)\n",
      "C:\\Users\\EdgarMoises\\Anaconda3\\lib\\site-packages\\sklearn\\neural_network\\multilayer_perceptron.py:916: DataConversionWarning: A column-vector y was passed when a 1d array was expected. Please change the shape of y to (n_samples, ), for example using ravel().\n",
      "  y = column_or_1d(y, warn=True)\n"
     ]
    },
    {
     "name": "stdout",
     "output_type": "stream",
     "text": [
      "Accuracy: 0.5069444444444444\n",
      "kappa:  0.34259259259259256\n",
      "confusion matrix:\n",
      " [[49 14  3  6]\n",
      " [29 36  6  1]\n",
      " [19  1 30 22]\n",
      " [17  3 21 31]]\n",
      "(0.5282894736842105, 0.5069444444444444, 0.5056381790252759, None)\n",
      "Iteration: 6\n"
     ]
    },
    {
     "name": "stderr",
     "output_type": "stream",
     "text": [
      "C:\\Users\\EdgarMoises\\Anaconda3\\lib\\site-packages\\sklearn\\neural_network\\multilayer_perceptron.py:562: ConvergenceWarning: Stochastic Optimizer: Maximum iterations (200) reached and the optimization hasn't converged yet.\n",
      "  % self.max_iter, ConvergenceWarning)\n",
      "C:\\Users\\EdgarMoises\\Anaconda3\\lib\\site-packages\\sklearn\\neural_network\\multilayer_perceptron.py:916: DataConversionWarning: A column-vector y was passed when a 1d array was expected. Please change the shape of y to (n_samples, ), for example using ravel().\n",
      "  y = column_or_1d(y, warn=True)\n"
     ]
    },
    {
     "name": "stdout",
     "output_type": "stream",
     "text": [
      "Accuracy: 0.5520833333333334\n",
      "kappa:  0.4027777777777778\n",
      "confusion matrix:\n",
      " [[51 12  2  7]\n",
      " [25 41  5  1]\n",
      " [16  2 31 23]\n",
      " [14  3 19 36]]\n",
      "(0.567300427288616, 0.5520833333333333, 0.5506021762959876, None)\n",
      "Iteration: 7\n"
     ]
    },
    {
     "name": "stderr",
     "output_type": "stream",
     "text": [
      "C:\\Users\\EdgarMoises\\Anaconda3\\lib\\site-packages\\sklearn\\neural_network\\multilayer_perceptron.py:562: ConvergenceWarning: Stochastic Optimizer: Maximum iterations (200) reached and the optimization hasn't converged yet.\n",
      "  % self.max_iter, ConvergenceWarning)\n",
      "C:\\Users\\EdgarMoises\\Anaconda3\\lib\\site-packages\\sklearn\\neural_network\\multilayer_perceptron.py:916: DataConversionWarning: A column-vector y was passed when a 1d array was expected. Please change the shape of y to (n_samples, ), for example using ravel().\n",
      "  y = column_or_1d(y, warn=True)\n"
     ]
    },
    {
     "name": "stdout",
     "output_type": "stream",
     "text": [
      "Accuracy: 0.5416666666666666\n",
      "kappa:  0.38888888888888884\n",
      "confusion matrix:\n",
      " [[46 16  5  5]\n",
      " [21 43  7  1]\n",
      " [11  3 32 26]\n",
      " [13  3 21 35]]\n",
      "(0.5454321797605379, 0.5416666666666666, 0.5407262027912935, None)\n",
      "Iteration: 8\n"
     ]
    },
    {
     "name": "stderr",
     "output_type": "stream",
     "text": [
      "C:\\Users\\EdgarMoises\\Anaconda3\\lib\\site-packages\\sklearn\\neural_network\\multilayer_perceptron.py:562: ConvergenceWarning: Stochastic Optimizer: Maximum iterations (200) reached and the optimization hasn't converged yet.\n",
      "  % self.max_iter, ConvergenceWarning)\n",
      "C:\\Users\\EdgarMoises\\Anaconda3\\lib\\site-packages\\sklearn\\neural_network\\multilayer_perceptron.py:916: DataConversionWarning: A column-vector y was passed when a 1d array was expected. Please change the shape of y to (n_samples, ), for example using ravel().\n",
      "  y = column_or_1d(y, warn=True)\n"
     ]
    },
    {
     "name": "stdout",
     "output_type": "stream",
     "text": [
      "Accuracy: 0.5173611111111112\n",
      "kappa:  0.3564814814814815\n",
      "confusion matrix:\n",
      " [[42 19  5  6]\n",
      " [25 39  7  1]\n",
      " [12  1 36 23]\n",
      " [12  2 26 32]]\n",
      "(0.5258745606445236, 0.5173611111111112, 0.5181415534891078, None)\n",
      "Iteration: 9\n"
     ]
    },
    {
     "name": "stderr",
     "output_type": "stream",
     "text": [
      "C:\\Users\\EdgarMoises\\Anaconda3\\lib\\site-packages\\sklearn\\neural_network\\multilayer_perceptron.py:562: ConvergenceWarning: Stochastic Optimizer: Maximum iterations (200) reached and the optimization hasn't converged yet.\n",
      "  % self.max_iter, ConvergenceWarning)\n",
      "C:\\Users\\EdgarMoises\\Anaconda3\\lib\\site-packages\\sklearn\\neural_network\\multilayer_perceptron.py:916: DataConversionWarning: A column-vector y was passed when a 1d array was expected. Please change the shape of y to (n_samples, ), for example using ravel().\n",
      "  y = column_or_1d(y, warn=True)\n"
     ]
    },
    {
     "name": "stdout",
     "output_type": "stream",
     "text": [
      "Accuracy: 0.5243055555555556\n",
      "kappa:  0.3657407407407407\n",
      "confusion matrix:\n",
      " [[52 12  4  4]\n",
      " [31 34  6  1]\n",
      " [15  2 30 25]\n",
      " [13  3 21 35]]\n",
      "(0.5413499880712995, 0.5243055555555556, 0.5208070660106519, None)\n",
      "Iteration: 10\n",
      "Accuracy: 0.5138888888888888\n",
      "kappa:  0.35185185185185186\n",
      "confusion matrix:\n",
      " [[48 15  2  7]\n",
      " [29 36  7  0]\n",
      " [20  1 30 21]\n",
      " [15  2 21 34]]\n",
      "(0.5359062980030722, 0.5138888888888888, 0.5137939607439932, None)\n",
      "\n",
      "Resultados:\n",
      "accuracy: [0.5173611111111112, 0.5520833333333334, 0.5625, 0.5486111111111112, 0.5069444444444444, 0.5520833333333334, 0.5416666666666666, 0.5173611111111112, 0.5243055555555556, 0.5138888888888888]\n",
      "kappa: [0.3564814814814815, 0.4027777777777778, 0.41666666666666663, 0.39814814814814814, 0.34259259259259256, 0.4027777777777778, 0.38888888888888884, 0.3564814814814815, 0.3657407407407407, 0.35185185185185186]\n",
      "precision: [0.5481708756045448, 0.5619314800179527, 0.5635787790717368, 0.5607057956544478, 0.5282894736842105, 0.567300427288616, 0.5454321797605379, 0.5258745606445236, 0.5413499880712995, 0.5359062980030722]\n",
      "recall: [0.5173611111111112, 0.5520833333333333, 0.5625, 0.548611111111111, 0.5069444444444444, 0.5520833333333333, 0.5416666666666666, 0.5173611111111112, 0.5243055555555556, 0.5138888888888888]\n",
      "f1: [0.514845413120753, 0.5513739068074582, 0.5622824157819295, 0.546680172324233, 0.5056381790252759, 0.5506021762959876, 0.5407262027912935, 0.5181415534891078, 0.5208070660106519, 0.5137939607439932]\n"
     ]
    },
    {
     "name": "stderr",
     "output_type": "stream",
     "text": [
      "C:\\Users\\EdgarMoises\\Anaconda3\\lib\\site-packages\\sklearn\\neural_network\\multilayer_perceptron.py:562: ConvergenceWarning: Stochastic Optimizer: Maximum iterations (200) reached and the optimization hasn't converged yet.\n",
      "  % self.max_iter, ConvergenceWarning)\n"
     ]
    }
   ],
   "source": [
    "array_test_acc = []\n",
    "array_kappa = []\n",
    "array_precision = []\n",
    "array_recall = []\n",
    "array_f1 = []\n",
    "for i in range(10):\n",
    "    print(\"Iteration:\", i+1);\n",
    "    \n",
    "    clf = MLPClassifier().fit(x_train, y_train)\n",
    "    test_acc = clf.score(x_test, y_test)\n",
    "    print('Accuracy:', test_acc)\n",
    "    array_test_acc.append(test_acc)\n",
    "    y_pred = clf.predict(x_test)\n",
    "    kappa = cohen_kappa_score(y_test, y_pred)\n",
    "    print(\"kappa: \", kappa)\n",
    "    array_kappa.append(kappa)\n",
    "    matriz_confusion = confusion_matrix(y_test, y_pred)\n",
    "    print(\"confusion matrix:\\n\", matriz_confusion)\n",
    "    metricas = precision_recall_fscore_support(y_test, y_pred, average='macro')\n",
    "    print(metricas)\n",
    "    array_precision.append(metricas[0])\n",
    "    array_recall.append(metricas[1])\n",
    "    array_f1.append(metricas[2])\n",
    "    \n",
    "print()    \n",
    "print(\"Resultados:\")\n",
    "print(\"accuracy:\", array_test_acc)\n",
    "print(\"kappa:\", array_kappa)\n",
    "print(\"precision:\", array_precision)\n",
    "print(\"recall:\", array_recall)\n",
    "print(\"f1:\", array_f1)"
   ]
  },
  {
   "cell_type": "code",
   "execution_count": 6,
   "metadata": {},
   "outputs": [
    {
     "name": "stdout",
     "output_type": "stream",
     "text": [
      "Mean: 0.5337\n",
      "std: (+/- 0.0188)\n",
      "kappa: 0.3782\n",
      "precision: 0.5479\n",
      "recall: 0.5337\n",
      "f1: 0.5325\n"
     ]
    }
   ],
   "source": [
    "print(\"Mean: %.4f\" % np.mean(array_test_acc))\n",
    "print(\"std: (+/- %.4f)\" % np.std(array_test_acc))\n",
    "print(\"kappa: %.4f\" % np.mean(array_kappa))\n",
    "print(\"precision: %.4f\" % np.mean(array_precision))\n",
    "print(\"recall: %.4f\" % np.mean(array_recall))\n",
    "print(\"f1: %.4f\" % np.mean(array_f1))"
   ]
  }
 ],
 "metadata": {
  "kernelspec": {
   "display_name": "Python 3",
   "language": "python",
   "name": "python3"
  },
  "language_info": {
   "codemirror_mode": {
    "name": "ipython",
    "version": 3
   },
   "file_extension": ".py",
   "mimetype": "text/x-python",
   "name": "python",
   "nbconvert_exporter": "python",
   "pygments_lexer": "ipython3",
   "version": "3.7.3"
  }
 },
 "nbformat": 4,
 "nbformat_minor": 2
}

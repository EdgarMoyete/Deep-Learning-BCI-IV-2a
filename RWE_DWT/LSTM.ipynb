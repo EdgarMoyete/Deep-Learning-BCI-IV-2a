{
 "cells": [
  {
   "cell_type": "markdown",
   "metadata": {},
   "source": [
    "### Edgar Moises Hernandez-Gonzalez\n",
    "#### 19/11/19\n",
    "#### Clasificacion de RWE-DWT de MI-EEG con LSTM"
   ]
  },
  {
   "cell_type": "code",
   "execution_count": 1,
   "metadata": {},
   "outputs": [],
   "source": [
    "import numpy as np\n",
    "import pandas as pd\n",
    "import matplotlib.pyplot as plt\n",
    "from sklearn.preprocessing import StandardScaler, LabelEncoder\n",
    "from tensorflow.keras.models import Sequential\n",
    "from tensorflow.keras.layers import LSTM, Dense, Dropout\n",
    "from sklearn.metrics import cohen_kappa_score, confusion_matrix, classification_report"
   ]
  },
  {
   "cell_type": "code",
   "execution_count": 2,
   "metadata": {},
   "outputs": [],
   "source": [
    "x_train = pd.read_csv(\"MI-EEG-RWE-A01T.csv\", header=None)\n",
    "x_test = pd.read_csv(\"MI-EEG-RWE-A01E.csv\", header=None)\n",
    "y_train = pd.read_csv(\"EtiquetasA01T.csv\", header=None)\n",
    "y_test = pd.read_csv(\"EtiquetasA01E.csv\", header=None)"
   ]
  },
  {
   "cell_type": "code",
   "execution_count": 3,
   "metadata": {},
   "outputs": [
    {
     "name": "stdout",
     "output_type": "stream",
     "text": [
      "(288, 66)\n",
      "(288, 66)\n",
      "(288, 1)\n",
      "(288, 1)\n"
     ]
    }
   ],
   "source": [
    "print(x_train.shape)\n",
    "print(x_test.shape)\n",
    "print(y_train.shape)\n",
    "print(y_test.shape)"
   ]
  },
  {
   "cell_type": "code",
   "execution_count": 4,
   "metadata": {},
   "outputs": [
    {
     "name": "stdout",
     "output_type": "stream",
     "text": [
      "n_samples_train: 288\n",
      "n_samples_test : 288\n"
     ]
    }
   ],
   "source": [
    "n_samples_train = len(y_train)\n",
    "n_samples_test = len(y_test) #en caso de no tener el y_test se puede utilizar el x_test\n",
    "\n",
    "print(\"n_samples_train:\", n_samples_train)\n",
    "print(\"n_samples_test :\", n_samples_test)"
   ]
  },
  {
   "cell_type": "code",
   "execution_count": 5,
   "metadata": {},
   "outputs": [
    {
     "name": "stdout",
     "output_type": "stream",
     "text": [
      "n_classes: 4\n"
     ]
    }
   ],
   "source": [
    "n_classes = len(np.unique(y_test)) #esto se podria calcular asi n_clases = len(np.unique(y)), la y puede ser train o test\n",
    "\n",
    "print(\"n_classes:\", n_classes)"
   ]
  },
  {
   "cell_type": "code",
   "execution_count": 6,
   "metadata": {},
   "outputs": [],
   "source": [
    "#escalar los datos para que tengan media = 0 y desviacion estandar = 1\n",
    "scaler = StandardScaler().fit(x_train)\n",
    "x_train = scaler.transform(x_train)\n",
    "x_test = scaler.transform(x_test)"
   ]
  },
  {
   "cell_type": "code",
   "execution_count": 7,
   "metadata": {},
   "outputs": [
    {
     "name": "stderr",
     "output_type": "stream",
     "text": [
      "C:\\Users\\EdgarMoises\\Anaconda3\\lib\\site-packages\\sklearn\\preprocessing\\label.py:219: DataConversionWarning: A column-vector y was passed when a 1d array was expected. Please change the shape of y to (n_samples, ), for example using ravel().\n",
      "  y = column_or_1d(y, warn=True)\n",
      "C:\\Users\\EdgarMoises\\Anaconda3\\lib\\site-packages\\sklearn\\preprocessing\\label.py:252: DataConversionWarning: A column-vector y was passed when a 1d array was expected. Please change the shape of y to (n_samples, ), for example using ravel().\n",
      "  y = column_or_1d(y, warn=True)\n"
     ]
    }
   ],
   "source": [
    "#codificar etiquetas con valores de 0 a nClases-1\n",
    "le = LabelEncoder().fit(y_train)\n",
    "y_train = le.transform(y_train)\n",
    "y_test = le.transform(y_test)"
   ]
  },
  {
   "cell_type": "code",
   "execution_count": 8,
   "metadata": {},
   "outputs": [
    {
     "name": "stdout",
     "output_type": "stream",
     "text": [
      "(288, 3, 22)\n",
      "(288, 3, 22)\n"
     ]
    }
   ],
   "source": [
    "#convertir de 2D a 3D\n",
    "x_train = x_train.reshape((n_samples_train, 3, 22))\n",
    "x_test = x_test.reshape((n_samples_test, 3, 22))\n",
    "\n",
    "print(x_train.shape)\n",
    "print(x_test.shape)"
   ]
  },
  {
   "cell_type": "code",
   "execution_count": 9,
   "metadata": {},
   "outputs": [
    {
     "name": "stdout",
     "output_type": "stream",
     "text": [
      "WARNING:tensorflow:From C:\\Users\\EdgarMoises\\Anaconda3\\lib\\site-packages\\tensorflow\\python\\ops\\resource_variable_ops.py:435: colocate_with (from tensorflow.python.framework.ops) is deprecated and will be removed in a future version.\n",
      "Instructions for updating:\n",
      "Colocations handled automatically by placer.\n",
      "WARNING:tensorflow:From C:\\Users\\EdgarMoises\\Anaconda3\\lib\\site-packages\\tensorflow\\python\\keras\\layers\\core.py:143: calling dropout (from tensorflow.python.ops.nn_ops) with keep_prob is deprecated and will be removed in a future version.\n",
      "Instructions for updating:\n",
      "Please use `rate` instead of `keep_prob`. Rate should be set to `rate = 1 - keep_prob`.\n"
     ]
    }
   ],
   "source": [
    "model = Sequential()\n",
    "model.add(LSTM(64, input_shape=(3,22)))\n",
    "model.add(Dropout(0.2))\n",
    "model.add(Dense(n_classes, activation='softmax'))"
   ]
  },
  {
   "cell_type": "code",
   "execution_count": 10,
   "metadata": {},
   "outputs": [
    {
     "name": "stdout",
     "output_type": "stream",
     "text": [
      "_________________________________________________________________\n",
      "Layer (type)                 Output Shape              Param #   \n",
      "=================================================================\n",
      "lstm (LSTM)                  (None, 64)                22272     \n",
      "_________________________________________________________________\n",
      "dropout (Dropout)            (None, 64)                0         \n",
      "_________________________________________________________________\n",
      "dense (Dense)                (None, 4)                 260       \n",
      "=================================================================\n",
      "Total params: 22,532\n",
      "Trainable params: 22,532\n",
      "Non-trainable params: 0\n",
      "_________________________________________________________________\n"
     ]
    }
   ],
   "source": [
    "model.summary()"
   ]
  },
  {
   "cell_type": "code",
   "execution_count": 11,
   "metadata": {},
   "outputs": [],
   "source": [
    "model.compile(optimizer='adam',\n",
    "              loss='sparse_categorical_crossentropy',\n",
    "              metrics=['accuracy'])"
   ]
  },
  {
   "cell_type": "code",
   "execution_count": 12,
   "metadata": {},
   "outputs": [
    {
     "name": "stdout",
     "output_type": "stream",
     "text": [
      "Train on 288 samples, validate on 288 samples\n",
      "Epoch 1/20\n",
      "288/288 [==============================] - 1s 4ms/sample - loss: 1.3641 - acc: 0.3160 - val_loss: 1.3448 - val_acc: 0.3507\n",
      "Epoch 2/20\n",
      "288/288 [==============================] - 0s 780us/sample - loss: 1.3255 - acc: 0.3542 - val_loss: 1.3208 - val_acc: 0.3611\n",
      "Epoch 3/20\n",
      "288/288 [==============================] - 0s 750us/sample - loss: 1.2916 - acc: 0.3681 - val_loss: 1.3032 - val_acc: 0.3646\n",
      "Epoch 4/20\n",
      "288/288 [==============================] - 0s 748us/sample - loss: 1.2622 - acc: 0.4062 - val_loss: 1.2770 - val_acc: 0.3889\n",
      "Epoch 5/20\n",
      "288/288 [==============================] - 0s 814us/sample - loss: 1.2313 - acc: 0.4097 - val_loss: 1.2594 - val_acc: 0.4062\n",
      "Epoch 6/20\n",
      "288/288 [==============================] - 0s 754us/sample - loss: 1.2061 - acc: 0.4583 - val_loss: 1.2163 - val_acc: 0.4097\n",
      "Epoch 7/20\n",
      "288/288 [==============================] - 0s 805us/sample - loss: 1.1793 - acc: 0.4375 - val_loss: 1.2103 - val_acc: 0.4132\n",
      "Epoch 8/20\n",
      "288/288 [==============================] - 0s 751us/sample - loss: 1.1482 - acc: 0.4688 - val_loss: 1.1597 - val_acc: 0.4444\n",
      "Epoch 9/20\n",
      "288/288 [==============================] - 0s 757us/sample - loss: 1.1169 - acc: 0.4931 - val_loss: 1.1480 - val_acc: 0.4653\n",
      "Epoch 10/20\n",
      "288/288 [==============================] - 0s 754us/sample - loss: 1.1030 - acc: 0.5000 - val_loss: 1.1212 - val_acc: 0.4549\n",
      "Epoch 11/20\n",
      "288/288 [==============================] - 0s 851us/sample - loss: 1.0626 - acc: 0.5417 - val_loss: 1.1073 - val_acc: 0.4583\n",
      "Epoch 12/20\n",
      "288/288 [==============================] - 0s 795us/sample - loss: 1.0496 - acc: 0.5174 - val_loss: 1.0942 - val_acc: 0.4618\n",
      "Epoch 13/20\n",
      "288/288 [==============================] - 0s 835us/sample - loss: 1.0252 - acc: 0.5451 - val_loss: 1.1081 - val_acc: 0.4514\n",
      "Epoch 14/20\n",
      "288/288 [==============================] - 0s 835us/sample - loss: 1.0065 - acc: 0.5694 - val_loss: 1.0867 - val_acc: 0.4653\n",
      "Epoch 15/20\n",
      "288/288 [==============================] - 0s 1ms/sample - loss: 0.9958 - acc: 0.5556 - val_loss: 1.0688 - val_acc: 0.4722\n",
      "Epoch 16/20\n",
      "288/288 [==============================] - 0s 760us/sample - loss: 0.9718 - acc: 0.5694 - val_loss: 1.0802 - val_acc: 0.4618\n",
      "Epoch 17/20\n",
      "288/288 [==============================] - 0s 741us/sample - loss: 0.9469 - acc: 0.5868 - val_loss: 1.0506 - val_acc: 0.4896\n",
      "Epoch 18/20\n",
      "288/288 [==============================] - 0s 812us/sample - loss: 0.9334 - acc: 0.6111 - val_loss: 1.0880 - val_acc: 0.4896\n",
      "Epoch 19/20\n",
      "288/288 [==============================] - 0s 876us/sample - loss: 0.9114 - acc: 0.6424 - val_loss: 1.0598 - val_acc: 0.4757\n",
      "Epoch 20/20\n",
      "288/288 [==============================] - 0s 800us/sample - loss: 0.8935 - acc: 0.6181 - val_loss: 1.0610 - val_acc: 0.4896\n"
     ]
    }
   ],
   "source": [
    "history = model.fit(x_train, y_train, epochs=20, batch_size=18, validation_data=(x_test, y_test))"
   ]
  },
  {
   "cell_type": "code",
   "execution_count": 13,
   "metadata": {},
   "outputs": [
    {
     "name": "stdout",
     "output_type": "stream",
     "text": [
      "288/288 [==============================] - 0s 190us/sample - loss: 1.0610 - acc: 0.4896\n",
      "Test loss: 1.0609885851542156\n",
      "Test accuracy: 0.48958334\n"
     ]
    }
   ],
   "source": [
    "test_loss, test_acc = model.evaluate(x_test, y_test)\n",
    "print('Test loss:', test_loss)\n",
    "print('Test accuracy:', test_acc)"
   ]
  },
  {
   "cell_type": "code",
   "execution_count": 14,
   "metadata": {},
   "outputs": [
    {
     "data": {
      "image/png": "[encoded data removed]",
      "text/plain": [
       "<Figure size 432x288 with 1 Axes>"
      ]
     },
     "metadata": {
      "needs_background": "light"
     },
     "output_type": "display_data"
    }
   ],
   "source": [
    "plt.plot(history.history['acc'])\n",
    "plt.plot(history.history['val_acc'])\n",
    "plt.grid()\n",
    "plt.xlabel('Epochs')\n",
    "plt.ylabel('Accuracy')\n",
    "plt.legend(['train', 'test'])\n",
    "plt.show()"
   ]
  },
  {
   "cell_type": "code",
   "execution_count": 15,
   "metadata": {},
   "outputs": [
    {
     "data": {
      "image/png": "[encoded data removed]",
      "text/plain": [
       "<Figure size 432x288 with 1 Axes>"
      ]
     },
     "metadata": {
      "needs_background": "light"
     },
     "output_type": "display_data"
    }
   ],
   "source": [
    "plt.plot(history.history['loss'])\n",
    "plt.plot(history.history['val_loss'])\n",
    "plt.grid()\n",
    "plt.xlabel('Epochs')\n",
    "plt.ylabel('Cross-Entropy')\n",
    "plt.legend(['train', 'test'])\n",
    "plt.show()"
   ]
  },
  {
   "cell_type": "code",
   "execution_count": 16,
   "metadata": {},
   "outputs": [],
   "source": [
    "probabilidades = model.predict(x_test)\n",
    "y_pred = np.argmax(probabilidades, 1) #1=fila"
   ]
  },
  {
   "cell_type": "code",
   "execution_count": 17,
   "metadata": {},
   "outputs": [
    {
     "name": "stdout",
     "output_type": "stream",
     "text": [
      "0.3194444444444444\n"
     ]
    }
   ],
   "source": [
    "kappa = cohen_kappa_score(y_test, y_pred)\n",
    "print(kappa)"
   ]
  },
  {
   "cell_type": "code",
   "execution_count": 18,
   "metadata": {},
   "outputs": [
    {
     "name": "stdout",
     "output_type": "stream",
     "text": [
      "[[34 25  7  6]\n",
      " [26 40  5  1]\n",
      " [18  3 32 19]\n",
      " [15  3 19 35]]\n"
     ]
    }
   ],
   "source": [
    "matrizConfusion = confusion_matrix(y_test, y_pred)\n",
    "print(matrizConfusion)"
   ]
  },
  {
   "cell_type": "code",
   "execution_count": 19,
   "metadata": {},
   "outputs": [
    {
     "name": "stdout",
     "output_type": "stream",
     "text": [
      "              precision    recall  f1-score   support\n",
      "\n",
      "           0       0.37      0.47      0.41        72\n",
      "           1       0.56      0.56      0.56        72\n",
      "           2       0.51      0.44      0.47        72\n",
      "           3       0.57      0.49      0.53        72\n",
      "\n",
      "   micro avg       0.49      0.49      0.49       288\n",
      "   macro avg       0.50      0.49      0.49       288\n",
      "weighted avg       0.50      0.49      0.49       288\n",
      "\n"
     ]
    }
   ],
   "source": [
    "reporteClassificacion = classification_report(y_test, y_pred)\n",
    "print(reporteClassificacion)"
   ]
  }
 ],
 "metadata": {
  "kernelspec": {
   "display_name": "Python 3",
   "language": "python",
   "name": "python3"
  },
  "language_info": {
   "codemirror_mode": {
    "name": "ipython",
    "version": 3
   },
   "file_extension": ".py",
   "mimetype": "text/x-python",
   "name": "python",
   "nbconvert_exporter": "python",
   "pygments_lexer": "ipython3",
   "version": "3.7.3"
  }
 },
 "nbformat": 4,
 "nbformat_minor": 2
}

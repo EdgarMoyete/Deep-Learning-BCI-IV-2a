{
 "cells": [
  {
   "cell_type": "markdown",
   "metadata": {
    "colab_type": "text",
    "id": "FoZD9oDrrTy-"
   },
   "source": [
    "### Edgar Moises Hernandez-Gonzalez\n",
    "#### 20-04-20-26-08-20\n",
    "#### Clasificacion de imagenes motoras en EEG con CNN-2D\n",
    "#### Cargar modelo para evaluacion y predecir\n",
    "##### Caracteristicas = Escalogramas CWT (3D)\n",
    "##### Resize proporcional de 495x500"
   ]
  },
  {
   "cell_type": "code",
   "execution_count": null,
   "metadata": {
    "colab": {},
    "colab_type": "code",
    "id": "9Gb591oArLb9"
   },
   "outputs": [],
   "source": [
    "from google.colab import drive"
   ]
  },
  {
   "cell_type": "code",
   "execution_count": null,
   "metadata": {
    "colab": {
     "base_uri": "https://localhost:8080/",
     "height": 36
    },
    "colab_type": "code",
    "executionInfo": {
     "elapsed": 1282,
     "status": "ok",
     "timestamp": 1595202935398,
     "user": {
      "displayName": "Edgar Hernandez",
      "photoUrl": "",
      "userId": "00870877253637619537"
     },
     "user_tz": 300
    },
    "id": "_tfJ6bPXrmA5",
    "outputId": "dd81abe2-4143-4a72-cf90-dbe513ac73f1"
   },
   "outputs": [
    {
     "name": "stdout",
     "output_type": "stream",
     "text": [
      "Drive already mounted at /content/drive; to attempt to forcibly remount, call drive.mount(\"/content/drive\", force_remount=True).\n"
     ]
    }
   ],
   "source": [
    "drive.mount('/content/drive')"
   ]
  },
  {
   "cell_type": "code",
   "execution_count": 1,
   "metadata": {
    "colab": {
     "base_uri": "https://localhost:8080/",
     "height": 36
    },
    "colab_type": "code",
    "executionInfo": {
     "elapsed": 3315,
     "status": "ok",
     "timestamp": 1595202937445,
     "user": {
      "displayName": "Edgar Hernandez",
      "photoUrl": "",
      "userId": "00870877253637619537"
     },
     "user_tz": 300
    },
    "id": "UqyxrEyQrqCg",
    "outputId": "52510b61-3975-46ca-b0b0-584d96e5c717"
   },
   "outputs": [
    {
     "name": "stderr",
     "output_type": "stream",
     "text": [
      "Using TensorFlow backend.\n"
     ]
    }
   ],
   "source": [
    "import numpy as np\n",
    "import pandas as pd\n",
    "import time\n",
    "import pywt\n",
    "import cv2\n",
    "# from sklearn.preprocessing import LabelEncoder\n",
    "from sklearn.metrics import cohen_kappa_score, confusion_matrix\n",
    "# from keras.utils import to_categorical\n",
    "from keras.models import load_model"
   ]
  },
  {
   "cell_type": "code",
   "execution_count": 2,
   "metadata": {
    "colab": {},
    "colab_type": "code",
    "id": "v9y98jS3r4p3"
   },
   "outputs": [],
   "source": [
    "x_train = pd.read_csv(\"../Datos/MI-EEG-A09T.csv\", header=None)\n",
    "x_test = pd.read_csv(\"../Datos/MI-EEG-A09E.csv\", header=None)\n",
    "y_test = pd.read_csv(\"../Datos/EtiquetasA09E.csv\", header=None)"
   ]
  },
  {
   "cell_type": "code",
   "execution_count": 3,
   "metadata": {
    "colab": {
     "base_uri": "https://localhost:8080/",
     "height": 73
    },
    "colab_type": "code",
    "executionInfo": {
     "elapsed": 12407,
     "status": "ok",
     "timestamp": 1595202946559,
     "user": {
      "displayName": "Edgar Hernandez",
      "photoUrl": "",
      "userId": "00870877253637619537"
     },
     "user_tz": 300
    },
    "id": "5RAdWOzbr_Rv",
    "outputId": "d98c76ae-6d07-46d9-90c3-4b5a093e4add"
   },
   "outputs": [
    {
     "name": "stdout",
     "output_type": "stream",
     "text": [
      "(288, 22000)\n",
      "(288, 22000)\n",
      "(288, 1)\n"
     ]
    }
   ],
   "source": [
    "print(x_train.shape)\n",
    "print(x_test.shape)\n",
    "print(y_test.shape)"
   ]
  },
  {
   "cell_type": "code",
   "execution_count": 4,
   "metadata": {
    "colab": {
     "base_uri": "https://localhost:8080/",
     "height": 36
    },
    "colab_type": "code",
    "executionInfo": {
     "elapsed": 12397,
     "status": "ok",
     "timestamp": 1595202946560,
     "user": {
      "displayName": "Edgar Hernandez",
      "photoUrl": "",
      "userId": "00870877253637619537"
     },
     "user_tz": 300
    },
    "id": "r9KNnB0vsDQC",
    "outputId": "701406ab-61df-4543-9077-eaf86480d076"
   },
   "outputs": [
    {
     "name": "stdout",
     "output_type": "stream",
     "text": [
      "n_classes: 4\n"
     ]
    }
   ],
   "source": [
    "# esto se podria calcular asi n_clases = len(np.unique(y)), la y puede ser train o test\n",
    "n_classes = len(np.unique(y_test))\n",
    "\n",
    "print(\"n_classes:\", n_classes)"
   ]
  },
  {
   "cell_type": "code",
   "execution_count": null,
   "metadata": {
    "colab": {},
    "colab_type": "code",
    "id": "mCHxVAEfsFqu"
   },
   "outputs": [],
   "source": [
    "# codificar etiquetas con valores de 0 a nClases-1\n",
    "# y_test = LabelEncoder().fit_transform(y_test)"
   ]
  },
  {
   "cell_type": "code",
   "execution_count": null,
   "metadata": {
    "colab": {},
    "colab_type": "code",
    "id": "h_Ql7L2g65Cu"
   },
   "outputs": [],
   "source": [
    "# las etiquetas en categorical para poder entrenar data augmentation\n",
    "# y_test_categorical = to_categorical(y_test)"
   ]
  },
  {
   "cell_type": "code",
   "execution_count": 5,
   "metadata": {
    "colab": {},
    "colab_type": "code",
    "id": "jPYaxL9tsG_V"
   },
   "outputs": [],
   "source": [
    "#unir 22 canales\n",
    "def unir_escalogramas_vertical(data):\n",
    "  dim = (500, 495) #ancho, alto\n",
    "  fs = 250\n",
    "  escalas = pywt.scale2frequency('cmor3-3', np.arange(8,30.5,0.5)) / (1/fs)\n",
    "  datos = np.zeros((data.shape[0],495,500))\n",
    "  temporal = np.zeros((990,1000))\n",
    "  for i in range(data.shape[0]): #288 muestras\n",
    "    for j in range(22): #22 canales\n",
    "      sig = data.iloc[i, j*1000:(j+1)*1000]\n",
    "      #sig = sig[124:624]\n",
    "      # escalograma CWT\n",
    "      coef, freqs = pywt.cwt(sig, escalas, 'cmor3-3', sampling_period = (1 / fs))\n",
    "      temporal[j*45:(j+1)*45, :] = abs(coef)\n",
    "    resized = cv2.resize(temporal, dim, interpolation=cv2.INTER_AREA)\n",
    "    datos[i] = resized\n",
    "    if i % 100 == 0: #esto solo es para ver como avanza\n",
    "      print(i)\n",
    "  return datos"
   ]
  },
  {
   "cell_type": "code",
   "execution_count": 6,
   "metadata": {
    "colab": {
     "base_uri": "https://localhost:8080/",
     "height": 111
    },
    "colab_type": "code",
    "executionInfo": {
     "elapsed": 123699,
     "status": "ok",
     "timestamp": 1595203057881,
     "user": {
      "displayName": "Edgar Hernandez",
      "photoUrl": "",
      "userId": "00870877253637619537"
     },
     "user_tz": 300
    },
    "id": "35wsDpjJsRBZ",
    "outputId": "1cb84340-cd9c-46ce-f3ff-3523edf85650"
   },
   "outputs": [
    {
     "name": "stdout",
     "output_type": "stream",
     "text": [
      "0\n",
      "100\n",
      "200\n",
      "0\n",
      "100\n",
      "200\n",
      "Tiempo: 190.02780270576477\n"
     ]
    }
   ],
   "source": [
    "#llamar a unir_escalogramas_vertical(data)\n",
    "inicio = time.time()\n",
    "\n",
    "x_train = unir_escalogramas_vertical(x_train)\n",
    "x_test = unir_escalogramas_vertical(x_test)\n",
    "\n",
    "fin = time.time()\n",
    "print(\"Tiempo:\", fin - inicio)"
   ]
  },
  {
   "cell_type": "code",
   "execution_count": 7,
   "metadata": {
    "colab": {
     "base_uri": "https://localhost:8080/",
     "height": 36
    },
    "colab_type": "code",
    "executionInfo": {
     "elapsed": 123694,
     "status": "ok",
     "timestamp": 1595203057884,
     "user": {
      "displayName": "Edgar Hernandez",
      "photoUrl": "",
      "userId": "00870877253637619537"
     },
     "user_tz": 300
    },
    "id": "c4gO5zM2sZaf",
    "outputId": "ff3b84a2-af0c-4854-e560-00086289e743"
   },
   "outputs": [
    {
     "name": "stdout",
     "output_type": "stream",
     "text": [
      "(288, 495, 500)\n"
     ]
    }
   ],
   "source": [
    "print(x_test.shape)"
   ]
  },
  {
   "cell_type": "code",
   "execution_count": 8,
   "metadata": {
    "colab": {},
    "colab_type": "code",
    "id": "EfQFj1bPHD38"
   },
   "outputs": [],
   "source": [
    "x = []\n",
    "x.append(np.ceil(np.max(x_train)))\n",
    "# esta linea solo se ocupa si se va a predecir un modelo creado con CV\n",
    "# x.append(np.ceil(np.max(x_test)))"
   ]
  },
  {
   "cell_type": "code",
   "execution_count": 9,
   "metadata": {
    "colab": {},
    "colab_type": "code",
    "id": "QgUQziVosfIf"
   },
   "outputs": [],
   "source": [
    "#convertir a float\n",
    "x_test = x_test.astype('float32')\n",
    "\n",
    "#escalar los valores en un rango de 0 a 1 (normalizar)\n",
    "x_test /= np.ceil(np.max(x))"
   ]
  },
  {
   "cell_type": "code",
   "execution_count": 10,
   "metadata": {
    "colab": {
     "base_uri": "https://localhost:8080/",
     "height": 36
    },
    "colab_type": "code",
    "executionInfo": {
     "elapsed": 124007,
     "status": "ok",
     "timestamp": 1595203058212,
     "user": {
      "displayName": "Edgar Hernandez",
      "photoUrl": "",
      "userId": "00870877253637619537"
     },
     "user_tz": 300
    },
    "id": "GvsBLqxyssTd",
    "outputId": "2833f7ca-4d24-454f-e222-189a411ab587"
   },
   "outputs": [
    {
     "name": "stdout",
     "output_type": "stream",
     "text": [
      "(288, 495, 500, 1)\n"
     ]
    }
   ],
   "source": [
    "#convertir de 3D a 4D\n",
    "x_test = x_test.reshape((x_test.shape[0], x_test.shape[1], x_test.shape[2], 1))\n",
    "\n",
    "print(x_test.shape)"
   ]
  },
  {
   "cell_type": "code",
   "execution_count": 11,
   "metadata": {
    "colab": {},
    "colab_type": "code",
    "id": "dG9sA916s4m2"
   },
   "outputs": [],
   "source": [
    "model = load_model('../Modelos/CWT09.hdf5')"
   ]
  },
  {
   "cell_type": "code",
   "execution_count": 12,
   "metadata": {
    "colab": {
     "base_uri": "https://localhost:8080/",
     "height": 466
    },
    "colab_type": "code",
    "executionInfo": {
     "elapsed": 132902,
     "status": "ok",
     "timestamp": 1595203067129,
     "user": {
      "displayName": "Edgar Hernandez",
      "photoUrl": "",
      "userId": "00870877253637619537"
     },
     "user_tz": 300
    },
    "id": "cBqPgyWotNVm",
    "outputId": "2cf017ac-7979-45eb-a423-4c79808ca6d5"
   },
   "outputs": [
    {
     "name": "stdout",
     "output_type": "stream",
     "text": [
      "Model: \"sequential_1\"\n",
      "_________________________________________________________________\n",
      "Layer (type)                 Output Shape              Param #   \n",
      "=================================================================\n",
      "conv2d_1 (Conv2D)            (None, 495, 500, 16)      160       \n",
      "_________________________________________________________________\n",
      "max_pooling2d_1 (MaxPooling2 (None, 247, 250, 16)      0         \n",
      "_________________________________________________________________\n",
      "conv2d_2 (Conv2D)            (None, 247, 250, 16)      2320      \n",
      "_________________________________________________________________\n",
      "max_pooling2d_2 (MaxPooling2 (None, 123, 125, 16)      0         \n",
      "_________________________________________________________________\n",
      "flatten_1 (Flatten)          (None, 246000)            0         \n",
      "_________________________________________________________________\n",
      "dense_1 (Dense)              (None, 128)               31488128  \n",
      "_________________________________________________________________\n",
      "dropout_1 (Dropout)          (None, 128)               0         \n",
      "_________________________________________________________________\n",
      "dense_2 (Dense)              (None, 4)                 516       \n",
      "=================================================================\n",
      "Total params: 31,491,124\n",
      "Trainable params: 31,491,124\n",
      "Non-trainable params: 0\n",
      "_________________________________________________________________\n"
     ]
    }
   ],
   "source": [
    "model.summary()"
   ]
  },
  {
   "cell_type": "code",
   "execution_count": 15,
   "metadata": {
    "colab": {},
    "colab_type": "code",
    "id": "gGpXf3_htM8P"
   },
   "outputs": [
    {
     "name": "stdout",
     "output_type": "stream",
     "text": [
      "Tiempo: 1.4062678813934326\n"
     ]
    }
   ],
   "source": [
    "inicio = time.time()\n",
    "\n",
    "test_loss, test_acc = model.evaluate(x_test, y_test, verbose=0)\n",
    "\n",
    "fin = time.time()\n",
    "print(\"Tiempo:\", fin - inicio)"
   ]
  },
  {
   "cell_type": "code",
   "execution_count": null,
   "metadata": {
    "colab": {
     "base_uri": "https://localhost:8080/",
     "height": 54
    },
    "colab_type": "code",
    "executionInfo": {
     "elapsed": 138859,
     "status": "ok",
     "timestamp": 1595203073098,
     "user": {
      "displayName": "Edgar Hernandez",
      "photoUrl": "",
      "userId": "00870877253637619537"
     },
     "user_tz": 300
    },
    "id": "vPfzYZj9tM_k",
    "outputId": "b940c730-a6dc-4b89-8bb9-221d7c52a02f"
   },
   "outputs": [
    {
     "name": "stdout",
     "output_type": "stream",
     "text": [
      "loss: 0.2401\n",
      "accuracy: 0.9306\n"
     ]
    }
   ],
   "source": [
    "print(\"loss: %.4f\" % test_loss)\n",
    "print(\"accuracy: %.4f\" % test_acc)"
   ]
  },
  {
   "cell_type": "code",
   "execution_count": null,
   "metadata": {
    "colab": {},
    "colab_type": "code",
    "id": "ae3tQ6Dp7GjD"
   },
   "outputs": [],
   "source": [
    "probabilidades = model.predict(x_test)\n",
    "y_pred = np.argmax(probabilidades, 1) #1=fila"
   ]
  },
  {
   "cell_type": "code",
   "execution_count": null,
   "metadata": {
    "colab": {
     "base_uri": "https://localhost:8080/",
     "height": 36
    },
    "colab_type": "code",
    "executionInfo": {
     "elapsed": 144570,
     "status": "ok",
     "timestamp": 1595203078821,
     "user": {
      "displayName": "Edgar Hernandez",
      "photoUrl": "",
      "userId": "00870877253637619537"
     },
     "user_tz": 300
    },
    "id": "3BPoUOia7Gm0",
    "outputId": "e0be1d94-b4ce-4bdf-84eb-c09942e1a9a3"
   },
   "outputs": [
    {
     "name": "stdout",
     "output_type": "stream",
     "text": [
      "kappa: 0.8611 \n"
     ]
    }
   ],
   "source": [
    "kappa = cohen_kappa_score(y_test, y_pred)\n",
    "print(\"kappa: %.4f \" % kappa)"
   ]
  },
  {
   "cell_type": "code",
   "execution_count": null,
   "metadata": {
    "colab": {
     "base_uri": "https://localhost:8080/",
     "height": 73
    },
    "colab_type": "code",
    "executionInfo": {
     "elapsed": 144563,
     "status": "ok",
     "timestamp": 1595203078822,
     "user": {
      "displayName": "Edgar Hernandez",
      "photoUrl": "",
      "userId": "00870877253637619537"
     },
     "user_tz": 300
    },
    "id": "5SiZJqA97NtH",
    "outputId": "ce79107f-b053-4926-a202-c5d4560994d8"
   },
   "outputs": [
    {
     "name": "stdout",
     "output_type": "stream",
     "text": [
      "confusion matrix:\n",
      " [[69  3]\n",
      " [ 7 65]]\n"
     ]
    }
   ],
   "source": [
    "matriz_confusion = confusion_matrix(y_test, y_pred)\n",
    "print(\"confusion matrix:\\n\", matriz_confusion)"
   ]
  },
  {
   "cell_type": "code",
   "execution_count": 16,
   "metadata": {},
   "outputs": [
    {
     "name": "stdout",
     "output_type": "stream",
     "text": [
      "Tiempo: 0.02548694610595703\n"
     ]
    }
   ],
   "source": [
    "inicio = time.time()\n",
    "\n",
    "probabilidades = model.predict(x_test[0].reshape(1,495,500,1))\n",
    "y_pred = np.argmax(probabilidades, 1) #1=fila\n",
    "\n",
    "fin = time.time()\n",
    "print(\"Tiempo:\", fin - inicio)"
   ]
  }
 ],
 "metadata": {
  "colab": {
   "authorship_tag": "ABX9TyPsK0xOzi2Glz9gnYq1KlcI",
   "collapsed_sections": [],
   "name": "CWT-CNN-Predecir.ipynb",
   "provenance": []
  },
  "kernelspec": {
   "display_name": "Python 3",
   "language": "python",
   "name": "python3"
  },
  "language_info": {
   "codemirror_mode": {
    "name": "ipython",
    "version": 3
   },
   "file_extension": ".py",
   "mimetype": "text/x-python",
   "name": "python",
   "nbconvert_exporter": "python",
   "pygments_lexer": "ipython3",
   "version": "3.7.6"
  }
 },
 "nbformat": 4,
 "nbformat_minor": 1
}

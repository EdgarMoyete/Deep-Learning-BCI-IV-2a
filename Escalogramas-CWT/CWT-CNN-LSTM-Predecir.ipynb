{
 "cells": [
  {
   "cell_type": "markdown",
   "metadata": {
    "colab_type": "text",
    "id": "c2x5g5daqQ8w"
   },
   "source": [
    "### Edgar Moises Hernandez-Gonzalez\n",
    "#### 29-04-20-26-08-20\n",
    "#### Clasificacion de imagenes motoras en EEG con CNN-1D + LSTM\n",
    "#### Cargar modelo para evaluacion y predecir\n",
    "##### Caracteristicas = Escalogramas CWT (3D)\n",
    "##### Entrada resize proporcional de 495x500"
   ]
  },
  {
   "cell_type": "code",
   "execution_count": null,
   "metadata": {
    "colab": {},
    "colab_type": "code",
    "id": "S64bjLrcqK9E"
   },
   "outputs": [],
   "source": [
    "from google.colab import drive"
   ]
  },
  {
   "cell_type": "code",
   "execution_count": null,
   "metadata": {
    "colab": {
     "base_uri": "https://localhost:8080/",
     "height": 36
    },
    "colab_type": "code",
    "executionInfo": {
     "elapsed": 1051,
     "status": "ok",
     "timestamp": 1595203707803,
     "user": {
      "displayName": "Edgar Hernandez",
      "photoUrl": "",
      "userId": "00870877253637619537"
     },
     "user_tz": 300
    },
    "id": "2rC2PTMzqviW",
    "outputId": "e9a40cab-08d7-49e1-fed9-14ac06f59ec4"
   },
   "outputs": [
    {
     "name": "stdout",
     "output_type": "stream",
     "text": [
      "Drive already mounted at /content/drive; to attempt to forcibly remount, call drive.mount(\"/content/drive\", force_remount=True).\n"
     ]
    }
   ],
   "source": [
    "drive.mount('/content/drive')"
   ]
  },
  {
   "cell_type": "code",
   "execution_count": 1,
   "metadata": {
    "colab": {
     "base_uri": "https://localhost:8080/",
     "height": 36
    },
    "colab_type": "code",
    "executionInfo": {
     "elapsed": 3137,
     "status": "ok",
     "timestamp": 1595203709895,
     "user": {
      "displayName": "Edgar Hernandez",
      "photoUrl": "",
      "userId": "00870877253637619537"
     },
     "user_tz": 300
    },
    "id": "EJ093c0FqyMV",
    "outputId": "fbfafe5e-608a-4683-efb5-853fced60547"
   },
   "outputs": [
    {
     "name": "stderr",
     "output_type": "stream",
     "text": [
      "Using TensorFlow backend.\n"
     ]
    }
   ],
   "source": [
    "import numpy as np\n",
    "import pandas as pd\n",
    "import time\n",
    "import pywt\n",
    "import cv2\n",
    "# from sklearn.preprocessing import LabelEncoder\n",
    "from sklearn.metrics import cohen_kappa_score, confusion_matrix\n",
    "# from keras.utils import to_categorical\n",
    "from keras.models import load_model"
   ]
  },
  {
   "cell_type": "code",
   "execution_count": 2,
   "metadata": {
    "colab": {},
    "colab_type": "code",
    "id": "heR8LQCzrCWx"
   },
   "outputs": [],
   "source": [
    "x_train = pd.read_csv(\"../Datos/MI-EEG-A09T.csv\", header=None)\n",
    "x_test = pd.read_csv(\"../Datos/MI-EEG-A09E.csv\", header=None)\n",
    "y_test = pd.read_csv(\"../Datos/EtiquetasA09E.csv\", header=None)"
   ]
  },
  {
   "cell_type": "code",
   "execution_count": 3,
   "metadata": {
    "colab": {
     "base_uri": "https://localhost:8080/",
     "height": 73
    },
    "colab_type": "code",
    "executionInfo": {
     "elapsed": 12909,
     "status": "ok",
     "timestamp": 1595203719677,
     "user": {
      "displayName": "Edgar Hernandez",
      "photoUrl": "",
      "userId": "00870877253637619537"
     },
     "user_tz": 300
    },
    "id": "GAjMGZl_rGeH",
    "outputId": "ba50137f-ca1a-47c3-fb22-e0698b12da4e"
   },
   "outputs": [
    {
     "name": "stdout",
     "output_type": "stream",
     "text": [
      "(288, 22000)\n",
      "(288, 22000)\n",
      "(288, 1)\n"
     ]
    }
   ],
   "source": [
    "print(x_train.shape)\n",
    "print(x_test.shape)\n",
    "print(y_test.shape)"
   ]
  },
  {
   "cell_type": "code",
   "execution_count": 4,
   "metadata": {
    "colab": {
     "base_uri": "https://localhost:8080/",
     "height": 36
    },
    "colab_type": "code",
    "executionInfo": {
     "elapsed": 12906,
     "status": "ok",
     "timestamp": 1595203719679,
     "user": {
      "displayName": "Edgar Hernandez",
      "photoUrl": "",
      "userId": "00870877253637619537"
     },
     "user_tz": 300
    },
    "id": "OPSeaeLerLEo",
    "outputId": "cc9a11a6-3205-490e-f827-63d3de3ab4b3"
   },
   "outputs": [
    {
     "name": "stdout",
     "output_type": "stream",
     "text": [
      "n_classes: 4\n"
     ]
    }
   ],
   "source": [
    "# esto se podria calcular asi n_clases = len(np.unique(y)), la y puede ser train o test\n",
    "n_classes = len(np.unique(y_test))\n",
    "\n",
    "print(\"n_classes:\", n_classes)"
   ]
  },
  {
   "cell_type": "code",
   "execution_count": null,
   "metadata": {
    "colab": {},
    "colab_type": "code",
    "id": "oTNlCXm_rNqe"
   },
   "outputs": [],
   "source": [
    "# codificar etiquetas con valores de 0 a nClases-1\n",
    "# y_test = LabelEncoder().fit_transform(y_test)"
   ]
  },
  {
   "cell_type": "code",
   "execution_count": 5,
   "metadata": {
    "colab": {},
    "colab_type": "code",
    "id": "G00p0BIxrP7p"
   },
   "outputs": [],
   "source": [
    "#unir 22 canales\n",
    "def unir_escalogramas_vertical(data):\n",
    "  dim = (500, 495) #ancho, alto\n",
    "  fs = 250\n",
    "  escalas = pywt.scale2frequency('cmor3-3', np.arange(8,30.5,0.5)) / (1/fs)\n",
    "  datos = np.zeros((data.shape[0],495,500))\n",
    "  temporal = np.zeros((990,1000))\n",
    "  for i in range(data.shape[0]): #288 muestras\n",
    "    for j in range(22): #22 canales\n",
    "      sig = data.iloc[i, j*1000:(j+1)*1000]\n",
    "      #sig = sig[124:624]\n",
    "      # escalograma CWT\n",
    "      coef, freqs = pywt.cwt(sig, escalas, 'cmor3-3', sampling_period = (1 / fs))\n",
    "      temporal[j*45:(j+1)*45, :] = abs(coef)\n",
    "    resized = cv2.resize(temporal, dim, interpolation=cv2.INTER_AREA)\n",
    "    datos[i] = resized\n",
    "    if i % 100 == 0: #esto solo es para ver como avanza\n",
    "      print(i)\n",
    "  return datos"
   ]
  },
  {
   "cell_type": "code",
   "execution_count": 6,
   "metadata": {
    "colab": {
     "base_uri": "https://localhost:8080/",
     "height": 111
    },
    "colab_type": "code",
    "executionInfo": {
     "elapsed": 134258,
     "status": "ok",
     "timestamp": 1595203841045,
     "user": {
      "displayName": "Edgar Hernandez",
      "photoUrl": "",
      "userId": "00870877253637619537"
     },
     "user_tz": 300
    },
    "id": "mzm3jiy7rVwE",
    "outputId": "5660acae-0eb9-4d50-bcda-798f00cfce90"
   },
   "outputs": [
    {
     "name": "stdout",
     "output_type": "stream",
     "text": [
      "0\n",
      "100\n",
      "200\n",
      "0\n",
      "100\n",
      "200\n",
      "Tiempo: 193.38124012947083\n"
     ]
    }
   ],
   "source": [
    "#llamar a unir_escalogramas_vertical(data)\n",
    "inicio = time.time()\n",
    "\n",
    "x_train = unir_escalogramas_vertical(x_train)\n",
    "x_test = unir_escalogramas_vertical(x_test)\n",
    "\n",
    "fin = time.time()\n",
    "print(\"Tiempo:\", fin - inicio)"
   ]
  },
  {
   "cell_type": "code",
   "execution_count": 7,
   "metadata": {
    "colab": {
     "base_uri": "https://localhost:8080/",
     "height": 36
    },
    "colab_type": "code",
    "executionInfo": {
     "elapsed": 134256,
     "status": "ok",
     "timestamp": 1595203841048,
     "user": {
      "displayName": "Edgar Hernandez",
      "photoUrl": "",
      "userId": "00870877253637619537"
     },
     "user_tz": 300
    },
    "id": "I6tolLgUrYMQ",
    "outputId": "f0a1b768-d550-436d-f053-e7ea3f2c6017"
   },
   "outputs": [
    {
     "name": "stdout",
     "output_type": "stream",
     "text": [
      "(288, 495, 500)\n"
     ]
    }
   ],
   "source": [
    "print(x_test.shape)"
   ]
  },
  {
   "cell_type": "code",
   "execution_count": 8,
   "metadata": {
    "colab": {},
    "colab_type": "code",
    "id": "zw60G_XpSV1n"
   },
   "outputs": [],
   "source": [
    "x = []\n",
    "x.append(np.ceil(np.max(x_train)))\n",
    "# esta linea solo se ocupa si se va a predecir un modelo creado con CV\n",
    "# x.append(np.ceil(np.max(x_test)))"
   ]
  },
  {
   "cell_type": "code",
   "execution_count": 9,
   "metadata": {
    "colab": {},
    "colab_type": "code",
    "id": "cUyoO4eIrbdR"
   },
   "outputs": [],
   "source": [
    "#convertir a float\n",
    "x_test = x_test.astype('float32')\n",
    "\n",
    "#escalar los valores en un rango de 0 a 1 (normalizar)\n",
    "x_test /= np.ceil(np.max(x))"
   ]
  },
  {
   "cell_type": "code",
   "execution_count": 10,
   "metadata": {
    "colab": {
     "base_uri": "https://localhost:8080/",
     "height": 36
    },
    "colab_type": "code",
    "executionInfo": {
     "elapsed": 134247,
     "status": "ok",
     "timestamp": 1595203841054,
     "user": {
      "displayName": "Edgar Hernandez",
      "photoUrl": "",
      "userId": "00870877253637619537"
     },
     "user_tz": 300
    },
    "id": "wjnCZL61rf9I",
    "outputId": "fa78ecae-01bb-453a-ff27-808cbcdb9f12"
   },
   "outputs": [
    {
     "name": "stdout",
     "output_type": "stream",
     "text": [
      "(288, 1, 495, 500, 1)\n"
     ]
    }
   ],
   "source": [
    "#convertir de 3D a 5D\n",
    "x_test = x_test.reshape((x_test.shape[0], 1, x_test.shape[1], x_test.shape[2], 1))\n",
    "\n",
    "print(x_test.shape)"
   ]
  },
  {
   "cell_type": "code",
   "execution_count": 11,
   "metadata": {
    "colab": {},
    "colab_type": "code",
    "id": "AVLFmijProx3"
   },
   "outputs": [],
   "source": [
    "model = load_model('../Modelos/RNN_CWT09.hdf5')"
   ]
  },
  {
   "cell_type": "code",
   "execution_count": 12,
   "metadata": {
    "colab": {
     "base_uri": "https://localhost:8080/",
     "height": 466
    },
    "colab_type": "code",
    "executionInfo": {
     "elapsed": 142703,
     "status": "ok",
     "timestamp": 1595203849517,
     "user": {
      "displayName": "Edgar Hernandez",
      "photoUrl": "",
      "userId": "00870877253637619537"
     },
     "user_tz": 300
    },
    "id": "lTr0Foxyrw19",
    "outputId": "663716a3-0ac9-4d54-9304-d54ef76b216d"
   },
   "outputs": [
    {
     "name": "stdout",
     "output_type": "stream",
     "text": [
      "Model: \"sequential_1\"\n",
      "_________________________________________________________________\n",
      "Layer (type)                 Output Shape              Param #   \n",
      "=================================================================\n",
      "time_distributed_1 (TimeDist (None, 1, 495, 500, 16)   160       \n",
      "_________________________________________________________________\n",
      "time_distributed_2 (TimeDist (None, 1, 247, 250, 16)   0         \n",
      "_________________________________________________________________\n",
      "time_distributed_3 (TimeDist (None, 1, 247, 250, 16)   2320      \n",
      "_________________________________________________________________\n",
      "time_distributed_4 (TimeDist (None, 1, 123, 125, 16)   0         \n",
      "_________________________________________________________________\n",
      "time_distributed_5 (TimeDist (None, 1, 246000)         0         \n",
      "_________________________________________________________________\n",
      "lstm_1 (LSTM)                (None, 32)                31492224  \n",
      "_________________________________________________________________\n",
      "dense_1 (Dense)              (None, 256)               8448      \n",
      "_________________________________________________________________\n",
      "dense_2 (Dense)              (None, 4)                 1028      \n",
      "=================================================================\n",
      "Total params: 31,504,180\n",
      "Trainable params: 31,504,180\n",
      "Non-trainable params: 0\n",
      "_________________________________________________________________\n"
     ]
    }
   ],
   "source": [
    "model.summary()"
   ]
  },
  {
   "cell_type": "code",
   "execution_count": 15,
   "metadata": {
    "colab": {},
    "colab_type": "code",
    "id": "efiZEgGKrzLJ"
   },
   "outputs": [
    {
     "name": "stdout",
     "output_type": "stream",
     "text": [
      "Tiempo: 1.480736494064331\n"
     ]
    }
   ],
   "source": [
    "inicio = time.time()\n",
    "\n",
    "test_loss, test_acc = model.evaluate(x_test, y_test, verbose=0)\n",
    "\n",
    "fin = time.time()\n",
    "print(\"Tiempo:\", fin - inicio)"
   ]
  },
  {
   "cell_type": "code",
   "execution_count": null,
   "metadata": {
    "colab": {
     "base_uri": "https://localhost:8080/",
     "height": 54
    },
    "colab_type": "code",
    "executionInfo": {
     "elapsed": 149419,
     "status": "ok",
     "timestamp": 1595203856240,
     "user": {
      "displayName": "Edgar Hernandez",
      "photoUrl": "",
      "userId": "00870877253637619537"
     },
     "user_tz": 300
    },
    "id": "kBWpSs_xr1Kn",
    "outputId": "00320915-884d-4e7e-a93f-342099943c1c"
   },
   "outputs": [
    {
     "name": "stdout",
     "output_type": "stream",
     "text": [
      "loss: 0.2377\n",
      "accuracy: 0.9236\n"
     ]
    }
   ],
   "source": [
    "print(\"loss: %.4f\" % test_loss)\n",
    "print(\"accuracy: %.4f\" % test_acc)"
   ]
  },
  {
   "cell_type": "code",
   "execution_count": null,
   "metadata": {
    "colab": {},
    "colab_type": "code",
    "id": "CPOf41Der3DH"
   },
   "outputs": [],
   "source": [
    "probabilidades = model.predict(x_test)\n",
    "y_pred = np.argmax(probabilidades, 1) #1=fila"
   ]
  },
  {
   "cell_type": "code",
   "execution_count": null,
   "metadata": {
    "colab": {
     "base_uri": "https://localhost:8080/",
     "height": 36
    },
    "colab_type": "code",
    "executionInfo": {
     "elapsed": 156438,
     "status": "ok",
     "timestamp": 1595203863266,
     "user": {
      "displayName": "Edgar Hernandez",
      "photoUrl": "",
      "userId": "00870877253637619537"
     },
     "user_tz": 300
    },
    "id": "87r05grgr5G_",
    "outputId": "629b72c8-328f-4cd1-aa06-4a464c026d7e"
   },
   "outputs": [
    {
     "name": "stdout",
     "output_type": "stream",
     "text": [
      "kappa: 0.8472 \n"
     ]
    }
   ],
   "source": [
    "kappa = cohen_kappa_score(y_test, y_pred)\n",
    "print(\"kappa: %.4f \" % kappa)"
   ]
  },
  {
   "cell_type": "code",
   "execution_count": null,
   "metadata": {
    "colab": {
     "base_uri": "https://localhost:8080/",
     "height": 73
    },
    "colab_type": "code",
    "executionInfo": {
     "elapsed": 156433,
     "status": "ok",
     "timestamp": 1595203863267,
     "user": {
      "displayName": "Edgar Hernandez",
      "photoUrl": "",
      "userId": "00870877253637619537"
     },
     "user_tz": 300
    },
    "id": "64q8HQ_rr7jw",
    "outputId": "088a79b3-c1ed-4d88-94ca-ed01e56991fd"
   },
   "outputs": [
    {
     "name": "stdout",
     "output_type": "stream",
     "text": [
      "confusion matrix:\n",
      " [[69  3]\n",
      " [ 8 64]]\n"
     ]
    }
   ],
   "source": [
    "matriz_confusion = confusion_matrix(y_test, y_pred)\n",
    "print(\"confusion matrix:\\n\", matriz_confusion)"
   ]
  },
  {
   "cell_type": "code",
   "execution_count": 16,
   "metadata": {},
   "outputs": [
    {
     "name": "stdout",
     "output_type": "stream",
     "text": [
      "Tiempo: 0.026706218719482422\n"
     ]
    }
   ],
   "source": [
    "inicio = time.time()\n",
    "\n",
    "probabilidades = model.predict(x_test[0].reshape(1,1,495,500,1))\n",
    "y_pred = np.argmax(probabilidades, 1) #1=fila\n",
    "\n",
    "fin = time.time()\n",
    "print(\"Tiempo:\", fin - inicio)"
   ]
  }
 ],
 "metadata": {
  "colab": {
   "authorship_tag": "ABX9TyONg/7V93Lqb1VSLyYz0YDh",
   "collapsed_sections": [],
   "name": "CWT-CNN-LSTM-Predecir.ipynb",
   "provenance": []
  },
  "kernelspec": {
   "display_name": "Python 3",
   "language": "python",
   "name": "python3"
  },
  "language_info": {
   "codemirror_mode": {
    "name": "ipython",
    "version": 3
   },
   "file_extension": ".py",
   "mimetype": "text/x-python",
   "name": "python",
   "nbconvert_exporter": "python",
   "pygments_lexer": "ipython3",
   "version": "3.7.6"
  }
 },
 "nbformat": 4,
 "nbformat_minor": 1
}

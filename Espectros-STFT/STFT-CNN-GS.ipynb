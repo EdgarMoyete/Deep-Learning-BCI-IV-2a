{
 "cells": [
  {
   "cell_type": "markdown",
   "metadata": {
    "colab_type": "text",
    "id": "ywuos8VQ5cc0"
   },
   "source": [
    "### Edgar Moises Hernandez-Gonzalez\n",
    "#### 05/06/20-01/07/20\n",
    "#### Clasificacion de imagenes motoras en EEG con CNN-2D\n",
    "##### Caracteristicas = Espectrogramas STFFT (3D)\n",
    "##### Entrada de 990x31"
   ]
  },
  {
   "cell_type": "code",
   "execution_count": null,
   "metadata": {
    "colab": {},
    "colab_type": "code",
    "id": "3PDQ5YwL5W2n"
   },
   "outputs": [],
   "source": [
    "from google.colab import drive"
   ]
  },
  {
   "cell_type": "code",
   "execution_count": null,
   "metadata": {
    "colab": {
     "base_uri": "https://localhost:8080/",
     "height": 36
    },
    "colab_type": "code",
    "executionInfo": {
     "elapsed": 665,
     "status": "ok",
     "timestamp": 1593618697579,
     "user": {
      "displayName": "Edgar Hernandez",
      "photoUrl": "",
      "userId": "00870877253637619537"
     },
     "user_tz": 300
    },
    "id": "BqzSIBP35yz5",
    "outputId": "2f86669e-3a85-4c71-8830-7c8df1f51132"
   },
   "outputs": [
    {
     "name": "stdout",
     "output_type": "stream",
     "text": [
      "Drive already mounted at /content/drive; to attempt to forcibly remount, call drive.mount(\"/content/drive\", force_remount=True).\n"
     ]
    }
   ],
   "source": [
    "drive.mount('/content/drive')"
   ]
  },
  {
   "cell_type": "code",
   "execution_count": null,
   "metadata": {
    "colab": {
     "base_uri": "https://localhost:8080/",
     "height": 36
    },
    "colab_type": "code",
    "executionInfo": {
     "elapsed": 2285,
     "status": "ok",
     "timestamp": 1593619880347,
     "user": {
      "displayName": "Edgar Hernandez",
      "photoUrl": "",
      "userId": "00870877253637619537"
     },
     "user_tz": 300
    },
    "id": "AjmzDQhi508E",
    "outputId": "08a0f874-c575-4b9e-d7a0-24af87a33859"
   },
   "outputs": [
    {
     "name": "stderr",
     "output_type": "stream",
     "text": [
      "Using TensorFlow backend.\n"
     ]
    }
   ],
   "source": [
    "import numpy as np\n",
    "import pandas as pd\n",
    "import time\n",
    "from scipy.signal import spectrogram\n",
    "from sklearn.preprocessing import LabelEncoder\n",
    "from sklearn.model_selection import GridSearchCV\n",
    "from keras.models import Sequential\n",
    "from keras.layers import Conv2D, MaxPool2D, Flatten, Dense, Dropout\n",
    "from keras.optimizers import Adam\n",
    "from keras.wrappers.scikit_learn import KerasClassifier\n",
    "from keras import backend as K"
   ]
  },
  {
   "cell_type": "code",
   "execution_count": null,
   "metadata": {
    "colab": {
     "base_uri": "https://localhost:8080/",
     "height": 36
    },
    "colab_type": "code",
    "executionInfo": {
     "elapsed": 589,
     "status": "ok",
     "timestamp": 1593619880351,
     "user": {
      "displayName": "Edgar Hernandez",
      "photoUrl": "",
      "userId": "00870877253637619537"
     },
     "user_tz": 300
    },
    "id": "1AJ45b4P6HRh",
    "outputId": "a7806b68-115a-4381-aa2a-45ee48e13c4b"
   },
   "outputs": [
    {
     "data": {
      "application/vnd.google.colaboratory.intrinsic": {
       "type": "string"
      },
      "text/plain": [
       "'channels_last'"
      ]
     },
     "execution_count": 2,
     "metadata": {
      "tags": []
     },
     "output_type": "execute_result"
    }
   ],
   "source": [
    "# para que este script funcione debe de decir 'channels_last', si dice 'channels_first' no sirve\n",
    "K.image_data_format()"
   ]
  },
  {
   "cell_type": "code",
   "execution_count": null,
   "metadata": {
    "colab": {},
    "colab_type": "code",
    "id": "P6nzzlWf6JHG"
   },
   "outputs": [],
   "source": [
    "x_train = pd.read_csv(\"/content/drive/My Drive/BCI-IV-2a/Datos/MI-EEG-A06T.csv\", header=None)\n",
    "x_test = pd.read_csv(\"/content/drive/My Drive/BCI-IV-2a/Datos/MI-EEG-A06E.csv\", header=None)\n",
    "y_train = pd.read_csv(\"/content/drive/My Drive/BCI-IV-2a/Datos/EtiquetasA06T.csv\", header=None)\n",
    "y_test = pd.read_csv(\"/content/drive/My Drive/BCI-IV-2a/Datos/EtiquetasA06E.csv\", header=None)"
   ]
  },
  {
   "cell_type": "code",
   "execution_count": null,
   "metadata": {
    "colab": {
     "base_uri": "https://localhost:8080/",
     "height": 92
    },
    "colab_type": "code",
    "executionInfo": {
     "elapsed": 581,
     "status": "ok",
     "timestamp": 1593619902068,
     "user": {
      "displayName": "Edgar Hernandez",
      "photoUrl": "",
      "userId": "00870877253637619537"
     },
     "user_tz": 300
    },
    "id": "4OWkt6Yv6KqK",
    "outputId": "3036cba1-941a-4385-b7c9-adc87b76b591"
   },
   "outputs": [
    {
     "name": "stdout",
     "output_type": "stream",
     "text": [
      "(288, 22000)\n",
      "(288, 22000)\n",
      "(288, 1)\n",
      "(288, 1)\n"
     ]
    }
   ],
   "source": [
    "print(x_train.shape)\n",
    "print(x_test.shape)\n",
    "print(y_train.shape)\n",
    "print(y_test.shape)"
   ]
  },
  {
   "cell_type": "code",
   "execution_count": null,
   "metadata": {
    "colab": {},
    "colab_type": "code",
    "id": "OI91yGTH6OKJ"
   },
   "outputs": [],
   "source": [
    "x = pd.concat([x_train, x_test])\n",
    "y = pd.concat([y_train, y_test])"
   ]
  },
  {
   "cell_type": "code",
   "execution_count": null,
   "metadata": {
    "colab": {
     "base_uri": "https://localhost:8080/",
     "height": 54
    },
    "colab_type": "code",
    "executionInfo": {
     "elapsed": 774,
     "status": "ok",
     "timestamp": 1593619902281,
     "user": {
      "displayName": "Edgar Hernandez",
      "photoUrl": "",
      "userId": "00870877253637619537"
     },
     "user_tz": 300
    },
    "id": "ezyo4s396QTL",
    "outputId": "7fd37d7b-692d-446c-baf3-777baa72f42a"
   },
   "outputs": [
    {
     "name": "stdout",
     "output_type": "stream",
     "text": [
      "(576, 22000)\n",
      "(576, 1)\n"
     ]
    }
   ],
   "source": [
    "print(x.shape)\n",
    "print(y.shape)"
   ]
  },
  {
   "cell_type": "code",
   "execution_count": null,
   "metadata": {
    "colab": {
     "base_uri": "https://localhost:8080/",
     "height": 36
    },
    "colab_type": "code",
    "executionInfo": {
     "elapsed": 766,
     "status": "ok",
     "timestamp": 1593619902285,
     "user": {
      "displayName": "Edgar Hernandez",
      "photoUrl": "",
      "userId": "00870877253637619537"
     },
     "user_tz": 300
    },
    "id": "MMDSWZGy6RwR",
    "outputId": "ada39fa4-2a79-41ee-de7a-2a1174dfb70c"
   },
   "outputs": [
    {
     "name": "stdout",
     "output_type": "stream",
     "text": [
      "n_samples: 576\n"
     ]
    }
   ],
   "source": [
    "# en caso de no tener el y_test se puede utilizar el x_test\n",
    "n_samples = len(y)\n",
    "\n",
    "print(\"n_samples:\", n_samples)"
   ]
  },
  {
   "cell_type": "code",
   "execution_count": null,
   "metadata": {
    "colab": {
     "base_uri": "https://localhost:8080/",
     "height": 36
    },
    "colab_type": "code",
    "executionInfo": {
     "elapsed": 759,
     "status": "ok",
     "timestamp": 1593619902289,
     "user": {
      "displayName": "Edgar Hernandez",
      "photoUrl": "",
      "userId": "00870877253637619537"
     },
     "user_tz": 300
    },
    "id": "8skjYMyC6Tys",
    "outputId": "06f8ce1d-7a50-4999-b7ab-71ee65f3a85e"
   },
   "outputs": [
    {
     "name": "stdout",
     "output_type": "stream",
     "text": [
      "n_classes: 4\n"
     ]
    }
   ],
   "source": [
    "# esto se podria calcular asi n_clases = len(np.unique(y)), la y puede ser train o test\n",
    "n_classes = len(np.unique(y))\n",
    "\n",
    "print(\"n_classes:\", n_classes)"
   ]
  },
  {
   "cell_type": "code",
   "execution_count": null,
   "metadata": {
    "colab": {
     "base_uri": "https://localhost:8080/",
     "height": 74
    },
    "colab_type": "code",
    "executionInfo": {
     "elapsed": 752,
     "status": "ok",
     "timestamp": 1593619902292,
     "user": {
      "displayName": "Edgar Hernandez",
      "photoUrl": "",
      "userId": "00870877253637619537"
     },
     "user_tz": 300
    },
    "id": "pLRRsMVs6VyB",
    "outputId": "b389a755-8b7e-42c6-b37f-57a7326e75b2"
   },
   "outputs": [
    {
     "name": "stderr",
     "output_type": "stream",
     "text": [
      "/usr/local/lib/python3.6/dist-packages/sklearn/preprocessing/_label.py:251: DataConversionWarning: A column-vector y was passed when a 1d array was expected. Please change the shape of y to (n_samples, ), for example using ravel().\n",
      "  y = column_or_1d(y, warn=True)\n"
     ]
    }
   ],
   "source": [
    "# codificar etiquetas con valores de 0 a nClases-1\n",
    "y = LabelEncoder().fit_transform(y)"
   ]
  },
  {
   "cell_type": "code",
   "execution_count": null,
   "metadata": {
    "colab": {},
    "colab_type": "code",
    "id": "eTsSBLAA6XiR"
   },
   "outputs": [],
   "source": [
    "#unir 22 canales y resize de tamaño proporcional\n",
    "def unir_espectrogramas_vertical(data):\n",
    "  fs = 250\n",
    "  datos = np.zeros((data.shape[0],990,31))\n",
    "  temporal = np.zeros((990,31))\n",
    "  for i in range(data.shape[0]): #288 muestras\n",
    "    for j in range(22): #22 canales\n",
    "      sig = data.iloc[i, j*1000:(j+1)*1000]\n",
    "      #sig = sig[124:624]\n",
    "      #espectrograma de STFFT\n",
    "      f, t, Sxx = spectrogram(sig, fs=250, window='hann', nperseg=250,\n",
    "                              noverlap=225, nfft=500, scaling='spectrum')\n",
    "      temporal[j*45:(j+1)*45, :] = Sxx[16:61, :]\n",
    "    datos[i] = temporal\n",
    "    if i % 100 == 0: #esto solo es para ver como avanza\n",
    "      print(i)\n",
    "  return datos"
   ]
  },
  {
   "cell_type": "code",
   "execution_count": null,
   "metadata": {
    "colab": {
     "base_uri": "https://localhost:8080/",
     "height": 148
    },
    "colab_type": "code",
    "executionInfo": {
     "elapsed": 13923,
     "status": "ok",
     "timestamp": 1593619916836,
     "user": {
      "displayName": "Edgar Hernandez",
      "photoUrl": "",
      "userId": "00870877253637619537"
     },
     "user_tz": 300
    },
    "id": "jLN3Fovd6b3s",
    "outputId": "f90dfab7-947f-4812-db09-febcbd1b81e7"
   },
   "outputs": [
    {
     "name": "stdout",
     "output_type": "stream",
     "text": [
      "0\n",
      "100\n",
      "200\n",
      "300\n",
      "400\n",
      "500\n",
      "Tiempo: 13.400630474090576\n"
     ]
    }
   ],
   "source": [
    "#llamar a unir_espectrogramas_vertical_resize(data)\n",
    "inicio = time.time()\n",
    "\n",
    "x = unir_espectrogramas_vertical(x)\n",
    "\n",
    "fin = time.time()\n",
    "print(\"Tiempo:\", fin - inicio)"
   ]
  },
  {
   "cell_type": "code",
   "execution_count": null,
   "metadata": {
    "colab": {
     "base_uri": "https://localhost:8080/",
     "height": 36
    },
    "colab_type": "code",
    "executionInfo": {
     "elapsed": 11086,
     "status": "ok",
     "timestamp": 1593619916838,
     "user": {
      "displayName": "Edgar Hernandez",
      "photoUrl": "",
      "userId": "00870877253637619537"
     },
     "user_tz": 300
    },
    "id": "aInEjxz16ejW",
    "outputId": "a6c8e8b3-b1df-4fdf-acf5-51644432e9d3"
   },
   "outputs": [
    {
     "name": "stdout",
     "output_type": "stream",
     "text": [
      "(576, 990, 11)\n"
     ]
    }
   ],
   "source": [
    "print(x.shape)"
   ]
  },
  {
   "cell_type": "code",
   "execution_count": null,
   "metadata": {
    "colab": {
     "base_uri": "https://localhost:8080/",
     "height": 73
    },
    "colab_type": "code",
    "executionInfo": {
     "elapsed": 10427,
     "status": "ok",
     "timestamp": 1593619916841,
     "user": {
      "displayName": "Edgar Hernandez",
      "photoUrl": "",
      "userId": "00870877253637619537"
     },
     "user_tz": 300
    },
    "id": "0_RSlbzs6mOi",
    "outputId": "93fdc62c-0c4a-40e8-baba-a46fb762702b"
   },
   "outputs": [
    {
     "name": "stdout",
     "output_type": "stream",
     "text": [
      "452.9424916745041\n",
      "2.426135596687323e-09\n",
      "0.9039499415108267\n"
     ]
    }
   ],
   "source": [
    "print(np.max(x))\n",
    "print(np.min(x))\n",
    "print(np.mean(x))"
   ]
  },
  {
   "cell_type": "code",
   "execution_count": null,
   "metadata": {
    "colab": {},
    "colab_type": "code",
    "id": "-lmvsWdq6oGN"
   },
   "outputs": [],
   "source": [
    "#convertir a float\n",
    "x = x.astype('float32')\n",
    "\n",
    "#escalar los valores en un rango de 0 a 1 (normalizar)\n",
    "x /= np.ceil(np.max(x))"
   ]
  },
  {
   "cell_type": "code",
   "execution_count": null,
   "metadata": {
    "colab": {
     "base_uri": "https://localhost:8080/",
     "height": 73
    },
    "colab_type": "code",
    "executionInfo": {
     "elapsed": 8814,
     "status": "ok",
     "timestamp": 1593619916846,
     "user": {
      "displayName": "Edgar Hernandez",
      "photoUrl": "",
      "userId": "00870877253637619537"
     },
     "user_tz": 300
    },
    "id": "xv2jZbK46rDQ",
    "outputId": "ae245777-8148-4507-db19-3ed5cd4c828a"
   },
   "outputs": [
    {
     "name": "stdout",
     "output_type": "stream",
     "text": [
      "0.9998731\n",
      "5.3557076e-12\n",
      "0.0019954739\n"
     ]
    }
   ],
   "source": [
    "print(np.max(x))\n",
    "print(np.min(x))\n",
    "print(np.mean(x))"
   ]
  },
  {
   "cell_type": "code",
   "execution_count": null,
   "metadata": {
    "colab": {
     "base_uri": "https://localhost:8080/",
     "height": 36
    },
    "colab_type": "code",
    "executionInfo": {
     "elapsed": 8355,
     "status": "ok",
     "timestamp": 1593619916851,
     "user": {
      "displayName": "Edgar Hernandez",
      "photoUrl": "",
      "userId": "00870877253637619537"
     },
     "user_tz": 300
    },
    "id": "ynLMvY7E6tAs",
    "outputId": "23c921ba-2dac-4002-d883-116f3ec9ef5a"
   },
   "outputs": [
    {
     "name": "stdout",
     "output_type": "stream",
     "text": [
      "(576, 990, 11, 1)\n"
     ]
    }
   ],
   "source": [
    "#convertir de 3D a 4D\n",
    "x = x.reshape((x.shape[0], x.shape[1], x.shape[2], 1))\n",
    "\n",
    "print(x.shape)"
   ]
  },
  {
   "cell_type": "code",
   "execution_count": null,
   "metadata": {
    "colab": {},
    "colab_type": "code",
    "id": "oMKkLxQS6xdg"
   },
   "outputs": [],
   "source": [
    "def CNN_2D(n_filtros, tamano_filtros, n_neuronas):\n",
    "  model = Sequential()\n",
    "  model.add(Conv2D(n_filtros, tamano_filtros, activation='relu', padding='same',\n",
    "                   input_shape=x.shape[1:]))\n",
    "  model.add(MaxPool2D((2,2)))\n",
    "  model.add(Conv2D(n_filtros, tamano_filtros, activation='relu', padding='same'))\n",
    "  model.add(MaxPool2D((2,2)))\n",
    "  model.add(Flatten())\n",
    "  model.add(Dense(n_neuronas, activation='relu'))\n",
    "  model.add(Dropout(0.5))\n",
    "  model.add(Dense(n_classes, activation='softmax'))\n",
    "\n",
    "  optimizer = Adam(lr=1e-4)\n",
    "  model.compile(optimizer = optimizer,\n",
    "                loss = 'sparse_categorical_crossentropy',\n",
    "                metrics = ['accuracy'])\n",
    "  return model"
   ]
  },
  {
   "cell_type": "code",
   "execution_count": null,
   "metadata": {
    "colab": {},
    "colab_type": "code",
    "id": "2FlhAXUk763u"
   },
   "outputs": [],
   "source": [
    "clf = KerasClassifier(build_fn = CNN_2D, epochs=400, batch_size=36, verbose=0)"
   ]
  },
  {
   "cell_type": "code",
   "execution_count": null,
   "metadata": {
    "colab": {},
    "colab_type": "code",
    "id": "ubaTcOZW8F-O"
   },
   "outputs": [],
   "source": [
    "n_filtros = [4, 8, 16]\n",
    "tamano_filtros = [(3,3), (15,3)]\n",
    "n_neuronas = [32, 64, 128]\n",
    "hiperparametros = dict(n_filtros=n_filtros,\n",
    "                       tamano_filtros=tamano_filtros,\n",
    "                       n_neuronas=n_neuronas)"
   ]
  },
  {
   "cell_type": "code",
   "execution_count": null,
   "metadata": {
    "colab": {
     "base_uri": "https://localhost:8080/",
     "height": 36
    },
    "colab_type": "code",
    "executionInfo": {
     "elapsed": 432,
     "status": "ok",
     "timestamp": 1593619981490,
     "user": {
      "displayName": "Edgar Hernandez",
      "photoUrl": "",
      "userId": "00870877253637619537"
     },
     "user_tz": 300
    },
    "id": "OGG3MUWO8tr6",
    "outputId": "294076fe-6dc5-450d-9537-a5fc2f773134"
   },
   "outputs": [
    {
     "data": {
      "text/plain": [
       "18"
      ]
     },
     "execution_count": 21,
     "metadata": {
      "tags": []
     },
     "output_type": "execute_result"
    }
   ],
   "source": [
    "# 48 redes tardan 2474seg\n",
    "# entonces 32 redes = 1649\n",
    "# entonces 24 redes = 1021\n",
    "# entonces 18 redes = 780\n",
    "3*2*3"
   ]
  },
  {
   "cell_type": "code",
   "execution_count": null,
   "metadata": {
    "colab": {},
    "colab_type": "code",
    "id": "DMrX75388wbh"
   },
   "outputs": [],
   "source": [
    "grid = GridSearchCV(clf, hiperparametros, cv=2)"
   ]
  },
  {
   "cell_type": "code",
   "execution_count": null,
   "metadata": {
    "colab": {
     "base_uri": "https://localhost:8080/",
     "height": 36
    },
    "colab_type": "code",
    "executionInfo": {
     "elapsed": 798167,
     "status": "ok",
     "timestamp": 1593620795351,
     "user": {
      "displayName": "Edgar Hernandez",
      "photoUrl": "",
      "userId": "00870877253637619537"
     },
     "user_tz": 300
    },
    "id": "BcyCOmS483Ql",
    "outputId": "f8013a8d-8338-446a-f249-10e3f86a40af"
   },
   "outputs": [
    {
     "name": "stdout",
     "output_type": "stream",
     "text": [
      "Tiempo: 797.6594841480255\n"
     ]
    }
   ],
   "source": [
    "inicio = time.time()\n",
    "\n",
    "grid.fit(x, y)\n",
    "\n",
    "fin = time.time()\n",
    "print(\"Tiempo:\", fin - inicio)"
   ]
  },
  {
   "cell_type": "code",
   "execution_count": null,
   "metadata": {
    "colab": {
     "base_uri": "https://localhost:8080/",
     "height": 54
    },
    "colab_type": "code",
    "executionInfo": {
     "elapsed": 795384,
     "status": "ok",
     "timestamp": 1593620795355,
     "user": {
      "displayName": "Edgar Hernandez",
      "photoUrl": "",
      "userId": "00870877253637619537"
     },
     "user_tz": 300
    },
    "id": "rapFzDNL8_AL",
    "outputId": "10171d3c-3637-4606-dcfd-e4f36dd03a4c"
   },
   "outputs": [
    {
     "name": "stdout",
     "output_type": "stream",
     "text": [
      "{'n_filtros': 4, 'n_neuronas': 64, 'tamano_filtros': (3, 3)}\n",
      "0.4704861044883728\n"
     ]
    }
   ],
   "source": [
    "print(grid.best_params_)\n",
    "print(grid.best_score_)"
   ]
  },
  {
   "cell_type": "code",
   "execution_count": null,
   "metadata": {
    "colab": {
     "base_uri": "https://localhost:8080/",
     "height": 354
    },
    "colab_type": "code",
    "executionInfo": {
     "elapsed": 795256,
     "status": "ok",
     "timestamp": 1593620795359,
     "user": {
      "displayName": "Edgar Hernandez",
      "photoUrl": "",
      "userId": "00870877253637619537"
     },
     "user_tz": 300
    },
    "id": "SY1d-DVUABLu",
    "outputId": "5639d0e9-bd3d-4e72-bd3e-3300977a154e"
   },
   "outputs": [
    {
     "name": "stdout",
     "output_type": "stream",
     "text": [
      "0.464 (+/-0.017) for {'n_filtros': 4, 'n_neuronas': 32, 'tamano_filtros': (3, 3)}\n",
      "0.439 (+/-0.031) for {'n_filtros': 4, 'n_neuronas': 32, 'tamano_filtros': (15, 3)}\n",
      "0.470 (+/-0.003) for {'n_filtros': 4, 'n_neuronas': 64, 'tamano_filtros': (3, 3)}\n",
      "0.439 (+/-0.010) for {'n_filtros': 4, 'n_neuronas': 64, 'tamano_filtros': (15, 3)}\n",
      "0.448 (+/-0.014) for {'n_filtros': 4, 'n_neuronas': 128, 'tamano_filtros': (3, 3)}\n",
      "0.429 (+/-0.010) for {'n_filtros': 4, 'n_neuronas': 128, 'tamano_filtros': (15, 3)}\n",
      "0.460 (+/-0.017) for {'n_filtros': 8, 'n_neuronas': 32, 'tamano_filtros': (3, 3)}\n",
      "0.443 (+/-0.010) for {'n_filtros': 8, 'n_neuronas': 32, 'tamano_filtros': (15, 3)}\n",
      "0.450 (+/-0.003) for {'n_filtros': 8, 'n_neuronas': 64, 'tamano_filtros': (3, 3)}\n",
      "0.431 (+/-0.007) for {'n_filtros': 8, 'n_neuronas': 64, 'tamano_filtros': (15, 3)}\n",
      "0.443 (+/-0.017) for {'n_filtros': 8, 'n_neuronas': 128, 'tamano_filtros': (3, 3)}\n",
      "0.422 (+/-0.003) for {'n_filtros': 8, 'n_neuronas': 128, 'tamano_filtros': (15, 3)}\n",
      "0.443 (+/-0.003) for {'n_filtros': 16, 'n_neuronas': 32, 'tamano_filtros': (3, 3)}\n",
      "0.441 (+/-0.014) for {'n_filtros': 16, 'n_neuronas': 32, 'tamano_filtros': (15, 3)}\n",
      "0.448 (+/-0.014) for {'n_filtros': 16, 'n_neuronas': 64, 'tamano_filtros': (3, 3)}\n",
      "0.431 (+/-0.014) for {'n_filtros': 16, 'n_neuronas': 64, 'tamano_filtros': (15, 3)}\n",
      "0.438 (+/-0.035) for {'n_filtros': 16, 'n_neuronas': 128, 'tamano_filtros': (3, 3)}\n",
      "0.415 (+/-0.031) for {'n_filtros': 16, 'n_neuronas': 128, 'tamano_filtros': (15, 3)}\n"
     ]
    }
   ],
   "source": [
    "means = grid.cv_results_['mean_test_score']\n",
    "stds = grid.cv_results_['std_test_score']\n",
    "for mean, std, params in zip(means, stds, grid.cv_results_['params']):\n",
    "    print(\"%0.3f (+/-%0.03f) for %r\"\n",
    "        % (mean, std * 2, params))"
   ]
  },
  {
   "cell_type": "code",
   "execution_count": null,
   "metadata": {
    "colab": {
     "base_uri": "https://localhost:8080/",
     "height": 391
    },
    "colab_type": "code",
    "executionInfo": {
     "elapsed": 2191,
     "status": "ok",
     "timestamp": 1593620918482,
     "user": {
      "displayName": "Edgar Hernandez",
      "photoUrl": "",
      "userId": "00870877253637619537"
     },
     "user_tz": 300
    },
    "id": "VIot08nnchVy",
    "outputId": "62dad73c-323e-4288-c342-3d32b6b844b0"
   },
   "outputs": [
    {
     "name": "stdout",
     "output_type": "stream",
     "text": [
      "Wed Jul  1 16:28:36 2020       \n",
      "+-----------------------------------------------------------------------------+\n",
      "| NVIDIA-SMI 450.36.06    Driver Version: 418.67       CUDA Version: 10.1     |\n",
      "|-------------------------------+----------------------+----------------------+\n",
      "| GPU  Name        Persistence-M| Bus-Id        Disp.A | Volatile Uncorr. ECC |\n",
      "| Fan  Temp  Perf  Pwr:Usage/Cap|         Memory-Usage | GPU-Util  Compute M. |\n",
      "|                               |                      |               MIG M. |\n",
      "|===============================+======================+======================|\n",
      "|   0  Tesla P100-PCIE...  Off  | 00000000:00:04.0 Off |                    0 |\n",
      "| N/A   62C    P0    41W / 250W |   1587MiB / 16280MiB |      0%      Default |\n",
      "|                               |                      |                 ERR! |\n",
      "+-------------------------------+----------------------+----------------------+\n",
      "                                                                               \n",
      "+-----------------------------------------------------------------------------+\n",
      "| Processes:                                                                  |\n",
      "|  GPU   GI   CI        PID   Type   Process name                  GPU Memory |\n",
      "|        ID   ID                                                   Usage      |\n",
      "|=============================================================================|\n",
      "|  No running processes found                                                 |\n",
      "+-----------------------------------------------------------------------------+\n"
     ]
    }
   ],
   "source": [
    "gpu_info = !nvidia-smi\n",
    "gpu_info = '\\n'.join(gpu_info)\n",
    "if gpu_info.find('failed') >= 0:\n",
    "  print('Select the Runtime → \"Change runtime type\" menu to enable a GPU accelerator, ')\n",
    "  print('and then re-execute this cell.')\n",
    "else:\n",
    "  print(gpu_info)"
   ]
  }
 ],
 "metadata": {
  "accelerator": "GPU",
  "colab": {
   "authorship_tag": "ABX9TyNnhHNuPKxuMcnGwptflWuo",
   "collapsed_sections": [],
   "name": "STFT-CNN2D-GS.ipynb",
   "provenance": []
  },
  "kernelspec": {
   "display_name": "Python 3",
   "language": "python",
   "name": "python3"
  },
  "language_info": {
   "codemirror_mode": {
    "name": "ipython",
    "version": 3
   },
   "file_extension": ".py",
   "mimetype": "text/x-python",
   "name": "python",
   "nbconvert_exporter": "python",
   "pygments_lexer": "ipython3",
   "version": "3.7.6"
  }
 },
 "nbformat": 4,
 "nbformat_minor": 1
}

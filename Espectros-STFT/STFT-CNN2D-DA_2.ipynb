{
 "cells": [
  {
   "cell_type": "markdown",
   "metadata": {
    "colab_type": "text",
    "id": "lva6d5lJ-lZI"
   },
   "source": [
    "### Edgar Moises Hernandez-Gonzalez\n",
    "#### 05/06/20-06/06/20\n",
    "#### Clasificacion de imagenes motoras en EEG con CNN-2D\n",
    "##### Caracteristicas = Espectrogramas STFFT (3D)\n",
    "##### Concatenacion vertical\n",
    "##### Resize proporcional de 264x4\n",
    "##### Sin Data Augmentation\n",
    "## 5 ejecuciones independientes\n",
    "##### 2 seg"
   ]
  },
  {
   "cell_type": "code",
   "execution_count": 0,
   "metadata": {
    "colab": {},
    "colab_type": "code",
    "id": "bnK9NXcM-aAa"
   },
   "outputs": [],
   "source": [
    "from google.colab import drive"
   ]
  },
  {
   "cell_type": "code",
   "execution_count": 2,
   "metadata": {
    "colab": {
     "base_uri": "https://localhost:8080/",
     "height": 36
    },
    "colab_type": "code",
    "executionInfo": {
     "elapsed": 443,
     "status": "ok",
     "timestamp": 1591500330654,
     "user": {
      "displayName": "Edgar Hernandez",
      "photoUrl": "",
      "userId": "00870877253637619537"
     },
     "user_tz": 300
    },
    "id": "bhOAlGFD-kuv",
    "outputId": "904c8421-3da6-4187-be3b-290243d434ed"
   },
   "outputs": [
    {
     "name": "stdout",
     "output_type": "stream",
     "text": [
      "Drive already mounted at /content/drive; to attempt to forcibly remount, call drive.mount(\"/content/drive\", force_remount=True).\n"
     ]
    }
   ],
   "source": [
    "drive.mount('/content/drive')"
   ]
  },
  {
   "cell_type": "code",
   "execution_count": 1,
   "metadata": {
    "colab": {
     "base_uri": "https://localhost:8080/",
     "height": 36
    },
    "colab_type": "code",
    "executionInfo": {
     "elapsed": 2075,
     "status": "ok",
     "timestamp": 1591502495644,
     "user": {
      "displayName": "Edgar Hernandez",
      "photoUrl": "",
      "userId": "00870877253637619537"
     },
     "user_tz": 300
    },
    "id": "HJ052b1a-zaM",
    "outputId": "3621508b-b216-4e42-a185-b5105d4afd1b"
   },
   "outputs": [
    {
     "name": "stderr",
     "output_type": "stream",
     "text": [
      "Using TensorFlow backend.\n"
     ]
    }
   ],
   "source": [
    "import numpy as np\n",
    "import pandas as pd\n",
    "import matplotlib.pyplot as plt\n",
    "import time\n",
    "from sklearn.preprocessing import LabelEncoder\n",
    "from sklearn.metrics import cohen_kappa_score, confusion_matrix\n",
    "from scipy.signal import spectrogram\n",
    "import cv2\n",
    "# from keras.utils import to_categorical\n",
    "# from keras.preprocessing.image import ImageDataGenerator\n",
    "from keras.models import Sequential\n",
    "from keras.layers import Conv2D, MaxPool2D, Flatten, Dense, Dropout\n",
    "from keras.optimizers import Adam\n",
    "# from keras.callbacks import ModelCheckpoint\n",
    "from keras import backend as K"
   ]
  },
  {
   "cell_type": "code",
   "execution_count": 2,
   "metadata": {
    "colab": {
     "base_uri": "https://localhost:8080/",
     "height": 36
    },
    "colab_type": "code",
    "executionInfo": {
     "elapsed": 1867,
     "status": "ok",
     "timestamp": 1591502495651,
     "user": {
      "displayName": "Edgar Hernandez",
      "photoUrl": "",
      "userId": "00870877253637619537"
     },
     "user_tz": 300
    },
    "id": "DqWKCoQL-zlA",
    "outputId": "c741507b-08b9-4444-c1f9-95801bd76e76"
   },
   "outputs": [
    {
     "data": {
      "text/plain": [
       "'channels_last'"
      ]
     },
     "execution_count": 2,
     "metadata": {
      "tags": []
     },
     "output_type": "execute_result"
    }
   ],
   "source": [
    "# para que este script funcione debe de decir 'channels_last', si dice 'channels_first' no sirve\n",
    "K.image_data_format()"
   ]
  },
  {
   "cell_type": "code",
   "execution_count": 0,
   "metadata": {
    "colab": {},
    "colab_type": "code",
    "id": "lPhy6wd_-zs0"
   },
   "outputs": [],
   "source": [
    "x_train = pd.read_csv(\"/content/drive/My Drive/BCI-IV-2a/RAW/MI-EEG-A06T.csv\", header=None)\n",
    "x_test = pd.read_csv(\"/content/drive/My Drive/BCI-IV-2a/RAW/MI-EEG-A06E.csv\", header=None)\n",
    "y_train = pd.read_csv(\"/content/drive/My Drive/BCI-IV-2a/RAW/EtiquetasA06T.csv\", header=None)\n",
    "y_test = pd.read_csv(\"/content/drive/My Drive/BCI-IV-2a/RAW/EtiquetasA06E.csv\", header=None)"
   ]
  },
  {
   "cell_type": "code",
   "execution_count": 4,
   "metadata": {
    "colab": {
     "base_uri": "https://localhost:8080/",
     "height": 92
    },
    "colab_type": "code",
    "executionInfo": {
     "elapsed": 12455,
     "status": "ok",
     "timestamp": 1591502516943,
     "user": {
      "displayName": "Edgar Hernandez",
      "photoUrl": "",
      "userId": "00870877253637619537"
     },
     "user_tz": 300
    },
    "id": "6cX59nFR-zz8",
    "outputId": "ae58a397-5653-46b6-cc3d-25a4f49ef00f"
   },
   "outputs": [
    {
     "name": "stdout",
     "output_type": "stream",
     "text": [
      "(288, 22000)\n",
      "(288, 22000)\n",
      "(288, 1)\n",
      "(288, 1)\n"
     ]
    }
   ],
   "source": [
    "print(x_train.shape)\n",
    "print(x_test.shape)\n",
    "print(y_train.shape)\n",
    "print(y_test.shape)"
   ]
  },
  {
   "cell_type": "code",
   "execution_count": 5,
   "metadata": {
    "colab": {
     "base_uri": "https://localhost:8080/",
     "height": 54
    },
    "colab_type": "code",
    "executionInfo": {
     "elapsed": 11725,
     "status": "ok",
     "timestamp": 1591502516945,
     "user": {
      "displayName": "Edgar Hernandez",
      "photoUrl": "",
      "userId": "00870877253637619537"
     },
     "user_tz": 300
    },
    "id": "-YaV7HtL-z64",
    "outputId": "b9a9ffaa-0a33-4594-ed97-c3721f12d933"
   },
   "outputs": [
    {
     "name": "stdout",
     "output_type": "stream",
     "text": [
      "n_samples_train: 288\n",
      "n_samples_test : 288\n"
     ]
    }
   ],
   "source": [
    "n_samples_train = len(y_train)\n",
    "n_samples_test = len(y_test) #en caso de no tener el y_test se puede utilizar el x_test\n",
    "\n",
    "print(\"n_samples_train:\", n_samples_train)\n",
    "print(\"n_samples_test :\", n_samples_test)"
   ]
  },
  {
   "cell_type": "code",
   "execution_count": 6,
   "metadata": {
    "colab": {
     "base_uri": "https://localhost:8080/",
     "height": 36
    },
    "colab_type": "code",
    "executionInfo": {
     "elapsed": 11315,
     "status": "ok",
     "timestamp": 1591502516946,
     "user": {
      "displayName": "Edgar Hernandez",
      "photoUrl": "",
      "userId": "00870877253637619537"
     },
     "user_tz": 300
    },
    "id": "ny0UXJ83-0CJ",
    "outputId": "f7bc9fa2-b685-45ba-cb62-791d9fca7cf4"
   },
   "outputs": [
    {
     "name": "stdout",
     "output_type": "stream",
     "text": [
      "n_classes: 4\n"
     ]
    }
   ],
   "source": [
    "n_classes = len(np.unique(y_test)) #esto se podria calcular asi n_clases = len(np.unique(y)), la y puede ser train o test\n",
    "\n",
    "print(\"n_classes:\", n_classes)"
   ]
  },
  {
   "cell_type": "code",
   "execution_count": 7,
   "metadata": {
    "colab": {
     "base_uri": "https://localhost:8080/",
     "height": 112
    },
    "colab_type": "code",
    "executionInfo": {
     "elapsed": 10960,
     "status": "ok",
     "timestamp": 1591502516949,
     "user": {
      "displayName": "Edgar Hernandez",
      "photoUrl": "",
      "userId": "00870877253637619537"
     },
     "user_tz": 300
    },
    "id": "_4jPYH-X-0Ik",
    "outputId": "62eca2e9-7e25-4216-bdd9-9c91e90c1103"
   },
   "outputs": [
    {
     "name": "stderr",
     "output_type": "stream",
     "text": [
      "/usr/local/lib/python3.6/dist-packages/sklearn/preprocessing/_label.py:235: DataConversionWarning: A column-vector y was passed when a 1d array was expected. Please change the shape of y to (n_samples, ), for example using ravel().\n",
      "  y = column_or_1d(y, warn=True)\n",
      "/usr/local/lib/python3.6/dist-packages/sklearn/preprocessing/_label.py:268: DataConversionWarning: A column-vector y was passed when a 1d array was expected. Please change the shape of y to (n_samples, ), for example using ravel().\n",
      "  y = column_or_1d(y, warn=True)\n"
     ]
    }
   ],
   "source": [
    "#codificar etiquetas con valores de 0 a nClases-1\n",
    "le = LabelEncoder().fit(y_train)\n",
    "y_train = le.transform(y_train)\n",
    "y_test = le.transform(y_test)"
   ]
  },
  {
   "cell_type": "code",
   "execution_count": 0,
   "metadata": {
    "colab": {},
    "colab_type": "code",
    "id": "7oWqWIvsDCre"
   },
   "outputs": [],
   "source": [
    "# las etiquetas en categorical para poder entrenar data augmentation\n",
    "# y_train_categorical = to_categorical(y_train)\n",
    "# y_test_categorical = to_categorical(y_test)"
   ]
  },
  {
   "cell_type": "code",
   "execution_count": 0,
   "metadata": {
    "colab": {},
    "colab_type": "code",
    "id": "T4vXulAr-0V1"
   },
   "outputs": [],
   "source": [
    "#unir 22 canales y resize de tamaño proporcional\n",
    "def unir_espectrogramas_vertical_resize(data):\n",
    "  dim = (4, 264) #ancho, alto\n",
    "  fs = 250\n",
    "  datos = np.zeros((288,264,4))\n",
    "  temporal = np.zeros((528,2))\n",
    "  for i in range(data.shape[0]): #288 muestras\n",
    "    for j in range(22): #22 canales\n",
    "      sig = data.iloc[i, j*1000:(j+1)*1000]\n",
    "      sig = sig[124:624]\n",
    "      f, t, Sxx = spectrogram(sig, fs) #espectrograma de STFFT\n",
    "      temporal[j*24:(j+1)*24, :] = Sxx[8:32, :]\n",
    "    resized = cv2.resize(temporal, dim, interpolation=cv2.INTER_AREA)\n",
    "    datos[i] = resized\n",
    "    if i % 100 == 0: #esto solo es para ver como avanza\n",
    "      print(i)\n",
    "  return datos"
   ]
  },
  {
   "cell_type": "code",
   "execution_count": 10,
   "metadata": {
    "colab": {
     "base_uri": "https://localhost:8080/",
     "height": 148
    },
    "colab_type": "code",
    "executionInfo": {
     "elapsed": 16815,
     "status": "ok",
     "timestamp": 1591502523685,
     "user": {
      "displayName": "Edgar Hernandez",
      "photoUrl": "",
      "userId": "00870877253637619537"
     },
     "user_tz": 300
    },
    "id": "kV7sWVXp-0cr",
    "outputId": "f85d2e37-1b9b-46ad-c516-e6e88319efa8"
   },
   "outputs": [
    {
     "name": "stdout",
     "output_type": "stream",
     "text": [
      "0\n",
      "100\n",
      "200\n",
      "0\n",
      "100\n",
      "200\n",
      "Tiempo: 8.57343602180481\n"
     ]
    }
   ],
   "source": [
    "#llamar a unir_espectrogramas_vertical_resize(data)\n",
    "inicio = time.time()\n",
    "\n",
    "x_train = unir_espectrogramas_vertical_resize(x_train)\n",
    "x_test = unir_espectrogramas_vertical_resize(x_test)\n",
    "\n",
    "fin = time.time()\n",
    "print(\"Tiempo:\", fin - inicio)"
   ]
  },
  {
   "cell_type": "code",
   "execution_count": 11,
   "metadata": {
    "colab": {
     "base_uri": "https://localhost:8080/",
     "height": 54
    },
    "colab_type": "code",
    "executionInfo": {
     "elapsed": 16636,
     "status": "ok",
     "timestamp": 1591502523686,
     "user": {
      "displayName": "Edgar Hernandez",
      "photoUrl": "",
      "userId": "00870877253637619537"
     },
     "user_tz": 300
    },
    "id": "vXuOx93G_X6q",
    "outputId": "efdd13a5-d5be-4496-f424-757e34ae0cf4"
   },
   "outputs": [
    {
     "name": "stdout",
     "output_type": "stream",
     "text": [
      "(288, 264, 4)\n",
      "(288, 264, 4)\n"
     ]
    }
   ],
   "source": [
    "print(x_train.shape)\n",
    "print(x_test.shape)"
   ]
  },
  {
   "cell_type": "code",
   "execution_count": 12,
   "metadata": {
    "colab": {
     "base_uri": "https://localhost:8080/",
     "height": 129
    },
    "colab_type": "code",
    "executionInfo": {
     "elapsed": 15812,
     "status": "ok",
     "timestamp": 1591502523688,
     "user": {
      "displayName": "Edgar Hernandez",
      "photoUrl": "",
      "userId": "00870877253637619537"
     },
     "user_tz": 300
    },
    "id": "y-w5V-em_YGr",
    "outputId": "e69909bd-6891-4939-f7a4-0eaf0ab336ab"
   },
   "outputs": [
    {
     "name": "stdout",
     "output_type": "stream",
     "text": [
      "216.60755916778774\n",
      "157.668363553419\n",
      "0.0007081454204163156\n",
      "0.00045805550024795576\n",
      "2.0308243577702463\n",
      "1.9598160604037143\n"
     ]
    }
   ],
   "source": [
    "print(np.max(x_train))\n",
    "print(np.max(x_test))\n",
    "print(np.min(x_train))\n",
    "print(np.min(x_test))\n",
    "print(np.mean(x_train))\n",
    "print(np.mean(x_test))"
   ]
  },
  {
   "cell_type": "code",
   "execution_count": 0,
   "metadata": {
    "colab": {},
    "colab_type": "code",
    "id": "u2vDQ-EFoPJA"
   },
   "outputs": [],
   "source": [
    "x = np.ceil(np.max(x_train))"
   ]
  },
  {
   "cell_type": "code",
   "execution_count": 0,
   "metadata": {
    "colab": {},
    "colab_type": "code",
    "id": "4LAcxDHX_YPo"
   },
   "outputs": [],
   "source": [
    "#convertir a float\n",
    "x_train = x_train.astype('float32')\n",
    "x_test = x_test.astype('float32')\n",
    "\n",
    "#escalar los valores en un rango de 0 a 1 (normalizar)\n",
    "x_train /= x\n",
    "x_test /= x"
   ]
  },
  {
   "cell_type": "code",
   "execution_count": 15,
   "metadata": {
    "colab": {
     "base_uri": "https://localhost:8080/",
     "height": 129
    },
    "colab_type": "code",
    "executionInfo": {
     "elapsed": 14690,
     "status": "ok",
     "timestamp": 1591502523697,
     "user": {
      "displayName": "Edgar Hernandez",
      "photoUrl": "",
      "userId": "00870877253637619537"
     },
     "user_tz": 300
    },
    "id": "-qY1aZX1_YX8",
    "outputId": "feef716c-1bb8-4255-c1ad-9aec75374e31"
   },
   "outputs": [
    {
     "name": "stdout",
     "output_type": "stream",
     "text": [
      "0.99819154\n",
      "0.72658235\n",
      "3.263343e-06\n",
      "2.110855e-06\n",
      "0.009358639\n",
      "0.009031409\n"
     ]
    }
   ],
   "source": [
    "print(np.max(x_train))\n",
    "print(np.max(x_test))\n",
    "print(np.min(x_train))\n",
    "print(np.min(x_test))\n",
    "print(np.mean(x_train))\n",
    "print(np.mean(x_test))"
   ]
  },
  {
   "cell_type": "code",
   "execution_count": 16,
   "metadata": {
    "colab": {
     "base_uri": "https://localhost:8080/",
     "height": 54
    },
    "colab_type": "code",
    "executionInfo": {
     "elapsed": 12527,
     "status": "ok",
     "timestamp": 1591502523700,
     "user": {
      "displayName": "Edgar Hernandez",
      "photoUrl": "",
      "userId": "00870877253637619537"
     },
     "user_tz": 300
    },
    "id": "qndcARPB_Yf6",
    "outputId": "40a1fe10-3116-4bdb-a566-15dce81df370"
   },
   "outputs": [
    {
     "name": "stdout",
     "output_type": "stream",
     "text": [
      "(288, 264, 4, 1)\n",
      "(288, 264, 4, 1)\n"
     ]
    }
   ],
   "source": [
    "#convertir de 3D a 4D\n",
    "x_train = x_train.reshape((x_train.shape[0], x_train.shape[1], x_train.shape[2], 1))\n",
    "x_test = x_test.reshape((x_test.shape[0], x_test.shape[1], x_test.shape[2], 1))\n",
    "\n",
    "print(x_train.shape)\n",
    "print(x_test.shape)"
   ]
  },
  {
   "cell_type": "code",
   "execution_count": 0,
   "metadata": {
    "colab": {},
    "colab_type": "code",
    "id": "1Bvdnz97Daq1"
   },
   "outputs": [],
   "source": [
    "# datagen_train = ImageDataGenerator(width_shift_range=0.25)"
   ]
  },
  {
   "cell_type": "code",
   "execution_count": 0,
   "metadata": {
    "colab": {},
    "colab_type": "code",
    "id": "Znc8vkHUolxJ"
   },
   "outputs": [],
   "source": [
    "# usar el .hdf5\n",
    "# mc = ModelCheckpoint('best.h5', monitor='val_accuracy', save_best_only=True)\n",
    "#mc = ModelCheckpoint('/content/drive/My Drive/BCI-IV-2a/Modelos/Modelo_STFTDA09.hdf5',\n",
    "#                     monitor='val_accuracy', save_best_only=True, verbose=1)"
   ]
  },
  {
   "cell_type": "code",
   "execution_count": 0,
   "metadata": {
    "colab": {},
    "colab_type": "code",
    "id": "SlDnHYpb_YoB"
   },
   "outputs": [],
   "source": [
    "def CNN_2D():\n",
    "  model = Sequential()\n",
    "  model.add(Conv2D(16, (3,3), activation='relu', padding='same',\n",
    "                   input_shape=x_train.shape[1:]))\n",
    "  model.add(MaxPool2D((2,2)))\n",
    "  model.add(Conv2D(16, (3,3), activation='relu', padding='same'))\n",
    "  model.add(MaxPool2D((2,2)))\n",
    "  model.add(Flatten())\n",
    "  model.add(Dense(128, activation='relu'))\n",
    "  model.add(Dropout(0.5))\n",
    "  model.add(Dense(n_classes, activation='softmax'))\n",
    "\n",
    "  optimizer = Adam(lr=1e-4)\n",
    "  model.compile(optimizer = optimizer,\n",
    "                loss = 'sparse_categorical_crossentropy',\n",
    "                metrics = ['accuracy'])\n",
    "  return model"
   ]
  },
  {
   "cell_type": "code",
   "execution_count": 18,
   "metadata": {
    "colab": {
     "base_uri": "https://localhost:8080/",
     "height": 1000
    },
    "colab_type": "code",
    "executionInfo": {
     "elapsed": 88674,
     "status": "ok",
     "timestamp": 1591502612404,
     "user": {
      "displayName": "Edgar Hernandez",
      "photoUrl": "",
      "userId": "00870877253637619537"
     },
     "user_tz": 300
    },
    "id": "F1G6UPuh_Y4C",
    "outputId": "0c183c2e-edeb-49c5-bd25-2c8c306f18a8"
   },
   "outputs": [
    {
     "name": "stdout",
     "output_type": "stream",
     "text": [
      "Iteration: 1\n",
      "loss:  1.6184976763195462\n",
      "accuracy:  0.4375\n",
      "kappa:  0.25\n",
      "confusion matrix:\n",
      " [[38 21  7  6]\n",
      " [20 31 16  5]\n",
      " [21  8 32 11]\n",
      " [16 16 15 25]]\n"
     ]
    },
    {
     "data": {
      "image/png": "[encoded data removed]",
      "text/plain": [
       "<Figure size 432x288 with 1 Axes>"
      ]
     },
     "metadata": {
      "needs_background": "light",
      "tags": []
     },
     "output_type": "display_data"
    },
    {
     "data": {
      "image/png": "[encoded data removed]",
      "text/plain": [
       "<Figure size 432x288 with 1 Axes>"
      ]
     },
     "metadata": {
      "needs_background": "light",
      "tags": []
     },
     "output_type": "display_data"
    },
    {
     "name": "stdout",
     "output_type": "stream",
     "text": [
      "Iteration: 2\n",
      "loss:  1.6936448282665677\n",
      "accuracy:  0.4375\n",
      "kappa:  0.25\n",
      "confusion matrix:\n",
      " [[36 21  6  9]\n",
      " [21 29 21  1]\n",
      " [22  5 31 14]\n",
      " [20 15  7 30]]\n"
     ]
    },
    {
     "data": {
      "image/png": "[encoded data removed]",
      "text/plain": [
       "<Figure size 432x288 with 1 Axes>"
      ]
     },
     "metadata": {
      "needs_background": "light",
      "tags": []
     },
     "output_type": "display_data"
    },
    {
     "data": {
      "image/png": "[encoded data removed]",
      "text/plain": [
       "<Figure size 432x288 with 1 Axes>"
      ]
     },
     "metadata": {
      "needs_background": "light",
      "tags": []
     },
     "output_type": "display_data"
    },
    {
     "name": "stdout",
     "output_type": "stream",
     "text": [
      "\n",
      "Resultados:\n",
      "loss: [1.6184976763195462, 1.6936448282665677]\n",
      "accuracy: [0.4375, 0.4375]\n",
      "kappa: [0.25, 0.25]\n",
      "Tiempo: 85.74438095092773\n"
     ]
    }
   ],
   "source": [
    "inicio = time.time()\n",
    "array_loss = []\n",
    "array_acc = []\n",
    "array_kappa = []\n",
    "for i in range(2):\n",
    "  print(\"Iteration:\", i+1)\n",
    "    \n",
    "  model = CNN_2D()\n",
    "\n",
    "  '''history = model.fit_generator(datagen_train.flow(x_train, y_train_categorical, batch_size=36),\n",
    "                                steps_per_epoch=np.ceil(n_samples_train/36),\n",
    "                                epochs=1000,\n",
    "                                validation_data=(x_test, y_test_categorical),\n",
    "                                verbose=0) #, callbacks=[mc])\n",
    "  \n",
    "  test_loss, test_acc = model.evaluate(x_test, y_test_categorical, verbose=0)'''\n",
    "\n",
    "  history = model.fit(x_train, y_train, epochs=1000, batch_size=36,\n",
    "                      validation_data=(x_test, y_test), verbose=0)\n",
    "    \n",
    "  test_loss, test_acc = model.evaluate(x_test, y_test, verbose=0)\n",
    "  array_loss.append(test_loss)\n",
    "  print(\"loss: \", test_loss)\n",
    "  array_acc.append(test_acc)\n",
    "  print(\"accuracy: \", test_acc)\n",
    "    \n",
    "  probabilidades = model.predict(x_test)\n",
    "  y_pred = np.argmax(probabilidades, 1) #1=fila\n",
    "    \n",
    "  kappa = cohen_kappa_score(y_test, y_pred)\n",
    "  array_kappa.append(kappa)\n",
    "  print(\"kappa: \", kappa)\n",
    "    \n",
    "  matriz_confusion = confusion_matrix(y_test, y_pred)\n",
    "  print(\"confusion matrix:\\n\", matriz_confusion)\n",
    "    \n",
    "  plt.plot(history.history['accuracy'])\n",
    "  plt.plot(history.history['val_accuracy'])\n",
    "  plt.grid()\n",
    "  plt.xlabel('Epochs')\n",
    "  plt.ylabel('Accuracy')\n",
    "  plt.legend(['train', 'test'])\n",
    "  plt.show()\n",
    "  plt.plot(history.history['loss'])\n",
    "  plt.plot(history.history['val_loss'])\n",
    "  plt.grid()\n",
    "  plt.xlabel('Epochs')\n",
    "  plt.ylabel('Cross-Entropy')\n",
    "  plt.legend(['train', 'test'])\n",
    "  plt.show()\n",
    "    \n",
    "print() \n",
    "print(\"Resultados:\")\n",
    "print(\"loss:\", array_loss)\n",
    "print(\"accuracy:\", array_acc)\n",
    "print(\"kappa:\", array_kappa)\n",
    "fin = time.time()\n",
    "print(\"Tiempo:\", fin - inicio)"
   ]
  },
  {
   "cell_type": "code",
   "execution_count": 19,
   "metadata": {
    "colab": {
     "base_uri": "https://localhost:8080/",
     "height": 466
    },
    "colab_type": "code",
    "executionInfo": {
     "elapsed": 88658,
     "status": "ok",
     "timestamp": 1591502612408,
     "user": {
      "displayName": "Edgar Hernandez",
      "photoUrl": "",
      "userId": "00870877253637619537"
     },
     "user_tz": 300
    },
    "id": "wzMf2sMo_tiC",
    "outputId": "188c3c2d-2c53-4212-b17b-c51d3533908e"
   },
   "outputs": [
    {
     "name": "stdout",
     "output_type": "stream",
     "text": [
      "Model: \"sequential_2\"\n",
      "_________________________________________________________________\n",
      "Layer (type)                 Output Shape              Param #   \n",
      "=================================================================\n",
      "conv2d_3 (Conv2D)            (None, 264, 4, 16)        160       \n",
      "_________________________________________________________________\n",
      "max_pooling2d_3 (MaxPooling2 (None, 132, 2, 16)        0         \n",
      "_________________________________________________________________\n",
      "conv2d_4 (Conv2D)            (None, 132, 2, 16)        2320      \n",
      "_________________________________________________________________\n",
      "max_pooling2d_4 (MaxPooling2 (None, 66, 1, 16)         0         \n",
      "_________________________________________________________________\n",
      "flatten_2 (Flatten)          (None, 1056)              0         \n",
      "_________________________________________________________________\n",
      "dense_3 (Dense)              (None, 128)               135296    \n",
      "_________________________________________________________________\n",
      "dropout_2 (Dropout)          (None, 128)               0         \n",
      "_________________________________________________________________\n",
      "dense_4 (Dense)              (None, 4)                 516       \n",
      "=================================================================\n",
      "Total params: 138,292\n",
      "Trainable params: 138,292\n",
      "Non-trainable params: 0\n",
      "_________________________________________________________________\n"
     ]
    }
   ],
   "source": [
    "model.summary()"
   ]
  },
  {
   "cell_type": "code",
   "execution_count": 20,
   "metadata": {
    "colab": {
     "base_uri": "https://localhost:8080/",
     "height": 129
    },
    "colab_type": "code",
    "executionInfo": {
     "elapsed": 88647,
     "status": "ok",
     "timestamp": 1591502612411,
     "user": {
      "displayName": "Edgar Hernandez",
      "photoUrl": "",
      "userId": "00870877253637619537"
     },
     "user_tz": 300
    },
    "id": "D1QwJp4-_tth",
    "outputId": "5802336d-4fe4-4760-a3ac-458aabcf21b0"
   },
   "outputs": [
    {
     "name": "stdout",
     "output_type": "stream",
     "text": [
      "Mean Accuracy: 0.4375\n",
      "std: (+/- 0.0000)\n",
      "Mean Kappa: 0.2500\n",
      "std: (+/- 0.0000)\n",
      "Max Accuracy: 0.4375\n",
      "Max Kappa: 0.2500\n"
     ]
    }
   ],
   "source": [
    "print(\"Mean Accuracy: %.4f\" % np.mean(array_acc))\n",
    "print(\"std: (+/- %.4f)\" % np.std(array_acc))\n",
    "print(\"Mean Kappa: %.4f\" % np.mean(array_kappa))\n",
    "print(\"std: (+/- %.4f)\" % np.std(array_kappa))\n",
    "print(\"Max Accuracy: %.4f\" % np.max(array_acc))\n",
    "print(\"Max Kappa: %.4f\" % np.max(array_kappa))"
   ]
  },
  {
   "cell_type": "code",
   "execution_count": 24,
   "metadata": {
    "colab": {
     "base_uri": "https://localhost:8080/",
     "height": 316
    },
    "colab_type": "code",
    "executionInfo": {
     "elapsed": 87575,
     "status": "ok",
     "timestamp": 1591499253174,
     "user": {
      "displayName": "Edgar Hernandez",
      "photoUrl": "",
      "userId": "00870877253637619537"
     },
     "user_tz": 300
    },
    "id": "MsMXbcRitfG_",
    "outputId": "9e5622b7-2655-442a-a0b1-ae0cd692669b"
   },
   "outputs": [
    {
     "name": "stdout",
     "output_type": "stream",
     "text": [
      "Sun Jun  7 03:07:27 2020       \n",
      "+-----------------------------------------------------------------------------+\n",
      "| NVIDIA-SMI 440.82       Driver Version: 418.67       CUDA Version: 10.1     |\n",
      "|-------------------------------+----------------------+----------------------+\n",
      "| GPU  Name        Persistence-M| Bus-Id        Disp.A | Volatile Uncorr. ECC |\n",
      "| Fan  Temp  Perf  Pwr:Usage/Cap|         Memory-Usage | GPU-Util  Compute M. |\n",
      "|===============================+======================+======================|\n",
      "|   0  Tesla P100-PCIE...  Off  | 00000000:00:04.0 Off |                    0 |\n",
      "| N/A   37C    P0    32W / 250W |    619MiB / 16280MiB |      0%      Default |\n",
      "+-------------------------------+----------------------+----------------------+\n",
      "                                                                               \n",
      "+-----------------------------------------------------------------------------+\n",
      "| Processes:                                                       GPU Memory |\n",
      "|  GPU       PID   Type   Process name                             Usage      |\n",
      "|=============================================================================|\n",
      "+-----------------------------------------------------------------------------+\n"
     ]
    }
   ],
   "source": [
    "gpu_info = !nvidia-smi\n",
    "gpu_info = '\\n'.join(gpu_info)\n",
    "if gpu_info.find('failed') >= 0:\n",
    "  print('Select the Runtime → \"Change runtime type\" menu to enable a GPU accelerator, ')\n",
    "  print('and then re-execute this cell.')\n",
    "else:\n",
    "  print(gpu_info)"
   ]
  },
  {
   "cell_type": "code",
   "execution_count": 0,
   "metadata": {
    "colab": {},
    "colab_type": "code",
    "id": "yT12zuvmxX-L"
   },
   "outputs": [],
   "source": [
    "# Sujeto 1\n",
    "# sin DA = 56%\n",
    "# con DA = 53%\n",
    "# red de antes = 55%\n",
    "# red de antes con 264x8 = 56%\n",
    "# -----red de antes sin DA= 57%-----\n",
    "# red de antes sin DA con 264x8 = 54%\n",
    "# red de antes sin DA con 264x8 con filtros de 12x3 = 50.35%\n",
    "\n",
    "# Sujeto 3\n",
    "# red de antes sin DA= 65.10%\n",
    "\n",
    "# Sujeto 6\n",
    "# red de antes sin DA= 43.75%"
   ]
  }
 ],
 "metadata": {
  "accelerator": "GPU",
  "colab": {
   "authorship_tag": "ABX9TyMwMra43/LGEIa50meypTde",
   "collapsed_sections": [],
   "name": "STFT-CNN2D-DA_2.ipynb",
   "provenance": []
  },
  "kernelspec": {
   "display_name": "Python 3",
   "language": "python",
   "name": "python3"
  },
  "language_info": {
   "codemirror_mode": {
    "name": "ipython",
    "version": 3
   },
   "file_extension": ".py",
   "mimetype": "text/x-python",
   "name": "python",
   "nbconvert_exporter": "python",
   "pygments_lexer": "ipython3",
   "version": "3.7.6"
  }
 },
 "nbformat": 4,
 "nbformat_minor": 1
}

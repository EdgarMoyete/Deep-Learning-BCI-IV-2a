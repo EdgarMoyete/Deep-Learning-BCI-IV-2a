{
 "cells": [
  {
   "cell_type": "markdown",
   "metadata": {
    "colab_type": "text",
    "id": "DKayfMKxHndE"
   },
   "source": [
    "### Edgar Moises Hernandez-Gonzalez\n",
    "#### 20-04-20-26-08-20\n",
    "#### Clasificacion de imagenes motoras en EEG con CNN-2D\n",
    "#### Cargar modelo para evaluacion y predecir\n",
    "##### Caracteristicas = Espectrogramas STFFT (3D)\n",
    "##### Entrada 990x31"
   ]
  },
  {
   "cell_type": "code",
   "execution_count": null,
   "metadata": {
    "colab": {},
    "colab_type": "code",
    "id": "eptndEOFHgdd"
   },
   "outputs": [],
   "source": [
    "from google.colab import drive"
   ]
  },
  {
   "cell_type": "code",
   "execution_count": null,
   "metadata": {
    "colab": {
     "base_uri": "https://localhost:8080/",
     "height": 36
    },
    "colab_type": "code",
    "executionInfo": {
     "elapsed": 489,
     "status": "ok",
     "timestamp": 1598412556220,
     "user": {
      "displayName": "Edgar Hernandez",
      "photoUrl": "",
      "userId": "00870877253637619537"
     },
     "user_tz": 300
    },
    "id": "gmy7j9KUHrZD",
    "outputId": "ae04377f-5d63-4c5b-d705-bd594ea8da07"
   },
   "outputs": [
    {
     "name": "stdout",
     "output_type": "stream",
     "text": [
      "Drive already mounted at /content/drive; to attempt to forcibly remount, call drive.mount(\"/content/drive\", force_remount=True).\n"
     ]
    }
   ],
   "source": [
    "drive.mount('/content/drive')"
   ]
  },
  {
   "cell_type": "code",
   "execution_count": 2,
   "metadata": {
    "colab": {},
    "colab_type": "code",
    "id": "zLDLPArbHtLD"
   },
   "outputs": [
    {
     "name": "stderr",
     "output_type": "stream",
     "text": [
      "Using TensorFlow backend.\n"
     ]
    }
   ],
   "source": [
    "import numpy as np\n",
    "import pandas as pd\n",
    "import time\n",
    "from scipy.signal import spectrogram\n",
    "from sklearn.preprocessing import LabelEncoder\n",
    "from sklearn.metrics import cohen_kappa_score, confusion_matrix\n",
    "# from keras.utils import to_categorical\n",
    "from keras.models import load_model"
   ]
  },
  {
   "cell_type": "code",
   "execution_count": 3,
   "metadata": {
    "colab": {},
    "colab_type": "code",
    "id": "Lt2VtG9OIxMm"
   },
   "outputs": [],
   "source": [
    "x_train = pd.read_csv(\"../Datos/MI-EEG-A09T.csv\", header=None)\n",
    "x_test = pd.read_csv(\"../Datos/MI-EEG-A09E.csv\", header=None)\n",
    "y_test = pd.read_csv(\"../Datos/EtiquetasA09E.csv\", header=None)"
   ]
  },
  {
   "cell_type": "code",
   "execution_count": 4,
   "metadata": {
    "colab": {
     "base_uri": "https://localhost:8080/",
     "height": 73
    },
    "colab_type": "code",
    "executionInfo": {
     "elapsed": 576,
     "status": "ok",
     "timestamp": 1598412571839,
     "user": {
      "displayName": "Edgar Hernandez",
      "photoUrl": "",
      "userId": "00870877253637619537"
     },
     "user_tz": 300
    },
    "id": "tsk0JxJGKieR",
    "outputId": "1ce425c2-6fe8-4c29-b095-01809ebc4f2c"
   },
   "outputs": [
    {
     "name": "stdout",
     "output_type": "stream",
     "text": [
      "(288, 22000)\n",
      "(288, 22000)\n",
      "(288, 1)\n"
     ]
    }
   ],
   "source": [
    "print(x_train.shape)\n",
    "print(x_test.shape)\n",
    "print(y_test.shape)"
   ]
  },
  {
   "cell_type": "code",
   "execution_count": 5,
   "metadata": {
    "colab": {
     "base_uri": "https://localhost:8080/",
     "height": 36
    },
    "colab_type": "code",
    "executionInfo": {
     "elapsed": 633,
     "status": "ok",
     "timestamp": 1598412572076,
     "user": {
      "displayName": "Edgar Hernandez",
      "photoUrl": "",
      "userId": "00870877253637619537"
     },
     "user_tz": 300
    },
    "id": "YyGhnCjXKqOI",
    "outputId": "6c41daf0-b1bd-4453-942e-7f0dfe9ab0f6"
   },
   "outputs": [
    {
     "name": "stdout",
     "output_type": "stream",
     "text": [
      "n_classes: 4\n"
     ]
    }
   ],
   "source": [
    "# esto se podria calcular asi n_clases = len(np.unique(y)), la y puede ser train o test\n",
    "n_classes = len(np.unique(y_test))\n",
    "\n",
    "print(\"n_classes:\", n_classes)"
   ]
  },
  {
   "cell_type": "code",
   "execution_count": null,
   "metadata": {
    "colab": {
     "base_uri": "https://localhost:8080/",
     "height": 74
    },
    "colab_type": "code",
    "executionInfo": {
     "elapsed": 12215,
     "status": "ok",
     "timestamp": 1595045871434,
     "user": {
      "displayName": "Edgar Hernandez",
      "photoUrl": "",
      "userId": "00870877253637619537"
     },
     "user_tz": 300
    },
    "id": "LNJ6axkmI2M0",
    "outputId": "eed58947-cb35-4470-df00-415e0c67f040"
   },
   "outputs": [
    {
     "name": "stderr",
     "output_type": "stream",
     "text": [
      "/usr/local/lib/python3.6/dist-packages/sklearn/preprocessing/_label.py:251: DataConversionWarning: A column-vector y was passed when a 1d array was expected. Please change the shape of y to (n_samples, ), for example using ravel().\n",
      "  y = column_or_1d(y, warn=True)\n"
     ]
    }
   ],
   "source": [
    "#codificar etiquetas con valores de 0 a nClases-1\n",
    "# y_test = LabelEncoder().fit_transform(y_test)"
   ]
  },
  {
   "cell_type": "code",
   "execution_count": null,
   "metadata": {
    "colab": {},
    "colab_type": "code",
    "id": "iZnW2qa50AcD"
   },
   "outputs": [],
   "source": [
    "# las etiquetas en categorical para poder entrenar data augmentation\n",
    "# y_test_categorical = to_categorical(y_test)"
   ]
  },
  {
   "cell_type": "code",
   "execution_count": 6,
   "metadata": {
    "colab": {},
    "colab_type": "code",
    "id": "MqNsUvHxJKtE"
   },
   "outputs": [],
   "source": [
    "#unir 22 canales y resize de tamaño proporcional\n",
    "def unir_espectrogramas_vertical(data):\n",
    "  fs = 250\n",
    "  datos = np.zeros((data.shape[0],990,31))\n",
    "  temporal = np.zeros((990,31))\n",
    "  for i in range(data.shape[0]): #288 muestras\n",
    "    for j in range(22): #22 canales\n",
    "      sig = data.iloc[i, j*1000:(j+1)*1000]\n",
    "      #sig = sig[124:624]\n",
    "      #espectrograma de STFFT\n",
    "      f, t, Sxx = spectrogram(sig, fs=250, window='hann', nperseg=250,\n",
    "                              noverlap=225, nfft=500, scaling='spectrum')\n",
    "      temporal[j*45:(j+1)*45, :] = Sxx[16:61, :]\n",
    "    datos[i] = temporal\n",
    "    if i % 100 == 0: #esto solo es para ver como avanza\n",
    "      print(i)\n",
    "  return datos"
   ]
  },
  {
   "cell_type": "code",
   "execution_count": 7,
   "metadata": {
    "colab": {
     "base_uri": "https://localhost:8080/",
     "height": 111
    },
    "colab_type": "code",
    "executionInfo": {
     "elapsed": 6095,
     "status": "ok",
     "timestamp": 1598412585628,
     "user": {
      "displayName": "Edgar Hernandez",
      "photoUrl": "",
      "userId": "00870877253637619537"
     },
     "user_tz": 300
    },
    "id": "XBBm4bU8JChv",
    "outputId": "4087e10d-fbf3-4184-f7dd-cc506ded1953"
   },
   "outputs": [
    {
     "name": "stdout",
     "output_type": "stream",
     "text": [
      "0\n",
      "100\n",
      "200\n",
      "0\n",
      "100\n",
      "200\n",
      "Tiempo: 7.495007753372192\n"
     ]
    }
   ],
   "source": [
    "#llamar a unir_espectrogramas_vertical(data)\n",
    "inicio = time.time()\n",
    "\n",
    "x_train = unir_espectrogramas_vertical(x_train)\n",
    "x_test = unir_espectrogramas_vertical(x_test)\n",
    "\n",
    "fin = time.time()\n",
    "print(\"Tiempo:\", fin - inicio)"
   ]
  },
  {
   "cell_type": "code",
   "execution_count": 8,
   "metadata": {
    "colab": {
     "base_uri": "https://localhost:8080/",
     "height": 36
    },
    "colab_type": "code",
    "executionInfo": {
     "elapsed": 504,
     "status": "ok",
     "timestamp": 1598412588438,
     "user": {
      "displayName": "Edgar Hernandez",
      "photoUrl": "",
      "userId": "00870877253637619537"
     },
     "user_tz": 300
    },
    "id": "gnj6tF5CLJsa",
    "outputId": "c27a5281-1716-42c8-ebe7-b6e6d8c7ba67"
   },
   "outputs": [
    {
     "name": "stdout",
     "output_type": "stream",
     "text": [
      "(288, 990, 31)\n"
     ]
    }
   ],
   "source": [
    "print(x_test.shape)"
   ]
  },
  {
   "cell_type": "code",
   "execution_count": 9,
   "metadata": {
    "colab": {},
    "colab_type": "code",
    "id": "aYskMW2iRbkc"
   },
   "outputs": [],
   "source": [
    "x = []\n",
    "x.append(np.ceil(np.max(x_train)))\n",
    "# esta linea solo se ocupa si se va a predecir un modelo creado con CV\n",
    "# x.append(np.ceil(np.max(x_test)))"
   ]
  },
  {
   "cell_type": "code",
   "execution_count": 10,
   "metadata": {
    "colab": {},
    "colab_type": "code",
    "id": "oZmdy7NLJJC5"
   },
   "outputs": [],
   "source": [
    "#convertir a float\n",
    "x_test = x_test.astype('float32')\n",
    "\n",
    "#escalar los valores en un rango de 0 a 1 (normalizar)\n",
    "x_test /= np.ceil(np.max(x))"
   ]
  },
  {
   "cell_type": "code",
   "execution_count": 11,
   "metadata": {
    "colab": {
     "base_uri": "https://localhost:8080/",
     "height": 36
    },
    "colab_type": "code",
    "executionInfo": {
     "elapsed": 415,
     "status": "ok",
     "timestamp": 1598412592965,
     "user": {
      "displayName": "Edgar Hernandez",
      "photoUrl": "",
      "userId": "00870877253637619537"
     },
     "user_tz": 300
    },
    "id": "-nPYYkLSKXV_",
    "outputId": "b1022a55-b0cb-4b19-dd9a-3114762907c2"
   },
   "outputs": [
    {
     "name": "stdout",
     "output_type": "stream",
     "text": [
      "(288, 990, 31, 1)\n"
     ]
    }
   ],
   "source": [
    "#convertir de 3D a 4D\n",
    "x_test = x_test.reshape((x_test.shape[0], x_test.shape[1], x_test.shape[2], 1))\n",
    "\n",
    "print(x_test.shape)"
   ]
  },
  {
   "cell_type": "code",
   "execution_count": 12,
   "metadata": {
    "colab": {
     "base_uri": "https://localhost:8080/",
     "height": 329
    },
    "colab_type": "code",
    "executionInfo": {
     "elapsed": 601,
     "status": "error",
     "timestamp": 1598412598658,
     "user": {
      "displayName": "Edgar Hernandez",
      "photoUrl": "",
      "userId": "00870877253637619537"
     },
     "user_tz": 300
    },
    "id": "PlbBrDsOKdtn",
    "outputId": "205d0ded-a0b6-4f8a-8e44-613d9f6c6f4d"
   },
   "outputs": [],
   "source": [
    "model = load_model('../Modelos/STFT09.hdf5')"
   ]
  },
  {
   "cell_type": "code",
   "execution_count": 13,
   "metadata": {
    "colab": {
     "base_uri": "https://localhost:8080/",
     "height": 466
    },
    "colab_type": "code",
    "executionInfo": {
     "elapsed": 18807,
     "status": "ok",
     "timestamp": 1595045878071,
     "user": {
      "displayName": "Edgar Hernandez",
      "photoUrl": "",
      "userId": "00870877253637619537"
     },
     "user_tz": 300
    },
    "id": "B-uHVDjJQhhM",
    "outputId": "4b916711-ec0a-41f7-8b98-684698e4ddfa"
   },
   "outputs": [
    {
     "name": "stdout",
     "output_type": "stream",
     "text": [
      "Model: \"sequential_5\"\n",
      "_________________________________________________________________\n",
      "Layer (type)                 Output Shape              Param #   \n",
      "=================================================================\n",
      "conv2d_9 (Conv2D)            (None, 990, 31, 16)       160       \n",
      "_________________________________________________________________\n",
      "max_pooling2d_9 (MaxPooling2 (None, 495, 15, 16)       0         \n",
      "_________________________________________________________________\n",
      "conv2d_10 (Conv2D)           (None, 495, 15, 16)       2320      \n",
      "_________________________________________________________________\n",
      "max_pooling2d_10 (MaxPooling (None, 247, 7, 16)        0         \n",
      "_________________________________________________________________\n",
      "flatten_5 (Flatten)          (None, 27664)             0         \n",
      "_________________________________________________________________\n",
      "dense_9 (Dense)              (None, 128)               3541120   \n",
      "_________________________________________________________________\n",
      "dropout_5 (Dropout)          (None, 128)               0         \n",
      "_________________________________________________________________\n",
      "dense_10 (Dense)             (None, 4)                 516       \n",
      "=================================================================\n",
      "Total params: 3,544,116\n",
      "Trainable params: 3,544,116\n",
      "Non-trainable params: 0\n",
      "_________________________________________________________________\n"
     ]
    }
   ],
   "source": [
    "model.summary()"
   ]
  },
  {
   "cell_type": "code",
   "execution_count": 16,
   "metadata": {
    "colab": {},
    "colab_type": "code",
    "id": "jljYDWYBQNYj"
   },
   "outputs": [
    {
     "name": "stdout",
     "output_type": "stream",
     "text": [
      "Tiempo: 0.19689345359802246\n"
     ]
    }
   ],
   "source": [
    "inicio = time.time()\n",
    "\n",
    "test_loss, test_acc = model.evaluate(x_test, y_test, verbose=0)\n",
    "\n",
    "fin = time.time()\n",
    "print(\"Tiempo:\", fin - inicio)"
   ]
  },
  {
   "cell_type": "code",
   "execution_count": 14,
   "metadata": {
    "colab": {
     "base_uri": "https://localhost:8080/",
     "height": 54
    },
    "colab_type": "code",
    "executionInfo": {
     "elapsed": 19712,
     "status": "ok",
     "timestamp": 1595045878983,
     "user": {
      "displayName": "Edgar Hernandez",
      "photoUrl": "",
      "userId": "00870877253637619537"
     },
     "user_tz": 300
    },
    "id": "oY_iPgWGQT7C",
    "outputId": "dfe199fc-f3dc-4356-adb1-67332f4d29f5"
   },
   "outputs": [
    {
     "name": "stdout",
     "output_type": "stream",
     "text": [
      "loss: 0.5162\n",
      "accuracy: 0.9306\n"
     ]
    }
   ],
   "source": [
    "print(\"loss: %.4f\" % test_loss)\n",
    "print(\"accuracy: %.4f\" % test_acc)"
   ]
  },
  {
   "cell_type": "code",
   "execution_count": 15,
   "metadata": {
    "colab": {},
    "colab_type": "code",
    "id": "AMfwt1Sw3jm9"
   },
   "outputs": [],
   "source": [
    "probabilidades = model.predict(x_test)\n",
    "y_pred = np.argmax(probabilidades, 1) #1=fila"
   ]
  },
  {
   "cell_type": "code",
   "execution_count": 16,
   "metadata": {
    "colab": {
     "base_uri": "https://localhost:8080/",
     "height": 36
    },
    "colab_type": "code",
    "executionInfo": {
     "elapsed": 20607,
     "status": "ok",
     "timestamp": 1595045879885,
     "user": {
      "displayName": "Edgar Hernandez",
      "photoUrl": "",
      "userId": "00870877253637619537"
     },
     "user_tz": 300
    },
    "id": "OFVll1fW4Kz6",
    "outputId": "4702d8c3-2fc6-49d8-a823-b72dbeda5c69"
   },
   "outputs": [
    {
     "name": "stdout",
     "output_type": "stream",
     "text": [
      "kappa: 0.8611 \n"
     ]
    }
   ],
   "source": [
    "kappa = cohen_kappa_score(y_test, y_pred)\n",
    "print(\"kappa: %.4f \" % kappa)"
   ]
  },
  {
   "cell_type": "code",
   "execution_count": 17,
   "metadata": {
    "colab": {
     "base_uri": "https://localhost:8080/",
     "height": 73
    },
    "colab_type": "code",
    "executionInfo": {
     "elapsed": 20603,
     "status": "ok",
     "timestamp": 1595045879887,
     "user": {
      "displayName": "Edgar Hernandez",
      "photoUrl": "",
      "userId": "00870877253637619537"
     },
     "user_tz": 300
    },
    "id": "mjkoElCx4NL_",
    "outputId": "7c5ff872-23f5-4b0d-fd45-64171f5c7c37"
   },
   "outputs": [
    {
     "name": "stdout",
     "output_type": "stream",
     "text": [
      "confusion matrix:\n",
      " [[65  7]\n",
      " [ 3 69]]\n"
     ]
    }
   ],
   "source": [
    "matriz_confusion = confusion_matrix(y_test, y_pred)\n",
    "print(\"confusion matrix:\\n\", matriz_confusion)"
   ]
  },
  {
   "cell_type": "code",
   "execution_count": 17,
   "metadata": {},
   "outputs": [
    {
     "name": "stdout",
     "output_type": "stream",
     "text": [
      "Tiempo: 0.003988742828369141\n"
     ]
    }
   ],
   "source": [
    "inicio = time.time()\n",
    "\n",
    "probabilidades = model.predict(x_test[0].reshape(1,990,31,1))\n",
    "y_pred = np.argmax(probabilidades, 1) #1=fila\n",
    "\n",
    "fin = time.time()\n",
    "print(\"Tiempo:\", fin - inicio)"
   ]
  }
 ],
 "metadata": {
  "colab": {
   "authorship_tag": "ABX9TyNslqm+zEgJvmTdYnGZJsAS",
   "collapsed_sections": [],
   "name": "STFT-CNN-Predecir.ipynb",
   "provenance": []
  },
  "kernelspec": {
   "display_name": "Python 3",
   "language": "python",
   "name": "python3"
  },
  "language_info": {
   "codemirror_mode": {
    "name": "ipython",
    "version": 3
   },
   "file_extension": ".py",
   "mimetype": "text/x-python",
   "name": "python",
   "nbconvert_exporter": "python",
   "pygments_lexer": "ipython3",
   "version": "3.7.6"
  }
 },
 "nbformat": 4,
 "nbformat_minor": 1
}

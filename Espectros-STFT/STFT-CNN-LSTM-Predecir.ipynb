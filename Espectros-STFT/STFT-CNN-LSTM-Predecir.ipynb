{
 "cells": [
  {
   "cell_type": "markdown",
   "metadata": {
    "colab_type": "text",
    "id": "bR6OSwrMZiiM"
   },
   "source": [
    "### Edgar Moises Hernandez-Gonzalez\n",
    "#### 29-04-20-26-08-20\n",
    "#### Clasificacion de imagenes motoras en EEG con CNN-1D + LSTM o CNN-1D + GRU\n",
    "#### Cargar modelo para evaluacion y predecir\n",
    "##### Caracteristicas = Espectrogramas STFFT (3D)"
   ]
  },
  {
   "cell_type": "code",
   "execution_count": null,
   "metadata": {
    "colab": {},
    "colab_type": "code",
    "id": "PnMGuVFXY-y2"
   },
   "outputs": [],
   "source": [
    "from google.colab import drive"
   ]
  },
  {
   "cell_type": "code",
   "execution_count": null,
   "metadata": {
    "colab": {
     "base_uri": "https://localhost:8080/",
     "height": 36
    },
    "colab_type": "code",
    "executionInfo": {
     "elapsed": 800,
     "status": "ok",
     "timestamp": 1595049361337,
     "user": {
      "displayName": "Edgar Hernandez",
      "photoUrl": "",
      "userId": "00870877253637619537"
     },
     "user_tz": 300
    },
    "id": "hbHIPMFEZyFA",
    "outputId": "18d566fe-a656-4b4c-fb05-9fefc1f8a60a"
   },
   "outputs": [
    {
     "name": "stdout",
     "output_type": "stream",
     "text": [
      "Drive already mounted at /content/drive; to attempt to forcibly remount, call drive.mount(\"/content/drive\", force_remount=True).\n"
     ]
    }
   ],
   "source": [
    "drive.mount('/content/drive')"
   ]
  },
  {
   "cell_type": "code",
   "execution_count": 1,
   "metadata": {
    "colab": {
     "base_uri": "https://localhost:8080/",
     "height": 36
    },
    "colab_type": "code",
    "executionInfo": {
     "elapsed": 2577,
     "status": "ok",
     "timestamp": 1595049363125,
     "user": {
      "displayName": "Edgar Hernandez",
      "photoUrl": "",
      "userId": "00870877253637619537"
     },
     "user_tz": 300
    },
    "id": "_WwY1o4LbTDy",
    "outputId": "1c2278cc-ffbf-456d-eca1-b474d40f19e7"
   },
   "outputs": [
    {
     "name": "stderr",
     "output_type": "stream",
     "text": [
      "Using TensorFlow backend.\n"
     ]
    }
   ],
   "source": [
    "import numpy as np\n",
    "import pandas as pd\n",
    "import time\n",
    "from scipy.signal import spectrogram\n",
    "from sklearn.preprocessing import LabelEncoder\n",
    "from sklearn.metrics import cohen_kappa_score, confusion_matrix\n",
    "# from keras.utils import to_categorical\n",
    "from keras.models import load_model"
   ]
  },
  {
   "cell_type": "code",
   "execution_count": 2,
   "metadata": {
    "colab": {},
    "colab_type": "code",
    "id": "UDrMYItKbac8"
   },
   "outputs": [],
   "source": [
    "x_train = pd.read_csv(\"../Datos/MI-EEG-A09T.csv\", header=None)\n",
    "x_test = pd.read_csv(\"../Datos/MI-EEG-A09E.csv\", header=None)\n",
    "y_test = pd.read_csv(\"../Datos/EtiquetasA09E.csv\", header=None)"
   ]
  },
  {
   "cell_type": "code",
   "execution_count": 3,
   "metadata": {
    "colab": {
     "base_uri": "https://localhost:8080/",
     "height": 73
    },
    "colab_type": "code",
    "executionInfo": {
     "elapsed": 10967,
     "status": "ok",
     "timestamp": 1595049371531,
     "user": {
      "displayName": "Edgar Hernandez",
      "photoUrl": "",
      "userId": "00870877253637619537"
     },
     "user_tz": 300
    },
    "id": "_VcojdvIbdPP",
    "outputId": "be5000b2-bbe1-4000-af02-7c36a0935846"
   },
   "outputs": [
    {
     "name": "stdout",
     "output_type": "stream",
     "text": [
      "(288, 22000)\n",
      "(288, 22000)\n",
      "(288, 1)\n"
     ]
    }
   ],
   "source": [
    "print(x_train.shape)\n",
    "print(x_test.shape)\n",
    "print(y_test.shape)"
   ]
  },
  {
   "cell_type": "code",
   "execution_count": 4,
   "metadata": {
    "colab": {
     "base_uri": "https://localhost:8080/",
     "height": 36
    },
    "colab_type": "code",
    "executionInfo": {
     "elapsed": 10960,
     "status": "ok",
     "timestamp": 1595049371533,
     "user": {
      "displayName": "Edgar Hernandez",
      "photoUrl": "",
      "userId": "00870877253637619537"
     },
     "user_tz": 300
    },
    "id": "bbluvuxvblFk",
    "outputId": "3f4264dc-0a2e-43da-8be5-47f93a15367c"
   },
   "outputs": [
    {
     "name": "stdout",
     "output_type": "stream",
     "text": [
      "n_classes: 4\n"
     ]
    }
   ],
   "source": [
    "# esto se podria calcular asi n_clases = len(np.unique(y)), la y puede ser train o test\n",
    "n_classes = len(np.unique(y_test))\n",
    "\n",
    "print(\"n_classes:\", n_classes)"
   ]
  },
  {
   "cell_type": "code",
   "execution_count": null,
   "metadata": {
    "colab": {},
    "colab_type": "code",
    "id": "RJ3bQE7bblKY"
   },
   "outputs": [],
   "source": [
    "#codificar etiquetas con valores de 0 a nClases-1\n",
    "# y_test = LabelEncoder().fit_transform(y_test)"
   ]
  },
  {
   "cell_type": "code",
   "execution_count": 5,
   "metadata": {
    "colab": {},
    "colab_type": "code",
    "id": "lS3wxy6YblMP"
   },
   "outputs": [],
   "source": [
    "#unir 22 canales y resize de tamaño proporcional\n",
    "def unir_espectrogramas_vertical(data):\n",
    "  fs = 250\n",
    "  datos = np.zeros((data.shape[0],990,31))\n",
    "  temporal = np.zeros((990,31))\n",
    "  for i in range(data.shape[0]): #288 muestras\n",
    "    for j in range(22): #22 canales\n",
    "      sig = data.iloc[i, j*1000:(j+1)*1000]\n",
    "      #sig = sig[124:624]\n",
    "      #espectrograma de STFFT\n",
    "      f, t, Sxx = spectrogram(sig, fs=250, window='hann', nperseg=250,\n",
    "                              noverlap=225, nfft=500, scaling='spectrum')\n",
    "      temporal[j*45:(j+1)*45, :] = Sxx[16:61, :]\n",
    "    datos[i] = temporal\n",
    "    if i % 100 == 0: #esto solo es para ver como avanza\n",
    "      print(i)\n",
    "  return datos"
   ]
  },
  {
   "cell_type": "code",
   "execution_count": 6,
   "metadata": {
    "colab": {
     "base_uri": "https://localhost:8080/",
     "height": 111
    },
    "colab_type": "code",
    "executionInfo": {
     "elapsed": 16568,
     "status": "ok",
     "timestamp": 1595049377157,
     "user": {
      "displayName": "Edgar Hernandez",
      "photoUrl": "",
      "userId": "00870877253637619537"
     },
     "user_tz": 300
    },
    "id": "C3t2XgS4blNx",
    "outputId": "90c816bf-e076-428e-cf53-a82d5469fac8"
   },
   "outputs": [
    {
     "name": "stdout",
     "output_type": "stream",
     "text": [
      "0\n",
      "100\n",
      "200\n",
      "0\n",
      "100\n",
      "200\n",
      "Tiempo: 8.265802145004272\n"
     ]
    }
   ],
   "source": [
    "#llamar a unir_espectrogramas_vertical(data)\n",
    "inicio = time.time()\n",
    "\n",
    "x_train = unir_espectrogramas_vertical(x_train)\n",
    "x_test = unir_espectrogramas_vertical(x_test)\n",
    "\n",
    "fin = time.time()\n",
    "print(\"Tiempo:\", fin - inicio)"
   ]
  },
  {
   "cell_type": "code",
   "execution_count": 7,
   "metadata": {
    "colab": {
     "base_uri": "https://localhost:8080/",
     "height": 36
    },
    "colab_type": "code",
    "executionInfo": {
     "elapsed": 16567,
     "status": "ok",
     "timestamp": 1595049377160,
     "user": {
      "displayName": "Edgar Hernandez",
      "photoUrl": "",
      "userId": "00870877253637619537"
     },
     "user_tz": 300
    },
    "id": "3gCKhB8wblPo",
    "outputId": "2b578500-9b64-4f94-9412-67efbe98416f"
   },
   "outputs": [
    {
     "name": "stdout",
     "output_type": "stream",
     "text": [
      "(288, 990, 31)\n"
     ]
    }
   ],
   "source": [
    "print(x_test.shape)"
   ]
  },
  {
   "cell_type": "code",
   "execution_count": 8,
   "metadata": {
    "colab": {},
    "colab_type": "code",
    "id": "IrAnCnciXN5u"
   },
   "outputs": [],
   "source": [
    "x = []\n",
    "x.append(np.ceil(np.max(x_train)))\n",
    "# esta linea solo se ocupa si se va a predecir un modelo creado con CV\n",
    "# x.append(np.ceil(np.max(x_test)))"
   ]
  },
  {
   "cell_type": "code",
   "execution_count": 9,
   "metadata": {
    "colab": {},
    "colab_type": "code",
    "id": "SSRtoY2XblSh"
   },
   "outputs": [],
   "source": [
    "#convertir a float\n",
    "x_test = x_test.astype('float32')\n",
    "\n",
    "#escalar los valores en un rango de 0 a 1 (normalizar)\n",
    "x_test /= np.ceil(np.max(x))"
   ]
  },
  {
   "cell_type": "code",
   "execution_count": 10,
   "metadata": {
    "colab": {
     "base_uri": "https://localhost:8080/",
     "height": 36
    },
    "colab_type": "code",
    "executionInfo": {
     "elapsed": 16552,
     "status": "ok",
     "timestamp": 1595049377165,
     "user": {
      "displayName": "Edgar Hernandez",
      "photoUrl": "",
      "userId": "00870877253637619537"
     },
     "user_tz": 300
    },
    "id": "qsaniJw2blW4",
    "outputId": "5c25832b-5906-4363-d887-42cef8e82428"
   },
   "outputs": [
    {
     "name": "stdout",
     "output_type": "stream",
     "text": [
      "(288, 1, 990, 31, 1)\n"
     ]
    }
   ],
   "source": [
    "#convertir de 3D a 5D\n",
    "x_test = x_test.reshape((x_test.shape[0], 1, x_test.shape[1], x_test.shape[2], 1))\n",
    "\n",
    "print(x_test.shape)"
   ]
  },
  {
   "cell_type": "code",
   "execution_count": 11,
   "metadata": {
    "colab": {},
    "colab_type": "code",
    "id": "EgO_yot2blZ6"
   },
   "outputs": [],
   "source": [
    "model = load_model('../Modelos/RNN_STFT09.hdf5')"
   ]
  },
  {
   "cell_type": "code",
   "execution_count": 12,
   "metadata": {
    "colab": {
     "base_uri": "https://localhost:8080/",
     "height": 466
    },
    "colab_type": "code",
    "executionInfo": {
     "elapsed": 18567,
     "status": "ok",
     "timestamp": 1595049379191,
     "user": {
      "displayName": "Edgar Hernandez",
      "photoUrl": "",
      "userId": "00870877253637619537"
     },
     "user_tz": 300
    },
    "id": "mnNA0gG3blbV",
    "outputId": "48cda9fc-5a48-48a9-86dc-1af579d4733e"
   },
   "outputs": [
    {
     "name": "stdout",
     "output_type": "stream",
     "text": [
      "Model: \"sequential_5\"\n",
      "_________________________________________________________________\n",
      "Layer (type)                 Output Shape              Param #   \n",
      "=================================================================\n",
      "time_distributed_21 (TimeDis (None, 1, 990, 31, 16)    160       \n",
      "_________________________________________________________________\n",
      "time_distributed_22 (TimeDis (None, 1, 495, 15, 16)    0         \n",
      "_________________________________________________________________\n",
      "time_distributed_23 (TimeDis (None, 1, 495, 15, 16)    2320      \n",
      "_________________________________________________________________\n",
      "time_distributed_24 (TimeDis (None, 1, 247, 7, 16)     0         \n",
      "_________________________________________________________________\n",
      "time_distributed_25 (TimeDis (None, 1, 27664)          0         \n",
      "_________________________________________________________________\n",
      "lstm_5 (LSTM)                (None, 8)                 885536    \n",
      "_________________________________________________________________\n",
      "dense_9 (Dense)              (None, 128)               1152      \n",
      "_________________________________________________________________\n",
      "dense_10 (Dense)             (None, 4)                 516       \n",
      "=================================================================\n",
      "Total params: 889,684\n",
      "Trainable params: 889,684\n",
      "Non-trainable params: 0\n",
      "_________________________________________________________________\n"
     ]
    }
   ],
   "source": [
    "model.summary()"
   ]
  },
  {
   "cell_type": "code",
   "execution_count": 15,
   "metadata": {
    "colab": {},
    "colab_type": "code",
    "id": "oRL0LDYUbldP"
   },
   "outputs": [
    {
     "name": "stdout",
     "output_type": "stream",
     "text": [
      "Tiempo: 0.2076101303100586\n"
     ]
    }
   ],
   "source": [
    "inicio = time.time()\n",
    "\n",
    "test_loss, test_acc = model.evaluate(x_test, y_test, verbose=0)\n",
    "\n",
    "fin = time.time()\n",
    "print(\"Tiempo:\", fin - inicio)"
   ]
  },
  {
   "cell_type": "code",
   "execution_count": null,
   "metadata": {
    "colab": {
     "base_uri": "https://localhost:8080/",
     "height": 54
    },
    "colab_type": "code",
    "executionInfo": {
     "elapsed": 19572,
     "status": "ok",
     "timestamp": 1595049380204,
     "user": {
      "displayName": "Edgar Hernandez",
      "photoUrl": "",
      "userId": "00870877253637619537"
     },
     "user_tz": 300
    },
    "id": "Wvf7kJFJc3F_",
    "outputId": "091e188b-447f-4c78-9901-491f5cad9c13"
   },
   "outputs": [
    {
     "name": "stdout",
     "output_type": "stream",
     "text": [
      "loss: 0.6675\n",
      "accuracy: 0.9375\n"
     ]
    }
   ],
   "source": [
    "print(\"loss: %.4f\" % test_loss)\n",
    "print(\"accuracy: %.4f\" % test_acc)"
   ]
  },
  {
   "cell_type": "code",
   "execution_count": null,
   "metadata": {
    "colab": {},
    "colab_type": "code",
    "id": "avc61TECc3Lf"
   },
   "outputs": [],
   "source": [
    "probabilidades = model.predict(x_test)\n",
    "y_pred = np.argmax(probabilidades, 1) #1=fila"
   ]
  },
  {
   "cell_type": "code",
   "execution_count": null,
   "metadata": {
    "colab": {
     "base_uri": "https://localhost:8080/",
     "height": 36
    },
    "colab_type": "code",
    "executionInfo": {
     "elapsed": 20557,
     "status": "ok",
     "timestamp": 1595049381201,
     "user": {
      "displayName": "Edgar Hernandez",
      "photoUrl": "",
      "userId": "00870877253637619537"
     },
     "user_tz": 300
    },
    "id": "iu1LV4Frc3Pr",
    "outputId": "c9868929-1172-42dc-a7c9-460bf7bd5a49"
   },
   "outputs": [
    {
     "name": "stdout",
     "output_type": "stream",
     "text": [
      "kappa: 0.8750 \n"
     ]
    }
   ],
   "source": [
    "kappa = cohen_kappa_score(y_test, y_pred)\n",
    "print(\"kappa: %.4f \" % kappa)"
   ]
  },
  {
   "cell_type": "code",
   "execution_count": null,
   "metadata": {
    "colab": {
     "base_uri": "https://localhost:8080/",
     "height": 73
    },
    "colab_type": "code",
    "executionInfo": {
     "elapsed": 20552,
     "status": "ok",
     "timestamp": 1595049381202,
     "user": {
      "displayName": "Edgar Hernandez",
      "photoUrl": "",
      "userId": "00870877253637619537"
     },
     "user_tz": 300
    },
    "id": "GaY0v9CQc3RO",
    "outputId": "ce5ce1c9-f8d0-4909-fcdc-a0afa3923353"
   },
   "outputs": [
    {
     "name": "stdout",
     "output_type": "stream",
     "text": [
      "confusion matrix:\n",
      " [[66  6]\n",
      " [ 3 69]]\n"
     ]
    }
   ],
   "source": [
    "matriz_confusion = confusion_matrix(y_test, y_pred)\n",
    "print(\"confusion matrix:\\n\", matriz_confusion)"
   ]
  },
  {
   "cell_type": "code",
   "execution_count": 16,
   "metadata": {},
   "outputs": [
    {
     "name": "stdout",
     "output_type": "stream",
     "text": [
      "Tiempo: 0.004952907562255859\n"
     ]
    }
   ],
   "source": [
    "inicio = time.time()\n",
    "\n",
    "probabilidades = model.predict(x_test[0].reshape(1,1,990,31,1))\n",
    "y_pred = np.argmax(probabilidades, 1) #1=fila\n",
    "\n",
    "fin = time.time()\n",
    "print(\"Tiempo:\", fin - inicio)"
   ]
  }
 ],
 "metadata": {
  "colab": {
   "authorship_tag": "ABX9TyMq8iFo06QBpbxbcARyP+pI",
   "collapsed_sections": [],
   "name": "STFT-CNN-LSTM-Predecir.ipynb",
   "provenance": []
  },
  "kernelspec": {
   "display_name": "Python 3",
   "language": "python",
   "name": "python3"
  },
  "language_info": {
   "codemirror_mode": {
    "name": "ipython",
    "version": 3
   },
   "file_extension": ".py",
   "mimetype": "text/x-python",
   "name": "python",
   "nbconvert_exporter": "python",
   "pygments_lexer": "ipython3",
   "version": "3.7.6"
  }
 },
 "nbformat": 4,
 "nbformat_minor": 1
}

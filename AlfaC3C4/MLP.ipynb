{
 "cells": [
  {
   "cell_type": "markdown",
   "metadata": {},
   "source": [
    "### Edgar Moises Hernandez-Gonzalez\n",
    "#### 27/11/19\n",
    "#### Clasificacion de alfa de los canales C3 y C4 de MI-EEG con MLP\n",
    "##### 10 ejecuciones independientes para obtener la media y desviacion estandar"
   ]
  },
  {
   "cell_type": "code",
   "execution_count": 1,
   "metadata": {},
   "outputs": [],
   "source": [
    "import numpy as np\n",
    "import pandas as pd\n",
    "from sklearn.preprocessing import StandardScaler\n",
    "from sklearn.neural_network import MLPClassifier\n",
    "from sklearn.metrics import cohen_kappa_score, confusion_matrix, precision_recall_fscore_support"
   ]
  },
  {
   "cell_type": "code",
   "execution_count": 2,
   "metadata": {},
   "outputs": [],
   "source": [
    "x_train = pd.read_csv(\"MI-EEG-Alfa-A01T.csv\", header=None)\n",
    "x_test = pd.read_csv(\"MI-EEG-Alfa-A01E.csv\", header=None)\n",
    "y_train = pd.read_csv(\"EtiquetasA01T.csv\", header=None)\n",
    "y_test = pd.read_csv(\"EtiquetasA01E.csv\", header=None)"
   ]
  },
  {
   "cell_type": "code",
   "execution_count": 3,
   "metadata": {},
   "outputs": [
    {
     "name": "stdout",
     "output_type": "stream",
     "text": [
      "(288, 510)\n",
      "(288, 510)\n",
      "(288, 1)\n",
      "(288, 1)\n"
     ]
    }
   ],
   "source": [
    "print(x_train.shape)\n",
    "print(x_test.shape)\n",
    "print(y_train.shape)\n",
    "print(y_test.shape)"
   ]
  },
  {
   "cell_type": "code",
   "execution_count": 4,
   "metadata": {},
   "outputs": [],
   "source": [
    "#escalar los datos para que tengan media = 0 y desviacion estandar = 1\n",
    "scaler = StandardScaler().fit(x_train)\n",
    "x_train = scaler.transform(x_train)\n",
    "x_test = scaler.transform(x_test)"
   ]
  },
  {
   "cell_type": "code",
   "execution_count": 5,
   "metadata": {},
   "outputs": [
    {
     "name": "stdout",
     "output_type": "stream",
     "text": [
      "Iteration: 1\n"
     ]
    },
    {
     "name": "stderr",
     "output_type": "stream",
     "text": [
      "C:\\Users\\EdgarMoises\\Anaconda3\\lib\\site-packages\\sklearn\\neural_network\\multilayer_perceptron.py:916: DataConversionWarning: A column-vector y was passed when a 1d array was expected. Please change the shape of y to (n_samples, ), for example using ravel().\n",
      "  y = column_or_1d(y, warn=True)\n"
     ]
    },
    {
     "name": "stdout",
     "output_type": "stream",
     "text": [
      "Accuracy: 0.24305555555555555\n",
      "kappa:  -0.0092592592592593\n",
      "confusion matrix:\n",
      " [[15 21 22 14]\n",
      " [23 21  8 20]\n",
      " [24 12 17 19]\n",
      " [25 15 15 17]]\n",
      "(0.24845307760866112, 0.24305555555555558, 0.2449298871776107, None)\n",
      "Iteration: 2\n"
     ]
    },
    {
     "name": "stderr",
     "output_type": "stream",
     "text": [
      "C:\\Users\\EdgarMoises\\Anaconda3\\lib\\site-packages\\sklearn\\neural_network\\multilayer_perceptron.py:916: DataConversionWarning: A column-vector y was passed when a 1d array was expected. Please change the shape of y to (n_samples, ), for example using ravel().\n",
      "  y = column_or_1d(y, warn=True)\n"
     ]
    },
    {
     "name": "stdout",
     "output_type": "stream",
     "text": [
      "Accuracy: 0.25\n",
      "kappa:  0.0\n",
      "confusion matrix:\n",
      " [[19 21 15 17]\n",
      " [19 23 10 20]\n",
      " [23 13 15 21]\n",
      " [25 16 16 15]]\n",
      "(0.25233383015519045, 0.25, 0.2497548150371017, None)\n",
      "Iteration: 3\n"
     ]
    },
    {
     "name": "stderr",
     "output_type": "stream",
     "text": [
      "C:\\Users\\EdgarMoises\\Anaconda3\\lib\\site-packages\\sklearn\\neural_network\\multilayer_perceptron.py:916: DataConversionWarning: A column-vector y was passed when a 1d array was expected. Please change the shape of y to (n_samples, ), for example using ravel().\n",
      "  y = column_or_1d(y, warn=True)\n"
     ]
    },
    {
     "name": "stdout",
     "output_type": "stream",
     "text": [
      "Accuracy: 0.2465277777777778\n",
      "kappa:  -0.004629629629629539\n",
      "confusion matrix:\n",
      " [[16 19 10 27]\n",
      " [22 22 11 17]\n",
      " [26 13 14 19]\n",
      " [29 13 11 19]]\n",
      "(0.25911409071700986, 0.2465277777777778, 0.2486318847189473, None)\n",
      "Iteration: 4\n"
     ]
    },
    {
     "name": "stderr",
     "output_type": "stream",
     "text": [
      "C:\\Users\\EdgarMoises\\Anaconda3\\lib\\site-packages\\sklearn\\neural_network\\multilayer_perceptron.py:916: DataConversionWarning: A column-vector y was passed when a 1d array was expected. Please change the shape of y to (n_samples, ), for example using ravel().\n",
      "  y = column_or_1d(y, warn=True)\n"
     ]
    },
    {
     "name": "stdout",
     "output_type": "stream",
     "text": [
      "Accuracy: 0.2777777777777778\n",
      "kappa:  0.03703703703703709\n",
      "confusion matrix:\n",
      " [[19 22 13 18]\n",
      " [23 21  7 21]\n",
      " [20 14 21 17]\n",
      " [25 16 12 19]]\n",
      "(0.28890544647552163, 0.2777777777777778, 0.28078807111654036, None)\n",
      "Iteration: 5\n"
     ]
    },
    {
     "name": "stderr",
     "output_type": "stream",
     "text": [
      "C:\\Users\\EdgarMoises\\Anaconda3\\lib\\site-packages\\sklearn\\neural_network\\multilayer_perceptron.py:916: DataConversionWarning: A column-vector y was passed when a 1d array was expected. Please change the shape of y to (n_samples, ), for example using ravel().\n",
      "  y = column_or_1d(y, warn=True)\n"
     ]
    },
    {
     "name": "stdout",
     "output_type": "stream",
     "text": [
      "Accuracy: 0.2534722222222222\n",
      "kappa:  0.00462962962962965\n",
      "confusion matrix:\n",
      " [[16 20 19 17]\n",
      " [21 23  9 19]\n",
      " [25 11 19 17]\n",
      " [27 16 14 15]]\n",
      "(0.26010258865012204, 0.2534722222222222, 0.25567535648674655, None)\n",
      "Iteration: 6\n"
     ]
    },
    {
     "name": "stderr",
     "output_type": "stream",
     "text": [
      "C:\\Users\\EdgarMoises\\Anaconda3\\lib\\site-packages\\sklearn\\neural_network\\multilayer_perceptron.py:916: DataConversionWarning: A column-vector y was passed when a 1d array was expected. Please change the shape of y to (n_samples, ), for example using ravel().\n",
      "  y = column_or_1d(y, warn=True)\n"
     ]
    },
    {
     "name": "stdout",
     "output_type": "stream",
     "text": [
      "Accuracy: 0.2465277777777778\n",
      "kappa:  -0.004629629629629539\n",
      "confusion matrix:\n",
      " [[16 19 21 16]\n",
      " [20 20  7 25]\n",
      " [19 16 19 18]\n",
      " [19 19 18 16]]\n",
      "(0.24803187803187804, 0.24652777777777776, 0.24705250563379033, None)\n",
      "Iteration: 7\n"
     ]
    },
    {
     "name": "stderr",
     "output_type": "stream",
     "text": [
      "C:\\Users\\EdgarMoises\\Anaconda3\\lib\\site-packages\\sklearn\\neural_network\\multilayer_perceptron.py:916: DataConversionWarning: A column-vector y was passed when a 1d array was expected. Please change the shape of y to (n_samples, ), for example using ravel().\n",
      "  y = column_or_1d(y, warn=True)\n"
     ]
    },
    {
     "name": "stdout",
     "output_type": "stream",
     "text": [
      "Accuracy: 0.2743055555555556\n",
      "kappa:  0.03240740740740744\n",
      "confusion matrix:\n",
      " [[22 21 15 14]\n",
      " [20 17 14 21]\n",
      " [20 10 25 17]\n",
      " [25 16 16 15]]\n",
      "(0.2748805043440433, 0.2743055555555556, 0.2736673934835655, None)\n",
      "Iteration: 8\n"
     ]
    },
    {
     "name": "stderr",
     "output_type": "stream",
     "text": [
      "C:\\Users\\EdgarMoises\\Anaconda3\\lib\\site-packages\\sklearn\\neural_network\\multilayer_perceptron.py:916: DataConversionWarning: A column-vector y was passed when a 1d array was expected. Please change the shape of y to (n_samples, ), for example using ravel().\n",
      "  y = column_or_1d(y, warn=True)\n"
     ]
    },
    {
     "name": "stdout",
     "output_type": "stream",
     "text": [
      "Accuracy: 0.28125\n",
      "kappa:  0.04166666666666663\n",
      "confusion matrix:\n",
      " [[18 18 16 20]\n",
      " [16 21 15 20]\n",
      " [15 16 21 20]\n",
      " [24 13 14 21]]\n",
      "(0.2832099873296489, 0.28125000000000006, 0.2817833730193727, None)\n",
      "Iteration: 9\n"
     ]
    },
    {
     "name": "stderr",
     "output_type": "stream",
     "text": [
      "C:\\Users\\EdgarMoises\\Anaconda3\\lib\\site-packages\\sklearn\\neural_network\\multilayer_perceptron.py:916: DataConversionWarning: A column-vector y was passed when a 1d array was expected. Please change the shape of y to (n_samples, ), for example using ravel().\n",
      "  y = column_or_1d(y, warn=True)\n"
     ]
    },
    {
     "name": "stdout",
     "output_type": "stream",
     "text": [
      "Accuracy: 0.2638888888888889\n",
      "kappa:  0.01851851851851849\n",
      "confusion matrix:\n",
      " [[16 21 19 16]\n",
      " [20 21  9 22]\n",
      " [19 15 20 18]\n",
      " [22 17 14 19]]\n",
      "(0.2668724925176538, 0.2638888888888889, 0.26486179939874116, None)\n",
      "Iteration: 10\n"
     ]
    },
    {
     "name": "stderr",
     "output_type": "stream",
     "text": [
      "C:\\Users\\EdgarMoises\\Anaconda3\\lib\\site-packages\\sklearn\\neural_network\\multilayer_perceptron.py:916: DataConversionWarning: A column-vector y was passed when a 1d array was expected. Please change the shape of y to (n_samples, ), for example using ravel().\n",
      "  y = column_or_1d(y, warn=True)\n"
     ]
    },
    {
     "name": "stdout",
     "output_type": "stream",
     "text": [
      "Accuracy: 0.2743055555555556\n",
      "kappa:  0.03240740740740744\n",
      "confusion matrix:\n",
      " [[25 17 11 19]\n",
      " [23 24  8 17]\n",
      " [31 14 14 13]\n",
      " [23 16 17 16]]\n",
      "(0.27732001359590425, 0.2743055555555556, 0.2715263741401235, None)\n",
      "\n",
      "Resultados:\n",
      "accuracy: [0.24305555555555555, 0.25, 0.2465277777777778, 0.2777777777777778, 0.2534722222222222, 0.2465277777777778, 0.2743055555555556, 0.28125, 0.2638888888888889, 0.2743055555555556]\n",
      "kappa: [-0.0092592592592593, 0.0, -0.004629629629629539, 0.03703703703703709, 0.00462962962962965, -0.004629629629629539, 0.03240740740740744, 0.04166666666666663, 0.01851851851851849, 0.03240740740740744]\n",
      "precision: [0.24845307760866112, 0.25233383015519045, 0.25911409071700986, 0.28890544647552163, 0.26010258865012204, 0.24803187803187804, 0.2748805043440433, 0.2832099873296489, 0.2668724925176538, 0.27732001359590425]\n",
      "recall: [0.24305555555555558, 0.25, 0.2465277777777778, 0.2777777777777778, 0.2534722222222222, 0.24652777777777776, 0.2743055555555556, 0.28125000000000006, 0.2638888888888889, 0.2743055555555556]\n",
      "f1: [0.2449298871776107, 0.2497548150371017, 0.2486318847189473, 0.28078807111654036, 0.25567535648674655, 0.24705250563379033, 0.2736673934835655, 0.2817833730193727, 0.26486179939874116, 0.2715263741401235]\n"
     ]
    }
   ],
   "source": [
    "array_test_acc = []\n",
    "array_kappa = []\n",
    "array_precision = []\n",
    "array_recall = []\n",
    "array_f1 = []\n",
    "for i in range(10):\n",
    "    print(\"Iteration:\", i+1);\n",
    "    \n",
    "    clf = MLPClassifier().fit(x_train, y_train)\n",
    "    test_acc = clf.score(x_test, y_test)\n",
    "    print('Accuracy:', test_acc)\n",
    "    array_test_acc.append(test_acc)\n",
    "    y_pred = clf.predict(x_test)\n",
    "    kappa = cohen_kappa_score(y_test, y_pred)\n",
    "    print(\"kappa: \", kappa)\n",
    "    array_kappa.append(kappa)\n",
    "    matriz_confusion = confusion_matrix(y_test, y_pred)\n",
    "    print(\"confusion matrix:\\n\", matriz_confusion)\n",
    "    metricas = precision_recall_fscore_support(y_test, y_pred, average='macro')\n",
    "    print(metricas)\n",
    "    array_precision.append(metricas[0])\n",
    "    array_recall.append(metricas[1])\n",
    "    array_f1.append(metricas[2])\n",
    "    \n",
    "print()    \n",
    "print(\"Resultados:\")\n",
    "print(\"accuracy:\", array_test_acc)\n",
    "print(\"kappa:\", array_kappa)\n",
    "print(\"precision:\", array_precision)\n",
    "print(\"recall:\", array_recall)\n",
    "print(\"f1:\", array_f1)"
   ]
  },
  {
   "cell_type": "code",
   "execution_count": 6,
   "metadata": {},
   "outputs": [
    {
     "name": "stdout",
     "output_type": "stream",
     "text": [
      "Mean: 0.2611\n",
      "std: (+/- 0.0140)\n",
      "kappa: 0.0148\n",
      "precision: 0.2659\n",
      "recall: 0.2611\n",
      "f1: 0.2619\n"
     ]
    }
   ],
   "source": [
    "print(\"Mean: %.4f\" % np.mean(array_test_acc))\n",
    "print(\"std: (+/- %.4f)\" % np.std(array_test_acc))\n",
    "print(\"kappa: %.4f\" % np.mean(array_kappa))\n",
    "print(\"precision: %.4f\" % np.mean(array_precision))\n",
    "print(\"recall: %.4f\" % np.mean(array_recall))\n",
    "print(\"f1: %.4f\" % np.mean(array_f1))"
   ]
  }
 ],
 "metadata": {
  "kernelspec": {
   "display_name": "Python 3",
   "language": "python",
   "name": "python3"
  },
  "language_info": {
   "codemirror_mode": {
    "name": "ipython",
    "version": 3
   },
   "file_extension": ".py",
   "mimetype": "text/x-python",
   "name": "python",
   "nbconvert_exporter": "python",
   "pygments_lexer": "ipython3",
   "version": "3.7.3"
  }
 },
 "nbformat": 4,
 "nbformat_minor": 2
}

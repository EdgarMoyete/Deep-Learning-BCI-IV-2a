{
 "cells": [
  {
   "cell_type": "markdown",
   "metadata": {},
   "source": [
    "### Edgar Moises Hernandez-Gonzalez\n",
    "#### 19/11/19-25/11/19\n",
    "#### Clasificacion de alfa de los canales C3 y C4 de MI-EEG con SVM o Random Forest\n",
    "##### 10 ejecuciones independientes para obtener la media y desviacion estandar"
   ]
  },
  {
   "cell_type": "code",
   "execution_count": 1,
   "metadata": {},
   "outputs": [],
   "source": [
    "import numpy as np\n",
    "import pandas as pd\n",
    "#from sklearn.svm import SVC, LinearSVC\n",
    "from sklearn.ensemble import RandomForestClassifier\n",
    "from sklearn.preprocessing import StandardScaler\n",
    "from sklearn.metrics import cohen_kappa_score, confusion_matrix, precision_recall_fscore_support"
   ]
  },
  {
   "cell_type": "code",
   "execution_count": 2,
   "metadata": {},
   "outputs": [],
   "source": [
    "x_train = pd.read_csv(\"MI-EEG-Alfa-A01T.csv\", header=None)\n",
    "x_test = pd.read_csv(\"MI-EEG-Alfa-A01E.csv\", header=None)\n",
    "y_train = pd.read_csv(\"EtiquetasA01T.csv\", header=None)\n",
    "y_test = pd.read_csv(\"EtiquetasA01E.csv\", header=None)"
   ]
  },
  {
   "cell_type": "code",
   "execution_count": 3,
   "metadata": {},
   "outputs": [
    {
     "name": "stdout",
     "output_type": "stream",
     "text": [
      "(288, 510)\n",
      "(288, 510)\n",
      "(288, 1)\n",
      "(288, 1)\n"
     ]
    }
   ],
   "source": [
    "print(x_train.shape)\n",
    "print(x_test.shape)\n",
    "print(y_train.shape)\n",
    "print(y_test.shape)"
   ]
  },
  {
   "cell_type": "code",
   "execution_count": 4,
   "metadata": {},
   "outputs": [],
   "source": [
    "#escalar los datos para que tengan media = 0 y desviacion estandar = 1\n",
    "scaler = StandardScaler().fit(x_train)\n",
    "x_train = scaler.transform(x_train)\n",
    "x_test = scaler.transform(x_test)"
   ]
  },
  {
   "cell_type": "code",
   "execution_count": 5,
   "metadata": {},
   "outputs": [
    {
     "name": "stdout",
     "output_type": "stream",
     "text": [
      "Iteration: 1\n",
      "Accuracy: 0.2569444444444444\n",
      "kappa:  0.0092592592592593\n",
      "confusion matrix:\n",
      " [[16 25 18 13]\n",
      " [23 20 15 14]\n",
      " [21 17 22 12]\n",
      " [18 23 15 16]]\n",
      "(0.2614042819925173, 0.2569444444444444, 0.25748451556590324, None)\n",
      "Iteration: 2\n",
      "Accuracy: 0.2638888888888889\n",
      "kappa:  0.01851851851851849\n",
      "confusion matrix:\n",
      " [[29 16 15 12]\n",
      " [24 21 15 12]\n",
      " [27 22 14  9]\n",
      " [25 23 12 12]]\n",
      "(0.26223867595818817, 0.2638888888888889, 0.2560722734186717, None)\n",
      "Iteration: 3\n",
      "Accuracy: 0.2986111111111111\n",
      "kappa:  0.06481481481481477\n",
      "confusion matrix:\n",
      " [[35 15  8 14]\n",
      " [20 21 10 21]\n",
      " [26 17 13 16]\n",
      " [23 22 10 17]]\n",
      "(0.2959029080675422, 0.2986111111111111, 0.28909679921848064, None)\n",
      "Iteration: 4\n",
      "Accuracy: 0.2708333333333333\n",
      "kappa:  0.02777777777777779\n",
      "confusion matrix:\n",
      " [[33 14 15 10]\n",
      " [32 16 16  8]\n",
      " [30 13 19 10]\n",
      " [22 21 19 10]]\n",
      "(0.26764287390717595, 0.2708333333333333, 0.25895554869272014, None)\n",
      "Iteration: 5\n",
      "Accuracy: 0.22916666666666666\n",
      "kappa:  -0.02777777777777768\n",
      "confusion matrix:\n",
      " [[30 17 11 14]\n",
      " [27 15 18 12]\n",
      " [26 19 13 14]\n",
      " [28 21 15  8]]\n",
      "(0.2183351114272167, 0.22916666666666669, 0.2177714766806456, None)\n",
      "Iteration: 6\n",
      "Accuracy: 0.2465277777777778\n",
      "kappa:  -0.004629629629629539\n",
      "confusion matrix:\n",
      " [[37 15 11  9]\n",
      " [34 10 11 17]\n",
      " [29  9 14 20]\n",
      " [32 17 13 10]]\n",
      "(0.2351667939903234, 0.24652777777777773, 0.22825042068329046, None)\n",
      "Iteration: 7\n"
     ]
    },
    {
     "name": "stderr",
     "output_type": "stream",
     "text": [
      "C:\\Users\\EdgarMoises\\Anaconda3\\lib\\site-packages\\sklearn\\ensemble\\forest.py:246: FutureWarning: The default value of n_estimators will change from 10 in version 0.20 to 100 in 0.22.\n",
      "  \"10 in version 0.20 to 100 in 0.22.\", FutureWarning)\n",
      "C:\\Users\\EdgarMoises\\Anaconda3\\lib\\site-packages\\ipykernel_launcher.py:10: DataConversionWarning: A column-vector y was passed when a 1d array was expected. Please change the shape of y to (n_samples,), for example using ravel().\n",
      "  # Remove the CWD from sys.path while we load stuff.\n",
      "C:\\Users\\EdgarMoises\\Anaconda3\\lib\\site-packages\\sklearn\\ensemble\\forest.py:246: FutureWarning: The default value of n_estimators will change from 10 in version 0.20 to 100 in 0.22.\n",
      "  \"10 in version 0.20 to 100 in 0.22.\", FutureWarning)\n",
      "C:\\Users\\EdgarMoises\\Anaconda3\\lib\\site-packages\\ipykernel_launcher.py:10: DataConversionWarning: A column-vector y was passed when a 1d array was expected. Please change the shape of y to (n_samples,), for example using ravel().\n",
      "  # Remove the CWD from sys.path while we load stuff.\n",
      "C:\\Users\\EdgarMoises\\Anaconda3\\lib\\site-packages\\sklearn\\ensemble\\forest.py:246: FutureWarning: The default value of n_estimators will change from 10 in version 0.20 to 100 in 0.22.\n",
      "  \"10 in version 0.20 to 100 in 0.22.\", FutureWarning)\n",
      "C:\\Users\\EdgarMoises\\Anaconda3\\lib\\site-packages\\ipykernel_launcher.py:10: DataConversionWarning: A column-vector y was passed when a 1d array was expected. Please change the shape of y to (n_samples,), for example using ravel().\n",
      "  # Remove the CWD from sys.path while we load stuff.\n",
      "C:\\Users\\EdgarMoises\\Anaconda3\\lib\\site-packages\\sklearn\\ensemble\\forest.py:246: FutureWarning: The default value of n_estimators will change from 10 in version 0.20 to 100 in 0.22.\n",
      "  \"10 in version 0.20 to 100 in 0.22.\", FutureWarning)\n",
      "C:\\Users\\EdgarMoises\\Anaconda3\\lib\\site-packages\\ipykernel_launcher.py:10: DataConversionWarning: A column-vector y was passed when a 1d array was expected. Please change the shape of y to (n_samples,), for example using ravel().\n",
      "  # Remove the CWD from sys.path while we load stuff.\n",
      "C:\\Users\\EdgarMoises\\Anaconda3\\lib\\site-packages\\sklearn\\ensemble\\forest.py:246: FutureWarning: The default value of n_estimators will change from 10 in version 0.20 to 100 in 0.22.\n",
      "  \"10 in version 0.20 to 100 in 0.22.\", FutureWarning)\n",
      "C:\\Users\\EdgarMoises\\Anaconda3\\lib\\site-packages\\ipykernel_launcher.py:10: DataConversionWarning: A column-vector y was passed when a 1d array was expected. Please change the shape of y to (n_samples,), for example using ravel().\n",
      "  # Remove the CWD from sys.path while we load stuff.\n",
      "C:\\Users\\EdgarMoises\\Anaconda3\\lib\\site-packages\\sklearn\\ensemble\\forest.py:246: FutureWarning: The default value of n_estimators will change from 10 in version 0.20 to 100 in 0.22.\n",
      "  \"10 in version 0.20 to 100 in 0.22.\", FutureWarning)\n",
      "C:\\Users\\EdgarMoises\\Anaconda3\\lib\\site-packages\\ipykernel_launcher.py:10: DataConversionWarning: A column-vector y was passed when a 1d array was expected. Please change the shape of y to (n_samples,), for example using ravel().\n",
      "  # Remove the CWD from sys.path while we load stuff.\n",
      "C:\\Users\\EdgarMoises\\Anaconda3\\lib\\site-packages\\sklearn\\ensemble\\forest.py:246: FutureWarning: The default value of n_estimators will change from 10 in version 0.20 to 100 in 0.22.\n",
      "  \"10 in version 0.20 to 100 in 0.22.\", FutureWarning)\n",
      "C:\\Users\\EdgarMoises\\Anaconda3\\lib\\site-packages\\ipykernel_launcher.py:10: DataConversionWarning: A column-vector y was passed when a 1d array was expected. Please change the shape of y to (n_samples,), for example using ravel().\n",
      "  # Remove the CWD from sys.path while we load stuff.\n"
     ]
    },
    {
     "name": "stdout",
     "output_type": "stream",
     "text": [
      "Accuracy: 0.3368055555555556\n",
      "kappa:  0.1157407407407407\n",
      "confusion matrix:\n",
      " [[36 13 12 11]\n",
      " [29 23  4 16]\n",
      " [19 14 20 19]\n",
      " [27 18  9 18]]\n",
      "(0.347063515721604, 0.3368055555555556, 0.33215006893888277, None)\n",
      "Iteration: 8\n",
      "Accuracy: 0.2847222222222222\n",
      "kappa:  0.04629629629629628\n",
      "confusion matrix:\n",
      " [[24 28 10 10]\n",
      " [25 28 11  8]\n",
      " [25 20 17 10]\n",
      " [25 20 14 13]]\n",
      "(0.29452178918642336, 0.2847222222222222, 0.279579282920404, None)\n",
      "Iteration: 9\n",
      "Accuracy: 0.25\n",
      "kappa:  0.0\n",
      "confusion matrix:\n",
      " [[24 17 19 12]\n",
      " [32 20 14  6]\n",
      " [30 18 16  8]\n",
      " [20 18 22 12]]\n",
      "(0.26038232085990387, 0.25, 0.24687075806796843, None)\n",
      "Iteration: 10\n",
      "Accuracy: 0.2604166666666667\n",
      "kappa:  0.01388888888888884\n",
      "confusion matrix:\n",
      " [[20 20 17 15]\n",
      " [22 24 12 14]\n",
      " [15 23 18 16]\n",
      " [20 22 17 13]]\n",
      "(0.25869777803076427, 0.2604166666666667, 0.25782472603865003, None)\n",
      "\n",
      "Resultados:\n",
      "accuracy: [0.2569444444444444, 0.2638888888888889, 0.2986111111111111, 0.2708333333333333, 0.22916666666666666, 0.2465277777777778, 0.3368055555555556, 0.2847222222222222, 0.25, 0.2604166666666667]\n",
      "kappa: [0.0092592592592593, 0.01851851851851849, 0.06481481481481477, 0.02777777777777779, -0.02777777777777768, -0.004629629629629539, 0.1157407407407407, 0.04629629629629628, 0.0, 0.01388888888888884]\n",
      "precision: [0.2614042819925173, 0.26223867595818817, 0.2959029080675422, 0.26764287390717595, 0.2183351114272167, 0.2351667939903234, 0.347063515721604, 0.29452178918642336, 0.26038232085990387, 0.25869777803076427]\n",
      "recall: [0.2569444444444444, 0.2638888888888889, 0.2986111111111111, 0.2708333333333333, 0.22916666666666669, 0.24652777777777773, 0.3368055555555556, 0.2847222222222222, 0.25, 0.2604166666666667]\n",
      "f1: [0.25748451556590324, 0.2560722734186717, 0.28909679921848064, 0.25895554869272014, 0.2177714766806456, 0.22825042068329046, 0.33215006893888277, 0.279579282920404, 0.24687075806796843, 0.25782472603865003]\n"
     ]
    },
    {
     "name": "stderr",
     "output_type": "stream",
     "text": [
      "C:\\Users\\EdgarMoises\\Anaconda3\\lib\\site-packages\\sklearn\\ensemble\\forest.py:246: FutureWarning: The default value of n_estimators will change from 10 in version 0.20 to 100 in 0.22.\n",
      "  \"10 in version 0.20 to 100 in 0.22.\", FutureWarning)\n",
      "C:\\Users\\EdgarMoises\\Anaconda3\\lib\\site-packages\\ipykernel_launcher.py:10: DataConversionWarning: A column-vector y was passed when a 1d array was expected. Please change the shape of y to (n_samples,), for example using ravel().\n",
      "  # Remove the CWD from sys.path while we load stuff.\n",
      "C:\\Users\\EdgarMoises\\Anaconda3\\lib\\site-packages\\sklearn\\ensemble\\forest.py:246: FutureWarning: The default value of n_estimators will change from 10 in version 0.20 to 100 in 0.22.\n",
      "  \"10 in version 0.20 to 100 in 0.22.\", FutureWarning)\n",
      "C:\\Users\\EdgarMoises\\Anaconda3\\lib\\site-packages\\ipykernel_launcher.py:10: DataConversionWarning: A column-vector y was passed when a 1d array was expected. Please change the shape of y to (n_samples,), for example using ravel().\n",
      "  # Remove the CWD from sys.path while we load stuff.\n",
      "C:\\Users\\EdgarMoises\\Anaconda3\\lib\\site-packages\\sklearn\\ensemble\\forest.py:246: FutureWarning: The default value of n_estimators will change from 10 in version 0.20 to 100 in 0.22.\n",
      "  \"10 in version 0.20 to 100 in 0.22.\", FutureWarning)\n",
      "C:\\Users\\EdgarMoises\\Anaconda3\\lib\\site-packages\\ipykernel_launcher.py:10: DataConversionWarning: A column-vector y was passed when a 1d array was expected. Please change the shape of y to (n_samples,), for example using ravel().\n",
      "  # Remove the CWD from sys.path while we load stuff.\n"
     ]
    }
   ],
   "source": [
    "array_test_acc = []\n",
    "array_kappa = []\n",
    "array_precision = []\n",
    "array_recall = []\n",
    "array_f1 = []\n",
    "for i in range(10):\n",
    "    print(\"Iteration:\", i+1);\n",
    "    \n",
    "    #clf = LinearSVC().fit(x_train, y_train)\n",
    "    clf = RandomForestClassifier().fit(x_train, y_train)\n",
    "    test_acc = clf.score(x_test, y_test)\n",
    "    print('Accuracy:', test_acc)\n",
    "    array_test_acc.append(test_acc)\n",
    "    y_pred = clf.predict(x_test)\n",
    "    kappa = cohen_kappa_score(y_test, y_pred)\n",
    "    print(\"kappa: \", kappa)\n",
    "    array_kappa.append(kappa)\n",
    "    matriz_confusion = confusion_matrix(y_test, y_pred)\n",
    "    print(\"confusion matrix:\\n\", matriz_confusion)\n",
    "    metricas = precision_recall_fscore_support(y_test, y_pred, average='macro')\n",
    "    print(metricas)\n",
    "    array_precision.append(metricas[0])\n",
    "    array_recall.append(metricas[1])\n",
    "    array_f1.append(metricas[2])\n",
    "    \n",
    "print()    \n",
    "print(\"Resultados:\")\n",
    "print(\"accuracy:\", array_test_acc)\n",
    "print(\"kappa:\", array_kappa)\n",
    "print(\"precision:\", array_precision)\n",
    "print(\"recall:\", array_recall)\n",
    "print(\"f1:\", array_f1)"
   ]
  },
  {
   "cell_type": "code",
   "execution_count": 6,
   "metadata": {},
   "outputs": [
    {
     "name": "stdout",
     "output_type": "stream",
     "text": [
      "Mean: 0.2698\n",
      "std: (+/- 0.0290)\n",
      "kappa: 0.0264\n",
      "precision: 0.2701\n",
      "recall: 0.2698\n",
      "f1: 0.2624\n"
     ]
    }
   ],
   "source": [
    "print(\"Mean: %.4f\" % np.mean(array_test_acc))\n",
    "print(\"std: (+/- %.4f)\" % np.std(array_test_acc))\n",
    "print(\"kappa: %.4f\" % np.mean(array_kappa))\n",
    "print(\"precision: %.4f\" % np.mean(array_precision))\n",
    "print(\"recall: %.4f\" % np.mean(array_recall))\n",
    "print(\"f1: %.4f\" % np.mean(array_f1))"
   ]
  },
  {
   "cell_type": "markdown",
   "metadata": {},
   "source": [
    "#### SVC\n",
    "##### Mean: 0.3646\n",
    "##### std: (+/- 0.0000)\n",
    "##### kappa: 0.1528\n",
    "##### precision: 0.3682\n",
    "##### recall: 0.3646\n",
    "##### f1: 0.3645"
   ]
  },
  {
   "cell_type": "markdown",
   "metadata": {},
   "source": [
    "#### LinearSVC\n",
    "##### Mean: 0.2812\n",
    "##### std: (+/- 0.0000)\n",
    "##### kappa: 0.0417\n",
    "##### precision: 0.2871\n",
    "##### recall: 0.2812\n",
    "##### f1: 0.2821"
   ]
  },
  {
   "cell_type": "markdown",
   "metadata": {},
   "source": [
    "#### Random Forest\n",
    "##### Mean: 0.2698\n",
    "##### std: (+/- 0.0290)\n",
    "##### kappa: 0.0264\n",
    "##### precision: 0.2701\n",
    "##### recall: 0.2698\n",
    "##### f1: 0.2624"
   ]
  }
 ],
 "metadata": {
  "kernelspec": {
   "display_name": "Python 3",
   "language": "python",
   "name": "python3"
  },
  "language_info": {
   "codemirror_mode": {
    "name": "ipython",
    "version": 3
   },
   "file_extension": ".py",
   "mimetype": "text/x-python",
   "name": "python",
   "nbconvert_exporter": "python",
   "pygments_lexer": "ipython3",
   "version": "3.7.3"
  }
 },
 "nbformat": 4,
 "nbformat_minor": 2
}
